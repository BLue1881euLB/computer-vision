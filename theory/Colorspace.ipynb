{
 "cells": [
  {
   "cell_type": "markdown",
   "metadata": {},
   "source": [
    "## Colorspace\n",
    "\n",
    "* https://paper.dropbox.com/doc/Colorspace-mZM1NPjjVfGrYZ4ztwUWC"
   ]
  },
  {
   "cell_type": "code",
   "execution_count": null,
   "metadata": {},
   "outputs": [],
   "source": [
    "%matplotlib inline\n",
    "%load_ext autoreload\n",
    "%autoreload 2\n",
    "import os\n",
    "import sys\n",
    "p = os.path.join(os.path.dirname('__file__'), '..')\n",
    "sys.path.append(p)\n",
    "from common import *"
   ]
  },
  {
   "cell_type": "markdown",
   "metadata": {},
   "source": [
    "## Data"
   ]
  },
  {
   "cell_type": "code",
   "execution_count": null,
   "metadata": {},
   "outputs": [],
   "source": [
    "DATA_DIR = '../data/'\n",
    "json_fpath = os.path.join(DATA_DIR, 'volleyball_frame_00665.json')\n",
    "img_fpath = os.path.join(DATA_DIR, 'volleyball_frame_00665.png')"
   ]
  },
  {
   "cell_type": "code",
   "execution_count": null,
   "metadata": {},
   "outputs": [],
   "source": [
    "%ls {DATA_DIR}\n",
    "%ls {IMG_DIR}"
   ]
  },
  {
   "cell_type": "markdown",
   "metadata": {},
   "source": [
    "## Helpers"
   ]
  },
  {
   "cell_type": "code",
   "execution_count": null,
   "metadata": {},
   "outputs": [],
   "source": [
    "def plot_img(arr, fs=(10,10), cmap='gray', title=None):\n",
    "    plt.figure(figsize=fs)\n",
    "    plt.imshow(arr, cmap=cmap)\n",
    "    plt.title(title)\n",
    "    plt.show()\n",
    "    \n",
    "def load_img(fpath):\n",
    "    return plt.imread(fpath)\n",
    "\n",
    "def load_cv2_img(fpath, w=None, h=None, colorspace=None):\n",
    "    img = cv2.imread(img_fpath)\n",
    "    if colorspace is not None:\n",
    "        img = cv2.cvtColor(img, colorspace)\n",
    "    if None not in [w,h]:\n",
    "        img = cv2.resize(img, (w, h), interpolation=cv2.INTER_CUBIC)\n",
    "    return img"
   ]
  },
  {
   "cell_type": "markdown",
   "metadata": {},
   "source": [
    "### BGR"
   ]
  },
  {
   "cell_type": "code",
   "execution_count": null,
   "metadata": {},
   "outputs": [],
   "source": [
    "bgr_img = load_cv2_img(img_fpath)\n",
    "\n",
    "# Shape (w,h,c)\n",
    "print(bgr_img.shape)\n",
    "\n",
    "# Plot\n",
    "plot_img(bgr_img, fs=(10,10))\n",
    "\n",
    "# Channels\n",
    "b,g,r = bgr_img[:,:,0], bgr_img[:,:,1], bgr_img[:,:,2]\n",
    "\n",
    "plot_img(b, title='Blue')\n",
    "plot_img(g, title='Green')\n",
    "plot_img(r, title='Red')"
   ]
  },
  {
   "cell_type": "markdown",
   "metadata": {},
   "source": [
    "### RGB"
   ]
  },
  {
   "cell_type": "markdown",
   "metadata": {},
   "source": [
    "* Additive - combines Red, Green, Blue values\n",
    "* 3 Channels correlated by amount of light hitting surface\n",
    "* Problems\n",
    "    * Mixes color (chrominance) )and intensity (luminance) information into a single value"
   ]
  },
  {
   "cell_type": "code",
   "execution_count": null,
   "metadata": {},
   "outputs": [],
   "source": [
    "rgb_img = load_cv2_img(img_fpath, colorspace=cv2.COLOR_BGR2RGB)\n",
    "\n",
    "# Plot\n",
    "plot_img(rgb_img, fs=(10,10))"
   ]
  },
  {
   "cell_type": "markdown",
   "metadata": {},
   "source": [
    "### HSV"
   ]
  },
  {
   "cell_type": "markdown",
   "metadata": {},
   "source": [
    "* Hue (Dominant wavelength)\n",
    "* Saturation (Purity / shades of the color)\n",
    "* Value (Intensity)\n",
    "\n",
    "Pros\n",
    "* Only one channel needed to describe color (H)\n",
    "* Best for color thresholding (why?)\n",
    "* More robust to reflections on the floor\n",
    "\n",
    "Cons\n",
    "* Device dependent\n",
    "\n",
    "![HSV]](https://edoras.sdsu.edu/doc/matlab/toolbox/images/hsvcone.gif)"
   ]
  },
  {
   "cell_type": "code",
   "execution_count": null,
   "metadata": {},
   "outputs": [],
   "source": [
    "hsv_img = load_cv2_img(img_fpath, colorspace=cv2.COLOR_BGR2HSV)\n",
    "\n",
    "# Plot\n",
    "plot_img(hsv_img, fs=(10,10))\n",
    "\n",
    "# Channels (Hue, Saturation, Value)\n",
    "h,s,v = hsv_img[:,:,0], hsv_img[:,:,1], hsv_img[:,:,2]\n",
    "\n",
    "plot_img(h, title='Hue')\n",
    "plot_img(s, title='Saturation')\n",
    "plot_img(v, title='Value')"
   ]
  },
  {
   "cell_type": "code",
   "execution_count": null,
   "metadata": {},
   "outputs": [],
   "source": [
    "# Determine HSV value of specific color\n",
    "\n",
    "blue = np.uint8([[[255,0,0 ]]])\n",
    "hsv_blue = cv2.cvtColor(blue, cv2.COLOR_BGR2HSV)\n",
    "print(\"Blue\", hsv_blue)\n",
    "\n",
    "green = np.uint8([[[0,255,0 ]]])\n",
    "hsv_green = cv2.cvtColor(green, cv2.COLOR_BGR2HSV)\n",
    "print(\"Green\", hsv_green)\n",
    "\n",
    "red = np.uint8([[[0,0,255]]])\n",
    "hsv_red = cv2.cvtColor(red, cv2.COLOR_BGR2HSV)\n",
    "print(\"Red\", hsv_red)"
   ]
  },
  {
   "cell_type": "markdown",
   "metadata": {},
   "source": [
    "## Find color of pixel"
   ]
  },
  {
   "cell_type": "code",
   "execution_count": null,
   "metadata": {},
   "outputs": [],
   "source": [
    "def get_color_of_pixel(fpath, x, y, colorspace='BGR'):\n",
    "    rgb_img = load_cv2_img(img_fpath, colorspace=cv2.COLOR_BGR2RGB)\n",
    "    hsv_img = load_cv2_img(img_fpath, colorspace=cv2.COLOR_BGR2HSV)\n",
    "    \n",
    "    rgb_colors = rgb_img[y,x,:]\n",
    "    hsv_colors = hsv_img[y,x,:]\n",
    "    bgr_colors = np.copy(rgb_colors[::-1])\n",
    "    print (\"BGR:\", bgr_colors)\n",
    "    print (\"RGB:\", rgb_colors)\n",
    "    print (\"HSV:\", hsv_colors)\n",
    "    \n",
    "    # Plot to visualize\n",
    "    img = np.copy(rgb_img)\n",
    "    img[y-5:y+5:,x-5:x+5,:] = 255\n",
    "    img[y,x,:] = 0\n",
    "    plot_img(img, fs=(18,18))\n",
    "    \n",
    "    if colorspace == 'BGR':\n",
    "        return bgr_colors.tolist()\n",
    "    if colorspace == 'RGB':\n",
    "        return rgb_colors.tolist()\n",
    "    return hsv_colors.tolist()\n",
    "\n",
    "get_color_of_pixel(img_fpath, 100, 100, 'RGB')"
   ]
  },
  {
   "cell_type": "code",
   "execution_count": null,
   "metadata": {},
   "outputs": [],
   "source": [
    "def get_hsv_value_of_bgr(bgr_color):\n",
    "    print(\"BGR\", bgr_color)\n",
    "    bgr_color = np.uint8([[bgr_color]])\n",
    "    hsv = cv2.cvtColor(bgr_color, cv2.COLOR_BGR2HSV)[0][0]\n",
    "    print(\"HSV\", hsv)\n",
    "    return hsv\n",
    "\n",
    "blue = [255,0,0 ]\n",
    "_ = get_hsv_value_of_bgr(blue)"
   ]
  },
  {
   "cell_type": "markdown",
   "metadata": {},
   "source": [
    "## Color Histograms"
   ]
  },
  {
   "cell_type": "code",
   "execution_count": null,
   "metadata": {},
   "outputs": [],
   "source": [
    "bgr_img = load_cv2_img(img_fpath)\n",
    "\n",
    "# Cv2 Histogram (faster)\n",
    "hist = cv2.calcHist(images=[bgr_img], channels=[0], mask=None, histSize=[256], ranges=[0,256])\n",
    "\n",
    "# Numpy Histogram (slower)\n",
    "hist, bins = np.histogram(bgr_img.ravel(), 256, [0,256])"
   ]
  },
  {
   "cell_type": "code",
   "execution_count": null,
   "metadata": {},
   "outputs": [],
   "source": [
    "# Plotting Histogram (all channels flattened)\n",
    "def plot_hist(img, bins=256, title=None):\n",
    "    plt.hist(img.ravel(), bins=bins, range=[0,256])\n",
    "    plt.title(title)\n",
    "    plt.show()\n",
    "\n",
    "plot_hist(bgr_img)"
   ]
  },
  {
   "cell_type": "code",
   "execution_count": null,
   "metadata": {},
   "outputs": [],
   "source": [
    "def plot_bgr_hist(bgr_img, bins=256, mask=None):\n",
    "    # Mask let's you select for certain regions    \n",
    "    color = ('b','g','r')\n",
    "    for i,col in enumerate(color):\n",
    "        histr = cv2.calcHist([bgr_img],[i],mask,[bins],[0,256])\n",
    "        plt.plot(histr, color=col)\n",
    "        plt.xlim([0,bins])\n",
    "    plt.show()\n",
    "\n",
    "plot_bgr_hist(bgr_img)"
   ]
  },
  {
   "cell_type": "markdown",
   "metadata": {},
   "source": [
    "## Histograms"
   ]
  },
  {
   "cell_type": "code",
   "execution_count": null,
   "metadata": {},
   "outputs": [],
   "source": [
    "img = cv2.imread(img_fpath)"
   ]
  },
  {
   "cell_type": "code",
   "execution_count": null,
   "metadata": {},
   "outputs": [],
   "source": [
    "# Loading Histogram\n",
    "\n",
    "# OpenCV - faster\n",
    "hist = cv2.calcHist(images=[img], channels=[0], mask=None, histSize=[256], ranges=[0,256])\n",
    "\n",
    "# Numpy\n",
    "hist, bins = np.histogram(img.ravel(), 256, [0,256])"
   ]
  },
  {
   "cell_type": "code",
   "execution_count": null,
   "metadata": {},
   "outputs": [],
   "source": [
    "# Plotting Histogram\n",
    "plt.hist(img.ravel(), 256, [0,256])\n",
    "plt.show()"
   ]
  },
  {
   "cell_type": "code",
   "execution_count": null,
   "metadata": {},
   "outputs": [],
   "source": [
    "# Color histogram\n",
    "\n",
    "def plot_color_hist(img, bins=256, mask=None):\n",
    "    # Mask let's you select for certain regions\n",
    "    \n",
    "    color = ('b','g','r')\n",
    "    for i,col in enumerate(color):\n",
    "        histr = cv2.calcHist([img],[i],mask,[bins],[0,256])\n",
    "        plt.plot(histr, color=col)\n",
    "        plt.xlim([0,bins])\n",
    "    plt.show()"
   ]
  },
  {
   "cell_type": "code",
   "execution_count": null,
   "metadata": {},
   "outputs": [],
   "source": [
    "## Applying a Mask\n",
    "\n",
    "mask = np.zeros(img.shape[:2], np.uint8)\n",
    "mask[400:700, 100:1100] = 255\n",
    "masked_img = cv2.bitwise_and(img, img, mask=mask)\n",
    "\n",
    "plot_img(load_cv2_img(img_fpath))\n",
    "plot_img(mask)\n",
    "plot_img(masked_img)\n",
    "\n",
    "plot_color_hist(img, bins=30)\n",
    "plot_color_hist(img, bins=30, mask=mask)"
   ]
  },
  {
   "cell_type": "code",
   "execution_count": null,
   "metadata": {},
   "outputs": [],
   "source": [
    "# HSV Histogram - Hue holds the color information nicely\n",
    "img = cv2.imread(img_fpath)\n",
    "hsv = cv2.cvtColor(img, cv2.COLOR_BGR2HSV)\n",
    "hist = cv2.calcHist(images=[hsv], channels=[0], mask=None, histSize=[359], ranges=[0,359])\n",
    "plt.plot(hist)"
   ]
  },
  {
   "cell_type": "code",
   "execution_count": null,
   "metadata": {},
   "outputs": [],
   "source": [
    "hsv.shape"
   ]
  },
  {
   "cell_type": "code",
   "execution_count": null,
   "metadata": {},
   "outputs": [],
   "source": [
    "# Color Quantization\n",
    "# https://docs.opencv.org/3.0-beta/doc/py_tutorials/py_ml/py_kmeans/py_kmeans_opencv/py_kmeans_opencv.html\n",
    "\n",
    "img = cv2.imread(img_fpath)\n",
    "hsv = cv2.cvtColor(img, cv2.COLOR_BGR2HSV)\n",
    "gray = cv2.cvtColor(img, cv2.COLOR_BGR2GRAY)\n",
    "Z = img.reshape((-1,3))\n",
    "\n",
    "# convert to np.float32\n",
    "Z = np.float32(Z)\n",
    "\n",
    "# define criteria, number of clusters(K) and apply kmeans()\n",
    "criteria = (cv2.TERM_CRITERIA_EPS + cv2.TERM_CRITERIA_MAX_ITER, 10, 1.0)\n",
    "K = 6\n",
    "ret, label, center = cv2.kmeans(Z,K,None,criteria,10,cv2.KMEANS_RANDOM_CENTERS)\n",
    "\n",
    "# Now convert back into uint8, and make original image\n",
    "center = np.uint8(center)\n",
    "res = center[label.flatten()]\n",
    "res2 = res.reshape((img.shape))\n",
    "\n",
    "plot_img(res2, fs=(12,8))"
   ]
  },
  {
   "cell_type": "code",
   "execution_count": null,
   "metadata": {},
   "outputs": [],
   "source": [
    "plot_color_hist(res2)"
   ]
  },
  {
   "cell_type": "markdown",
   "metadata": {},
   "source": [
    "## Links"
   ]
  },
  {
   "cell_type": "markdown",
   "metadata": {},
   "source": [
    "* https://www.learnopencv.com/color-spaces-in-opencv-cpp-python/\n",
    "* https://docs.opencv.org/3.2.0/df/d9d/tutorial_py_colorspaces.html"
   ]
  },
  {
   "cell_type": "code",
   "execution_count": null,
   "metadata": {},
   "outputs": [],
   "source": []
  }
 ],
 "metadata": {
  "kernelspec": {
   "display_name": "Python 3",
   "language": "python",
   "name": "python3"
  },
  "language_info": {
   "codemirror_mode": {
    "name": "ipython",
    "version": 3
   },
   "file_extension": ".py",
   "mimetype": "text/x-python",
   "name": "python",
   "nbconvert_exporter": "python",
   "pygments_lexer": "ipython3",
   "version": "3.6.4"
  },
  "latex_envs": {
   "LaTeX_envs_menu_present": true,
   "autocomplete": true,
   "bibliofile": "biblio.bib",
   "cite_by": "apalike",
   "current_citInitial": 1,
   "eqLabelWithNumbers": true,
   "eqNumInitial": 1,
   "hotkeys": {
    "equation": "Ctrl-E",
    "itemize": "Ctrl-I"
   },
   "labels_anchors": false,
   "latex_user_defs": false,
   "report_style_numbering": false,
   "user_envs_cfg": false
  },
  "toc": {
   "colors": {
    "hover_highlight": "#DAA520",
    "navigate_num": "#000000",
    "navigate_text": "#333333",
    "running_highlight": "#FF0000",
    "selected_highlight": "#FFD700",
    "sidebar_border": "#EEEEEE",
    "wrapper_background": "#FFFFFF"
   },
   "moveMenuLeft": true,
   "nav_menu": {
    "height": "111px",
    "width": "253px"
   },
   "navigate_menu": true,
   "number_sections": true,
   "sideBar": true,
   "skip_h1_title": false,
   "threshold": 4,
   "toc_cell": false,
   "toc_position": {},
   "toc_section_display": "block",
   "toc_window_display": false,
   "widenNotebook": false
  }
 },
 "nbformat": 4,
 "nbformat_minor": 2
}
