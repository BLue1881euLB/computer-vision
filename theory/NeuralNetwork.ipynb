{
 "cells": [
  {
   "cell_type": "markdown",
   "metadata": {},
   "source": [
    "## Neural Network\n",
    "\n",
    "View my notes here:\n",
    "\n",
    "* http://ml-cheatsheet.readthedocs.io/en/latest/nn_concepts.html\n",
    "* http://ml-cheatsheet.readthedocs.io/en/latest/forwardpropagation.html\n",
    "* http://ml-cheatsheet.readthedocs.io/en/latest/backpropagation.html"
   ]
  },
  {
   "cell_type": "code",
   "execution_count": 64,
   "metadata": {},
   "outputs": [],
   "source": [
    "import numpy as np\n",
    "\n",
    "class NeuralNetwork():\n",
    "    def __init__(self, inputLayerSize, hiddenLayerSize, outputLayerSize):\n",
    "        self.inputLayerSize = inputLayerSize \n",
    "        self.hiddenLayerSize = hiddenLayerSize \n",
    "        self.outputLayerSize = outputLayerSize \n",
    "\n",
    "        # Initialize Weights\n",
    "        self.Wh = np.random.randn(inputLayerSize, hiddenLayerSize) * \\\n",
    "                    np.sqrt(2.0/self.inputLayerSize)\n",
    "        self.Wo = np.random.randn(hiddenLayerSize, outputLayerSize) * \\\n",
    "                    np.sqrt(2.0/self.hiddenLayerSize)\n",
    "\n",
    "        # Initialize Biases\n",
    "        self.Bh = np.full((1, hiddenLayerSize), 0.1)\n",
    "        self.Bo = np.full((1, outputLayerSize), 0.1)\n",
    "    \n",
    "    def relu(self, Z):\n",
    "        return np.maximum(0, Z)\n",
    "    \n",
    "    def relu_prime(self, Z):\n",
    "        '''\n",
    "        Z - weighted input matrix\n",
    "\n",
    "        Returns the gradient of the \n",
    "        Z matrix where all negative \n",
    "        values are switched to 0 and\n",
    "        all positive values switched to 1\n",
    "        '''\n",
    "        Z[Z < 0] = 0\n",
    "        Z[Z > 0] = 1\n",
    "        return Z\n",
    "    \n",
    "    def cost(self, output, y):\n",
    "        cost = np.sum((output - y)**2) / 2.0\n",
    "        return cost\n",
    "    \n",
    "    def cost_prime(self, output, y):\n",
    "        return output - y\n",
    "\n",
    "    def feed_forward(self, X):\n",
    "        # Hidden layer\n",
    "        Zh = np.dot(X, self.Wh) + self.Bh\n",
    "        H = self.relu(Zh)\n",
    "\n",
    "        # Output layer\n",
    "        Zo = np.dot(H, self.Wo) + self.Bo\n",
    "        output = self.relu(Zo)\n",
    "        return output\n",
    "    \n",
    "    def backprop(self, X, y, lr):\n",
    "        '''\n",
    "        X - input matrix from training set\n",
    "        y - expected output matrix\n",
    "        lr - learning rate\n",
    "        '''\n",
    "        ### Feed Forward ###\n",
    "   \n",
    "        # Hidden layer\n",
    "        Zh = np.dot(X, self.Wh) + self.Bh\n",
    "        H = self.relu(Zh)\n",
    "\n",
    "        # Output layer\n",
    "        Zo = np.dot(H, self.Wo) + self.Bo\n",
    "        out = self.relu(Zo)\n",
    "\n",
    "        #### Backprop ####\n",
    "\n",
    "        # Layer Error\n",
    "        Eo = (out - y) * self.relu_prime(Zo)\n",
    "        Eh = np.dot(Eo, self.Wo.T) * self.relu_prime(Zh)\n",
    "\n",
    "        # Cost derivative for weights\n",
    "        dWo = np.dot(H.T, Eo)\n",
    "        dWh = np.dot(X.T, Eh)\n",
    "\n",
    "        # Cost derivative for bias\n",
    "        dBo = np.sum(Eo, axis=0, keepdims=True)\n",
    "        dBh = np.sum(Eh, axis=0, keepdims=True)\n",
    "\n",
    "        # Update weights\n",
    "        self.Wo -= lr * dWo\n",
    "        self.Wh -= lr * dWh\n",
    "\n",
    "        # Update biases\n",
    "        self.Bo -= lr * dBo\n",
    "        self.Bh -= lr * dBh\n",
    "        \n",
    "    def SGD(self, data, batch_size, lr):\n",
    "        N = len(data)\n",
    "        np.random.shuffle(data)\n",
    "        mini_batches = np.array(\n",
    "            [data[i:i+batch_size] for i in range(0, N, batch_size)])\n",
    "        for batch in mini_batches:\n",
    "            X,y = self.get_normalized_xy_from_batch(batch)\n",
    "            self.backprop(X, y, lr)\n",
    "\n",
    "    def train(self, data, epochs, batch_size, lr):\n",
    "        cost_history = []\n",
    "        for epoch in range(epochs):\n",
    "            self.SGD(data, batch_size, lr)\n",
    "            \n",
    "            # Store cost for auditing purposes\n",
    "            X,y = self.get_normalized_xy_from_batch(data)\n",
    "            cost = self.cost(self.feed_forward(X), y)\n",
    "            cost_history.append(cost)\n",
    "            \n",
    "            # Log cost\n",
    "            if epoch % 5000 == 0:\n",
    "                print(\"Epoch \"+str(epoch)+\" Cost:\"+str(round(cost,5)))\n",
    "        return cost_history\n",
    "    \n",
    "    def predict(self, X, y_min, y_max):\n",
    "        X = self.normalize(X, new_min=0, new_max=1)\n",
    "        X.shape = (len(X),1)\n",
    "        output = self.feed_forward(X)\n",
    "        denormalized_output = self.denormalize(output, y_min, y_max)\n",
    "        return denormalized_output\n",
    "\n",
    "    def normalize(self, arr, new_min, new_max):\n",
    "        cur_min = np.min(arr)\n",
    "        cur_max = np.max(arr)\n",
    "        cur_range = (cur_max - cur_min)  \n",
    "        new_range = (new_max - new_min)\n",
    "        return (((arr - cur_min) * new_range) / cur_range) + new_min\n",
    "\n",
    "    def denormalize(self, normalized, old_min, old_max):\n",
    "        return self.normalize(normalized, old_min, old_max)\n",
    "    \n",
    "    def get_normalized_xy_from_batch(self, batch):\n",
    "        X = batch[:,0]\n",
    "        y = batch[:,1]\n",
    "        X = self.normalize(X, new_min=0, new_max=1)\n",
    "        y = self.normalize(y, new_min=0, new_max=1)\n",
    "        X.shape = (len(X),1)\n",
    "        y.shape = (len(y),1)\n",
    "        return X,y"
   ]
  },
  {
   "cell_type": "markdown",
   "metadata": {},
   "source": [
    "### Visualize"
   ]
  },
  {
   "cell_type": "code",
   "execution_count": 65,
   "metadata": {
    "collapsed": true
   },
   "outputs": [],
   "source": [
    "import matplotlib.pyplot as plt\n",
    "\n",
    "def graph(x, y, xlabel=\"X\", ylabel=\"Y\", title=\"X vs Y\"):\n",
    "    plt.plot(x, y)\n",
    "    plt.title(title)\n",
    "    plt.xlabel(xlabel)\n",
    "    plt.ylabel(ylabel)\n",
    "    plt.show()\n",
    "    \n",
    "def graph_error(error_history):\n",
    "    iterations = [i for i in range(1,len(error_history)+1)]\n",
    "    plt.plot(iterations, error_history)\n",
    "    plt.title('Error Rate')\n",
    "    plt.xlabel('Training Iterations')\n",
    "    plt.ylabel('Mean Squared Error')\n",
    "    plt.show()"
   ]
  },
  {
   "cell_type": "markdown",
   "metadata": {},
   "source": [
    "### Load Data"
   ]
  },
  {
   "cell_type": "code",
   "execution_count": 66,
   "metadata": {},
   "outputs": [
    {
     "data": {
      "image/png": "[encoded data removed]",
      "text/plain": [
       "<matplotlib.figure.Figure at 0x1111087b8>"
      ]
     },
     "metadata": {},
     "output_type": "display_data"
    },
    {
     "name": "stdout",
     "output_type": "stream",
     "text": [
      "[[  -6.    -175.   ]\n",
      " [  -5.9   -165.669]\n",
      " [  -5.8   -156.672]]\n"
     ]
    }
   ],
   "source": [
    "def cubic(x):\n",
    "    return x**3 + x**2 - x - 1\n",
    "\n",
    "def get_cubic_data(start,end,step_size=1):\n",
    "    data = np.array([ [i,cubic(i)] for i in \n",
    "         np.arange(start,end,step_size)], dtype=\"float64\")    \n",
    "    return data\n",
    "\n",
    "data = get_cubic_data(-6,6,.1)\n",
    "X = data[:,0]\n",
    "y = data[:,1]\n",
    "graph(X,y)\n",
    "print (data[:3])"
   ]
  },
  {
   "cell_type": "markdown",
   "metadata": {},
   "source": [
    "### Train"
   ]
  },
  {
   "cell_type": "code",
   "execution_count": 88,
   "metadata": {},
   "outputs": [
    {
     "name": "stdout",
     "output_type": "stream",
     "text": [
      "[[ 0.74677633 -0.53280028  0.85282615  0.45773279  1.21653317  1.54702185\n",
      "   2.15570195  3.28346775  2.05488922  1.87836682  1.64426893  1.13606563\n",
      "  -1.45146137  0.3536892  -0.69892677 -0.10106068  2.41998082  1.64716872\n",
      "  -1.0361952  -0.42603976]]\n"
     ]
    }
   ],
   "source": [
    "data = get_cubic_data(-20,20)\n",
    "nn = NeuralNetwork(1,20,1)\n",
    "print(nn.Wh)"
   ]
  },
  {
   "cell_type": "code",
   "execution_count": null,
   "metadata": {},
   "outputs": [
    {
     "name": "stdout",
     "output_type": "stream",
     "text": [
      "Epoch 0 Cost:5.99484\n",
      "Epoch 5000 Cost:5.99484\n"
     ]
    }
   ],
   "source": [
    "cost_hist = nn.train(data, epochs=100000, batch_size=40, lr=.0005)\n",
    "print(\"Final cost \" + str(round(cost_hist[-1],5)))\n",
    "graph_error(cost_hist[75:])"
   ]
  },
  {
   "cell_type": "markdown",
   "metadata": {},
   "source": [
    "### Predict"
   ]
  },
  {
   "cell_type": "code",
   "execution_count": 71,
   "metadata": {},
   "outputs": [
    {
     "data": {
      "image/png": "[encoded data removed]",
      "text/plain": [
       "<matplotlib.figure.Figure at 0x1116b4ef0>"
      ]
     },
     "metadata": {},
     "output_type": "display_data"
    }
   ],
   "source": [
    "start,end = (-20,20)\n",
    "data = get_cubic_data(start, end)\n",
    "X,y = data[:,0],data[:,1]\n",
    "predictions = nn.predict(X, y_min=cubic(start), y_max=cubic(end))\n",
    "plt.plot(X, y)\n",
    "plt.plot(X, predictions)\n",
    "\n",
    "plt.show()"
   ]
  }
 ],
 "metadata": {
  "kernelspec": {
   "display_name": "Python 3",
   "language": "python",
   "name": "python3"
  },
  "language_info": {
   "codemirror_mode": {
    "name": "ipython",
    "version": 3
   },
   "file_extension": ".py",
   "mimetype": "text/x-python",
   "name": "python",
   "nbconvert_exporter": "python",
   "pygments_lexer": "ipython3",
   "version": "3.6.4"
  },
  "latex_envs": {
   "LaTeX_envs_menu_present": true,
   "autocomplete": true,
   "bibliofile": "biblio.bib",
   "cite_by": "apalike",
   "current_citInitial": 1,
   "eqLabelWithNumbers": true,
   "eqNumInitial": 1,
   "hotkeys": {
    "equation": "Ctrl-E",
    "itemize": "Ctrl-I"
   },
   "labels_anchors": false,
   "latex_user_defs": false,
   "report_style_numbering": false,
   "user_envs_cfg": false
  },
  "toc": {
   "colors": {
    "hover_highlight": "#DAA520",
    "navigate_num": "#000000",
    "navigate_text": "#333333",
    "running_highlight": "#FF0000",
    "selected_highlight": "#FFD700",
    "sidebar_border": "#EEEEEE",
    "wrapper_background": "#FFFFFF"
   },
   "moveMenuLeft": true,
   "nav_menu": {
    "height": "116px",
    "width": "254px"
   },
   "navigate_menu": true,
   "number_sections": true,
   "sideBar": true,
   "threshold": 4,
   "toc_cell": false,
   "toc_section_display": "block",
   "toc_window_display": false,
   "widenNotebook": false
  }
 },
 "nbformat": 4,
 "nbformat_minor": 2
}
