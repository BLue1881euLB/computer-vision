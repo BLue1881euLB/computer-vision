{
 "cells": [
  {
   "cell_type": "markdown",
   "metadata": {},
   "source": [
    "## Vectors"
   ]
  },
  {
   "cell_type": "markdown",
   "metadata": {},
   "source": [
    "* links"
   ]
  },
  {
   "cell_type": "markdown",
   "metadata": {},
   "source": [
    "## Helpers"
   ]
  },
  {
   "cell_type": "code",
   "execution_count": 2,
   "metadata": {
    "collapsed": true
   },
   "outputs": [],
   "source": [
    "import math\n",
    "\n",
    "def col2row(M, col):\n",
    "    return [M[i][col] for i in range(len(M))]\n",
    "\n",
    "def row2col(M, row):\n",
    "    return [[num] for num in M[row]]\n",
    "\n",
    "def get_shape(arr):\n",
    "    shape = []\n",
    "    while type(arr) in [list, np.ndarray]:\n",
    "        shape.append(len(arr))\n",
    "        arr = arr[0]\n",
    "    return tuple(shape)\n",
    "\n",
    "def dotV(v1, v2):\n",
    "    # expecting two 1D vectors\n",
    "    assert len(v1) == len(v2)\n",
    "    return sum(a*b for a,b in zip(v1,v2))\n",
    "\n",
    "def dotM(M1, M2):\n",
    "    # Columns of M1 == Rows of M2\n",
    "    assert len(M1[0]) == len(M2)\n",
    "    out = [ [0 for col in M2[0]] for row in M1]\n",
    "    for row in range(len(M1)):\n",
    "        for col in range(len(M2[0])):\n",
    "            v1 = M1[row]\n",
    "            v2 = col2row(M2, col)\n",
    "            out[row][col] = dotV(v1, v2)\n",
    "    return out"
   ]
  },
  {
   "cell_type": "markdown",
   "metadata": {},
   "source": [
    "## Vector Class"
   ]
  },
  {
   "cell_type": "code",
   "execution_count": 91,
   "metadata": {},
   "outputs": [],
   "source": [
    "class Vector:\n",
    "    def __init__(self, coords):\n",
    "        self.coords = [float(c) for c in coords]\n",
    "    \n",
    "    @property\n",
    "    def x(self):\n",
    "        return self.coords[0]\n",
    "    \n",
    "    @property\n",
    "    def y(self):\n",
    "        return self.coords[1]\n",
    "    \n",
    "    def dot(self, v):\n",
    "        assert len(v) == len(self.coords)\n",
    "        return sum(a*b for a,b in zip(self.coords, v.coords))\n",
    "    \n",
    "    def cross(self, v):\n",
    "        pass\n",
    "    \n",
    "    def __mul__(self, v):\n",
    "        if isinstance(v, (int, float)):\n",
    "            return Vector([a*v for a in self.coords])\n",
    "        return Vector([a*b for a,b in zip(self.coords, v.coords)])\n",
    "    \n",
    "    def __rmul__(self, v):\n",
    "        return self.__mul__(v)\n",
    "\n",
    "    def __truediv__(self, v):\n",
    "        if isinstance(v, (int, float)):\n",
    "            return Vector([a/v for a in self.coords])\n",
    "        return Vector([a/b for a,b in zip(self.coords, v.coords)])\n",
    "\n",
    "    def __floordiv__(self, v):\n",
    "        if isinstance(v, (int, float)):\n",
    "            return Vector([a//v for a in self.coords])\n",
    "        return Vector([a//b for a,b in zip(self.coords, v.coords)])\n",
    "        \n",
    "    def __add__(self, v):\n",
    "        if isinstance(v, (int, float)):\n",
    "            return Vector([a+v for a in self.coords])\n",
    "        return Vector([a+b for a,b in zip(self.coords, v.coords)])\n",
    "        \n",
    "    def __sub__(self, v):\n",
    "        if isinstance(v, (int, float)):\n",
    "            return Vector([a-v for a in self.coords])\n",
    "        return Vector([a-b for a,b in zip(self.coords, v.coords)])\n",
    "    \n",
    "    def __len__(self):\n",
    "        return len(self.coords)\n",
    "    \n",
    "    def magnitude(self):\n",
    "        return math.sqrt(sum(c**2 for c in self.coords))\n",
    "    \n",
    "    def normalize(self):\n",
    "        return Vector([c/w for c in self.coords])\n",
    "    \n",
    "    def display(self):\n",
    "        return [round(c,2) for c in self.coords]\n",
    "\n",
    "    def __repr__(self):\n",
    "        return str(tuple(self.display()))"
   ]
  },
  {
   "cell_type": "code",
   "execution_count": 86,
   "metadata": {},
   "outputs": [],
   "source": [
    "v = Vector((1,1))\n",
    "v2 = Vector((2,2))"
   ]
  },
  {
   "cell_type": "code",
   "execution_count": 88,
   "metadata": {},
   "outputs": [
    {
     "data": {
      "text/plain": [
       "4.0"
      ]
     },
     "execution_count": 88,
     "metadata": {},
     "output_type": "execute_result"
    }
   ],
   "source": [
    "v.dot(v2)"
   ]
  },
  {
   "cell_type": "code",
   "execution_count": 90,
   "metadata": {},
   "outputs": [
    {
     "data": {
      "text/plain": [
       "2"
      ]
     },
     "execution_count": 90,
     "metadata": {},
     "output_type": "execute_result"
    }
   ],
   "source": [
    "len(v)"
   ]
  },
  {
   "cell_type": "markdown",
   "metadata": {},
   "source": [
    "## Operations"
   ]
  },
  {
   "cell_type": "code",
   "execution_count": 4,
   "metadata": {
    "collapsed": true
   },
   "outputs": [],
   "source": [
    "def distancePoints(self, x1, y1, x2, y2):\n",
    "    pass"
   ]
  },
  {
   "cell_type": "code",
   "execution_count": null,
   "metadata": {
    "collapsed": true
   },
   "outputs": [],
   "source": []
  }
 ],
 "metadata": {
  "kernelspec": {
   "display_name": "Python 3",
   "language": "python",
   "name": "python3"
  },
  "language_info": {
   "codemirror_mode": {
    "name": "ipython",
    "version": 3
   },
   "file_extension": ".py",
   "mimetype": "text/x-python",
   "name": "python",
   "nbconvert_exporter": "python",
   "pygments_lexer": "ipython3",
   "version": "3.6.0"
  },
  "latex_envs": {
   "LaTeX_envs_menu_present": true,
   "autocomplete": true,
   "bibliofile": "biblio.bib",
   "cite_by": "apalike",
   "current_citInitial": 1,
   "eqLabelWithNumbers": true,
   "eqNumInitial": 1,
   "hotkeys": {
    "equation": "Ctrl-E",
    "itemize": "Ctrl-I"
   },
   "labels_anchors": false,
   "latex_user_defs": false,
   "report_style_numbering": false,
   "user_envs_cfg": false
  },
  "toc": {
   "colors": {
    "hover_highlight": "#DAA520",
    "navigate_num": "#000000",
    "navigate_text": "#333333",
    "running_highlight": "#FF0000",
    "selected_highlight": "#FFD700",
    "sidebar_border": "#EEEEEE",
    "wrapper_background": "#FFFFFF"
   },
   "moveMenuLeft": true,
   "nav_menu": {
    "height": "4px",
    "width": "254px"
   },
   "navigate_menu": true,
   "number_sections": true,
   "sideBar": true,
   "threshold": 4,
   "toc_cell": false,
   "toc_section_display": "block",
   "toc_window_display": false,
   "widenNotebook": false
  }
 },
 "nbformat": 4,
 "nbformat_minor": 2
}
