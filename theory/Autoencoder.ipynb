{
 "cells": [
  {
   "cell_type": "markdown",
   "metadata": {},
   "source": [
    "## Autoencoder"
   ]
  },
  {
   "cell_type": "markdown",
   "metadata": {},
   "source": [
    "* https://paper.dropbox.com/doc/Autoencoder-zAaCuhiMEuxvaj9nUag4S\n",
    "* https://github.com/bfortuner/learning_data_aug"
   ]
  },
  {
   "cell_type": "code",
   "execution_count": 6,
   "metadata": {},
   "outputs": [
    {
     "name": "stdout",
     "output_type": "stream",
     "text": [
      "The autoreload extension is already loaded. To reload it, use:\n",
      "  %reload_ext autoreload\n"
     ]
    }
   ],
   "source": [
    "%matplotlib inline\n",
    "%load_ext autoreload\n",
    "%autoreload 2\n",
    "import os\n",
    "import sys\n",
    "p = os.path.join(os.path.dirname('__file__'), '..')\n",
    "sys.path.append(p)\n",
    "from common import *"
   ]
  },
  {
   "cell_type": "code",
   "execution_count": 3,
   "metadata": {},
   "outputs": [],
   "source": [
    "class AE(nn.Module):\n",
    "    def __init__(self, in_shape):\n",
    "        super().__init__()\n",
    "        c,h,w = in_shape\n",
    "        self.encoder = nn.Sequential(\n",
    "            nn.Linear(c*h*w, 128),\n",
    "            nn.ReLU(),\n",
    "            nn.Linear(128, 64),\n",
    "            nn.ReLU(),\n",
    "            nn.Linear(64, 12),\n",
    "            nn.ReLU(),\n",
    "            nn.Linear(12, 3))\n",
    "        self.decoder = nn.Sequential(\n",
    "            nn.Linear(3, 12),\n",
    "            nn.ReLU(),\n",
    "            nn.Linear(12, 64),\n",
    "            nn.ReLU(),\n",
    "            nn.Linear(64, 128),\n",
    "            nn.ReLU(),\n",
    "            nn.Linear(128, c*h*w),\n",
    "            nn.Sigmoid())\n",
    "\n",
    "    def forward(self, x):\n",
    "        bs,c,h,w = x.size()\n",
    "        x = x.view(bs, -1)\n",
    "        x = self.encoder(x)\n",
    "        x = self.decoder(x)\n",
    "        x = x.view(bs, c, h, w)\n",
    "        return x\n",
    "\n",
    "\n",
    "class ConvAE(nn.Module):\n",
    "    def __init__(self, in_shape):\n",
    "        super().__init__()\n",
    "        c,h,w = in_shape\n",
    "        self.encoder = nn.Sequential(\n",
    "            nn.Conv2d(c, 16, kernel_size=3, stride=1, padding=1),  # b, 16, 32, 32\n",
    "            nn.ReLU(),\n",
    "            nn.MaxPool2d(kernel_size=2, stride=2),  # b, 16, 16, 16\n",
    "            nn.Conv2d(16, 8, kernel_size=3, stride=1, padding=1),  # b, 8, 16, 16\n",
    "            nn.ReLU(),\n",
    "            nn.MaxPool2d(kernel_size=2, stride=2)  # b, 8, 8, 8\n",
    "        )\n",
    "        self.decoder = nn.Sequential(\n",
    "            nn.ConvTranspose2d(8, 16, kernel_size=3, stride=2, padding=0),  # 16, 17, 17\n",
    "            nn.ReLU(),\n",
    "            nn.ConvTranspose2d(16, c, kernel_size=3, stride=2, padding=1),  # 3, 33, 33\n",
    "            layers.CenterCrop(h, w),\n",
    "            nn.Sigmoid()\n",
    "        )\n",
    "\n",
    "    def forward(self, x):\n",
    "        x = self.encoder(x)\n",
    "        x = self.decoder(x)\n",
    "        return x\n",
    "\n",
    "\n",
    "def train(model, loader, criterion, optim):\n",
    "    model.train()\n",
    "    total_loss = 0\n",
    "    for img, _ in loader:\n",
    "        inputs = Variable(img.cuda())\n",
    "\n",
    "        output = model(inputs)\n",
    "        loss = criterion(output, inputs)\n",
    "\n",
    "        optim.zero_grad()\n",
    "        loss.backward()\n",
    "        optim.step()\n",
    "\n",
    "        total_loss += loss.data[0]\n",
    "\n",
    "    mean_loss = total_loss / len(loader)\n",
    "    return mean_loss\n",
    "\n",
    "def predict(model, img):\n",
    "    model.eval()\n",
    "    if len(img.size()) == 3:\n",
    "        c,h,w = img.size()\n",
    "        img = img.view(1,c,h,w)\n",
    "    img = Variable(img.cuda())\n",
    "    out = model(img).data.cpu()\n",
    "    return out\n",
    "\n",
    "def predict_batch(model, loader):\n",
    "    inputs, _ = next(iter(loader))\n",
    "    out = predict(model, inputs)\n",
    "    return out\n",
    "\n",
    "def run(model, trn_loader, crit, optim, epochs, plot_interval=1000):\n",
    "    losses = []\n",
    "    for epoch in range(epochs):\n",
    "        loss = train(model, trn_loader, crit, optim)\n",
    "        print('Epoch {:d} Loss: {:.4f}'.format(epoch+1, loss))\n",
    "        if epoch % plot_interval == 0:\n",
    "            samples = predict_batch(model, trn_loader)\n",
    "            utils.plot_batch(samples)\n",
    "        losses.append(loss)\n",
    "    samples = predict_batch(model, trn_loader)\n",
    "    utils.plot_batch(samples)\n",
    "    return losses"
   ]
  }
 ],
 "metadata": {
  "kernelspec": {
   "display_name": "Python 3",
   "language": "python",
   "name": "python3"
  },
  "language_info": {
   "codemirror_mode": {
    "name": "ipython",
    "version": 3
   },
   "file_extension": ".py",
   "mimetype": "text/x-python",
   "name": "python",
   "nbconvert_exporter": "python",
   "pygments_lexer": "ipython3",
   "version": "3.6.4"
  },
  "latex_envs": {
   "LaTeX_envs_menu_present": true,
   "autocomplete": true,
   "bibliofile": "biblio.bib",
   "cite_by": "apalike",
   "current_citInitial": 1,
   "eqLabelWithNumbers": true,
   "eqNumInitial": 1,
   "hotkeys": {
    "equation": "Ctrl-E",
    "itemize": "Ctrl-I"
   },
   "labels_anchors": false,
   "latex_user_defs": false,
   "report_style_numbering": false,
   "user_envs_cfg": false
  }
 },
 "nbformat": 4,
 "nbformat_minor": 2
}
