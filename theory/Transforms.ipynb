{
 "cells": [
  {
   "cell_type": "markdown",
   "metadata": {},
   "source": [
    "## Transforms"
   ]
  },
  {
   "cell_type": "markdown",
   "metadata": {},
   "source": [
    "* https://tfetimes.com/wp-content/uploads/2015/04/F.Dunn-I.Parberry-3D-Math-Primer-for-Graphics-and-Game-Development.pdf\n",
    "* https://cs184.org/lecture/transforms-1"
   ]
  },
  {
   "cell_type": "markdown",
   "metadata": {},
   "source": [
    "## Helpers"
   ]
  },
  {
   "cell_type": "code",
   "execution_count": 41,
   "metadata": {},
   "outputs": [
    {
     "name": "stdout",
     "output_type": "stream",
     "text": [
      "The autoreload extension is already loaded. To reload it, use:\n",
      "  %reload_ext autoreload\n"
     ]
    }
   ],
   "source": [
    "from math import sin, cos\n",
    "import copy\n",
    "from IPython.display import Image\n",
    "from IPython.core.display import HTML\n",
    "%matplotlib inline\n",
    "%load_ext autoreload\n",
    "%autoreload 2\n",
    "import sys\n",
    "sys.path.append(\"/home/bfortuner/workplace/VisionQuest\")\n",
    "from common import *"
   ]
  },
  {
   "cell_type": "code",
   "execution_count": 42,
   "metadata": {},
   "outputs": [
    {
     "name": "stdout",
     "output_type": "stream",
     "text": [
      "[[ True  True]\n",
      " [ True  True]]\n",
      "[[ True]\n",
      " [ True]\n",
      " [ True]]\n"
     ]
    },
    {
     "data": {
      "text/plain": [
       "([[24], [51], [78]], array([[24],\n",
       "        [51],\n",
       "        [78]]))"
      ]
     },
     "execution_count": 42,
     "metadata": {},
     "output_type": "execute_result"
    }
   ],
   "source": [
    "def P(in_arr, out_arr):\n",
    "    if type(out_arr) != np.ndarray:\n",
    "        out_arr = np.array(out_arr)\n",
    "    if type(in_arr) != np.ndarray:\n",
    "        in_arr = np.array(in_arr)\n",
    "    print(in_arr)\n",
    "    print(out_arr)\n",
    "    print('---')\n",
    "\n",
    "def col2row(M, col):\n",
    "    return [M[i][col] for i in range(len(M))]\n",
    "\n",
    "def row2col(M, row):\n",
    "    return [[num] for num in M[row]]\n",
    "\n",
    "def get_shape(arr):\n",
    "    shape = []\n",
    "    while type(arr) in [list, np.ndarray]:\n",
    "        shape.append(len(arr))\n",
    "        arr = arr[0]\n",
    "    return tuple(shape)\n",
    "\n",
    "def dotV(v1, v2):\n",
    "    # expecting two 1D vectors\n",
    "    assert len(v1) == len(v2)\n",
    "    return sum(a*b for a,b in zip(v1,v2))\n",
    "\n",
    "def dotM(M1, M2):\n",
    "    # Columns of M1 == Rows of M2\n",
    "    assert len(M1[0]) == len(M2)\n",
    "    out = [ [0 for col in M2[0]] for row in M1]\n",
    "    for row in range(len(M1)):\n",
    "        for col in range(len(M2[0])):\n",
    "            v1 = M1[row]\n",
    "            v2 = col2row(M2, col)\n",
    "            out[row][col] = dotV(v1, v2)\n",
    "    return out\n",
    "    \n",
    "def combine_transforms(transforms):\n",
    "    base = transforms[0].matrix\n",
    "    for transform in transforms[1:]:\n",
    "        base = dotM(transform.matrix, base)\n",
    "    return base\n",
    "\n",
    "# https://www.mathsisfun.com/algebra/matrix-inverse-row-operations-gauss-jordan.html\n",
    "# https://www.mathsisfun.com/algebra/matrix-inverse.html\n",
    "# https://martin-thoma.com/solving-linear-equations-with-gaussian-elimination/\n",
    "# http://matrix.reshish.com/inverCalculation.php\n",
    "def invert(M):\n",
    "    M = np.array(M)\n",
    "    Inv = np.linalg.inv(M)\n",
    "    return Inv.astype(list)\n",
    "\n",
    "arr1 = np.array([[1]])\n",
    "arr2 = np.array([\n",
    "    [1, 2], \n",
    "    [3, 4]\n",
    "])\n",
    "arr3 = np.array([\n",
    "    [1, 2, 3],\n",
    "    [4, 5, 6],\n",
    "    [7, 8, 9],\n",
    "])\n",
    "arr4 = np.array([\n",
    "    [1, 2, 3],\n",
    "    [4, 5, 6],\n",
    "])\n",
    "arr5 = np.array([\n",
    "    [2,2],\n",
    "    [3,0]\n",
    "])\n",
    "arr6 = np.array([\n",
    "    [2],\n",
    "    [-1],\n",
    "    [8]\n",
    "])\n",
    "squares = [arr1, arr2, arr3, arr5]\n",
    "rects = [arr1, arr2, arr3, arr4, arr5, arr6]\n",
    "\n",
    "assert dotV([1,2,3],[3,3,0]) == 9\n",
    "print(dotM(arr2,arr5) == np.dot(arr2,arr5))\n",
    "print(dotM(arr3,arr6) == np.dot(arr3,arr6))\n",
    "dotM(arr3,arr6),np.dot(arr3,arr6)"
   ]
  },
  {
   "cell_type": "markdown",
   "metadata": {},
   "source": [
    "## Primatives"
   ]
  },
  {
   "cell_type": "code",
   "execution_count": 43,
   "metadata": {
    "collapsed": true
   },
   "outputs": [],
   "source": [
    "class Point():\n",
    "    def __init__(self, coords, color=(255,255,255)):\n",
    "        \"\"\"\n",
    "        Homographic\n",
    "        coords = [x, y, z ... w]\n",
    "        \"\"\"\n",
    "        self.coords = coords\n",
    "        self.color = color\n",
    "    \n",
    "    def T(self):\n",
    "        return transpose(self.coords)\n",
    "    \n",
    "    def __repr__(self):\n",
    "        return str(self.coords)\n",
    "        \n",
    "class Shape():\n",
    "    def __init__(self, origin, points=None):\n",
    "        \"\"\"\n",
    "        origin = [x, y, z]\n",
    "        points = [Point(), Point()]\n",
    "        \"\"\"\n",
    "        self.origin = origin\n",
    "        self.points = [] if points is None else points\n",
    "        \n",
    "class Graph():\n",
    "    def __init__(self, dims, shapes=None):\n",
    "        self.dims = dims\n",
    "        self.shapes = [] if shapes is None else shapes\n",
    "    \n",
    "    def plot(self):\n",
    "        pass\n",
    "\n",
    "class Transform():\n",
    "    def __init__(self):\n",
    "        self.matrix = [\n",
    "            [1, 0, 0],\n",
    "            [0, 1, 0],\n",
    "            [0, 0, 1],\n",
    "        ]\n",
    "    \n",
    "    def col2row(self, obj):\n",
    "        return [obj[i][0] for i in range(len(obj))]\n",
    "\n",
    "    def row2col(self, obj):\n",
    "        return [[num] for num in obj]\n",
    "    \n",
    "    def apply(self, obj, matrix):\n",
    "        return dotM(matrix, obj)\n",
    "    \n",
    "    def __call__(self, obj, matrix=None):\n",
    "        obj = copy.deepcopy(obj)\n",
    "        if matrix is None:\n",
    "            matrix = self.matrix\n",
    "        if type(obj) == Point:\n",
    "            out = self.apply(self.row2col(obj.coords), matrix)\n",
    "            obj.coords = self.col2row(out)\n",
    "        elif type(obj) == Shape:\n",
    "            for p in obj.points:\n",
    "                out = self.apply(self.row2col(p.coords), matrix)\n",
    "                p.coords = self.col2row(out)\n",
    "        elif type(obj) in [list, np.ndarray]:\n",
    "            shape = get_shape(obj)\n",
    "            if len(shape) == 1:\n",
    "                out = self.apply(self.row2col(obj), matrix)\n",
    "                obj = self.col2row(out)\n",
    "            else:\n",
    "                obj = self.apply(obj, matrix)\n",
    "        else:\n",
    "            print(\"{:s} Not supported\".format(type(obj)))\n",
    "        return obj      "
   ]
  },
  {
   "cell_type": "markdown",
   "metadata": {},
   "source": [
    "## 2D Transforms"
   ]
  },
  {
   "cell_type": "markdown",
   "metadata": {},
   "source": [
    "### Transpose"
   ]
  },
  {
   "cell_type": "code",
   "execution_count": 44,
   "metadata": {
    "collapsed": true
   },
   "outputs": [],
   "source": [
    "def transpose2d(arr):\n",
    "    T = []\n",
    "    for col in range(len(arr[0])):\n",
    "        new_row = [arr[i][col] for i in range(len(arr))]\n",
    "        T.append(new_row)\n",
    "    return T\n",
    "\n",
    "def transpose(arr):\n",
    "    shape = get_shape(arr)\n",
    "    if len(shape) == 1:\n",
    "        return transpose2d([arr])\n",
    "    elif len(shape) == 2:\n",
    "        return transpose2d(arr)\n",
    "    else:\n",
    "        raise Exception(\"Higher dims not supported\")\n",
    "        \n",
    "class Transpose2D(Transform):\n",
    "    def __init__(self):\n",
    "        super().__init__()\n",
    "        self.matrix = [\n",
    "            [0, 1, 0],\n",
    "            [1, 0, 0],\n",
    "            [0, 0, 1 ]\n",
    "        ]     \n",
    "\n",
    "A1 = [[1,2,3],\n",
    "      [4,5,6],\n",
    "      [7,8,9]]\n",
    "A2 = [1,2,3]\n",
    "A3 = [[1],[2],[3]]\n",
    "# P(A1, transpose(A1))\n",
    "# P(A2, transpose(A2))\n",
    "# P(A3, transpose(A3))\n",
    "# print(\"----\")\n",
    "# P(A1, Transpose2D()(A1))\n",
    "# P(A2, Transpose2D()(A2))\n",
    "# P(A3, Transpose2D()(A3))"
   ]
  },
  {
   "cell_type": "markdown",
   "metadata": {},
   "source": [
    "### Reflect"
   ]
  },
  {
   "cell_type": "code",
   "execution_count": 45,
   "metadata": {
    "collapsed": true
   },
   "outputs": [],
   "source": [
    "class Reflect2D(Transform):\n",
    "    def __init__(self, h=False, v=False):\n",
    "        super().__init__()\n",
    "        Rx = -1 if h else 1\n",
    "        Ry = -1 if v else 1\n",
    "        self.matrix = [\n",
    "            [Rx, 0, 0],\n",
    "            [0, Ry, 0],\n",
    "            [0, 0, 1 ]\n",
    "        ]"
   ]
  },
  {
   "cell_type": "code",
   "execution_count": 46,
   "metadata": {},
   "outputs": [
    {
     "data": {
      "text/plain": [
       "[-1, -2, 1]"
      ]
     },
     "execution_count": 46,
     "metadata": {},
     "output_type": "execute_result"
    }
   ],
   "source": [
    "r = Reflect2D(h=True, v=True)\n",
    "r([1,2,1])"
   ]
  },
  {
   "cell_type": "markdown",
   "metadata": {},
   "source": [
    "### Translate"
   ]
  },
  {
   "cell_type": "code",
   "execution_count": 47,
   "metadata": {
    "collapsed": true
   },
   "outputs": [],
   "source": [
    "class Translate2D(Transform):\n",
    "    def __init__(self, Tx, Ty):\n",
    "        super().__init__()\n",
    "        self.matrix = [\n",
    "            [1, 0, Tx],\n",
    "            [0, 1, Ty],\n",
    "            [0, 0,  1]\n",
    "        ]"
   ]
  },
  {
   "cell_type": "code",
   "execution_count": 48,
   "metadata": {},
   "outputs": [
    {
     "data": {
      "text/plain": [
       "[2, 2, 1]"
      ]
     },
     "execution_count": 48,
     "metadata": {},
     "output_type": "execute_result"
    }
   ],
   "source": [
    "t = Translate2D(1,1)\n",
    "t([1,1,1])"
   ]
  },
  {
   "cell_type": "markdown",
   "metadata": {},
   "source": [
    "### Flip"
   ]
  },
  {
   "cell_type": "code",
   "execution_count": 49,
   "metadata": {
    "collapsed": true
   },
   "outputs": [],
   "source": [
    "class Flip2D(Transform):\n",
    "    def __init__(self, xmax, ymax, h=False, v=False):\n",
    "        super().__init__()\n",
    "        self.reflect = Reflect2D(h, v)\n",
    "        self.Tx = xmax if h else 0\n",
    "        self.Ty = ymax if v else 0\n",
    "        self.translate = Translate2D(self.Tx, self.Ty)\n",
    "        self.matrix = combine_transforms([\n",
    "            self.reflect, \n",
    "            self.translate\n",
    "        ])"
   ]
  },
  {
   "cell_type": "code",
   "execution_count": 50,
   "metadata": {},
   "outputs": [
    {
     "data": {
      "text/plain": [
       "[3, 1, 1]"
      ]
     },
     "execution_count": 50,
     "metadata": {},
     "output_type": "execute_result"
    }
   ],
   "source": [
    "vflip = Flip2D(4, 4, True, False)\n",
    "vflip([1, 1, 1])"
   ]
  },
  {
   "cell_type": "markdown",
   "metadata": {},
   "source": [
    "### Scale"
   ]
  },
  {
   "cell_type": "code",
   "execution_count": 51,
   "metadata": {
    "collapsed": true
   },
   "outputs": [],
   "source": [
    "class Scale2D(Transform):\n",
    "    def __init__(self, Sx, Sy):\n",
    "        super().__init__()\n",
    "        self.matrix = [\n",
    "            [Sx, 0, 0],\n",
    "            [0, Sy, 0],\n",
    "            [0, 0,  1]\n",
    "        ]"
   ]
  },
  {
   "cell_type": "code",
   "execution_count": 52,
   "metadata": {},
   "outputs": [
    {
     "data": {
      "text/plain": [
       "[2, 4, 1]"
      ]
     },
     "execution_count": 52,
     "metadata": {},
     "output_type": "execute_result"
    }
   ],
   "source": [
    "s = Scale2D(2,4)\n",
    "s([1,1,1])"
   ]
  },
  {
   "cell_type": "markdown",
   "metadata": {},
   "source": [
    "### Shear"
   ]
  },
  {
   "cell_type": "code",
   "execution_count": 53,
   "metadata": {
    "collapsed": true
   },
   "outputs": [],
   "source": [
    "class Shear2D(Transform):\n",
    "    def __init__(self, Sx, Sy):\n",
    "        super().__init__()\n",
    "        self.matrix = [\n",
    "            [1, Sx, 0],\n",
    "            [Sy, 1, 0],\n",
    "            [0,  0, 1]\n",
    "        ]"
   ]
  },
  {
   "cell_type": "code",
   "execution_count": 54,
   "metadata": {},
   "outputs": [
    {
     "data": {
      "text/plain": [
       "[7, 3, 1]"
      ]
     },
     "execution_count": 54,
     "metadata": {},
     "output_type": "execute_result"
    }
   ],
   "source": [
    "s = Shear2D(3,1)\n",
    "s([1,2,1])"
   ]
  },
  {
   "cell_type": "markdown",
   "metadata": {},
   "source": [
    "### Rotate"
   ]
  },
  {
   "cell_type": "markdown",
   "metadata": {},
   "source": [
    "* https://cs184.org/lecture/transforms-1/slide_030\n",
    "* https://stackoverflow.com/questions/9875964/python-converting-radians-to-degrees\n",
    "* https://en.wikipedia.org/wiki/Rotation_matrix\n",
    "* https://betterexplained.com/articles/intuitive-guide-to-angles-degrees-and-radians/\n",
    "* Why is it working backwards from what I expect? And only works in one direction?"
   ]
  },
  {
   "cell_type": "code",
   "execution_count": 55,
   "metadata": {
    "collapsed": true
   },
   "outputs": [],
   "source": [
    "class Rotate2D(Transform):\n",
    "    def __init__(self, degrees):\n",
    "        super().__init__()\n",
    "        assert abs(degrees) >= 0\n",
    "        assert abs(degrees) <= 360.0\n",
    "        self.radians = math.radians(degrees)\n",
    "        print(\"Degrees\", degrees, \"Radians\", self.radians)\n",
    "        self.matrix = [\n",
    "            [cos(self.radians),  sin(self.radians), 0],\n",
    "            [-sin(self.radians), cos(self.radians), 0],\n",
    "            [0,                                  0, 1]\n",
    "        ]\n",
    "\n",
    "class FixedRotate2D(Transform):\n",
    "    def __init__(self, degrees):\n",
    "        assert abs(degrees) in [0, 90, 180, 270, 360]\n",
    "        self.matrix = self.make_matrix(degrees)\n",
    "    \n",
    "    def make_matrix(self, degrees):\n",
    "        if degrees in [90, -270]:\n",
    "            return [\n",
    "                [0, -1, 0],\n",
    "                [1,  0, 0],\n",
    "                [0,  0, 1],\n",
    "            ]\n",
    "        elif degrees in [180, -180]:\n",
    "            return [\n",
    "                [-1, 0, 0],\n",
    "                [0, -1, 0],\n",
    "                [0,  0, 1],\n",
    "            ]\n",
    "            \n",
    "        elif degrees in [-90, 270]:\n",
    "            return [\n",
    "                [0,  1, 0],\n",
    "                [-1, 0, 0],\n",
    "                [0,  0, 1],\n",
    "            ]\n",
    "        else:\n",
    "            return [\n",
    "                [1, 0, 0],\n",
    "                [0, 1, 0],\n",
    "                [0, 0, 1]\n",
    "            ]\n",
    "        \n",
    "class CenterRotate2D(Transform):\n",
    "    def __init__(self, angle_degrees, origin, center):\n",
    "        super().__init__()\n",
    "        self.Tx = center[0]\n",
    "        self.Ty = center[1]\n",
    "        self.matrix = combine_transforms([\n",
    "            Translate2D(-self.Tx, -self.Ty),\n",
    "            Rotate2D(angle_degrees),\n",
    "            Translate2D(self.Tx, self.Ty)\n",
    "        ])"
   ]
  },
  {
   "cell_type": "code",
   "execution_count": 56,
   "metadata": {},
   "outputs": [
    {
     "name": "stdout",
     "output_type": "stream",
     "text": [
      "Degrees 90 Radians 1.5707963267948966\n",
      "Degrees 90 Radians 1.5707963267948966\n",
      "Degrees 90 Radians 1.5707963267948966\n",
      "[0, 1, 1]\n",
      "[-1, 0, 1]\n",
      "[-1, 0, 1]\n",
      "[0, -1, 1]\n",
      "[0, -1, 1]\n",
      "[1, 0, 1]\n"
     ]
    }
   ],
   "source": [
    "r = Rotate2D(90)\n",
    "cr = CenterRotate2D(90, origin=(0,0), center=(2,2))\n",
    "r([1,1,1]), cr([1,1,1])\n",
    "cr = CenterRotate2D(90, origin=(0,0), center=(2,2))\n",
    "cr([3,3,1])\n",
    "\n",
    "print(FixedRotate2D(90)([1,0,1]))\n",
    "print(FixedRotate2D(90)([0,1,1]))\n",
    "\n",
    "print(FixedRotate2D(180)([1,0,1]))\n",
    "print(FixedRotate2D(180)([0,1,1]))\n",
    "\n",
    "print(FixedRotate2D(270)([1,0,1]))\n",
    "print(FixedRotate2D(270)([0,1,1]))"
   ]
  },
  {
   "cell_type": "markdown",
   "metadata": {},
   "source": [
    "## Coordinate Space"
   ]
  },
  {
   "cell_type": "code",
   "execution_count": 57,
   "metadata": {
    "collapsed": true
   },
   "outputs": [],
   "source": [
    "class CoordinateSpace(Transform):\n",
    "    def __init__(self, origin, transforms):\n",
    "        self.origin = origin\n",
    "        self.matrix = combine_transforms(\n",
    "            transforms\n",
    "        )\n",
    "        self.inverse = invert(\n",
    "            self.matrix\n",
    "        )\n",
    "    \n",
    "    def coord2World(self, obj):\n",
    "        return super().__call__(obj, self.matrix)\n",
    "        \n",
    "    def world2Coord(self, obj):\n",
    "        return super().__call__(obj, self.inverse)\n",
    "    \n",
    "class NumpyWorld():\n",
    "    def __init__(self, origin, width, height):\n",
    "        self.width = width\n",
    "        self.height = height\n",
    "        self.origin = origin\n",
    "        self.coord_space = self.make_coord_space()\n",
    "\n",
    "    def make_coord_space(self):\n",
    "        transforms = [\n",
    "            Translate2D(self.origin[0], self.origin[1]),\n",
    "            Transpose2D(),\n",
    "            Flip2D(self.width, self.height, h=True),\n",
    "        ]\n",
    "        return CoordinateSpace(self.origin, transforms)\n",
    "\n",
    "    def rasterize(self, point):\n",
    "        p = self.coord_space.coord2World(point)\n",
    "        p.coords = [int(c) for c in p.coords]\n",
    "        return p\n",
    "        \n",
    "    def plot_points(self, points):\n",
    "        arr = np.ones((self.width, self.height))\n",
    "        for p in points:\n",
    "            p = self.rasterize(p)\n",
    "            x,y,w = p.coords\n",
    "            arr[x][y] = 0\n",
    "        plt.imshow(arr, cmap='gray')\n",
    "        plt.title(str(tuple(points)[:3]))\n",
    "        plt.grid()\n",
    "    #     plt.axvline()\n",
    "    #     plt.axhline(y=h)\n",
    "        plt.autoscale(enable=False)\n",
    "#         plt.xticks(range(self.width), (range(1, 11)))\n",
    "#         plt.yticks(range(self.height), (range(10,-1,-1)))\n",
    "        #plt.gca().invert_yaxis()\n",
    "        plt.show()"
   ]
  },
  {
   "cell_type": "code",
   "execution_count": 58,
   "metadata": {
    "collapsed": true
   },
   "outputs": [],
   "source": [
    "WORLD_ORIGIN_X = 10\n",
    "WORLD_ORIGIN_Y = 10\n",
    "WORLD_ORIGIN = (WORLD_ORIGIN_X, WORLD_ORIGIN_Y)\n",
    "WORLD_WIDTH_PIXELS = 10\n",
    "WORLD_HEIGHT_PIXELS = 10\n",
    "DISPLAY_WIDTH_PIXELS = 20\n",
    "DISPLAY_HEIGHT_PIXELS = 20\n",
    "world = NumpyWorld(WORLD_ORIGIN, DISPLAY_WIDTH_PIXELS, DISPLAY_HEIGHT_PIXELS)"
   ]
  },
  {
   "cell_type": "code",
   "execution_count": 59,
   "metadata": {},
   "outputs": [
    {
     "name": "stdout",
     "output_type": "stream",
     "text": [
      "[[ 0 -1 10]\n",
      " [ 1  0 10]\n",
      " [ 0  0  1]]\n",
      "[[0.0 1.0 -10.0]\n",
      " [-1.0 0.0 10.0]\n",
      " [0.0 0.0 1.0]]\n",
      "---\n",
      "[9, 11, 1]\n",
      "[-10.0, 7.0, 1.0]\n",
      "---\n"
     ]
    }
   ],
   "source": [
    "P(world.coord_space.matrix, world.coord_space.inverse)\n",
    "P(world.coord_space.coord2World(Point([1,1,1])), \n",
    "  world.coord_space.world2Coord(Point([3,0,1])))"
   ]
  },
  {
   "cell_type": "markdown",
   "metadata": {},
   "source": [
    "## Rasterize"
   ]
  },
  {
   "cell_type": "code",
   "execution_count": 60,
   "metadata": {
    "collapsed": true
   },
   "outputs": [],
   "source": [
    "# Float Points --> integer Pixel coords for plotting\n",
    "\n",
    "def rasterize(point, world):\n",
    "    point = world.coord2World(point)\n",
    "    point.coords = [int(c) for c in point.coords]\n",
    "    return point"
   ]
  },
  {
   "cell_type": "markdown",
   "metadata": {
    "collapsed": true
   },
   "source": [
    "## Plots"
   ]
  },
  {
   "cell_type": "code",
   "execution_count": 61,
   "metadata": {},
   "outputs": [
    {
     "data": {
      "image/png": "[encoded data removed]",
      "text/plain": [
       "<matplotlib.figure.Figure at 0x7fdf24e8dfd0>"
      ]
     },
     "metadata": {},
     "output_type": "display_data"
    }
   ],
   "source": [
    "points = [Point([1,1,1]), Point([4,4,1]), Point([0,0,1])]\n",
    "world.plot_points(points)"
   ]
  },
  {
   "cell_type": "markdown",
   "metadata": {},
   "source": [
    "### Test Rotate"
   ]
  },
  {
   "cell_type": "code",
   "execution_count": 62,
   "metadata": {},
   "outputs": [
    {
     "name": "stdout",
     "output_type": "stream",
     "text": [
      "Angle 0\n",
      "Input point [1, 1, 1]\n",
      "Degrees 0 Radians 0.0\n",
      "Rotated point [1, 1, 1]\n",
      "Rounded point [1, 1, 1]\n"
     ]
    },
    {
     "data": {
      "image/png": "[encoded data removed]",
      "text/plain": [
       "<matplotlib.figure.Figure at 0x7fdf24d70358>"
      ]
     },
     "metadata": {},
     "output_type": "display_data"
    },
    {
     "name": "stdout",
     "output_type": "stream",
     "text": [
      "Angle 90\n",
      "Input point [1, 1, 1]\n",
      "Degrees 90 Radians 1.5707963267948966\n",
      "Rotated point [-1, 1, 1]\n",
      "Rounded point [-1, 1, 1]\n"
     ]
    },
    {
     "data": {
      "image/png": "[encoded data removed]",
      "text/plain": [
       "<matplotlib.figure.Figure at 0x7fdf24d0ee10>"
      ]
     },
     "metadata": {},
     "output_type": "display_data"
    },
    {
     "name": "stdout",
     "output_type": "stream",
     "text": [
      "Angle 180\n",
      "Input point [1, 1, 1]\n",
      "Degrees 180 Radians 3.141592653589793\n",
      "Rotated point [-1, -1, 1]\n",
      "Rounded point [-1, -1, 1]\n"
     ]
    },
    {
     "data": {
      "image/png": "[encoded data removed]",
      "text/plain": [
       "<matplotlib.figure.Figure at 0x7fdf24f1b198>"
      ]
     },
     "metadata": {},
     "output_type": "display_data"
    },
    {
     "name": "stdout",
     "output_type": "stream",
     "text": [
      "Angle 270\n",
      "Input point [1, 1, 1]\n",
      "Degrees 270 Radians 4.71238898038469\n",
      "Rotated point [1, -1, 1]\n",
      "Rounded point [1, -1, 1]\n"
     ]
    },
    {
     "data": {
      "image/png": "[encoded data removed]",
      "text/plain": [
       "<matplotlib.figure.Figure at 0x7fdf24bc1710>"
      ]
     },
     "metadata": {},
     "output_type": "display_data"
    },
    {
     "name": "stdout",
     "output_type": "stream",
     "text": [
      "Angle 360\n",
      "Input point [1, 1, 1]\n",
      "Degrees 360 Radians 6.283185307179586\n",
      "Rotated point [1, 1, 1]\n",
      "Rounded point [1, 1, 1]\n"
     ]
    },
    {
     "data": {
      "image/png": "[encoded data removed]",
      "text/plain": [
       "<matplotlib.figure.Figure at 0x7fdf24c2d7b8>"
      ]
     },
     "metadata": {},
     "output_type": "display_data"
    }
   ],
   "source": [
    "x_center = 0\n",
    "y_center = 0\n",
    "center = Point([x_center, y_center, 1])\n",
    "for angle in [0, 90, 180, 270, 360]:\n",
    "    print(\"Angle\", angle)\n",
    "    point = Point([1,1,1])\n",
    "    print(\"Input point\", point)\n",
    "    centerRotate = CenterRotate2D(angle, origin=(0,0), center=(x_center, y_center))\n",
    "    centerRotate = FixedRotate2D(angle)\n",
    "    point = centerRotate(point)\n",
    "    print(\"Rotated point\", point)\n",
    "    #point.coords = [int(c) for c in point.coords]\n",
    "    print(\"Rounded point\", point)\n",
    "    world.plot_points([center, point])"
   ]
  },
  {
   "cell_type": "code",
   "execution_count": null,
   "metadata": {
    "collapsed": true
   },
   "outputs": [],
   "source": []
  },
  {
   "cell_type": "code",
   "execution_count": null,
   "metadata": {
    "collapsed": true
   },
   "outputs": [],
   "source": []
  },
  {
   "cell_type": "markdown",
   "metadata": {},
   "source": [
    "## 3D Transforms"
   ]
  },
  {
   "cell_type": "markdown",
   "metadata": {},
   "source": [
    "### Primatives"
   ]
  },
  {
   "cell_type": "markdown",
   "metadata": {},
   "source": [
    "### Transpose"
   ]
  },
  {
   "cell_type": "code",
   "execution_count": 63,
   "metadata": {
    "collapsed": true
   },
   "outputs": [],
   "source": [
    "## TODO"
   ]
  },
  {
   "cell_type": "markdown",
   "metadata": {},
   "source": [
    "### Reflect"
   ]
  },
  {
   "cell_type": "code",
   "execution_count": 64,
   "metadata": {
    "collapsed": true
   },
   "outputs": [],
   "source": [
    "class Reflect3D(Transform):\n",
    "    def __init__(self, x=False, y=False, z=False):\n",
    "        super().__init__()\n",
    "        Rx = -1 if x else 1\n",
    "        Ry = -1 if y else 1\n",
    "        Rz = -1 if z else 1\n",
    "        self.matrix = [\n",
    "            [Rx, 0, 0, 0],\n",
    "            [0, Ry, 0, 0],\n",
    "            [0, 0, Rz, 0],\n",
    "            [0, 0,  0, 1]\n",
    "        ]"
   ]
  },
  {
   "cell_type": "code",
   "execution_count": 65,
   "metadata": {},
   "outputs": [
    {
     "data": {
      "text/plain": [
       "[-1, 2, 3, 1]"
      ]
     },
     "execution_count": 65,
     "metadata": {},
     "output_type": "execute_result"
    }
   ],
   "source": [
    "Reflect3D(x=True)([1,2,3,1])"
   ]
  },
  {
   "cell_type": "markdown",
   "metadata": {},
   "source": [
    "### Translate"
   ]
  },
  {
   "cell_type": "code",
   "execution_count": 66,
   "metadata": {},
   "outputs": [],
   "source": [
    "class Translate3D(Transform):\n",
    "    def __init__(self, x=0, y=0, z=0):\n",
    "        super().__init__()\n",
    "        self.matrix = [\n",
    "            [1, 0, 0, x],\n",
    "            [0, 1, 0, y],\n",
    "            [0, 0, 1, z],\n",
    "            [0, 0, 0, 1]\n",
    "        ]"
   ]
  },
  {
   "cell_type": "code",
   "execution_count": 67,
   "metadata": {},
   "outputs": [
    {
     "data": {
      "text/plain": [
       "[3, -1, 1, 1]"
      ]
     },
     "execution_count": 67,
     "metadata": {},
     "output_type": "execute_result"
    }
   ],
   "source": [
    "Translate3D(x=2,y=-2)([1,1,1,1])"
   ]
  },
  {
   "cell_type": "markdown",
   "metadata": {},
   "source": [
    "### Rotate"
   ]
  },
  {
   "cell_type": "code",
   "execution_count": 68,
   "metadata": {
    "collapsed": true
   },
   "outputs": [],
   "source": [
    "class Rotate3D(Transform):\n",
    "    def __init__(self, degrees, axis_letter):\n",
    "        super().__init__()\n",
    "        assert axis_letter in ['x','y','z']\n",
    "        self.radians = math.radians(degrees)\n",
    "        print(\"Degrees\", degrees, \"Radians\", self.radians)\n",
    "        if axis_letter == 'x':\n",
    "            self.matrix = [\n",
    "                [1,                  0,                 0, 0],\n",
    "                [0,  cos(self.radians), sin(self.radians), 0],\n",
    "\n",
    "                [0, -sin(self.radians), cos(self.radians), 0],\n",
    "                [0,                  0,                 0, 1]\n",
    "            ]\n",
    "        elif axis_letter == 'y':\n",
    "            self.matrix = [\n",
    "                [cos(self.radians), 0, -sin(self.radians), 0],\n",
    "                [0,                 1,                  0, 0],\n",
    "                [sin(self.radians), 0,  cos(self.radians), 0],\n",
    "                [0,                 0,                  0, 1]\n",
    "            ]\n",
    "\n",
    "        elif axis_letter == 'z':\n",
    "            self.matrix = [\n",
    "                [cos(self.radians),  sin(self.radians), 0, 0],\n",
    "                [-sin(self.radians), cos(self.radians), 0, 0],\n",
    "                [0,                                  0, 1, 0],\n",
    "                [0,                                  0, 0, 1]\n",
    "            ]\n",
    "\n",
    "        \n",
    "class CenterRotate3D(Transform):\n",
    "    def __init__(self, angle_degrees, axis_letter, center):\n",
    "        super().__init__()\n",
    "        self.Tx = center[0]\n",
    "        self.Ty = center[1]\n",
    "        self.Tz = center[2]\n",
    "        self.matrix = combine_transforms([\n",
    "            Translate3D(-self.Tx, -self.Ty, -self.Tz),\n",
    "            Rotate3D(angle_degrees, axis_letter),\n",
    "            Translate3D(self.Tx, self.Ty, self.Tz)\n",
    "        ])"
   ]
  },
  {
   "cell_type": "code",
   "execution_count": 69,
   "metadata": {},
   "outputs": [
    {
     "name": "stdout",
     "output_type": "stream",
     "text": [
      "Degrees 90 Radians 1.5707963267948966\n",
      "x [1, 1.0, -0.9999999999999999, 1]\n",
      "Degrees 90 Radians 1.5707963267948966\n",
      "y [-0.9999999999999999, 1, 1.0, 1]\n",
      "Degrees 90 Radians 1.5707963267948966\n",
      "z [1.0, -0.9999999999999999, 1, 1]\n"
     ]
    }
   ],
   "source": [
    "for letter in 'xyz':\n",
    "    print(letter, Rotate3D(90, letter)([1,1,1,1]))"
   ]
  },
  {
   "cell_type": "code",
   "execution_count": 70,
   "metadata": {},
   "outputs": [
    {
     "name": "stdout",
     "output_type": "stream",
     "text": [
      "Degrees 90 Radians 1.5707963267948966\n",
      "x [1.0, 1.0, 3.0, 1.0]\n",
      "Degrees 90 Radians 1.5707963267948966\n",
      "y [3.0, 1.0, 1.0, 1.0]\n",
      "Degrees 90 Radians 1.5707963267948966\n",
      "z [1.0, 3.0, 1.0, 1.0]\n"
     ]
    }
   ],
   "source": [
    "for letter in 'xyz':\n",
    "    print(letter, CenterRotate3D(90, letter, (2,2,2,1))([1,1,1,1]))"
   ]
  },
  {
   "cell_type": "code",
   "execution_count": null,
   "metadata": {
    "collapsed": true
   },
   "outputs": [],
   "source": []
  },
  {
   "cell_type": "code",
   "execution_count": null,
   "metadata": {
    "collapsed": true
   },
   "outputs": [],
   "source": []
  }
 ],
 "metadata": {
  "kernelspec": {
   "display_name": "Python 3",
   "language": "python",
   "name": "python3"
  },
  "language_info": {
   "codemirror_mode": {
    "name": "ipython",
    "version": 3
   },
   "file_extension": ".py",
   "mimetype": "text/x-python",
   "name": "python",
   "nbconvert_exporter": "python",
   "pygments_lexer": "ipython3",
   "version": "3.6.0"
  },
  "latex_envs": {
   "LaTeX_envs_menu_present": true,
   "autocomplete": true,
   "bibliofile": "biblio.bib",
   "cite_by": "apalike",
   "current_citInitial": 1,
   "eqLabelWithNumbers": true,
   "eqNumInitial": 1,
   "hotkeys": {
    "equation": "Ctrl-E",
    "itemize": "Ctrl-I"
   },
   "labels_anchors": false,
   "latex_user_defs": false,
   "report_style_numbering": false,
   "user_envs_cfg": false
  },
  "toc": {
   "colors": {
    "hover_highlight": "#DAA520",
    "navigate_num": "#000000",
    "navigate_text": "#333333",
    "running_highlight": "#FF0000",
    "selected_highlight": "#FFD700",
    "sidebar_border": "#EEEEEE",
    "wrapper_background": "#FFFFFF"
   },
   "moveMenuLeft": true,
   "nav_menu": {
    "height": "4px",
    "width": "254px"
   },
   "navigate_menu": true,
   "number_sections": true,
   "sideBar": true,
   "threshold": 4,
   "toc_cell": false,
   "toc_section_display": "block",
   "toc_window_display": false,
   "widenNotebook": false
  }
 },
 "nbformat": 4,
 "nbformat_minor": 2
}
