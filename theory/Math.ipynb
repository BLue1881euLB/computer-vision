{
 "cells": [
  {
   "cell_type": "markdown",
   "metadata": {},
   "source": [
    "# Math"
   ]
  },
  {
   "cell_type": "markdown",
   "metadata": {},
   "source": [
    "## Definitions"
   ]
  },
  {
   "cell_type": "markdown",
   "metadata": {},
   "source": [
    "* What's Math?\n",
    "    * Language for describing patterns in the universe\n",
    "    * Quantity, space, structure, and change\n",
    "* Types of patterns/observations\n",
    "    * Fact\n",
    "        * True observation (the sun sets)\n",
    "    * Law\n",
    "        * Pattern we can prove from facts\n",
    "        * Cannot be proven wrong\n",
    "    * Theorem\n",
    "        * Explanation of a pattern we can prove with logic, Laws and other Theorems\n",
    "        * Cannot be proven wrong\n",
    "    * Theory\n",
    "        * Explanation of a pattern that's widely accepted, but could still be wrong\n",
    "    * Hypothesis\n",
    "        * Explanation of a pattern that's not yet widely accepted\n",
    "        * Good starting point for experiments and proofs\n",
    "* Domain vs Range \n",
    "    * Domain (x) - Space of possible inputs\n",
    "    * Range (y) - Space of possible outputs\n",
    "* What's Arithmetic?\n",
    "    * Counting and comparing quantity\n",
    "    * Operations on known numbers\n",
    "    * Helps us find the answer to a specific problem when inputs are known\n",
    "    * e.g. 5 + 5 = 10\n",
    "* What's Algebra?\n",
    "    * Describing relationships + patterns in the world\n",
    "    * As the input changes, how does the output change? \n",
    "    * Operations on known and unknown numbers\n",
    "    * Allows us to predict things we haven't observed yet\n",
    "    * Allows us to automate repetitive tasks\n",
    "    * If we feed the dog 3 bones it will bark twice, what if we feed it 6 bones?\n",
    "    * Instead of having to test all possible inputs, once we find the pattern we can predict\n",
    "    * e.g. 5 + x = 10\n",
    "* What's a relation?\n",
    "    * Order set of pairs (observations)\n",
    "    * [(Input, Output), (Input, Output)]\n",
    "    * If we only had arithmetic, we would have to calculate and record every input/output pair\n",
    "    * It's like creating a HashMap\n",
    "* What's a function?\n",
    "    * A function describes the relationship between observations\n",
    "    * Allows us to predict the output, even if we haven't seen the input before\n",
    "    * Sometimes there isn't a relationship between observations\n",
    "    * In that case we can't describe it with pure Algebra\n",
    "    * Random noise is a good example of a non-function\n",
    "        * If we pass in the same input we get different outputs\n",
    "* What's Statistics?\n",
    "    * Describing patterns in the world where the inputs don't always equal the same outputs, but there's still a relationship\n",
    "* Algebra vs Statistics?\n",
    "    * Algebra describes patterns with functions that map data perfectly (F(x) always equals y)\n",
    "    * Statistics is about approximating patterns based on observations\n",
    "* What's Machine Learning?\n",
    "    * Machine Learning is about learning patterns which can't be easily described with statistics\n",
    "    * Helps describe complex patterns that humans can't figure out on their own\n",
    "* What's Linear Algebra?\n",
    "    * Linear algebra gives you mini-spreadsheets for your math equations\n",
    "    * Linear Algebra” means, roughly, “line-like relationships”\n",
    "    * Lines are nice and predictable\n",
    "    * Linear Algebra provides simple techniques for storing and operating on groups of numbers\n",
    "* What is Geometry?\n",
    "    * oin\n",
    "* What is Calculus?\n",
    "    * oin"
   ]
  },
  {
   "cell_type": "markdown",
   "metadata": {
    "collapsed": true
   },
   "source": [
    "# Problems"
   ]
  },
  {
   "cell_type": "markdown",
   "metadata": {},
   "source": [
    "Links\n",
    "* https://www.interviewbit.com/courses/programming/topics/arrays/"
   ]
  },
  {
   "cell_type": "markdown",
   "metadata": {
    "heading_collapsed": true
   },
   "source": [
    "## Swap Integers (in-place)"
   ]
  },
  {
   "cell_type": "code",
   "execution_count": 44,
   "metadata": {
    "collapsed": true,
    "hidden": true
   },
   "outputs": [],
   "source": [
    "def swap_ints(a, b):\n",
    "    print(a,b)\n",
    "    b += a\n",
    "    a += a\n",
    "    a = (b - a) + a//2\n",
    "    b = b - a\n",
    "    print(a,b,'\\n---')"
   ]
  },
  {
   "cell_type": "code",
   "execution_count": 45,
   "metadata": {
    "hidden": true
   },
   "outputs": [
    {
     "name": "stdout",
     "output_type": "stream",
     "text": [
      "2 5\n",
      "5 2 \n",
      "---\n",
      "3 3\n",
      "3 3 \n",
      "---\n",
      "5 3\n",
      "3 5 \n",
      "---\n",
      "-2 3\n",
      "3 -2 \n",
      "---\n",
      "0 0\n",
      "0 0 \n",
      "---\n",
      "-1 -5\n",
      "-5 -1 \n",
      "---\n"
     ]
    }
   ],
   "source": [
    "swap_ints(2,5)\n",
    "swap_ints(3,3)\n",
    "swap_ints(5,3)\n",
    "swap_ints(-2,3)\n",
    "swap_ints(0,0)\n",
    "swap_ints(-1,-5)"
   ]
  },
  {
   "cell_type": "code",
   "execution_count": null,
   "metadata": {
    "collapsed": true,
    "hidden": true
   },
   "outputs": [],
   "source": []
  }
 ],
 "metadata": {
  "kernelspec": {
   "display_name": "Python 3",
   "language": "python",
   "name": "python3"
  },
  "language_info": {
   "codemirror_mode": {
    "name": "ipython",
    "version": 3
   },
   "file_extension": ".py",
   "mimetype": "text/x-python",
   "name": "python",
   "nbconvert_exporter": "python",
   "pygments_lexer": "ipython3",
   "version": "3.6.4"
  },
  "latex_envs": {
   "LaTeX_envs_menu_present": true,
   "autocomplete": true,
   "bibliofile": "biblio.bib",
   "cite_by": "apalike",
   "current_citInitial": 1,
   "eqLabelWithNumbers": true,
   "eqNumInitial": 1,
   "hotkeys": {
    "equation": "Ctrl-E",
    "itemize": "Ctrl-I"
   },
   "labels_anchors": false,
   "latex_user_defs": false,
   "report_style_numbering": false,
   "user_envs_cfg": false
  },
  "toc": {
   "colors": {
    "hover_highlight": "#DAA520",
    "navigate_num": "#000000",
    "navigate_text": "#333333",
    "running_highlight": "#FF0000",
    "selected_highlight": "#FFD700",
    "sidebar_border": "#EEEEEE",
    "wrapper_background": "#FFFFFF"
   },
   "moveMenuLeft": true,
   "nav_menu": {
    "height": "4px",
    "width": "254px"
   },
   "navigate_menu": true,
   "number_sections": true,
   "sideBar": true,
   "threshold": 4,
   "toc_cell": false,
   "toc_section_display": "block",
   "toc_window_display": false,
   "widenNotebook": false
  }
 },
 "nbformat": 4,
 "nbformat_minor": 2
}
