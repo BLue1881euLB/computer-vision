{
 "cells": [
  {
   "cell_type": "markdown",
   "metadata": {},
   "source": [
    "## Linear Algebra"
   ]
  },
  {
   "cell_type": "markdown",
   "metadata": {},
   "source": [
    "* https://paper.dropbox.com/doc/Linear-Algebra-D53DmVmTzum4nEabztXtI"
   ]
  },
  {
   "cell_type": "markdown",
   "metadata": {},
   "source": [
    "* Check blog post here: hhttps://medium.com/towards-data-science/linear-algebra-cheat-sheet-for-deep-learning-cd67aba4526c\n",
    "* And cheatsheet here: http://ml-cheatsheet.readthedocs.io/en/latest/linear_algebra.html\n",
    "* http://www.geeksforgeeks.org/engineering-mathematics-tutorials/\n",
    "* Approach\n",
    "    * Implement basic operations from scratch and with numpy (or opencv)\n",
    "    * Show examples of different types of matrices and when to use them\n",
    "* https://stackoverflow.com/questions/32370281/how-to-include-image-or-picture-in-jupyter-notebook"
   ]
  },
  {
   "cell_type": "markdown",
   "metadata": {
    "heading_collapsed": true
   },
   "source": [
    "## ToC"
   ]
  },
  {
   "cell_type": "code",
   "execution_count": 3,
   "metadata": {
    "collapsed": true,
    "hidden": true
   },
   "outputs": [],
   "source": [
    "\"\"\"\n",
    "1. Complete both inplace and extra memory solutions\n",
    "2. Do things from scratch and with numpy\n",
    "\n",
    "- Transpose a Matrix (First w extra memory, then in place)\n",
    "- https://www.interviewbit.com/problems/set-matrix-zeros/\n",
    "- Find element\n",
    "- Get out of a maze\n",
    "- Dot product\n",
    "- Cross product\n",
    "- Rotate a Matrix (90, 180, 45)\n",
    "- Horizonal/Vertical Flip a matrix\n",
    "- Resize/Scale a matrix\n",
    "- Swirl ()\n",
    "- Naive interpolation approach\n",
    "- Zoom a matrix in/out\n",
    "- Translate/shift a matrix\n",
    "- IoU (Two rectangles, circles)\n",
    "- Sum of all pixels inside a rectangle/circle (grayscale?)\n",
    "- Basic operations on cube\n",
    "    - Rotate\n",
    "    - Connected cells\n",
    "    - Find element\n",
    "- https://github.com/bfortuner/boring-stuff/blob/master/recursion/python/connected_cells.py\n",
    "- https://www.topcoder.com/community/data-science/data-science-tutorials/geometry-concepts-basic-concepts/\n",
    "- https://www.topcoder.com/community/data-science/data-science-tutorials/geometry-concepts-line-intersection-and-its-applications/\n",
    "\"\"\""
   ]
  },
  {
   "cell_type": "markdown",
   "metadata": {
    "heading_collapsed": true
   },
   "source": [
    "## Data"
   ]
  },
  {
   "cell_type": "code",
   "execution_count": 46,
   "metadata": {
    "collapsed": true,
    "hidden": true
   },
   "outputs": [],
   "source": [
    "import numpy as np\n",
    "from IPython.display import Image\n",
    "from IPython.core.display import HTML"
   ]
  },
  {
   "cell_type": "code",
   "execution_count": 79,
   "metadata": {
    "collapsed": true,
    "hidden": true
   },
   "outputs": [],
   "source": [
    "def P(in_arr, out_arr):\n",
    "    print(in_arr)\n",
    "    if type(out_arr) != np.ndarray:\n",
    "        out_arr = np.array(out_arr)\n",
    "    print(out_arr)\n",
    "    print('---')\n",
    "\n",
    "arr1 = np.array([[1]])\n",
    "arr2 = np.array([[1, 2], [3, 4]])\n",
    "arr3 = np.array([\n",
    "    [1, 2, 3],\n",
    "    [4, 5, 6],\n",
    "    [7, 8, 9],\n",
    "])\n",
    "arr4 = np.array([\n",
    "    [1, 2, 3],\n",
    "    [4, 5, 6],\n",
    "])\n",
    "squares = [arr1, arr2, arr3]\n",
    "rects = [arr1, arr2, arr3, arr4]"
   ]
  },
  {
   "cell_type": "markdown",
   "metadata": {},
   "source": [
    "## Basics"
   ]
  },
  {
   "cell_type": "markdown",
   "metadata": {},
   "source": [
    "* First see Math notebook for preliminary definitions.\n",
    "* Links\n",
    "    * https://blog.stata.com/2011/03/03/understanding-matrices-intuitively-part-1/\n",
    "    * https://blog.stata.com/2011/03/09/understanding-matrices-intuitively-part-2/\n",
    "    * http://www.austinadee.com/wpblog/linear-transforms-and-eigenvectors/\n",
    "    * http://stattrek.com/tutorials/matrix-algebra-tutorial.aspx\n",
    "* Linear vs Non-Linear\n",
    "![LL](https://study.com/cimages/multimages/16/linear_function_vs_nonlinear_function.png)\n",
    "* Linear Transformation\n",
    "    * A linear transformation preserves linear relationships between variables. \n",
    "    * Therefore, the correlation between x and y would be unchanged after a linear transformation.\n",
    "    * Examples would be multiplying by a constant, dividing by a constant, or adding a constant.\n",
    "    \n",
    "* Nonlinear tranformation\n",
    "    * A nonlinear transformation changes (increases or decreases) linear relationships between variables\n",
    "    * It changes the correlation between variables\n",
    "    * Examples include taking the square root or the reciprocal\n",
    "* What is a Linear Transformation?\n",
    "    * The output of the operation is still linear (straight)\n",
    "        * Scaling inputs scales the output (multiplication)\n",
    "        * Adding inputs adds the outputs (addition)\n",
    "    * In geometry terms:\n",
    "        * Linear Transformations shift, scale and rotate input\n",
    "        * The origin must remain fixed, and all lines must remain lines?\n",
    "    * Thinking of numbers as transformations gives an alternate interpretation of multiplication\n",
    "    * https://www.khanacademy.org/math/linear-algebra/matrix-transformations/a/visualizing-linear-transformations/a/practice-associating-matrices-with-transformations/a/visualizing-linear-transformations\n",
    "    * You can easily figure out which number is being multiplied into the line by following one.\n",
    "* What is a Non-Learning Transformation?\n",
    "    * Ouput of the operation is non-linear (not straight)\n",
    "    * In geometry terms:\n",
    "        * Non-linear transformations bend and twist input\n",
    "* Systems of equations\n",
    "    * http://stattrek.com/matrix-algebra/system-of-equations.aspx\n",
    "* What's Linear Algebra?\n",
    "    * Linear algebra is the study of vectors and linear functions that act on those vectors\n",
    "    * Provides 2 things:\n",
    "        * Storing groups of data points or equations\n",
    "        * Manipulating groups of data points or solving sets of equations\n",
    "    * Algebra for higher dimensional spaces (2D, 3D)\n",
    "        * Basic Algebra provides tools for operating on scalars (points)\n",
    "        * Linear Algebra provides tools for operating on lines and planes\n",
    "    * Linear equations can \"linearize\" other mathematical objects by reducing or expanding the object into a space with linear properties.\n",
    "* What's a mapping?\n",
    "    * Association between members of one set and another set\n",
    "    * Examples are Transformations, Functions and Relations\n",
    "* What's a transformation?\n",
    "    * A function a points in space\n",
    "    * Rotation, Reflection, Translations\n",
    "* What's a linear transformation?\n",
    "    * A linear function on points in space\n",
    "    * Preserves properties of addition and scalar multiplication\n",
    "    * It does not matter whether you apply the linear map before or after addition or multiplication\n",
    "* Primatives of Linear Algebra:\n",
    "    * Vectors and matrices\n",
    "    * Store groups of numbers or groups of transformations\n",
    "* What's a vector?\n",
    "    * A vector stores a proposed change to a line, or plane\n",
    "        * 1D - [1] - add 2, [2x] means multiply by 2\n",
    "        * 2D - [1 2] - add 1 to x axis, add 2 to y axis\n",
    "        * 3D - [1 2 3] - add 1 to x, 2 to y, 3 to z\n",
    "    * It stores magnitude and direction\n",
    "    * It's a single, linear transformation\n",
    "    * The larger the vector, the higher-dimensional the space\n",
    "* What's a matrix?\n",
    "    * Two definitions:\n",
    "        1. A bunch of column vectors stacked side by side (data store)\n",
    "        2. A group of linear functions (rows) acting on a vector (function store)\n",
    "    * Matrix stores groups of numbers or groups of linear equations\n",
    "    * It lets you solve multiple linear transformations\n",
    "* What does it mean to combine linear transformations?\n",
    "    * Chain them!\n",
    "    * A(x) and B(x) = B(A(x))\n",
    "\n"
   ]
  },
  {
   "cell_type": "markdown",
   "metadata": {},
   "source": [
    "What's matrix multiplication?\n",
    "* Applying multiple linear transformations to an input\n",
    "* Used for rotations, reflections, translations"
   ]
  },
  {
   "cell_type": "markdown",
   "metadata": {},
   "source": [
    "Example: Combining Two Linear Transformations"
   ]
  },
  {
   "cell_type": "code",
   "execution_count": 61,
   "metadata": {
    "collapsed": true
   },
   "outputs": [],
   "source": [
    "\"\"\"\n",
    "A(X) = [1] \n",
    "       [2]\n",
    "B(X) = [3] \n",
    "       [4] \n",
    "Combined = B(A(X))\n",
    "M   = [1 3]\n",
    "      [2 4]\n",
    "M.T = [1 2]   <- 1st column is operation on x axis, 2nd column is operation on y axis\n",
    "      [3 4]\n",
    "X = [3]\n",
    "    [5]\n",
    "Y = np.dot(M.T, X)\n",
    "Y = rows of first, columns of second\n",
    "    [3 5] * [1 2] = [3*1 + 5*3] = [18 26]\n",
    "            [3 4]   [3*2 + 5*4]   \n",
    "\n",
    "\n",
    "\n",
    "So what does this mean?\n",
    "    * In the 1st operation, A = x*1, y*2\n",
    "    * In the 2nd operation, B = x*3, y*2\n",
    "\n",
    "\"\"\";"
   ]
  },
  {
   "cell_type": "markdown",
   "metadata": {},
   "source": [
    "\n",
    "* Matrix transformations are ALWAYS linear!\n",
    "    \n",
    "* Matrix and Vector Operation\n",
    "![Intuition 1](https://betterexplained.com/wp-content/uploads/images//linear-algebra-visualize-20121002-221620.png)\n",
    "\n",
    "![Intuition 2](https://betterexplained.com/wp-content/uploads/images//linear-algebra-pour-20121002-220550.png)\n",
    "\n",
    "* In Linear Algebra we can treat vectors/matrixes as data or functions\n",
    "* Convention: \n",
    "    * Rows represent operations\n",
    "    * Columns represent data\n",
    "![image.png](https://betterexplained.com/wp-content/uploads/linear-algebra/standard-interpretation.png)\n",
    "\n",
    "* But we can switch! Depending on desired outcome.\n",
    "![image.png](https://betterexplained.com/wp-content/uploads/linear-algebra/code-data-equivalence.png)\n",
    "\n",
    "* The matrix transpose lets us do this!\n",
    "* We can have a single function on a single vector\n",
    "![image.png](https://betterexplained.com/wp-content/uploads/linear-algebra/x-transform-x.png)\n",
    "\n",
    "* Or multiple functions on multiple vectors\n",
    "![image.png](https://betterexplained.com/wp-content/uploads/linear-algebra/x-x-trainsform.png)\n",
    "\n",
    "* In machine learning we see this (weights.T * X input)\n",
    "![ml](https://betterexplained.com/wp-content/plugins/wp-latexrender/pictures/35be34f0e97ad0faa6963c2ef3a523a9.png)\n",
    "* This means the weights become the function we apply to the data\n",
    "* We transpose the weights to turn the data (columns) into functions (rows)\n",
    "    * This rearrangement is necessary to properly apply all the functions to all the data\n",
    "* https://betterexplained.com/articles/matrix-multiplication/"
   ]
  },
  {
   "cell_type": "markdown",
   "metadata": {},
   "source": [
    "* Matrix Multiplication\n",
    "    * https://betterexplained.com/articles/matrix-multiplication/\n",
    "    * Matrix product is nothing more than a book-keeping device for keeping track of the composition of linear transformations\n",
    "    * We define product of matrices explicitly so that it will match up composition of linear transformations\n",
    "    * https://math.stackexchange.com/questions/24456/matrix-multiplication-interpreting-and-understanding-the-process?noredirect=1&lq=1\n",
    "    * https://www.khanacademy.org/math/linear-algebra/matrix-transformations/composition-of-transformations/v/compositions-of-linear-transformations-1"
   ]
  },
  {
   "cell_type": "code",
   "execution_count": null,
   "metadata": {
    "collapsed": true
   },
   "outputs": [],
   "source": []
  },
  {
   "cell_type": "markdown",
   "metadata": {
    "heading_collapsed": true
   },
   "source": [
    "## Rotate"
   ]
  },
  {
   "cell_type": "code",
   "execution_count": 62,
   "metadata": {
    "hidden": true
   },
   "outputs": [
    {
     "ename": "IndentationError",
     "evalue": "unexpected indent (<ipython-input-62-8dec0c1c46c9>, line 33)",
     "output_type": "error",
     "traceback": [
      "\u001b[0;36m  File \u001b[0;32m\"<ipython-input-62-8dec0c1c46c9>\"\u001b[0;36m, line \u001b[0;32m33\u001b[0m\n\u001b[0;31m    [1,2],\u001b[0m\n\u001b[0m    ^\u001b[0m\n\u001b[0;31mIndentationError\u001b[0m\u001b[0;31m:\u001b[0m unexpected indent\n"
     ]
    }
   ],
   "source": [
    "def rot90(arr):\n",
    "    out = []\n",
    "    col = 0\n",
    "    while col < len(arr[0]):\n",
    "        tmp = []\n",
    "        row = len(arr)-1\n",
    "        while row >= 0:\n",
    "            tmp.append(arr[row][col])\n",
    "            row -=1\n",
    "        out.append(tmp)\n",
    "        col += 1\n",
    "    return out    \n",
    "\n",
    "def rot180(arr):\n",
    "    arr = rot90(arr)\n",
    "    arr = rot90(arr)\n",
    "    return arr\n",
    "\n",
    "def rot90_inplace(arr):\n",
    "    return arr\n",
    "\n",
    "def rot90_np(arr):\n",
    "    return np.rot90(arr, k=3)\n",
    "\n",
    "arr1 = [\n",
    "    [1]\n",
    "]\n",
    "arr2 = [\n",
    "    [1,2],\n",
    "    [3,4]\n",
    "]\n",
    "\n",
    "    [1,2],\n",
    "    [3,4]\n",
    "\n",
    "    [3,6]\n",
    "    [4,7]\n",
    "\n",
    "arr3 = [\n",
    "    [1, 2, 3],\n",
    "    [4, 5, 6],\n",
    "    [7, 8, 9],\n",
    "]\n",
    "\n",
    "7 8 9\n",
    "4 5 6\n",
    "1 2 3\n",
    "\n",
    "Goal ---\n",
    "7 4 1\n",
    "8 5 2\n",
    "9 6 3\n",
    "\n",
    "arr4 = [\n",
    "    [1,  2,  3,  4],\n",
    "    [5,  6,  7,  8],\n",
    "    [9,  10, 11, 12],\n",
    "    [14, 15, 16, 17],\n",
    "]\n",
    "\n",
    "\"\"\"\n",
    "14 9  5 1\n",
    "15 10 6 2\n",
    "16 11 7 3\n",
    "17 12 8 4\n",
    "\"\"\"\n",
    "\n",
    "arr4 = [\n",
    "    [1, 2, 3],\n",
    "    [4, 5, 6],\n",
    "]\n",
    "    \n",
    "    \n",
    "def rot90_inplace(arr):\n",
    "    row,col = 0,0"
   ]
  },
  {
   "cell_type": "code",
   "execution_count": 23,
   "metadata": {
    "collapsed": true,
    "hidden": true
   },
   "outputs": [],
   "source": [
    "np.rot90??"
   ]
  },
  {
   "cell_type": "code",
   "execution_count": 37,
   "metadata": {
    "hidden": true
   },
   "outputs": [
    {
     "name": "stdout",
     "output_type": "stream",
     "text": [
      "[[1]]\n",
      "[[3 1]\n",
      " [4 2]]\n",
      "[[7 4 1]\n",
      " [8 5 2]\n",
      " [9 6 3]]\n",
      "[[4 1]\n",
      " [5 2]\n",
      " [6 3]]\n",
      "[[1]]\n",
      "[[4 3]\n",
      " [2 1]]\n",
      "[[9 8 7]\n",
      " [6 5 4]\n",
      " [3 2 1]]\n",
      "[[6 5 4]\n",
      " [3 2 1]]\n",
      "[[1]]\n",
      "[[3 1]\n",
      " [4 2]]\n",
      "[[7 4 1]\n",
      " [8 5 2]\n",
      " [9 6 3]]\n",
      "[[4 1]\n",
      " [5 2]\n",
      " [6 3]]\n"
     ]
    }
   ],
   "source": [
    "for a in rects:\n",
    "    print(np.array(rot90(a)))\n",
    "for a in rects:\n",
    "    print(np.array(rot180(a)))\n",
    "for a in rects:\n",
    "    print(rot90_np(a))"
   ]
  },
  {
   "cell_type": "markdown",
   "metadata": {},
   "source": [
    "## Transpose Matrix"
   ]
  },
  {
   "cell_type": "markdown",
   "metadata": {},
   "source": [
    "The transpose of a matrix is a new matrix where the rows and columns have been swapped. I.e. rows become columns and columns become rows.\n",
    "\n",
    "![Swap Transpose](https://wikimedia.org/api/rest_v1/media/math/render/svg/8a1e10800e0d0e3ffa90917139532cfb8348fc63)\n",
    "![Swap Transpose](https://wikimedia.org/api/rest_v1/media/math/render/svg/4a92835c45d5cd15dd00a8d90c14bdb4b8150ef0)\n",
    "\n",
    "Two ways to transpose a matrix:\n",
    "\n",
    "1. Set the rows equal to the columns and the columns equal the rows\n",
    "2. Reflect the elements across the main diagonal\n",
    "\n",
    "![Reflection Transpose](https://upload.wikimedia.org/wikipedia/commons/thumb/e/e4/Matrix_transpose.gif/200px-Matrix_transpose.gif)\n",
    "\n",
    "A simple way to calculate the transpose by hand is:\n",
    "\n",
    "1. Rotate the matrix right 90°\n",
    "2. Reverse the order of elements in each row (e.g. [a b c] becomes [c b a])\n",
    "\n",
    "Why do we transpose?\n",
    "* Allows more efficient calculations between matrices\n",
    "* Building block for other operations like Rotate and Flip\n",
    "\n",
    "Why more efficient?\n",
    "\n",
    "* Computers store matrices in row-major order\n",
    "    * Rows are contiguous in memory\n",
    "    * Columns are discontiguous\n",
    "* If repeated operations need to be performed on columns, tranpose improves performance by increasing memory locality\n",
    "\n",
    "Use cases\n",
    "* Neural networks - Prepare weights matrix for matrix multiplication\n",
    "* Fast Fourier Transforms\n",
    "\n",
    "Some useful properties:\n",
    "\n",
    "* You can undo a transpose by transposing twice\n",
    "* For square matrices, the eigenvalues are equal to the eigenvalues of the transpose\n",
    "* You can test for symmetry if the transpose equals itself\n",
    "\n",
    "\n",
    "Links\n",
    "* http://ml-cheatsheet.readthedocs.io/en/latest/linear_algebra.html#matrix-transpose (UPDATE!)\n",
    "* https://en.wikipedia.org/wiki/Transpose"
   ]
  },
  {
   "cell_type": "code",
   "execution_count": 88,
   "metadata": {
    "collapsed": true
   },
   "outputs": [],
   "source": [
    "\"\"\"\n",
    "Swap rows and columns \n",
    "[ 1 2 ]  = [ 1 3 ]\n",
    "[ 3 4 ]    [ 2 4 ]\n",
    "\"\"\"\n",
    "def get_shape(arr):\n",
    "    shape = []\n",
    "    while type(arr) in [list, np.ndarray]:\n",
    "        shape.append(len(arr))\n",
    "        arr = arr[0]\n",
    "    return tuple(shape)\n",
    "    \n",
    "def transpose2d(arr):\n",
    "    rows,cols = len(arr), len(arr[0])\n",
    "    T = [[arr[r][c] for r in range(rows)] for c in range(cols)]\n",
    "    return T\n",
    "\n",
    "def transpose_np(arr):\n",
    "    return arr.T"
   ]
  },
  {
   "cell_type": "code",
   "execution_count": 89,
   "metadata": {},
   "outputs": [
    {
     "name": "stdout",
     "output_type": "stream",
     "text": [
      "(1, 1)\n",
      "(2, 2)\n",
      "(3, 3)\n",
      "(2, 3)\n",
      "[[1]]\n",
      "[[1]]\n",
      "---\n",
      "[[1 2]\n",
      " [3 4]]\n",
      "[[1 3]\n",
      " [2 4]]\n",
      "---\n",
      "[[1 2 3]\n",
      " [4 5 6]\n",
      " [7 8 9]]\n",
      "[[1 4 7]\n",
      " [2 5 8]\n",
      " [3 6 9]]\n",
      "---\n",
      "[[1 2 3]\n",
      " [4 5 6]]\n",
      "[[1 4]\n",
      " [2 5]\n",
      " [3 6]]\n",
      "---\n",
      "[[1]]\n",
      "[[1]]\n",
      "---\n",
      "[[1 2]\n",
      " [3 4]]\n",
      "[[1 3]\n",
      " [2 4]]\n",
      "---\n",
      "[[1 2 3]\n",
      " [4 5 6]\n",
      " [7 8 9]]\n",
      "[[1 4 7]\n",
      " [2 5 8]\n",
      " [3 6 9]]\n",
      "---\n",
      "[[1 2 3]\n",
      " [4 5 6]]\n",
      "[[1 4]\n",
      " [2 5]\n",
      " [3 6]]\n",
      "---\n"
     ]
    }
   ],
   "source": [
    "for a in arrs:\n",
    "    print(get_shape(a))\n",
    "for a in arrs:\n",
    "    P(a, transpose2d(a))\n",
    "for a in arrs:\n",
    "    P(a, transpose_np(a))"
   ]
  },
  {
   "cell_type": "markdown",
   "metadata": {},
   "source": [
    "## Inverse"
   ]
  },
  {
   "cell_type": "code",
   "execution_count": null,
   "metadata": {
    "collapsed": true
   },
   "outputs": [],
   "source": []
  },
  {
   "cell_type": "markdown",
   "metadata": {
    "heading_collapsed": true
   },
   "source": [
    "## Identity"
   ]
  },
  {
   "cell_type": "code",
   "execution_count": null,
   "metadata": {
    "collapsed": true,
    "hidden": true
   },
   "outputs": [],
   "source": []
  },
  {
   "cell_type": "markdown",
   "metadata": {
    "heading_collapsed": true
   },
   "source": [
    "## Orthagonal"
   ]
  },
  {
   "cell_type": "code",
   "execution_count": null,
   "metadata": {
    "collapsed": true,
    "hidden": true
   },
   "outputs": [],
   "source": []
  },
  {
   "cell_type": "code",
   "execution_count": null,
   "metadata": {
    "collapsed": true,
    "hidden": true
   },
   "outputs": [],
   "source": []
  },
  {
   "cell_type": "markdown",
   "metadata": {},
   "source": [
    "## Flip"
   ]
  },
  {
   "cell_type": "code",
   "execution_count": 15,
   "metadata": {
    "collapsed": true
   },
   "outputs": [],
   "source": [
    "# Horizonal\n",
    "def hflip2D(arr):\n",
    "    pass\n",
    "\n",
    "# Vertical\n",
    "def vflip2D(arr):\n",
    "    pass"
   ]
  },
  {
   "cell_type": "markdown",
   "metadata": {
    "heading_collapsed": true
   },
   "source": [
    "## Translate"
   ]
  },
  {
   "cell_type": "code",
   "execution_count": 41,
   "metadata": {
    "collapsed": true,
    "hidden": true
   },
   "outputs": [],
   "source": [
    "# Shift"
   ]
  },
  {
   "cell_type": "markdown",
   "metadata": {
    "heading_collapsed": true
   },
   "source": [
    "## Elementwise product"
   ]
  },
  {
   "cell_type": "code",
   "execution_count": null,
   "metadata": {
    "collapsed": true,
    "hidden": true
   },
   "outputs": [],
   "source": []
  },
  {
   "cell_type": "markdown",
   "metadata": {},
   "source": [
    "## Dot product\n",
    "\n",
    "* https://betterexplained.com/articles/matrix-multiplication/"
   ]
  },
  {
   "cell_type": "code",
   "execution_count": null,
   "metadata": {
    "collapsed": true
   },
   "outputs": [],
   "source": []
  },
  {
   "cell_type": "markdown",
   "metadata": {
    "heading_collapsed": true
   },
   "source": [
    "## Cross Product"
   ]
  },
  {
   "cell_type": "code",
   "execution_count": null,
   "metadata": {
    "collapsed": true,
    "hidden": true
   },
   "outputs": [],
   "source": []
  },
  {
   "cell_type": "markdown",
   "metadata": {
    "heading_collapsed": true
   },
   "source": [
    "## Intersection"
   ]
  },
  {
   "cell_type": "code",
   "execution_count": null,
   "metadata": {
    "collapsed": true,
    "hidden": true
   },
   "outputs": [],
   "source": []
  },
  {
   "cell_type": "markdown",
   "metadata": {
    "heading_collapsed": true
   },
   "source": [
    "## Union"
   ]
  },
  {
   "cell_type": "code",
   "execution_count": null,
   "metadata": {
    "collapsed": true,
    "hidden": true
   },
   "outputs": [],
   "source": []
  },
  {
   "cell_type": "markdown",
   "metadata": {
    "heading_collapsed": true
   },
   "source": [
    "## Scale"
   ]
  },
  {
   "cell_type": "code",
   "execution_count": null,
   "metadata": {
    "collapsed": true,
    "hidden": true
   },
   "outputs": [],
   "source": []
  },
  {
   "cell_type": "markdown",
   "metadata": {
    "heading_collapsed": true
   },
   "source": [
    "## 3D"
   ]
  },
  {
   "cell_type": "code",
   "execution_count": 17,
   "metadata": {
    "collapsed": true,
    "hidden": true
   },
   "outputs": [],
   "source": [
    "# Rotate\n",
    "# FLip\n",
    "# Search for value\n",
    "# Find largest connected group"
   ]
  },
  {
   "cell_type": "markdown",
   "metadata": {
    "heading_collapsed": true
   },
   "source": [
    "## Swap Integers (in-place)"
   ]
  },
  {
   "cell_type": "code",
   "execution_count": 44,
   "metadata": {
    "collapsed": true,
    "hidden": true
   },
   "outputs": [],
   "source": [
    "def swap_ints(a, b):\n",
    "    print(a,b)\n",
    "    b += a\n",
    "    a += a\n",
    "    a = (b - a) + a//2\n",
    "    b = b - a\n",
    "    print(a,b,'\\n---')"
   ]
  },
  {
   "cell_type": "code",
   "execution_count": 45,
   "metadata": {
    "hidden": true
   },
   "outputs": [
    {
     "name": "stdout",
     "output_type": "stream",
     "text": [
      "2 5\n",
      "5 2 \n",
      "---\n",
      "3 3\n",
      "3 3 \n",
      "---\n",
      "5 3\n",
      "3 5 \n",
      "---\n",
      "-2 3\n",
      "3 -2 \n",
      "---\n",
      "0 0\n",
      "0 0 \n",
      "---\n",
      "-1 -5\n",
      "-5 -1 \n",
      "---\n"
     ]
    }
   ],
   "source": [
    "swap_ints(2,5)\n",
    "swap_ints(3,3)\n",
    "swap_ints(5,3)\n",
    "swap_ints(-2,3)\n",
    "swap_ints(0,0)\n",
    "swap_ints(-1,-5)"
   ]
  },
  {
   "cell_type": "markdown",
   "metadata": {},
   "source": [
    "## Next"
   ]
  },
  {
   "cell_type": "code",
   "execution_count": null,
   "metadata": {
    "collapsed": true
   },
   "outputs": [],
   "source": []
  }
 ],
 "metadata": {
  "kernelspec": {
   "display_name": "Python 3",
   "language": "python",
   "name": "python3"
  },
  "language_info": {
   "codemirror_mode": {
    "name": "ipython",
    "version": 3
   },
   "file_extension": ".py",
   "mimetype": "text/x-python",
   "name": "python",
   "nbconvert_exporter": "python",
   "pygments_lexer": "ipython3",
   "version": "3.6.0"
  },
  "latex_envs": {
   "LaTeX_envs_menu_present": true,
   "autocomplete": true,
   "bibliofile": "biblio.bib",
   "cite_by": "apalike",
   "current_citInitial": 1,
   "eqLabelWithNumbers": true,
   "eqNumInitial": 1,
   "hotkeys": {
    "equation": "Ctrl-E",
    "itemize": "Ctrl-I"
   },
   "labels_anchors": false,
   "latex_user_defs": false,
   "report_style_numbering": false,
   "user_envs_cfg": false
  },
  "toc": {
   "colors": {
    "hover_highlight": "#DAA520",
    "navigate_num": "#000000",
    "navigate_text": "#333333",
    "running_highlight": "#FF0000",
    "selected_highlight": "#FFD700",
    "sidebar_border": "#EEEEEE",
    "wrapper_background": "#FFFFFF"
   },
   "moveMenuLeft": true,
   "nav_menu": {
    "height": "4px",
    "width": "254px"
   },
   "navigate_menu": true,
   "number_sections": true,
   "sideBar": true,
   "threshold": 4,
   "toc_cell": false,
   "toc_section_display": "block",
   "toc_window_display": false,
   "widenNotebook": false
  }
 },
 "nbformat": 4,
 "nbformat_minor": 2
}
