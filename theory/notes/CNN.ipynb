{
 "cells": [
  {
   "cell_type": "markdown",
   "metadata": {},
   "source": [
    "Create Input Volume"
   ]
  },
  {
   "cell_type": "code",
   "execution_count": 3,
   "metadata": {
    "collapsed": true
   },
   "outputs": [],
   "source": [
    "import numpy as np"
   ]
  },
  {
   "cell_type": "code",
   "execution_count": 10,
   "metadata": {
    "collapsed": true
   },
   "outputs": [],
   "source": [
    "a = np.array([\n",
    " [1],\n",
    " [2]\n",
    "])\n",
    "b = np.array([\n",
    " [3,4],\n",
    " [5,6]\n",
    "])\n",
    "c = np.array([\n",
    " [1,2]\n",
    "])"
   ]
  },
  {
   "cell_type": "code",
   "execution_count": 11,
   "metadata": {
    "collapsed": false
   },
   "outputs": [
    {
     "data": {
      "text/plain": [
       "array([[2, 3],\n",
       "       [3, 4]])"
      ]
     },
     "execution_count": 11,
     "metadata": {},
     "output_type": "execute_result"
    }
   ],
   "source": [
    "a + c"
   ]
  },
  {
   "cell_type": "code",
   "execution_count": 9,
   "metadata": {
    "collapsed": false
   },
   "outputs": [
    {
     "name": "stdout",
     "output_type": "stream",
     "text": [
      "The slowest run took 15.98 times longer than the fastest. This could mean that an intermediate result is being cached.\n",
      "1000000 loops, best of 3: 1.01 µs per loop\n",
      "The slowest run took 23.56 times longer than the fastest. This could mean that an intermediate result is being cached.\n",
      "1000000 loops, best of 3: 347 ns per loop\n"
     ]
    }
   ],
   "source": [
    "# Multiply two arrays \n",
    "x = [1,2,3]\n",
    "y = [2,3,4]\n",
    "    \n",
    "def one():\n",
    "    product = []\n",
    "    for i in range(len(x)):\n",
    "        product.append(x[i]*y[i])\n",
    "    return product\n",
    "\n",
    "# Linear algebra version\n",
    "x = np.array([1,2,3])\n",
    "y = np.array([2,3,4])\n",
    "\n",
    "def two():\n",
    "    return x * y    \n",
    "%timeit one()\n",
    "%timeit two()"
   ]
  },
  {
   "cell_type": "code",
   "execution_count": 70,
   "metadata": {
    "collapsed": false
   },
   "outputs": [
    {
     "name": "stdout",
     "output_type": "stream",
     "text": [
      "(11, 11, 4)\n",
      "(5, 5, 4)\n",
      "(1, 1, 4)\n"
     ]
    }
   ],
   "source": [
    "#A depth column (or a fibre) at position (x,y) would be the activations X[x,y,:].\n",
    "#A depth slice, or equivalently an activation map at depth d would be the activations X[:,:,d].\n",
    "\n",
    "# Dimensions\n",
    "# 11x11x4\n",
    "# 4 channels/depth\n",
    "# Filters = 1\n",
    "# Filter size = 5x5\n",
    "# Padding = 0\n",
    "# Stride = 2\n",
    "\n",
    "# Input \n",
    "X = np.random.randn(11,11,4)\n",
    "print (X.shape)\n",
    "\n",
    "# Weights\n",
    "# Filter Size by Input Depth\n",
    "# F * F * D\n",
    "W1 = np.random.randn(5,5,4)\n",
    "print (W1.shape)\n",
    "\n",
    "# Bias\n",
    "# Number of Depth Filters\n",
    "# NumOfFilters * DepthOfInput\n",
    "# 1 * 4 = 4 \n",
    "B1 = np.random.randn(1,1,4)\n",
    "print (B1.shape)"
   ]
  },
  {
   "cell_type": "markdown",
   "metadata": {},
   "source": [
    "**Depth Slices**"
   ]
  },
  {
   "cell_type": "code",
   "execution_count": 71,
   "metadata": {
    "collapsed": false
   },
   "outputs": [
    {
     "name": "stdout",
     "output_type": "stream",
     "text": [
      "1st Depth Slice\n",
      "2nd Depth Slice\n",
      "3rd Depth Slice\n",
      "4th Depth Slice\n"
     ]
    },
    {
     "data": {
      "text/plain": [
       "(11, 11, 1)"
      ]
     },
     "execution_count": 71,
     "metadata": {},
     "output_type": "execute_result"
    }
   ],
   "source": [
    "# 1st Depth Slice\n",
    "print (\"1st Depth Slice\")\n",
    "X[:,:,:1].shape\n",
    "\n",
    "print (\"2nd Depth Slice\")\n",
    "X[:,:,1:2].shape\n",
    "\n",
    "print (\"3rd Depth Slice\")\n",
    "X[:,:,2:3].shape\n",
    "\n",
    "print (\"4th Depth Slice\")\n",
    "X[:,:,3:4].shape"
   ]
  },
  {
   "cell_type": "markdown",
   "metadata": {},
   "source": [
    "**Sliding Filter Windows**"
   ]
  },
  {
   "cell_type": "code",
   "execution_count": 72,
   "metadata": {
    "collapsed": false
   },
   "outputs": [
    {
     "name": "stdout",
     "output_type": "stream",
     "text": [
      "(5, 5, 4)\n",
      "[[[ 0.37877936 -0.43238156  0.31634215  1.19851896]\n",
      "  [-1.46536883 -0.05500301 -0.44545083  1.17320452]\n",
      "  [-0.65487911  0.36444339 -0.84210964 -0.46013371]\n",
      "  [-0.85203774  0.81055294 -0.63282726 -0.19706205]\n",
      "  [-1.48224433  1.21343735 -0.56536372 -2.06195958]]\n",
      "\n",
      " [[-0.04332273 -0.86220008  0.36636353 -1.10321606]\n",
      "  [-0.78537115 -0.52092361 -1.31145543 -0.24886194]\n",
      "  [-0.03227117  1.71295751 -1.66877298 -0.1234166 ]\n",
      "  [ 0.64094085 -1.31539994  2.0979342  -0.01453015]\n",
      "  [-0.00944743 -0.9252115  -0.27129851 -0.14455828]]\n",
      "\n",
      " [[-0.77466012  0.23092348 -0.61110858  0.04590287]\n",
      "  [-0.8717773  -0.48514814  0.7743041  -0.67191022]\n",
      "  [ 1.5070127   0.56600474  1.62005846  0.29596331]\n",
      "  [ 1.15608133 -0.33384353 -0.89846361  1.82731601]\n",
      "  [-1.00022004  0.78804887  0.65300209  3.02545549]]\n",
      "\n",
      " [[-1.03840368 -0.28882909 -0.59497663  1.70930694]\n",
      "  [ 0.213791   -0.7559728   0.72087329 -0.34563537]\n",
      "  [-0.4464405   0.02983258 -0.76741205 -0.17863479]\n",
      "  [ 0.30866326 -1.17647071  1.6251852  -1.40615226]\n",
      "  [-0.84411446  1.20320952  0.4745632   0.92020427]]\n",
      "\n",
      " [[ 0.09396784 -2.96941046  2.19020397  0.14751406]\n",
      "  [ 0.60381837  0.22685014  1.497172    0.68393892]\n",
      "  [-2.11405368 -0.66374857  1.53733953 -0.16584212]\n",
      "  [ 0.42485268  1.90019886 -1.25268232 -0.05044905]\n",
      "  [ 0.47507315 -0.1863993  -0.82663165  0.60836663]]]\n"
     ]
    },
    {
     "data": {
      "text/plain": [
       "'\\nFirst Window, all depth slices\\n\\nSo there are 5 rows, representing the filter width\\nIn each row, there are 5 sub-rows representing the height\\nIn each sub row, there are 4 columns representing the depth\\nWe could have done, Depth by Width by Height, which would\\nhave been more intuitive in my opinion, but this is how\\nit works since Depth is the last dimensions (Tensorflow)\\n\\n[[[-1.45264122  0.29666966 -0.06727711 -1.83462739]\\n  [ 0.16060204  0.62596754 -1.12441172  0.42163557]\\n  [-0.84911239 -0.33899799 -0.28254783 -0.83739401]\\n  [-0.73294962  0.04195234 -0.04209224  2.87056823]\\n  [ 1.07981908  0.02380982 -1.9079376  -1.09054984]]\\n\\n [[-0.96693238 -1.43035947 -0.49384204  0.12650547]\\n  [ 0.46947879 -0.22102563  0.27685126  0.31438639]\\n  [ 1.08138615  0.02188208  0.45469774 -1.50532378]\\n  [ 1.01474361 -0.04212126 -0.71322167 -0.40965913]\\n  [ 0.69554548  2.62535066 -0.14347536  0.81848298]]\\n...\\n...\\n'"
      ]
     },
     "execution_count": 72,
     "metadata": {},
     "output_type": "execute_result"
    }
   ],
   "source": [
    "# First Filter, Upper Right Corner, 4 Depth Slices\n",
    "print(X[:5,:5,:].shape)\n",
    "print(X[:5,:5,:])\n",
    "'''\n",
    "First Window, all depth slices\n",
    "\n",
    "So there are 5 rows, representing the filter width\n",
    "In each row, there are 5 sub-rows representing the height\n",
    "In each sub row, there are 4 columns representing the depth\n",
    "We could have done, Depth by Width by Height, which would\n",
    "have been more intuitive in my opinion, but this is how\n",
    "it works since Depth is the last dimensions (Tensorflow)\n",
    "\n",
    "[[[-1.45264122  0.29666966 -0.06727711 -1.83462739]\n",
    "  [ 0.16060204  0.62596754 -1.12441172  0.42163557]\n",
    "  [-0.84911239 -0.33899799 -0.28254783 -0.83739401]\n",
    "  [-0.73294962  0.04195234 -0.04209224  2.87056823]\n",
    "  [ 1.07981908  0.02380982 -1.9079376  -1.09054984]]\n",
    "\n",
    " [[-0.96693238 -1.43035947 -0.49384204  0.12650547]\n",
    "  [ 0.46947879 -0.22102563  0.27685126  0.31438639]\n",
    "  [ 1.08138615  0.02188208  0.45469774 -1.50532378]\n",
    "  [ 1.01474361 -0.04212126 -0.71322167 -0.40965913]\n",
    "  [ 0.69554548  2.62535066 -0.14347536  0.81848298]]\n",
    "...\n",
    "...\n",
    "'''"
   ]
  },
  {
   "cell_type": "markdown",
   "metadata": {},
   "source": [
    "**More Intuitive Way To Represent the Input Volumn**"
   ]
  },
  {
   "cell_type": "code",
   "execution_count": 73,
   "metadata": {
    "collapsed": false
   },
   "outputs": [
    {
     "data": {
      "text/plain": [
       "array([[[-0.9354668 ,  1.24713028, -0.28894276, -1.37239906, -0.06841833],\n",
       "        [ 0.26292663, -0.40062423,  0.08003994, -0.15398875,  0.06420082],\n",
       "        [ 1.98004688, -0.37700905, -0.07935733,  0.23104072, -0.73004913],\n",
       "        [-1.10400234, -1.11343016,  1.38677329, -0.20441012, -0.16422174],\n",
       "        [ 1.06526889, -0.13390513, -1.29845698, -0.28856199, -0.63418128]],\n",
       "\n",
       "       [[-1.42000722,  0.29177472,  0.08194025,  1.18807784, -0.23926971],\n",
       "        [ 0.35644881, -0.41413377, -0.12095747, -1.22334306, -0.33085206],\n",
       "        [ 0.05110886, -0.46412856, -0.18325071,  0.73363567,  1.20141043],\n",
       "        [-0.00912162, -0.25989276, -0.64762697, -0.36672697,  0.8012283 ],\n",
       "        [-1.25612565,  0.42790086,  0.05321961, -0.72041118,  1.15892234]],\n",
       "\n",
       "       [[ 0.13220687, -1.35726052,  1.80272648,  0.84437472, -0.49977229],\n",
       "        [-0.96561949, -0.58216472, -1.25999572,  0.01327518,  0.39385971],\n",
       "        [-0.0732223 , -0.6119556 ,  2.33214992,  0.12138975,  0.9279072 ],\n",
       "        [ 0.0537622 , -0.49532141, -0.83353291, -0.62954687, -1.17725924],\n",
       "        [ 1.60271212,  0.57563276, -0.43978212, -0.42436779, -1.79572979]],\n",
       "\n",
       "       [[-0.1213397 , -1.64919653,  0.72172228,  1.3284145 ,  0.80280429],\n",
       "        [-1.27200732,  0.26153925, -1.17372173, -0.64977415,  0.58981554],\n",
       "        [ 1.65391656, -0.69080118,  1.51089211, -0.8226056 , -0.50560673],\n",
       "        [ 1.46267714, -1.07579062, -0.79023574, -0.34954783, -0.01530044],\n",
       "        [ 0.82871123,  0.57717136,  0.20466871,  0.05905094,  0.40068013]]])"
      ]
     },
     "execution_count": 73,
     "metadata": {},
     "output_type": "execute_result"
    }
   ],
   "source": [
    "# A more intuitive way IMO\n",
    "# Is to put depth 1st, so you have \n",
    "# 4 rows, each representing a depth\n",
    "# And in each row you have nice 5x5 blocks\n",
    "# representing the 2D filter, but alas\n",
    "altX = np.random.randn(4,5,5)\n",
    "altX"
   ]
  },
  {
   "cell_type": "markdown",
   "metadata": {},
   "source": [
    "**Conv Layer Volume Generated**"
   ]
  },
  {
   "cell_type": "code",
   "execution_count": 84,
   "metadata": {
    "collapsed": false
   },
   "outputs": [
    {
     "name": "stdout",
     "output_type": "stream",
     "text": [
      "Depth Layer 1\n",
      "[[[ -1.69101763]\n",
      "  [  0.        ]\n",
      "  [  0.        ]\n",
      "  [  0.        ]]\n",
      "\n",
      " [[-10.52381755]\n",
      "  [  0.        ]\n",
      "  [  0.        ]\n",
      "  [  0.        ]]\n",
      "\n",
      " [[  7.52697107]\n",
      "  [  0.        ]\n",
      "  [  0.        ]\n",
      "  [  0.        ]]\n",
      "\n",
      " [[  8.00450175]\n",
      "  [  0.        ]\n",
      "  [  0.        ]\n",
      "  [  0.        ]]]\n",
      "Depth Layer 2\n",
      "[[[ -1.69101763]\n",
      "  [ -2.35912223]\n",
      "  [  0.        ]\n",
      "  [  0.        ]]\n",
      "\n",
      " [[-10.52381755]\n",
      "  [  9.98922895]\n",
      "  [  0.        ]\n",
      "  [  0.        ]]\n",
      "\n",
      " [[  7.52697107]\n",
      "  [-24.57512209]\n",
      "  [  0.        ]\n",
      "  [  0.        ]]\n",
      "\n",
      " [[  8.00450175]\n",
      "  [ -6.08714045]\n",
      "  [  0.        ]\n",
      "  [  0.        ]]]\n",
      "Depth Layer 3\n",
      "[[[ -1.69101763]\n",
      "  [ -2.35912223]\n",
      "  [  6.76344072]\n",
      "  [  0.        ]]\n",
      "\n",
      " [[-10.52381755]\n",
      "  [  9.98922895]\n",
      "  [ -4.44500367]\n",
      "  [  0.        ]]\n",
      "\n",
      " [[  7.52697107]\n",
      "  [-24.57512209]\n",
      "  [ 26.10634608]\n",
      "  [  0.        ]]\n",
      "\n",
      " [[  8.00450175]\n",
      "  [ -6.08714045]\n",
      "  [ 15.15776558]\n",
      "  [  0.        ]]]\n"
     ]
    }
   ],
   "source": [
    "# Output Volume - ConvLayer1\n",
    "\n",
    "# Input Dimensions\n",
    "# 11x11x4\n",
    "# 4 channels/depth\n",
    "# Filters = 1\n",
    "# Filter size = 5x5\n",
    "# Padding = 0\n",
    "# Stride = 2\n",
    "\n",
    "# Output Dimensions\n",
    "# * Width = ((InputWidth − FilterWidth + 2*Padding) / Stride) +1\n",
    "# * Height = ((InputHeight − FilterHeight + 2*Padding) / Stride) +1 \n",
    "# * Depth = Number of filters\n",
    "# W = ((11-5 + 2*0) / 2) + 1 = 6/2 + 1 = 4\n",
    "# H = ((11-5 + 2*0) / 2) + 1 = 6/2 + 1 = 4\n",
    "# D = 1\n",
    "# Output Volume = (4,4,1)\n",
    "\n",
    "# Dimensions\n",
    "# Input = (11, 11, 4)\n",
    "# Weights = (5, 5, 4)\n",
    "# Output = (4,4,1)\n",
    "# Depth Slices = # of filters * depth of input\n",
    "# 1 * 4 = 4\n",
    "# Bias = (1,4) 4\n",
    "\n",
    "# Volume Initialization\n",
    "V = np.zeros((4,4,1))\n",
    "\n",
    "# He is moving the filter around and \n",
    "# multiplying by the weight\n",
    "V[0,0,0] = np.sum(X[:5,:5,:] * W1) + B1[0][0][0]  #First bias value\n",
    "V[1,0,0] = np.sum(X[2:7,:5,:] * W1) + B1[0][0][0]  \n",
    "V[2,0,0] = np.sum(X[4:9,:5,:] * W1) + B1[0][0][0]  \n",
    "V[3,0,0] = np.sum(X[6:11,:5,:] * W1) + B1[0][0][0]  \n",
    "\n",
    "# What happens?\n",
    "# We just slid the 1st filter over all the windows (4)\n",
    "# Creating our output matrix of 4x4x1\n",
    "\n",
    "print (\"Depth Layer 1\")\n",
    "print(V)\n",
    "\n",
    "# What's next?\n",
    "# We repeat the process for the remaining 3 depth layers\n",
    "# Let's do depth layer 2 (which has its own depth slice - unique filter + depth combo)\n",
    "V[0,1,0] = np.sum(X[:5,:5,1:2] * W1) + B1[0][0][1]  #2nd bias value\n",
    "V[1,1,0] = np.sum(X[2:7,:5,1:2] * W1) + B1[0][0][1]  \n",
    "V[2,1,0] = np.sum(X[4:9,:5,1:2] * W1) + B1[0][0][1]  \n",
    "V[3,1,0] = np.sum(X[6:11,:5,1:2] * W1) + B1[0][0][1]  \n",
    "\n",
    "print (\"Depth Layer 2\")\n",
    "print (V)\n",
    "\n",
    "# Depth Layer 3\n",
    "V[0,2,0] = np.sum(X[:5,:5,2:3] * W1) + B1[0][0][2]  #3rd bias value\n",
    "V[1,2,0] = np.sum(X[2:7,:5,2:3] * W1) + B1[0][0][2]  \n",
    "V[2,2,0] = np.sum(X[4:9,:5,2:3] * W1) + B1[0][0][2]  \n",
    "V[3,2,0] = np.sum(X[6:11,:5,2:3] * W1) + B1[0][0][2]  \n",
    "\n",
    "print (\"Depth Layer 3\")\n",
    "print (V)"
   ]
  },
  {
   "cell_type": "code",
   "execution_count": null,
   "metadata": {
    "collapsed": true
   },
   "outputs": [],
   "source": []
  }
 ],
 "metadata": {
  "kernelspec": {
   "display_name": "Python 3",
   "language": "python",
   "name": "python3"
  },
  "language_info": {
   "codemirror_mode": {
    "name": "ipython",
    "version": 3
   },
   "file_extension": ".py",
   "mimetype": "text/x-python",
   "name": "python",
   "nbconvert_exporter": "python",
   "pygments_lexer": "ipython3",
   "version": "3.6.0"
  }
 },
 "nbformat": 4,
 "nbformat_minor": 2
}
