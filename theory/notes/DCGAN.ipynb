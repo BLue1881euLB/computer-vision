{
 "cells": [
  {
   "cell_type": "code",
   "execution_count": 1,
   "metadata": {
    "collapsed": true
   },
   "outputs": [],
   "source": [
    "from common import *"
   ]
  },
  {
   "cell_type": "code",
   "execution_count": 2,
   "metadata": {},
   "outputs": [
    {
     "name": "stderr",
     "output_type": "stream",
     "text": [
      "/home/bfortuner/anaconda3/lib/python3.6/site-packages/matplotlib/__init__.py:1401: UserWarning:  This call to matplotlib.use() has no effect\n",
      "because the backend has already been chosen;\n",
      "matplotlib.use() must be called *before* pylab, matplotlib.pyplot,\n",
      "or matplotlib.backends is imported for the first time.\n",
      "\n",
      "  warnings.warn(_use_error_msg)\n"
     ]
    }
   ],
   "source": [
    "import numpy as np\n",
    "import os\n",
    "import random\n",
    "import torch\n",
    "from PIL import Image\n",
    "import scipy.misc\n",
    "from torchvision import datasets, transforms\n",
    "from torch import nn\n",
    "from torch.autograd import Variable\n",
    "import torch.nn.init as init\n",
    "import torch.optim as optim\n",
    "import torch.backends.cudnn as cudnn\n",
    "import torch.autograd as autograd\n",
    "import torchvision\n",
    "import matplotlib as mpl\n",
    "from tqdm import tqdm\n",
    "mpl.use('Agg')\n",
    "import matplotlib.pyplot as plt\n",
    "plt.style.use('bmh')\n",
    "import torchvision.utils as vutils\n",
    "\n",
    "%matplotlib inline"
   ]
  },
  {
   "cell_type": "code",
   "execution_count": 3,
   "metadata": {
    "collapsed": true
   },
   "outputs": [],
   "source": [
    "random.seed(1)\n",
    "torch.manual_seed(1)\n",
    "DATA_PATH='/media/bfortuner/bigguy/data/'\n",
    "CUB_PATH=DATA_PATH+'cub/'\n",
    "CUB_IMAGES_PATH=CUB_PATH+'images/'\n",
    "MNIST_PATH=DATA_PATH+'mnist/'\n",
    "MNIST_WEIGHTS_PATH=MNIST_PATH+'weights/'\n",
    "MNIST_RESULTS_PATH='results/'"
   ]
  },
  {
   "cell_type": "code",
   "execution_count": 4,
   "metadata": {
    "collapsed": true
   },
   "outputs": [],
   "source": [
    "MNIST_BATCH_SIZE = 128\n",
    "MNIST_MEAN = np.array([0.1307,])\n",
    "MNIST_STD = np.array([0.3081,])\n",
    "train_loader = torch.utils.data.DataLoader(\n",
    "    datasets.MNIST(MNIST_PATH, train=True, download=True,\n",
    "                   transform=transforms.Compose([\n",
    "                       transforms.ToTensor(),\n",
    "                       transforms.Normalize(MNIST_MEAN, MNIST_STD)\n",
    "                   ])),\n",
    "    batch_size=MNIST_BATCH_SIZE, shuffle=True)\n",
    "test_loader = torch.utils.data.DataLoader(\n",
    "    datasets.MNIST(MNIST_PATH, train=False, transform=transforms.Compose([\n",
    "                       transforms.ToTensor(),\n",
    "                       transforms.Normalize(MNIST_MEAN, MNIST_STD)\n",
    "                   ])),\n",
    "    batch_size=MNIST_BATCH_SIZE, shuffle=True)"
   ]
  },
  {
   "cell_type": "code",
   "execution_count": 5,
   "metadata": {
    "collapsed": true
   },
   "outputs": [],
   "source": [
    "def plot_mnist(arr, title=None):\n",
    "    \"\"\"If normalized with mean/std\"\"\"\n",
    "    if type(arr) is not np.ndarray:\n",
    "        arr = arr.numpy().transpose((1, 2, 0))\n",
    "    arr = denorm_meanstd(arr, MNIST_MEAN, MNIST_STD)\n",
    "    arr = arr.reshape((28, 28))\n",
    "    plt.imshow(arr, cmap='gray')\n",
    "    if title is not None:\n",
    "        plt.title(title)\n",
    "    plt.pause(0.001)  # pause a bit so that plots are updated\n",
    "    plt.axis('off')\n",
    "    plt.show()\n",
    "\n",
    "def plot_samples(arr, dim=(4,4), figsize=(6,6)):\n",
    "    if type(arr) is not np.ndarray:\n",
    "        arr = arr.numpy()\n",
    "    bs = arr.shape[0]\n",
    "    arr = arr.reshape(bs, 28, 28)\n",
    "    plt.figure(figsize=figsize)\n",
    "    for i,img in enumerate(arr):\n",
    "        plt.subplot(*dim, i+1)\n",
    "        plt.imshow(img, cmap='gray')\n",
    "        plt.axis('off')\n",
    "    plt.tight_layout()"
   ]
  },
  {
   "cell_type": "code",
   "execution_count": 6,
   "metadata": {
    "collapsed": true
   },
   "outputs": [],
   "source": [
    "# Use the 1,28,28 MNIST images \n",
    "\n",
    "def get_noise(batch_size, vec_size):\n",
    "    return Variable(torch.FloatTensor(\n",
    "        batch_size, vec_size, 1, 1).normal_(0,1).cuda())\n",
    "    \n",
    "def weights_init(m):\n",
    "    if isinstance(m, nn.ConvTranspose2d) or isinstance(m, nn.Conv2d):\n",
    "        init.normal(m.weight.data, mean=0, std=0.2)\n",
    "    elif isinstance(m, nn.BatchNorm2d):\n",
    "        init.normal(m.weight.data, mean=1, std=0.2)\n",
    "        m.bias.data.zero_()\n",
    "\n",
    "class G_Block(nn.Sequential):\n",
    "    def __init__(self, in_chans, out_chans, f_size, stride, pad):\n",
    "        super(G_Block, self).__init__()\n",
    "        self.convTrans = nn.ConvTranspose2d(\n",
    "            in_chans, out_chans, f_size, stride, pad, bias=False)\n",
    "        self.batchNorm = nn.BatchNorm2d(out_chans)\n",
    "        self.ReLU = nn.ReLU(True)\n",
    "\n",
    "class netG(nn.Module):\n",
    "    def __init__(self, in_chans, out_chans):\n",
    "        super(netG, self).__init__()\n",
    "        self.block1 = G_Block(in_chans, 256, 7, stride=1, pad=0)\n",
    "        self.block2 = G_Block(256, 128, 4, stride=2, pad=1)\n",
    "#         self.block3 = G_Block(256, 128, 4, stride=2, pad=1)\n",
    "#         self.block4 = G_Block(128, 64, 4, stride=2, pad=1)\n",
    "        self.convTrans = nn.ConvTranspose2d(\n",
    "            128, out_chans, 4, stride=2, padding=1)\n",
    "        self.tanh = nn.Tanh()\n",
    "\n",
    "    def forward(self, x):\n",
    "        #print (x.size())\n",
    "        out = self.block1(x)\n",
    "        #print(out.size())\n",
    "        out = self.block2(out)\n",
    "        #print(out.size())\n",
    "#         out = self.block3(out)\n",
    "#         print(out.size())\n",
    "#         out = self.block4(out)\n",
    "#         print(out.size())\n",
    "        out = self.convTrans(out)\n",
    "        #print(out.size())\n",
    "        out = self.tanh(out)\n",
    "        return out\n",
    "\n",
    "class D_Block(nn.Sequential):\n",
    "    def __init__(self, in_chans, out_chans, f_size, stride, pad, bn=True):\n",
    "        super(D_Block, self).__init__()\n",
    "        self.conv = nn.Conv2d(\n",
    "            in_chans, out_chans, f_size, stride, pad, bias=False)\n",
    "        if bn:\n",
    "            self.bn = nn.BatchNorm2d(out_chans)\n",
    "        self.relu = nn.LeakyReLU(negative_slope=0.2, inplace=True)\n",
    "\n",
    "class netD(nn.Module):\n",
    "    def __init__(self, in_chans):\n",
    "        super(netD, self).__init__()\n",
    "        self.block1 = D_Block(in_chans, 64, 4, stride=2, pad=1, bn=False)\n",
    "        self.block2 = D_Block(64, 128, 4, stride=2, pad=1)\n",
    "        self.block3 = D_Block(128, 256, 4, stride=2, pad=1)\n",
    "        #self.block4 = D_Block(256, 512, 4, stride=2, pad=1)\n",
    "        self.conv = nn.Conv2d(256, 1, 3, stride=1, padding=0)\n",
    "        self.sigmoid = nn.Sigmoid()\n",
    "\n",
    "    def forward(self, x):\n",
    "        #print(x.size())\n",
    "        out = self.block1(x)\n",
    "        #print(out.size())\n",
    "        out = self.block2(out)\n",
    "        #print(out.size())\n",
    "        out = self.block3(out)\n",
    "        #print(out.size())\n",
    "        #out = self.block4(out)\n",
    "        #print(out.size())\n",
    "        out = self.conv(out)\n",
    "        #print(out.size())\n",
    "        out = self.sigmoid(out)\n",
    "        return out.view(-1,1)"
   ]
  },
  {
   "cell_type": "code",
   "execution_count": 22,
   "metadata": {
    "collapsed": true
   },
   "outputs": [],
   "source": [
    "cudnn.benchmark = True\n",
    "\n",
    "noise_vec_size = 100 #input to generator\n",
    "\n",
    "D = netD(1).cuda()\n",
    "G = netG(noise_vec_size, 1).cuda()\n",
    "D.apply(weights_init)\n",
    "G.apply(weights_init)\n",
    "\n",
    "# both are evaluated with a 1/0 answer from discriminator\n",
    "criterion = nn.BCELoss().cuda() \n",
    "D_optimizer = optim.Adam(D.parameters(), lr=2e-4, betas=(0.5, 0.999))\n",
    "G_optimizer = optim.Adam(G.parameters(), lr=2e-4, betas=(0.5, 0.999))\n",
    "\n",
    "fixed_noise = Variable(torch.FloatTensor(\n",
    "    MNIST_BATCH_SIZE, noise_vec_size, 1, 1).normal_(0,1).cuda())\n",
    "real_labels = Variable(torch.ones(MNIST_BATCH_SIZE, 1).cuda())\n",
    "fake_labels = Variable(torch.zeros(MNIST_BATCH_SIZE, 1).cuda())"
   ]
  },
  {
   "cell_type": "code",
   "execution_count": 23,
   "metadata": {
    "collapsed": true
   },
   "outputs": [],
   "source": [
    "def train(G, D, criterion, G_optim, D_optim, dataloader, epochs):\n",
    "    n_batches = len(dataloader)\n",
    "    D_total_loss = 0\n",
    "    G_total_loss = 0\n",
    "    for inputs,targets in train_loader:\n",
    "        batch_size = len(inputs)\n",
    "        real_imgs = Variable(inputs.cuda())\n",
    "\n",
    "        # Clear gradients\n",
    "        D.zero_grad()\n",
    "        G.zero_grad()\n",
    "        \n",
    "        ## Discriminator - Real\n",
    "        D_real_out = D(real_imgs)\n",
    "        D_real_loss = criterion(D_real_out, real_labels[:batch_size])\n",
    "        D_real_loss.backward()\n",
    "        \n",
    "        ## Discriminator - Fake\n",
    "        noise = get_noise(batch_size, noise_vec_size)\n",
    "        D_fake_out = D(G(noise).detach())\n",
    "        D_fake_loss = criterion(D_fake_out, fake_labels[:batch_size])\n",
    "\n",
    "        D_fake_loss.backward()\n",
    "        D_optim.step()\n",
    "        \n",
    "        D_loss = D_real_loss + D_fake_loss\n",
    "        \n",
    "        ## Generator\n",
    "        G_out = D(G(noise))\n",
    "        G_loss = criterion(G_out, real_labels[:batch_size])\n",
    "        \n",
    "        G_loss.backward()\n",
    "        G_optim.step()\n",
    "        \n",
    "        D_total_loss += D_loss.data[0] / n_batches\n",
    "        G_total_loss += G_loss.data[0] / n_batches\n",
    "        \n",
    "    # do checkpointing\n",
    "    torch.save(D.state_dict(), '%sD_mnist_%03d.pth' % (MNIST_WEIGHTS_PATH, epoch))\n",
    "    torch.save(G.state_dict(), '%sG_mnist_%03d.pth' % (MNIST_WEIGHTS_PATH, epoch))\n",
    "    return D_total_loss, G_total_loss\n",
    "\n",
    "def test(G, out_path, n_samples, epoch=1):\n",
    "    fake = G(fixed_noise[:n_samples])\n",
    "    vutils.save_image(fake.data.cpu(),\n",
    "            '%s/fake_samples_epoch_%03d.png' % (out_path, epoch),\n",
    "            normalize=True)\n",
    "    return fake.data.cpu()\n",
    "\n",
    "def plot_fake_samples(G, n_samples=12):\n",
    "    fake = G(fixed_noise[:n_samples]).data.cpu()\n",
    "    plot_samples(fake)"
   ]
  },
  {
   "cell_type": "code",
   "execution_count": 24,
   "metadata": {},
   "outputs": [
    {
     "name": "stderr",
     "output_type": "stream",
     "text": [
      "100%|██████████| 2/2 [01:12<00:00, 36.30s/it]\n"
     ]
    }
   ],
   "source": [
    "EPOCHS=300\n",
    "\n",
    "loss_history = []\n",
    "for epoch in tqdm(range(1,EPOCHS+1)):\n",
    "    D_loss, G_loss = train(G, D, criterion, G_optimizer, D_optimizer, train_loader, epoch)\n",
    "    loss_history.append([D_loss, G_loss])\n",
    "    fake_samples = test(G, MNIST_RESULTS_PATH, 16, epoch)"
   ]
  },
  {
   "cell_type": "code",
   "execution_count": 25,
   "metadata": {},
   "outputs": [
    {
     "data": {
      "image/png": "[encoded data removed]",
      "text/plain": [
       "<matplotlib.figure.Figure at 0x7f8bb6784048>"
      ]
     },
     "metadata": {},
     "output_type": "display_data"
    },
    {
     "data": {
      "image/png": "[encoded data removed]",
      "text/plain": [
       "<matplotlib.figure.Figure at 0x7f8bb6716358>"
      ]
     },
     "metadata": {},
     "output_type": "display_data"
    }
   ],
   "source": [
    "loss_history = np.array(loss_history)\n",
    "plt.plot(loss_history[:,0]) #D_loss\n",
    "plt.plot(loss_history[:,1]) #G_loss\n",
    "plot_fake_samples(G)"
   ]
  },
  {
   "cell_type": "code",
   "execution_count": null,
   "metadata": {
    "collapsed": true
   },
   "outputs": [],
   "source": []
  }
 ],
 "metadata": {
  "kernelspec": {
   "display_name": "Python 3",
   "language": "python",
   "name": "python3"
  },
  "language_info": {
   "codemirror_mode": {
    "name": "ipython",
    "version": 3
   },
   "file_extension": ".py",
   "mimetype": "text/x-python",
   "name": "python",
   "nbconvert_exporter": "python",
   "pygments_lexer": "ipython3",
   "version": "3.6.0"
  },
  "latex_envs": {
   "LaTeX_envs_menu_present": true,
   "autocomplete": true,
   "bibliofile": "biblio.bib",
   "cite_by": "apalike",
   "current_citInitial": 1,
   "eqLabelWithNumbers": true,
   "eqNumInitial": 1,
   "hotkeys": {
    "equation": "Ctrl-E",
    "itemize": "Ctrl-I"
   },
   "labels_anchors": false,
   "latex_user_defs": false,
   "report_style_numbering": false,
   "user_envs_cfg": false
  },
  "toc": {
   "colors": {
    "hover_highlight": "#DAA520",
    "navigate_num": "#000000",
    "navigate_text": "#333333",
    "running_highlight": "#FF0000",
    "selected_highlight": "#FFD700",
    "sidebar_border": "#EEEEEE",
    "wrapper_background": "#FFFFFF"
   },
   "moveMenuLeft": true,
   "nav_menu": {
    "height": "4px",
    "width": "254px"
   },
   "navigate_menu": true,
   "number_sections": true,
   "sideBar": true,
   "threshold": 4,
   "toc_cell": false,
   "toc_section_display": "block",
   "toc_window_display": false,
   "widenNotebook": false
  }
 },
 "nbformat": 4,
 "nbformat_minor": 2
}
