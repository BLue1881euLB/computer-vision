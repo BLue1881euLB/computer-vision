{
 "cells": [
  {
   "cell_type": "markdown",
   "metadata": {},
   "source": [
    "## Thresholding"
   ]
  },
  {
   "cell_type": "markdown",
   "metadata": {},
   "source": [
    "* Simple technique for image segmentation\n",
    "* Okay for images with very distinct objects"
   ]
  },
  {
   "cell_type": "code",
   "execution_count": null,
   "metadata": {
    "scrolled": true
   },
   "outputs": [],
   "source": [
    "%matplotlib inline\n",
    "%load_ext autoreload\n",
    "%autoreload 2\n",
    "import os\n",
    "import sys\n",
    "p = os.path.join(os.path.dirname('__file__'), '..')\n",
    "sys.path.append(p)\n",
    "from common import *"
   ]
  },
  {
   "cell_type": "markdown",
   "metadata": {},
   "source": [
    "## Dataset"
   ]
  },
  {
   "cell_type": "code",
   "execution_count": null,
   "metadata": {
    "scrolled": true
   },
   "outputs": [],
   "source": [
    "IMG_DIR = '../data/segmentation/'\n",
    "fpaths, fnames = utils.files.get_paths_to_files(IMG_DIR, file_ext=c.JPG)\n",
    "img_arrs = {\n",
    "    fnames[i]: utils.imgs.load_img_as_arr(fpaths[i]) for i in range(len(fpaths))\n",
    "}\n",
    "utils.imgs.plot_samples_from_dir(IMG_DIR, shuffle=True, n=3)\n",
    "fnames"
   ]
  },
  {
   "cell_type": "markdown",
   "metadata": {},
   "source": [
    "## Helpers"
   ]
  },
  {
   "cell_type": "code",
   "execution_count": null,
   "metadata": {
    "scrolled": true
   },
   "outputs": [],
   "source": [
    "def load_img(fname):\n",
    "    img = img_arrs[fname]\n",
    "    gray = cv2.cvtColor(img, cv2.COLOR_BGR2GRAY)\n",
    "    return img, gray\n",
    "    \n",
    "def load_grayscale_img(fname):\n",
    "    img = img_arrs[fname]\n",
    "    return cv2.cvtColor(img, cv2.COLOR_BGR2GRAY)\n",
    "\n",
    "def format_1D_binary_mask(mask):\n",
    "    if len(mask.shape) == 2:\n",
    "        mask = np.expand_dims(mask, 0)\n",
    "    mask = np.stack([mask,mask,mask], axis=1).squeeze().transpose(1,2,0)\n",
    "    return mask.astype('float32')\n",
    "\n",
    "def plot_binary_mask(arr, mask, title=None, color=(255,255,255)):\n",
    "    arr = arr.copy()\n",
    "    mask = format_1D_binary_mask(mask.copy())\n",
    "    for i in range(3):\n",
    "        arr[:,:,i][mask[:,:,i] > 0] = color[i]\n",
    "    utils.imgs.plot_img_arr(arr, title=title)\n",
    "\n",
    "def plot_binary_mask_overlay(img_arr, mask, fs=(18,18), title=None):\n",
    "    mask = format_1D_binary_mask(mask.copy())\n",
    "    fig = plt.figure(figsize=fs)\n",
    "    a = fig.add_subplot(1,2,1)\n",
    "    a.set_title(title)\n",
    "    plt.imshow(img_arr.astype('uint8'))\n",
    "    plt.imshow(mask, cmap='jet', alpha=.5) # interpolation='none'\n",
    "    plt.show()\n",
    "    \n",
    "def cut_image(arr, mask, inverse=False, color=(255,255,255)):\n",
    "    ## cv2.THRESH_TRUNC can be used\n",
    "    arr = arr.copy()\n",
    "    mask = format_1D_binary_mask(mask.copy())\n",
    "    for i in range(3):\n",
    "        if inverse:\n",
    "            arr[:,:,i][mask[:,:,i] == 0] = color[i]\n",
    "        else:\n",
    "            arr[:,:,i][mask[:,:,i] > 0] = color[i]\n",
    "    return arr"
   ]
  },
  {
   "cell_type": "markdown",
   "metadata": {},
   "source": [
    "## Global Threshold\n",
    "\n",
    "* If pixels > threshold, set to white, otherwise black\n",
    "* https://docs.opencv.org/3.3.1/d7/d4d/tutorial_py_thresholding.html\n",
    "* https://docs.opencv.org/3.0-beta/modules/imgproc/doc/miscellaneous_transformations.html?highlight=threshold#cv2.threshold"
   ]
  },
  {
   "cell_type": "code",
   "execution_count": null,
   "metadata": {
    "scrolled": true
   },
   "outputs": [],
   "source": [
    "img,gray = load_img('white_oranges.jpg')\n",
    "\n",
    "# If pixel > 127, set to 255, else 0\n",
    "ret, mask = cv2.threshold(gray, thresh=127, maxval=255,\n",
    "                            type=cv2.THRESH_BINARY)\n",
    "\n",
    "# If pixel > 127, set to 0, else 255\n",
    "ret, mask_inv = cv2.threshold(gray, thresh=127, maxval=255,\n",
    "                                type=cv2.THRESH_BINARY_INV)\n",
    "\n",
    "# If pixel > 127, set to 255, else pixel\n",
    "ret, mask_passthrough = cv2.threshold(gray, thresh=127, maxval=255,\n",
    "                                      type=cv2.THRESH_TOZERO)\n",
    "\n",
    "cut_img = cut_image(img, mask)\n",
    "cut_img_inv = cut_image(img, mask_inv)\n",
    "utils.imgs.plot_imgs(imgs=[mask, mask_inv, cut_img, cut_img_inv], \n",
    "                     titles=['Binary', 'Inverse', 'Cut', 'Cut Inverse'], \n",
    "                     dim=(1,4), fs=(18,18))"
   ]
  },
  {
   "cell_type": "code",
   "execution_count": null,
   "metadata": {
    "scrolled": true
   },
   "outputs": [],
   "source": [
    "images = []\n",
    "titles = []\n",
    "for name,img in img_arrs.items():\n",
    "    gray_img = cv2.cvtColor(img, cv2.COLOR_BGR2GRAY)\n",
    "    ret, thresh = cv2.threshold(gray_img, thresh=127, maxval=255,\n",
    "                                  type=cv2.THRESH_BINARY)\n",
    "    masked_img = cut_image(img, thresh)\n",
    "    images.extend([img, thresh, masked_img])\n",
    "    titles.extend([name, 'Mask', 'Cut'])\n",
    "\n",
    "utils.imgs.plot_imgs(images[12:], titles[12:], dim=(3,3), fs=(24,24))"
   ]
  },
  {
   "cell_type": "markdown",
   "metadata": {},
   "source": [
    "## Adaptive Threshold\n",
    "\n",
    "* Global thresholding gives bad results in different lighting conditions\n",
    "* Adaptive thresholding calculates different thresholds for different regions of the image\n",
    "\n",
    "Two Types\n",
    "\n",
    "* Mean\n",
    "    * threshold value equals mean of neighboring pixels\n",
    "* Gaussian\n",
    "    * threshold value equals weighted sum of neighboring pixels where weights are gaussian window\n",
    "    \n",
    "Gaussian Window\n",
    "* ?"
   ]
  },
  {
   "cell_type": "code",
   "execution_count": null,
   "metadata": {
    "scrolled": true
   },
   "outputs": [],
   "source": [
    "img,gray = load_img('teapot_white_bg.jpg')\n",
    "\n",
    "# Add small blur to reduce jagged edges\n",
    "gray = cv2.medianBlur(gray, 5)\n",
    "\n",
    "# Global\n",
    "_, global_mask = cv2.threshold(gray, thresh=127, maxval=255,\n",
    "                               type=cv2.THRESH_BINARY)\n",
    "\n",
    "# Adaptive Mean\n",
    "mean_mask = cv2.adaptiveThreshold(\n",
    "    gray, maxValue=255, adaptiveMethod=cv2.ADAPTIVE_THRESH_MEAN_C,\n",
    "    thresholdType=cv2.THRESH_BINARY, blockSize=11, C=2)\n",
    "\n",
    "# Adaptive Gaussian\n",
    "gaussian_mask = cv2.adaptiveThreshold(\n",
    "    gray, maxValue=255, adaptiveMethod=cv2.ADAPTIVE_THRESH_GAUSSIAN_C,\n",
    "    thresholdType=cv2.THRESH_BINARY, blockSize=11, C=2)\n",
    "\n",
    "cut_img = cut_image(img, mean_mask, inverse=False)\n",
    "utils.imgs.plot_imgs(imgs=[img, global_mask, mean_mask, gaussian_mask, cut_img], \n",
    "                     titles=['Img', 'Global', 'Mean', 'Gaussian', 'Cut'], \n",
    "                     dim=(1,5), fs=(18,18))"
   ]
  },
  {
   "cell_type": "markdown",
   "metadata": {},
   "source": [
    "## Otsu's Binarization\n",
    "\n",
    "* Targets Bimodal Images - Images whose histograms have two peaks\n",
    "* Selects a threshold value in the middle of the two peaks\n",
    "* https://docs.opencv.org/3.3.1/d7/d4d/tutorial_py_thresholding.html"
   ]
  },
  {
   "cell_type": "code",
   "execution_count": null,
   "metadata": {
    "scrolled": true
   },
   "outputs": [],
   "source": [
    "img,gray = load_img('headshot.jpg')\n",
    "\n",
    "# Global\n",
    "_, global_mask = cv2.threshold(gray, thresh=127, maxval=255,\n",
    "                               type=cv2.THRESH_BINARY)\n",
    "\n",
    "# Otsu\n",
    "_, otsu_mask = cv2.threshold(gray, thresh=0, maxval=255,\n",
    "                             type=cv2.THRESH_BINARY_INV+cv2.THRESH_OTSU)\n",
    "\n",
    "# Otsu w blur\n",
    "blur = cv2.GaussianBlur(gray, ksize=(5,5), sigmaX=0)\n",
    "_, otsu_blur = cv2.threshold(blur, thresh=0, maxval=255,\n",
    "                             type=cv2.THRESH_BINARY_INV+cv2.THRESH_OTSU)\n",
    "\n",
    "# plot all the images and their histograms\n",
    "images = [gray, 0, global_mask,\n",
    "          gray, 0, otsu_mask,\n",
    "          blur, 0, otsu_blur]\n",
    "titles = ['Image','Histogram','Global',\n",
    "          'Image','Histogram',\"Otsu's\",\n",
    "          'Gaussian Image','Histogram',\"Otsu's\"]\n",
    "\n",
    "for i in range(3):    \n",
    "    plt.subplot(3,3,i*3+1),plt.imshow(images[i*3],'gray')\n",
    "    plt.title(titles[i*3]), plt.xticks([]), plt.yticks([])\n",
    "    plt.subplot(3,3,i*3+2),plt.hist(images[i*3].ravel(),10)\n",
    "    plt.title(titles[i*3+1]), plt.xticks([]), plt.yticks([])\n",
    "    plt.subplot(3,3,i*3+3),plt.imshow(images[i*3+2],'gray')\n",
    "    plt.title(titles[i*3+2]), plt.xticks([]), plt.yticks([])\n",
    "plt.show()"
   ]
  },
  {
   "cell_type": "markdown",
   "metadata": {},
   "source": [
    "## Sources"
   ]
  },
  {
   "cell_type": "markdown",
   "metadata": {},
   "source": [
    "* https://en.wikipedia.org/wiki/Image_segmentation\n",
    "* https://en.wikipedia.org/wiki/Thresholding_(image_processing)\n",
    "* https://www.pyimagesearch.com/2014/09/08/thresholding-simple-image-segmentation-using-opencv/\n",
    "* https://docs.opencv.org/3.3.1/d7/d4d/tutorial_py_thresholding.html"
   ]
  },
  {
   "cell_type": "code",
   "execution_count": null,
   "metadata": {
    "scrolled": true
   },
   "outputs": [],
   "source": []
  }
 ],
 "metadata": {
  "kernelspec": {
   "display_name": "Python 3",
   "language": "python",
   "name": "python3"
  },
  "language_info": {
   "codemirror_mode": {
    "name": "ipython",
    "version": 3
   },
   "file_extension": ".py",
   "mimetype": "text/x-python",
   "name": "python",
   "nbconvert_exporter": "python",
   "pygments_lexer": "ipython3",
   "version": "3.6.4"
  },
  "latex_envs": {
   "LaTeX_envs_menu_present": true,
   "autocomplete": true,
   "bibliofile": "biblio.bib",
   "cite_by": "apalike",
   "current_citInitial": 1,
   "eqLabelWithNumbers": true,
   "eqNumInitial": 1,
   "hotkeys": {
    "equation": "Ctrl-E",
    "itemize": "Ctrl-I"
   },
   "labels_anchors": false,
   "latex_user_defs": false,
   "report_style_numbering": false,
   "user_envs_cfg": false
  },
  "toc": {
   "colors": {
    "hover_highlight": "#DAA520",
    "navigate_num": "#000000",
    "navigate_text": "#333333",
    "running_highlight": "#FF0000",
    "selected_highlight": "#FFD700",
    "sidebar_border": "#EEEEEE",
    "wrapper_background": "#FFFFFF"
   },
   "moveMenuLeft": true,
   "nav_menu": {
    "height": "116px",
    "width": "254px"
   },
   "navigate_menu": true,
   "number_sections": true,
   "sideBar": true,
   "threshold": 4,
   "toc_cell": false,
   "toc_section_display": "block",
   "toc_window_display": false,
   "widenNotebook": false
  }
 },
 "nbformat": 4,
 "nbformat_minor": 2
}
