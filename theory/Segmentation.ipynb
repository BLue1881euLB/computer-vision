{
 "cells": [
  {
   "cell_type": "markdown",
   "metadata": {},
   "source": [
    "## Segmentation\n",
    "\n",
    "* https://paper.dropbox.com/doc/Segmentation-RpcEF8PYcnEjbW35LP41a"
   ]
  },
  {
   "cell_type": "code",
   "execution_count": null,
   "metadata": {},
   "outputs": [],
   "source": [
    "%matplotlib inline\n",
    "%load_ext autoreload\n",
    "%autoreload 2\n",
    "import os\n",
    "import sys\n",
    "p = os.path.join(os.path.dirname('__file__'), '..')\n",
    "sys.path.append(p)\n",
    "from common import *\n",
    "from matplotlib.pyplot import Rectangle"
   ]
  },
  {
   "cell_type": "markdown",
   "metadata": {},
   "source": [
    "## Data"
   ]
  },
  {
   "cell_type": "code",
   "execution_count": null,
   "metadata": {},
   "outputs": [],
   "source": [
    "DATA_DIR = '../data/'\n",
    "json_fpath = os.path.join(DATA_DIR, 'volleyball_frame_00665.json')\n",
    "img_fpath = os.path.join(DATA_DIR, 'volleyball_frame_00665.png')\n",
    "IMG_DIR = os.path.join(DATA_DIR, 'volleyball', 'images_subset')\n",
    "metadata_fpath = os.path.join(DATA_DIR, 'volleyball_bbox_labels.csv')"
   ]
  },
  {
   "cell_type": "markdown",
   "metadata": {},
   "source": [
    "## Helpers"
   ]
  },
  {
   "cell_type": "code",
   "execution_count": null,
   "metadata": {},
   "outputs": [],
   "source": [
    "def plot_img(arr, fs=(10,10), cmap='gray', title=None):\n",
    "    plt.figure(figsize=fs)\n",
    "    plt.imshow(arr, cmap=cmap)\n",
    "    plt.title(title)\n",
    "    plt.show()\n",
    "    \n",
    "def load_img(fpath):\n",
    "    return plt.imread(fpath)\n",
    "\n",
    "def load_cv2_img(fpath, w=None, h=None, colorspace=None):\n",
    "    img = cv2.imread(img_fpath)\n",
    "    if colorspace is not None:\n",
    "        img = cv2.cvtColor(img, colorspace)\n",
    "    if None not in [w,h]:\n",
    "        img = cv2.resize(img, (w, h), interpolation=cv2.INTER_CUBIC)\n",
    "    return img\n",
    "\n",
    "def threshold_color(img, color, thresh, sigma=1.0):\n",
    "    \"\"\"\n",
    "    color = [b, g, r] or [r,b,g] or [h,s,v]\n",
    "    thresh = [b,g,r] margin allowed around color (1 per channel)\n",
    "    \"\"\"\n",
    "    if isinstance(thresh, int):\n",
    "        thresh = [thresh]*3\n",
    "    thresh = np.array(thresh) * sigma\n",
    "    min_color = np.array([color[0]-thresh[0], color[1]-thresh[1], color[2]-thresh[2]])\n",
    "    max_color = np.array([color[0]+thresh[0], color[1]+thresh[1], color[2]+thresh[2]])\n",
    "    min_color[min_color < 0] = 0\n",
    "    max_color[max_color > 255] = 255\n",
    "    print(\"Min\", min_color)\n",
    "    print(\"Max\", max_color)\n",
    "    \n",
    "    mask = cv2.inRange(img, min_color, max_color)\n",
    "    result = cv2.bitwise_and(img, img, mask=mask)\n",
    "    return mask, result\n",
    "\n",
    "def get_color_of_pixel(fpath, x, y, colorspace='BGR'):\n",
    "    rgb_img = load_cv2_img(img_fpath, colorspace=cv2.COLOR_BGR2RGB)\n",
    "    hsv_img = load_cv2_img(img_fpath, colorspace=cv2.COLOR_BGR2HSV)\n",
    "    \n",
    "    rgb_colors = rgb_img[y,x,:]\n",
    "    hsv_colors = hsv_img[y,x,:]\n",
    "    bgr_colors = np.copy(rgb_colors[::-1])\n",
    "    print (\"BGR:\", bgr_colors)\n",
    "    print (\"RGB:\", rgb_colors)\n",
    "    print (\"HSV:\", hsv_colors)\n",
    "    \n",
    "    # Plot to visualize\n",
    "    img = np.copy(rgb_img)\n",
    "    img[y-5:y+5:,x-5:x+5,:] = 255\n",
    "    img[y,x,:] = 0\n",
    "    plot_img(img, fs=(18,18))\n",
    "    \n",
    "    if colorspace == 'BGR':\n",
    "        return bgr_colors.tolist()\n",
    "    if colorspace == 'RGB':\n",
    "        return rgb_colors.tolist()\n",
    "    return hsv_colors.tolist()\n",
    "\n",
    "def get_hsv_value_of_bgr(bgr_color):\n",
    "    print(\"BGR\", bgr_color)\n",
    "    bgr_color = np.uint8([[bgr_color]])\n",
    "    hsv = cv2.cvtColor(bgr_color, cv2.COLOR_BGR2HSV)[0][0]\n",
    "    print(\"HSV\", hsv)\n",
    "    return hsv\n",
    "\n",
    "# Create color histograms representing average values among samples\n",
    "def get_flattened_channels(imgs):\n",
    "    chans = np.empty(shape=(1,3))\n",
    "    for img in imgs:\n",
    "        h,w,c = img.shape\n",
    "        reshaped = img.reshape((h*w, c))\n",
    "        chans = np.concatenate([chans, reshaped], axis=0)\n",
    "        #print(reshaped.shape, chans.shape)\n",
    "    return chans\n",
    "\n",
    "# Plotting Histogram (all channels flattened)\n",
    "def plot_hist(img, bins=256, title=None):\n",
    "    plt.hist(img.ravel(), bins=bins, range=[0,256])\n",
    "    plt.title(title)\n",
    "    plt.show()\n",
    "\n",
    "def plot_bgr_hist(bgr_img, bins=256, mask=None):\n",
    "    # Mask let's you select for certain regions    \n",
    "    color = ('b','g','r')\n",
    "    for i,col in enumerate(color):\n",
    "        histr = cv2.calcHist([bgr_img],[i],mask,[bins],[0,256])\n",
    "        plt.plot(histr, color=col)\n",
    "        plt.xlim([0,bins])\n",
    "    plt.show()\n",
    "    \n",
    "def plot_bbs_from_rectLabel_annos(json_fpath, img_fpath):\n",
    "    bb_json = json.load(open(json_fpath, 'r'))\n",
    "    fig = plt.figure(figsize=(18,18))\n",
    "    axes = plt.axes([0, 0.03, 1, 0.97])\n",
    "    \n",
    "    img = plt.imread(img_fpath)\n",
    "    imgplot = axes.imshow(img)\n",
    "\n",
    "    for box in bb_json['objects']:\n",
    "        label = box['label']\n",
    "        color = BOX_COLORS[label]\n",
    "        coords = box['x_y_w_h']\n",
    "        bb = Rectangle(\n",
    "            (coords[0],coords[1]), \n",
    "            coords[2], coords[3],\n",
    "            fill=False,\n",
    "            edgecolor=color,\n",
    "            linewidth=2)\n",
    "        axes.add_patch(bb)\n",
    "        \n",
    "def get_img_crops_from_rectLabel_bbs(img, json_fpath):\n",
    "    crops_dict = {}\n",
    "    bb_json = json.load(open(json_fpath, 'r'))\n",
    "    for box in bb_json['objects']:\n",
    "        label = box['label']\n",
    "        x,y,w,h = box['x_y_w_h']\n",
    "        crop = img[y:y+h,x:x+w,:]\n",
    "        if label not in crops_dict:\n",
    "            crops_dict[label] = []\n",
    "        crops_dict[label].append(crop)\n",
    "    return crops_dict"
   ]
  },
  {
   "cell_type": "markdown",
   "metadata": {},
   "source": [
    "## Color Histograms"
   ]
  },
  {
   "cell_type": "code",
   "execution_count": null,
   "metadata": {},
   "outputs": [],
   "source": [
    "bgr_img = load_cv2_img(img_fpath)\n",
    "\n",
    "# Cv2 Histogram (faster)\n",
    "hist = cv2.calcHist(images=[bgr_img], channels=[0], mask=None, histSize=[256], ranges=[0,256])\n",
    "\n",
    "# Numpy Histogram (slower)\n",
    "hist, bins = np.histogram(bgr_img.ravel(), 256, [0,256])\n",
    "\n",
    "plot_hist(bgr_img)\n",
    "plot_bgr_hist(bgr_img)"
   ]
  },
  {
   "cell_type": "markdown",
   "metadata": {},
   "source": [
    "## BGR Thresholding"
   ]
  },
  {
   "cell_type": "code",
   "execution_count": null,
   "metadata": {},
   "outputs": [],
   "source": [
    "# Highlight the court\n",
    "bgr_color = get_color_of_pixel(img_fpath, 700, 650, 'BGR')\n",
    "bgr_img = load_cv2_img(img_fpath)\n",
    "print(bgr_color)\n",
    "mask, result = threshold_color(bgr_img, bgr_color, 35)\n",
    "plot_img(result)"
   ]
  },
  {
   "cell_type": "code",
   "execution_count": null,
   "metadata": {},
   "outputs": [],
   "source": [
    "# Highlight floor around court (darker green)\n",
    "bgr_color = get_color_of_pixel(img_fpath, 1100, 550, 'BGR')\n",
    "bgr_img = load_cv2_img(img_fpath)\n",
    "mask1, result1 = threshold_color(bgr_img, bgr_color, 60)\n",
    "plot_img(result1)"
   ]
  },
  {
   "cell_type": "code",
   "execution_count": null,
   "metadata": {},
   "outputs": [],
   "source": [
    "# Highlight floor around court (lighter green reflection)\n",
    "bgr_color = get_color_of_pixel(img_fpath, 1130, 460, 'BGR')\n",
    "bgr_img = load_cv2_img(img_fpath)\n",
    "mask2, result2 = threshold_color(bgr_img, bgr_color, 50)\n",
    "plot_img(result2)"
   ]
  },
  {
   "cell_type": "markdown",
   "metadata": {},
   "source": [
    "### HSV Thresholding"
   ]
  },
  {
   "cell_type": "code",
   "execution_count": null,
   "metadata": {},
   "outputs": [],
   "source": [
    "hsv_color = get_color_of_pixel(img_fpath, 700, 650, 'HSV')\n",
    "hsv_img = load_cv2_img(img_fpath, colorspace=cv2.COLOR_BGR2HSV)\n",
    "mask, result = threshold_color(hsv_img, hsv_color, 35)\n",
    "plot_img(result)"
   ]
  },
  {
   "cell_type": "code",
   "execution_count": null,
   "metadata": {},
   "outputs": [],
   "source": [
    "hsv_color = get_color_of_pixel(img_fpath, 1130, 460, 'HSV')\n",
    "hsv_img = load_cv2_img(img_fpath, colorspace=cv2.COLOR_BGR2HSV)\n",
    "mask, result = threshold_color(hsv_img, hsv_color, 55)\n",
    "plot_img(result)"
   ]
  },
  {
   "cell_type": "code",
   "execution_count": null,
   "metadata": {},
   "outputs": [],
   "source": [
    "hsv_color = get_color_of_pixel(img_fpath, 25, 550, 'HSV')\n",
    "hsv_img = load_cv2_img(img_fpath, colorspace=cv2.COLOR_BGR2HSV)\n",
    "mask, result = threshold_color(hsv_img, hsv_color, 55)\n",
    "plot_img(result)"
   ]
  },
  {
   "cell_type": "markdown",
   "metadata": {},
   "source": [
    "## Data Driven Thresholding\n",
    "\n",
    "* https://gist.github.com/danielballan/ab5e28420ba1b24c5ad4"
   ]
  },
  {
   "cell_type": "code",
   "execution_count": null,
   "metadata": {},
   "outputs": [],
   "source": [
    "json_fpath = os.path.join(DATA_DIR, 'volleyball_frame_00665.json')\n",
    "img_fpath = os.path.join(DATA_DIR, 'volleyball_frame_00665.png')\n",
    "\n",
    "BOX_COLORS = {\n",
    "    'referee': 'black',\n",
    "    'red_team': 'red',\n",
    "    'blue_team': 'blue',\n",
    "    'court-inner': 'green',\n",
    "    'court_outer': 'white',\n",
    "}\n",
    "\n",
    "plot_bbs_from_rectLabel_annos(json_fpath, img_fpath)"
   ]
  },
  {
   "cell_type": "code",
   "execution_count": null,
   "metadata": {},
   "outputs": [],
   "source": [
    "bgr_img = load_cv2_img(img_fpath)\n",
    "crops = get_img_crops_from_rectLabel_bbs(bgr_img, json_fpath)"
   ]
  },
  {
   "cell_type": "code",
   "execution_count": null,
   "metadata": {},
   "outputs": [],
   "source": [
    "for crop in crops['red_team']:\n",
    "    plot_img(crop)"
   ]
  },
  {
   "cell_type": "code",
   "execution_count": null,
   "metadata": {
    "scrolled": true
   },
   "outputs": [],
   "source": [
    "for crop in crops['court-inner']:\n",
    "    plot_img(crop)"
   ]
  },
  {
   "cell_type": "code",
   "execution_count": null,
   "metadata": {
    "scrolled": false
   },
   "outputs": [],
   "source": [
    "# BGR Histograms\n",
    "bgr_img = load_cv2_img(img_fpath)\n",
    "crops = get_img_crops_from_rectLabel_bbs(bgr_img, json_fpath)\n",
    "\n",
    "hists = {}\n",
    "for label in crops.keys():\n",
    "    chans = get_flattened_channels(crops[label])\n",
    "    bgr = ('b','g','r')\n",
    "    hists[label] = {\n",
    "        'b':None,\n",
    "        'g':None,\n",
    "        'r':None\n",
    "    }\n",
    "    for i in range(len(chans[0])):\n",
    "        hist, bins = np.histogram(chans[:,i], 50, [0,256])\n",
    "        hists[label][bgr[i]] = hist\n",
    "        plot_hist(chans[:,i], bins=50, title=label + ' ' + bgr[i])"
   ]
  },
  {
   "cell_type": "markdown",
   "metadata": {},
   "source": [
    "### RGB Threshold"
   ]
  },
  {
   "cell_type": "code",
   "execution_count": null,
   "metadata": {},
   "outputs": [],
   "source": [
    "# RGB\n",
    "\n",
    "img_fpath = os.path.join(IMG_DIR, 'volleyball_frame_00665.png')\n",
    "img = load_cv2_img(img_fpath, colorspace=cv2.COLOR_BGR2RGB)\n",
    "plot_img(img, fs=(14,14), title=\"Original\")\n",
    "\n",
    "r = 175 + 220 // 2\n",
    "g = 90 + 135 // 2\n",
    "b = 75 + 125 // 2\n",
    "color = (\n",
    "    r,g,b\n",
    ")\n",
    "thresh = (\n",
    "    220 - 175 // 2,\n",
    "    135 - 90 // 2,\n",
    "    125 - 75 // 2\n",
    ")\n",
    "mask, result = threshold_color(img, color, thresh, sigma=.9)\n",
    "plot_img(result, fs=(14,14), title=\"Thresholded\")"
   ]
  },
  {
   "cell_type": "markdown",
   "metadata": {},
   "source": [
    "## HSV Threshold"
   ]
  },
  {
   "cell_type": "code",
   "execution_count": null,
   "metadata": {},
   "outputs": [],
   "source": [
    "img_fpath = os.path.join(IMG_DIR, 'volleyball_frame_00665.png')\n",
    "hsv_img = load_cv2_img(img_fpath, colorspace=cv2.COLOR_BGR2HSV)\n",
    "plot_img(hsv_img, fs=(14,14), title=\"Original\")"
   ]
  },
  {
   "cell_type": "code",
   "execution_count": null,
   "metadata": {},
   "outputs": [],
   "source": [
    "crops = get_img_crops_from_rectLabel_bbs(hsv_img, json_fpath)\n",
    "hists = {}\n",
    "for label in crops.keys():\n",
    "    chans = get_flattened_channels(crops[label])\n",
    "    channels = ('h','s','v')\n",
    "    hists[label] = {c:None for c in bgr}\n",
    "    for i in range(len(chans[0])):\n",
    "        hist, bins = np.histogram(chans[:,i], 50, [0,256])\n",
    "        hists[label][bgr[i]] = hist\n",
    "        plot_hist(chans[:,i], bins=50, title=label + ' ' + channels[i])"
   ]
  },
  {
   "cell_type": "code",
   "execution_count": null,
   "metadata": {},
   "outputs": [],
   "source": [
    "\"\"\"\n",
    "H 0 - 10\n",
    "S = 100 - 150\n",
    "V = 175 - 220\n",
    "\"\"\"\n",
    "color = (\n",
    "    5,\n",
    "    50,\n",
    "    45\n",
    ")\n",
    "thresh = (\n",
    "    6,\n",
    "    256,\n",
    "    256\n",
    ")\n",
    "mask, result = threshold_color(img, color, thresh, sigma=1)\n",
    "plot_img(result, fs=(14,14), title=\"Thresholded\")"
   ]
  },
  {
   "cell_type": "markdown",
   "metadata": {},
   "source": [
    "## Color Quantization"
   ]
  },
  {
   "cell_type": "markdown",
   "metadata": {},
   "source": [
    "* https://docs.opencv.org/3.0-beta/doc/py_tutorials/py_ml/py_kmeans/py_kmeans_opencv/py_kmeans_opencv.html\n"
   ]
  },
  {
   "cell_type": "code",
   "execution_count": null,
   "metadata": {},
   "outputs": [],
   "source": [
    "img = cv2.imread(img_fpath)\n",
    "hsv = cv2.cvtColor(img, cv2.COLOR_BGR2HSV)\n",
    "gray = cv2.cvtColor(img, cv2.COLOR_BGR2GRAY)\n",
    "Z = img.reshape((-1,3))\n",
    "\n",
    "# convert to np.float32\n",
    "Z = np.float32(Z)\n",
    "\n",
    "# define criteria, number of clusters(K) and apply kmeans()\n",
    "criteria = (cv2.TERM_CRITERIA_EPS + cv2.TERM_CRITERIA_MAX_ITER, 10, 1.0)\n",
    "K = 6\n",
    "ret, label, center = cv2.kmeans(Z,K,None,criteria,10,cv2.KMEANS_RANDOM_CENTERS)\n",
    "\n",
    "# Now convert back into uint8, and make original image\n",
    "center = np.uint8(center)\n",
    "res = center[label.flatten()]\n",
    "res2 = res.reshape((img.shape))\n",
    "\n",
    "plot_img(res2, fs=(12,8))"
   ]
  },
  {
   "cell_type": "markdown",
   "metadata": {},
   "source": [
    "## Contours"
   ]
  },
  {
   "cell_type": "code",
   "execution_count": null,
   "metadata": {},
   "outputs": [],
   "source": [
    "h,w,c = img.shape\n",
    "minarea = h * w / 10\n",
    "gray = cv2.GaussianBlur(res2, ksize=(5,5), sigmaX=3)\n",
    "gray = cv2.cvtColor(gray, cv2.COLOR_BGR2GRAY)\n",
    "\n",
    "ret,thresh = cv2.threshold(gray, 127, 255, 0)\n",
    "image, contours, hierarchy = cv2.findContours(thresh,cv2.RETR_TREE,cv2.CHAIN_APPROX_SIMPLE)\n",
    "img = cv2.drawContours(img, contours, -1, (0,255,0), 3)"
   ]
  },
  {
   "cell_type": "code",
   "execution_count": null,
   "metadata": {},
   "outputs": [],
   "source": [
    "for cnt in contours:\n",
    "    if cv2.contourArea(cnt) < minarea:\n",
    "        img = cv2.drawContours(img, [cnt], -1, (0,0,0), 3)\n"
   ]
  },
  {
   "cell_type": "code",
   "execution_count": null,
   "metadata": {},
   "outputs": [],
   "source": [
    "plot_img(img, fs=(20,15))"
   ]
  },
  {
   "cell_type": "markdown",
   "metadata": {},
   "source": [
    "## Links"
   ]
  },
  {
   "cell_type": "code",
   "execution_count": null,
   "metadata": {},
   "outputs": [],
   "source": []
  }
 ],
 "metadata": {
  "kernelspec": {
   "display_name": "Python 3",
   "language": "python",
   "name": "python3"
  },
  "language_info": {
   "codemirror_mode": {
    "name": "ipython",
    "version": 3
   },
   "file_extension": ".py",
   "mimetype": "text/x-python",
   "name": "python",
   "nbconvert_exporter": "python",
   "pygments_lexer": "ipython3",
   "version": "3.6.4"
  },
  "latex_envs": {
   "LaTeX_envs_menu_present": true,
   "autocomplete": true,
   "bibliofile": "biblio.bib",
   "cite_by": "apalike",
   "current_citInitial": 1,
   "eqLabelWithNumbers": true,
   "eqNumInitial": 1,
   "hotkeys": {
    "equation": "Ctrl-E",
    "itemize": "Ctrl-I"
   },
   "labels_anchors": false,
   "latex_user_defs": false,
   "report_style_numbering": false,
   "user_envs_cfg": false
  },
  "toc": {
   "colors": {
    "hover_highlight": "#DAA520",
    "navigate_num": "#000000",
    "navigate_text": "#333333",
    "running_highlight": "#FF0000",
    "selected_highlight": "#FFD700",
    "sidebar_border": "#EEEEEE",
    "wrapper_background": "#FFFFFF"
   },
   "moveMenuLeft": true,
   "nav_menu": {
    "height": "111px",
    "width": "253px"
   },
   "navigate_menu": true,
   "number_sections": true,
   "sideBar": true,
   "skip_h1_title": false,
   "threshold": 4,
   "toc_cell": false,
   "toc_position": {},
   "toc_section_display": "block",
   "toc_window_display": false,
   "widenNotebook": false
  }
 },
 "nbformat": 4,
 "nbformat_minor": 2
}
