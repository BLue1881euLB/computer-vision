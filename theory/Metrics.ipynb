{
 "cells": [
  {
   "cell_type": "markdown",
   "metadata": {},
   "source": [
    "## Metrics"
   ]
  },
  {
   "cell_type": "code",
   "execution_count": 2,
   "metadata": {},
   "outputs": [
    {
     "name": "stdout",
     "output_type": "stream",
     "text": [
      "The autoreload extension is already loaded. To reload it, use:\n",
      "  %reload_ext autoreload\n"
     ]
    }
   ],
   "source": [
    "%matplotlib inline\n",
    "%load_ext autoreload\n",
    "%autoreload 2\n",
    "import sys\n",
    "sys.path.append(\"/home/bfortuner/workplace/VisionQuest\")\n",
    "from common import *\n",
    "from sklearn.metrics import fbeta_score\n",
    "from sklearn import metrics as scipy_metrics"
   ]
  },
  {
   "cell_type": "code",
   "execution_count": 3,
   "metadata": {
    "collapsed": true
   },
   "outputs": [],
   "source": [
    "def accuracy(preds, targets):\n",
    "    preds = preds.flatten() \n",
    "    targets = targets.flatten()\n",
    "    correct = np.sum(preds==targets)\n",
    "    return correct / len(targets)\n",
    "\n",
    "def cross_entropy(probs, targets):\n",
    "    return F.binary_cross_entropy(\n",
    "              Variable(torch.from_numpy(probs)),\n",
    "              Variable(torch.from_numpy(targets).float())).data[0]\n",
    "\n",
    "def recall(preds, targets):\n",
    "    return scipy_metrics.recall_score(targets.flatten(), preds.flatten())\n",
    "\n",
    "def precision(preds, targets):\n",
    "    return scipy_metrics.precision_score(targets.flatten(), preds.flatten())\n",
    "\n",
    "def roc_score(probs, targets):\n",
    "    return scipy_metrics.roc_auc_score(targets.flatten(), probs.flatten())\n",
    "\n",
    "def dice_score(preds, targets):\n",
    "    eps = 1e-7\n",
    "    batch_size = preds.shape[0]\n",
    "    preds = preds.reshape(batch_size, -1)\n",
    "    targets = targets.reshape(batch_size, -1)\n",
    "\n",
    "    total = preds.sum(1) + targets.sum(1) + eps\n",
    "    intersection = (preds * targets).astype(float)\n",
    "    score = 2. * intersection.sum(1) / total\n",
    "    return np.mean(score)\n",
    "\n",
    "def f2_score(y_pred, y_true, average='samples'):\n",
    "    y_pred, y_true, = np.array(y_pred), np.array(y_true)\n",
    "    return fbeta_score(y_true, y_pred, beta=2, average=average) "
   ]
  },
  {
   "cell_type": "code",
   "execution_count": null,
   "metadata": {
    "collapsed": true
   },
   "outputs": [],
   "source": []
  }
 ],
 "metadata": {
  "kernelspec": {
   "display_name": "Python 3",
   "language": "python",
   "name": "python3"
  },
  "language_info": {
   "codemirror_mode": {
    "name": "ipython",
    "version": 3
   },
   "file_extension": ".py",
   "mimetype": "text/x-python",
   "name": "python",
   "nbconvert_exporter": "python",
   "pygments_lexer": "ipython3",
   "version": "3.6.0"
  },
  "latex_envs": {
   "LaTeX_envs_menu_present": true,
   "autocomplete": true,
   "bibliofile": "biblio.bib",
   "cite_by": "apalike",
   "current_citInitial": 1,
   "eqLabelWithNumbers": true,
   "eqNumInitial": 1,
   "hotkeys": {
    "equation": "Ctrl-E",
    "itemize": "Ctrl-I"
   },
   "labels_anchors": false,
   "latex_user_defs": false,
   "report_style_numbering": false,
   "user_envs_cfg": false
  },
  "toc": {
   "colors": {
    "hover_highlight": "#DAA520",
    "navigate_num": "#000000",
    "navigate_text": "#333333",
    "running_highlight": "#FF0000",
    "selected_highlight": "#FFD700",
    "sidebar_border": "#EEEEEE",
    "wrapper_background": "#FFFFFF"
   },
   "moveMenuLeft": true,
   "nav_menu": {
    "height": "49px",
    "width": "254px"
   },
   "navigate_menu": true,
   "number_sections": true,
   "sideBar": true,
   "threshold": 4,
   "toc_cell": false,
   "toc_section_display": "block",
   "toc_window_display": false,
   "widenNotebook": false
  }
 },
 "nbformat": 4,
 "nbformat_minor": 2
}
