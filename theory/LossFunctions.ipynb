{
 "cells": [
  {
   "cell_type": "markdown",
   "metadata": {},
   "source": [
    "## Loss Functions\n",
    "\n",
    "* Cheatsheet here: http://ml-cheatsheet.readthedocs.io/en/latest/loss_functions.html\n",
    "* Examples below in PyTorch"
   ]
  },
  {
   "cell_type": "code",
   "execution_count": 2,
   "metadata": {
    "collapsed": true
   },
   "outputs": [],
   "source": [
    "%matplotlib inline\n",
    "%load_ext autoreload\n",
    "%autoreload 2\n",
    "import sys\n",
    "sys.path.append(\"/home/bfortuner/workplace/VisionQuest\")\n",
    "from common import *"
   ]
  },
  {
   "cell_type": "code",
   "execution_count": 4,
   "metadata": {
    "collapsed": true
   },
   "outputs": [],
   "source": [
    "class DiceLoss():\n",
    "    '''\n",
    "    http://campar.in.tum.de/pub/milletari2016Vnet/milletari2016Vnet.pdf\n",
    "    https://github.com/faustomilletari/VNet/blob/master/pyLayer.py\n",
    "    https://github.com/pytorch/pytorch/issues/1249\n",
    "    '''\n",
    "    def __init__(self):\n",
    "        self.__class__.__name__ = 'Dice'\n",
    "\n",
    "    def __call__(self, output, target):\n",
    "        return 1.0 - get_torch_dice_score(output, target)\n",
    "\n",
    "\n",
    "class DiceBCELoss():\n",
    "    def __init__(self, dice_weight=1.0):\n",
    "        self.__class__.__name__ = 'DiceBCE'\n",
    "        self.dice_weight = dice_weight\n",
    "        self.bce_weight = 1.0 - dice_weight\n",
    "\n",
    "    def __call__(self, output, target):\n",
    "        bce = F.binary_cross_entropy(output, target)\n",
    "        dice = 1 - get_torch_dice_score(output, target)\n",
    "        return (dice * self.dice_weight) + (bce * self.bce_weight)\n",
    "\n",
    "\n",
    "class WeightedBCELoss():\n",
    "    def __init__(self, weights):\n",
    "        self.weights = weights\n",
    "        self.__class__.__name__ = 'WeightedBCE'\n",
    "\n",
    "    def __call__(self, output, target):\n",
    "        return F.binary_cross_entropy(output, target, self.weights)\n",
    "\n",
    "\n",
    "class KnowledgeDistillLoss():\n",
    "    def __init__(self, target_weight=0.25):\n",
    "        self.__class__.__name__ = 'KnowledgeDistill'\n",
    "        self.target_weight = target_weight\n",
    "\n",
    "    def __call__(self, output, target, soft_target):\n",
    "        target_loss = F.binary_cross_entropy(output, target) * self.target_weight\n",
    "        soft_target_loss = F.binary_cross_entropy(output, soft_target)\n",
    "        return target_loss + soft_target_loss\n",
    "\n",
    "\n",
    "class HuberLoss():\n",
    "    def __init__(self, c=0.5):\n",
    "        self.c = c\n",
    "        self.__class__.__name__ = 'Huber'\n",
    "\n",
    "    def __call__(self, output, target):\n",
    "        bce = F.binary_cross_entropy(output, target)\n",
    "        return self.c**2 * (torch.sqrt(1 + (bce/self.c)**2) - 1)\n",
    "\n",
    "\n",
    "class SmoothF2Loss():\n",
    "    def __init__(self, c=10.0, f2_weight=0.2, bce_weight=1.0):\n",
    "        self.__class__.__name__ = 'SmoothF2'\n",
    "        self.c = c\n",
    "        self.f2_weight = f2_weight\n",
    "        self.bce_weight = bce_weight\n",
    "\n",
    "    def __call__(self, output, target, thresholds):\n",
    "        f2 = get_smooth_f2_score(output, target, thresholds, self.c) * self.f2_weight\n",
    "        bce = F.binary_cross_entropy(output, target) * self.bce_weight\n",
    "        return f2 + bce"
   ]
  },
  {
   "cell_type": "markdown",
   "metadata": {},
   "source": [
    "## Helpers"
   ]
  },
  {
   "cell_type": "code",
   "execution_count": 5,
   "metadata": {
    "collapsed": true
   },
   "outputs": [],
   "source": [
    "def get_torch_dice_score(outputs, targets):\n",
    "    eps = 1e-7\n",
    "    batch_size = outputs.size()[0]\n",
    "    outputs = outputs.view(batch_size, -1)\n",
    "    targets = targets.view(batch_size, -1)\n",
    "\n",
    "    total = torch.sum(outputs, dim=1) + torch.sum(targets, dim=1)\n",
    "    intersection = torch.sum(outputs * targets, dim=1).float()\n",
    "\n",
    "    dice_score = (2.0 * intersection) / (total + eps)\n",
    "    return torch.mean(dice_score)\n",
    "\n",
    "\n",
    "def sigmoid(z, c=1.0):\n",
    "    return 1.0 / (1.0 + torch.exp(-c*z))\n",
    "\n",
    "\n",
    "def get_smooth_f2_score(outputs, targets, thresholds, c=10.0):\n",
    "    eps = 1e-9\n",
    "    outputs = sigmoid(thresholds - outputs, c).float()\n",
    "    tot_out_pos = torch.sum(outputs, dim=1)\n",
    "    tot_tar_pos = torch.sum(targets, dim=1)\n",
    "    TP = torch.sum(outputs * targets, dim=1)\n",
    "\n",
    "    P = TP / (tot_out_pos + eps)\n",
    "    R = TP / tot_tar_pos + eps\n",
    "    F2 = 5.0 * (P*R / (4*P + R))\n",
    "    return torch.mean(F2)"
   ]
  },
  {
   "cell_type": "code",
   "execution_count": null,
   "metadata": {
    "collapsed": true
   },
   "outputs": [],
   "source": []
  }
 ],
 "metadata": {
  "kernelspec": {
   "display_name": "Python 3",
   "language": "python",
   "name": "python3"
  },
  "language_info": {
   "codemirror_mode": {
    "name": "ipython",
    "version": 3
   },
   "file_extension": ".py",
   "mimetype": "text/x-python",
   "name": "python",
   "nbconvert_exporter": "python",
   "pygments_lexer": "ipython3",
   "version": "3.6.0"
  },
  "latex_envs": {
   "LaTeX_envs_menu_present": true,
   "autocomplete": true,
   "bibliofile": "biblio.bib",
   "cite_by": "apalike",
   "current_citInitial": 1,
   "eqLabelWithNumbers": true,
   "eqNumInitial": 1,
   "hotkeys": {
    "equation": "Ctrl-E",
    "itemize": "Ctrl-I"
   },
   "labels_anchors": false,
   "latex_user_defs": false,
   "report_style_numbering": false,
   "user_envs_cfg": false
  },
  "toc": {
   "colors": {
    "hover_highlight": "#DAA520",
    "navigate_num": "#000000",
    "navigate_text": "#333333",
    "running_highlight": "#FF0000",
    "selected_highlight": "#FFD700",
    "sidebar_border": "#EEEEEE",
    "wrapper_background": "#FFFFFF"
   },
   "moveMenuLeft": true,
   "nav_menu": {
    "height": "49px",
    "width": "254px"
   },
   "navigate_menu": true,
   "number_sections": true,
   "sideBar": true,
   "threshold": 4,
   "toc_cell": false,
   "toc_section_display": "block",
   "toc_window_display": false,
   "widenNotebook": false
  }
 },
 "nbformat": 4,
 "nbformat_minor": 2
}
