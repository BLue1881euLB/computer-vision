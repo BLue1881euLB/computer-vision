{
 "cells": [
  {
   "cell_type": "markdown",
   "metadata": {},
   "source": [
    "## HOG\n",
    "\n",
    "* https://paper.dropbox.com/doc/HOG-XiA4UdOEtd3tC8jKdZFAU"
   ]
  },
  {
   "cell_type": "code",
   "execution_count": null,
   "metadata": {},
   "outputs": [],
   "source": [
    "%matplotlib inline\n",
    "%load_ext autoreload\n",
    "%autoreload 2\n",
    "import os\n",
    "import sys\n",
    "p = os.path.join(os.path.dirname('__file__'), '..')\n",
    "sys.path.append(p)\n",
    "from common import *\n",
    "\n",
    "import matplotlib.pyplot as plt\n",
    "from matplotlib import animation, rc\n",
    "from IPython.display import HTML\n",
    "from matplotlib.pyplot import Rectangle"
   ]
  },
  {
   "cell_type": "code",
   "execution_count": null,
   "metadata": {},
   "outputs": [],
   "source": [
    "DATA_DIR = '../data/'\n",
    "json_fpath = os.path.join(DATA_DIR, 'volleyball_frame_00665.json')\n",
    "img_fpath = os.path.join(DATA_DIR, 'volleyball_frame_00665.png')\n",
    "IMG_DIR = os.path.join(DATA_DIR, 'volleyball', 'images_subset')\n",
    "metadata_fpath = os.path.join(DATA_DIR, 'volleyball_bbox_labels.csv')"
   ]
  },
  {
   "cell_type": "code",
   "execution_count": null,
   "metadata": {},
   "outputs": [],
   "source": [
    "%ls {DATA_DIR}\n",
    "%ls {IMG_DIR}"
   ]
  },
  {
   "cell_type": "markdown",
   "metadata": {},
   "source": [
    "## Helpers"
   ]
  },
  {
   "cell_type": "code",
   "execution_count": null,
   "metadata": {},
   "outputs": [],
   "source": [
    "def plot_img(arr, fs=(10,10), cmap='gray', title=None):\n",
    "    plt.figure(figsize=fs)\n",
    "    plt.imshow(arr, cmap=cmap)\n",
    "    plt.title(title)\n",
    "    plt.show()\n",
    "    \n",
    "def load_img(fpath):\n",
    "    return plt.imread(fpath)\n",
    "\n",
    "def load_cv2_img(fpath, w=None, h=None, colorspace=None):\n",
    "    img = cv2.imread(img_fpath)\n",
    "    if colorspace is not None:\n",
    "        img = cv2.cvtColor(img, colorspace)\n",
    "    if None not in [w,h]:\n",
    "        img = cv2.resize(img, (w, h), interpolation=cv2.INTER_CUBIC)\n",
    "    return img\n",
    "\n",
    "def threshold_color(img, color, thresh, sigma=1.0):\n",
    "    \"\"\"\n",
    "    color = [b, g, r] or [r,b,g] or [h,s,v]\n",
    "    thresh = [b,g,r] margin allowed around color (1 per channel)\n",
    "    \"\"\"\n",
    "    if isinstance(thresh, int):\n",
    "        thresh = [thresh]*3\n",
    "    thresh = np.array(thresh) * sigma\n",
    "    min_color = np.array([color[0]-thresh[0], color[1]-thresh[1], color[2]-thresh[2]])\n",
    "    max_color = np.array([color[0]+thresh[0], color[1]+thresh[1], color[2]+thresh[2]])\n",
    "    min_color[min_color < 0] = 0\n",
    "    max_color[max_color > 255] = 255\n",
    "    print(\"Min\", min_color)\n",
    "    print(\"Max\", max_color)\n",
    "    \n",
    "    mask = cv2.inRange(img, min_color, max_color)\n",
    "    result = cv2.bitwise_and(img, img, mask=mask)\n",
    "    return mask, result\n",
    "\n",
    "def get_color_of_pixel(fpath, x, y, colorspace='BGR'):\n",
    "    rgb_img = load_cv2_img(img_fpath, colorspace=cv2.COLOR_BGR2RGB)\n",
    "    hsv_img = load_cv2_img(img_fpath, colorspace=cv2.COLOR_BGR2HSV)\n",
    "    \n",
    "    rgb_colors = rgb_img[y,x,:]\n",
    "    hsv_colors = hsv_img[y,x,:]\n",
    "    bgr_colors = np.copy(rgb_colors[::-1])\n",
    "    print (\"BGR:\", bgr_colors)\n",
    "    print (\"RGB:\", rgb_colors)\n",
    "    print (\"HSV:\", hsv_colors)\n",
    "    \n",
    "    # Plot to visualize\n",
    "    img = np.copy(rgb_img)\n",
    "    img[y-5:y+5:,x-5:x+5,:] = 255\n",
    "    img[y,x,:] = 0\n",
    "    plot_img(img, fs=(18,18))\n",
    "    \n",
    "    if colorspace == 'BGR':\n",
    "        return bgr_colors.tolist()\n",
    "    if colorspace == 'RGB':\n",
    "        return rgb_colors.tolist()\n",
    "    return hsv_colors.tolist()\n",
    "\n",
    "def get_hsv_value_of_bgr(bgr_color):\n",
    "    print(\"BGR\", bgr_color)\n",
    "    bgr_color = np.uint8([[bgr_color]])\n",
    "    hsv = cv2.cvtColor(bgr_color, cv2.COLOR_BGR2HSV)[0][0]\n",
    "    print(\"HSV\", hsv)\n",
    "    return hsv\n",
    "\n",
    "# Create color histograms representing average values among samples\n",
    "def get_flattened_channels(imgs):\n",
    "    chans = np.empty(shape=(1,3))\n",
    "    for img in imgs:\n",
    "        h,w,c = img.shape\n",
    "        reshaped = img.reshape((h*w, c))\n",
    "        chans = np.concatenate([chans, reshaped], axis=0)\n",
    "        #print(reshaped.shape, chans.shape)\n",
    "    return chans\n",
    "\n",
    "# Plotting Histogram (all channels flattened)\n",
    "def plot_hist(img, bins=256, title=None):\n",
    "    plt.hist(img.ravel(), bins=bins, range=[0,256])\n",
    "    plt.title(title)\n",
    "    plt.show()\n",
    "\n",
    "def plot_bgr_hist(bgr_img, bins=256, mask=None):\n",
    "    # Mask let's you select for certain regions    \n",
    "    color = ('b','g','r')\n",
    "    for i,col in enumerate(color):\n",
    "        histr = cv2.calcHist([bgr_img],[i],mask,[bins],[0,256])\n",
    "        plt.plot(histr, color=col)\n",
    "        plt.xlim([0,bins])\n",
    "    plt.show()\n",
    "    \n",
    "def plot_bbs_from_rectLabel_annos(json_fpath, img_fpath):\n",
    "    bb_json = json.load(open(json_fpath, 'r'))\n",
    "    fig = plt.figure(figsize=(18,18))\n",
    "    axes = plt.axes([0, 0.03, 1, 0.97])\n",
    "    \n",
    "    img = plt.imread(img_fpath)\n",
    "    imgplot = axes.imshow(img)\n",
    "\n",
    "    for box in bb_json['objects']:\n",
    "        label = box['label']\n",
    "        color = BOX_COLORS[label]\n",
    "        coords = box['x_y_w_h']\n",
    "        bb = Rectangle(\n",
    "            (coords[0],coords[1]), \n",
    "            coords[2], coords[3],\n",
    "            fill=False,\n",
    "            edgecolor=color,\n",
    "            linewidth=2)\n",
    "        axes.add_patch(bb)\n",
    "        \n",
    "def get_img_crops_from_rectLabel_bbs(img, json_fpath):\n",
    "    crops_dict = {}\n",
    "    bb_json = json.load(open(json_fpath, 'r'))\n",
    "    for box in bb_json['objects']:\n",
    "        label = box['label']\n",
    "        x,y,w,h = box['x_y_w_h']\n",
    "        crop = img[y:y+h,x:x+w,:]\n",
    "        if label not in crops_dict:\n",
    "            crops_dict[label] = []\n",
    "        crops_dict[label].append(crop)\n",
    "    return crops_dict\n",
    "\n",
    "def make_boxes(meta):\n",
    "    boxes = {}\n",
    "    for idx,row in meta.iterrows():\n",
    "        box = json.loads(row.to_json())\n",
    "        fname = row['filename']\n",
    "        if fname in boxes:\n",
    "            boxes[fname].append(box)\n",
    "        else:\n",
    "            boxes[fname] = [box]\n",
    "    return boxes"
   ]
  },
  {
   "cell_type": "code",
   "execution_count": null,
   "metadata": {},
   "outputs": [],
   "source": [
    "metadata = pd.read_csv(metadata_fpath)\n",
    "metadata['label_name'] = 'ball'\n",
    "metadata['label_id'] = 1\n",
    "fnames = metadata['filename']\n",
    "fpaths = [os.path.join(IMG_DIR, f) for f in fnames]\n",
    "metadata['fpath'] = fpaths\n",
    "GT_BOXES = make_boxes(metadata)"
   ]
  },
  {
   "cell_type": "markdown",
   "metadata": {
    "heading_collapsed": true
   },
   "source": [
    "## Thresholding\n",
    "\n",
    "* https://gist.github.com/danielballan/ab5e28420ba1b24c5ad4"
   ]
  },
  {
   "cell_type": "code",
   "execution_count": null,
   "metadata": {
    "hidden": true
   },
   "outputs": [],
   "source": [
    "json_fpath = os.path.join(DATA_DIR, 'volleyball_frame_00665.json')\n",
    "img_fpath = os.path.join(DATA_DIR, 'volleyball_frame_00665.png')\n",
    "\n",
    "BOX_COLORS = {\n",
    "    'referee': 'black',\n",
    "    'red_team': 'red',\n",
    "    'blue_team': 'blue',\n",
    "    'court-inner': 'green',\n",
    "    'court_outer': 'white',\n",
    "}\n",
    "        \n",
    "plot_bbs_from_rectLabel_annos(json_fpath, img_fpath)"
   ]
  },
  {
   "cell_type": "code",
   "execution_count": null,
   "metadata": {
    "hidden": true
   },
   "outputs": [],
   "source": [
    "bgr_img = load_cv2_img(img_fpath)\n",
    "crops = get_img_crops_from_rectLabel_bbs(bgr_img, json_fpath)"
   ]
  },
  {
   "cell_type": "code",
   "execution_count": null,
   "metadata": {
    "hidden": true
   },
   "outputs": [],
   "source": [
    "for crop in crops['red_team']:\n",
    "    plot_img(crop, fs=(6,6))"
   ]
  },
  {
   "cell_type": "code",
   "execution_count": null,
   "metadata": {
    "hidden": true,
    "scrolled": true
   },
   "outputs": [],
   "source": [
    "for crop in crops['court-inner']:\n",
    "    plot_img(crop, fs=(6,6))"
   ]
  },
  {
   "cell_type": "code",
   "execution_count": null,
   "metadata": {
    "hidden": true,
    "scrolled": false
   },
   "outputs": [],
   "source": [
    "# BGR Histograms\n",
    "bgr_img = load_cv2_img(img_fpath)\n",
    "crops = get_img_crops_from_rectLabel_bbs(bgr_img, json_fpath)\n",
    "\n",
    "hists = {}\n",
    "for label in crops.keys():\n",
    "    chans = get_flattened_channels(crops[label])\n",
    "    bgr = ('b','g','r')\n",
    "    hists[label] = {\n",
    "        'b':None,\n",
    "        'g':None,\n",
    "        'r':None\n",
    "    }\n",
    "    for i in range(len(chans[0])):\n",
    "        hist, bins = np.histogram(chans[:,i], 50, [0,256])\n",
    "        hists[label][bgr[i]] = hist\n",
    "        plot_hist(chans[:,i], bins=50, title=label + ' ' + bgr[i])"
   ]
  },
  {
   "cell_type": "code",
   "execution_count": null,
   "metadata": {
    "hidden": true
   },
   "outputs": [],
   "source": [
    "# HSV Histograms\n",
    "hsv_img = load_cv2_img(img_fpath, colorspace=cv2.COLOR_BGR2HSV)\n",
    "crops = get_img_crops_from_rectLabel_bbs(hsv_img, json_fpath)\n",
    "\n",
    "hists = {}\n",
    "for label in crops.keys():\n",
    "    chans = get_flattened_channels(crops[label])\n",
    "    channels = ('h','s','v')\n",
    "    hists[label] = {c:None for c in bgr}\n",
    "    for i in range(len(chans[0])):\n",
    "        hist, bins = np.histogram(chans[:,i], 50, [0,256])\n",
    "        hists[label][bgr[i]] = hist\n",
    "        plot_hist(chans[:,i], bins=50, title=label + ' ' + channels[i])"
   ]
  },
  {
   "cell_type": "markdown",
   "metadata": {
    "heading_collapsed": true,
    "hidden": true
   },
   "source": [
    "### Animation"
   ]
  },
  {
   "cell_type": "code",
   "execution_count": null,
   "metadata": {
    "hidden": true
   },
   "outputs": [],
   "source": [
    "# Got it working!\n",
    "fig = plt.figure()\n",
    "axes = plt.axes([0, 0.03, 1, 0.97])\n",
    "\n",
    "img = plt.imread(fpaths[0])\n",
    "imgplot = axes.imshow(img, animated=True)"
   ]
  },
  {
   "cell_type": "code",
   "execution_count": null,
   "metadata": {
    "hidden": true
   },
   "outputs": [],
   "source": [
    "all_boxes = GT_BOXES\n",
    "def init():\n",
    "    return (imgplot,)\n",
    "\n",
    "def animate_w_boxes(fname):\n",
    "    fpath = os.path.join(IMG_DIR, fname)\n",
    "    img = plt.imread(fpath)\n",
    "    imgplot.set_array(img)\n",
    "    \n",
    "    # Remove old boxes\n",
    "    for p in axes.patches:\n",
    "        p.remove()\n",
    "    boxes = all_boxes[fname]\n",
    "    for box in boxes:\n",
    "        width = box['x2'] - box['x1']\n",
    "        height = box['y2'] - box['y1']\n",
    "        bb = Rectangle(\n",
    "            (box['x1'],box['y1']), \n",
    "            width, height,\n",
    "            fill=False,\n",
    "            edgecolor=\"red\")\n",
    "        axes.add_patch(bb)    \n",
    "    return (imgplot,)"
   ]
  },
  {
   "cell_type": "code",
   "execution_count": null,
   "metadata": {
    "hidden": true
   },
   "outputs": [],
   "source": [
    "# call the animator. blit=True means only re-draw the parts that have changed.\n",
    "anim = animation.FuncAnimation(fig, animate_w_boxes, init_func=init,\n",
    "                               frames=fnames, interval=100, blit=True)"
   ]
  },
  {
   "cell_type": "code",
   "execution_count": null,
   "metadata": {
    "hidden": true
   },
   "outputs": [],
   "source": [
    "# ~1 minute to generate\n",
    "HTML(anim.to_html5_video())"
   ]
  },
  {
   "cell_type": "markdown",
   "metadata": {},
   "source": [
    "## HOG w SVM"
   ]
  },
  {
   "cell_type": "code",
   "execution_count": null,
   "metadata": {},
   "outputs": [],
   "source": [
    "import imutils\n",
    "from imutils.object_detection import non_max_suppression\n",
    "\n",
    "img = load_cv2_img(img_fpath, colorspace=cv2.COLOR_BGR2RGB)\n",
    "crops = get_img_crops_from_rectLabel_bbs(img, json_fpath)"
   ]
  },
  {
   "cell_type": "code",
   "execution_count": null,
   "metadata": {},
   "outputs": [],
   "source": [
    "def get_people_boxes(img, min_width=1000, stride=(8,8), padding=(8,8), \n",
    "                     scale=1.05, non_max_thresh=None):\n",
    "    hog = cv2.HOGDescriptor()\n",
    "    hog.setSVMDetector(cv2.HOGDescriptor_getDefaultPeopleDetector())\n",
    "    \n",
    "    img = imutils.resize(img, width=min(min_width, img.shape[1]))\n",
    "\n",
    "    (rects, weights) = hog.detectMultiScale(img, winStride=stride,\n",
    "        padding=padding, scale=scale)\n",
    "    \n",
    "    rects = np.array([[x, y, x + w, y + h] for (x, y, w, h) in rects])\n",
    "    \n",
    "    if non_max_thresh is not None:\n",
    "        rects = non_max_suppression(rects, probs=None, overlapThresh=non_max_thresh)\n",
    "\n",
    "    return img, rects\n",
    "\n",
    "def plot_boxes(img, rects, title=\"boxes\"):\n",
    "    for (x1, y1, x2, y2) in rects:\n",
    "        cv2.rectangle(img, (x1, y1), (x2, y2), (0, 0, 255), 2)\n",
    "    plot_img(img, title=title)"
   ]
  },
  {
   "cell_type": "code",
   "execution_count": null,
   "metadata": {},
   "outputs": [],
   "source": [
    "img = load_cv2_img(img_fpath, colorspace=cv2.COLOR_BGR2RGB)\n",
    "img, boxes = get_people_boxes(img, min_width=600, stride=(8,8), padding=(16,16), \n",
    "                              scale=1.05, non_max_thresh=.65)\n",
    "plot_boxes(img, boxes)"
   ]
  },
  {
   "cell_type": "code",
   "execution_count": null,
   "metadata": {
    "scrolled": false
   },
   "outputs": [],
   "source": [
    "widths = [1000]#,1200]\n",
    "strides = [(2,2),(4,4)]#,(8,8)]#,(16,16)]\n",
    "padding = [(8,8), (32,32)]\n",
    "scales = [1.01, 1.03, 1.05]\n",
    "nms = [None, .3, .6]\n",
    "params = [{\n",
    "    'width': 1000,\n",
    "    'stride': (8,8),\n",
    "    'padding': (16,16),\n",
    "    'scale': 1.05,\n",
    "    'nms': None,\n",
    "}]\n",
    "\n",
    "for w in widths:\n",
    "    for s in strides:\n",
    "        for pad in padding:\n",
    "            for scale in scales:\n",
    "                for nm in nms:\n",
    "                    title = (w,s,pad,scale,nm)\n",
    "                    img = load_cv2_img(img_fpath, colorspace=cv2.COLOR_BGR2RGB)\n",
    "                    img, boxes = get_people_boxes(img, min_width=w, stride=s, padding=pad, \n",
    "                                                  scale=scale, non_max_thresh=nm)\n",
    "                    plot_boxes(img, boxes, title)"
   ]
  },
  {
   "cell_type": "markdown",
   "metadata": {},
   "source": [
    "### Links"
   ]
  },
  {
   "cell_type": "markdown",
   "metadata": {},
   "source": [
    "* https://www.pyimagesearch.com/2014/11/17/non-maximum-suppression-object-detection-python\n",
    "* https://www.pyimagesearch.com/2015/11/16/hog-detectmultiscale-parameters-explained/\n",
    "* http://lear.inrialpes.fr/people/triggs/pubs/Dalal-cvpr05.pdf\n",
    "* http://mccormickml.com/2013/05/09/hog-person-detector-tutorial/\n",
    "* https://www.learnopencv.com/histogram-of-oriented-gradients/\n",
    "* https://stackoverflow.com/questions/34985196/opencv-using-svm-and-hog-for-person-detection\n",
    "* https://www.pyimagesearch.com/2015/11/09/pedestrian-detection-opencv/"
   ]
  },
  {
   "cell_type": "code",
   "execution_count": null,
   "metadata": {},
   "outputs": [],
   "source": []
  }
 ],
 "metadata": {
  "kernelspec": {
   "display_name": "Python 3",
   "language": "python",
   "name": "python3"
  },
  "language_info": {
   "codemirror_mode": {
    "name": "ipython",
    "version": 3
   },
   "file_extension": ".py",
   "mimetype": "text/x-python",
   "name": "python",
   "nbconvert_exporter": "python",
   "pygments_lexer": "ipython3",
   "version": "3.6.4"
  },
  "latex_envs": {
   "LaTeX_envs_menu_present": true,
   "autocomplete": true,
   "bibliofile": "biblio.bib",
   "cite_by": "apalike",
   "current_citInitial": 1,
   "eqLabelWithNumbers": true,
   "eqNumInitial": 1,
   "hotkeys": {
    "equation": "Ctrl-E",
    "itemize": "Ctrl-I"
   },
   "labels_anchors": false,
   "latex_user_defs": false,
   "report_style_numbering": false,
   "user_envs_cfg": false
  },
  "toc": {
   "colors": {
    "hover_highlight": "#DAA520",
    "navigate_num": "#000000",
    "navigate_text": "#333333",
    "running_highlight": "#FF0000",
    "selected_highlight": "#FFD700",
    "sidebar_border": "#EEEEEE",
    "wrapper_background": "#FFFFFF"
   },
   "moveMenuLeft": true,
   "nav_menu": {
    "height": "111px",
    "width": "253px"
   },
   "navigate_menu": true,
   "number_sections": true,
   "sideBar": true,
   "skip_h1_title": false,
   "threshold": 4,
   "toc_cell": false,
   "toc_position": {},
   "toc_section_display": "block",
   "toc_window_display": false,
   "widenNotebook": false
  }
 },
 "nbformat": 4,
 "nbformat_minor": 2
}
