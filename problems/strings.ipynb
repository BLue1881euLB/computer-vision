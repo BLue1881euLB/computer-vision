{
 "cells": [
  {
   "cell_type": "markdown",
   "metadata": {},
   "source": [
    "## Strings\n",
    "\n",
    "* https://paper.dropbox.com/doc/Interview-Problems-eG5eZN1D0SewzP9UOqg3t"
   ]
  },
  {
   "cell_type": "markdown",
   "metadata": {
    "collapsed": true,
    "heading_collapsed": true
   },
   "source": [
    "## Helpers"
   ]
  },
  {
   "cell_type": "code",
   "execution_count": 3,
   "metadata": {
    "hidden": true
   },
   "outputs": [],
   "source": [
    "def test(cases, func):\n",
    "    for i in range(len(cases)):\n",
    "        output = func(cases[i][0])\n",
    "        try:\n",
    "            assert output == cases[i][1]\n",
    "            print(i, \"- Correct\")\n",
    "        except:\n",
    "            print(i, \"- Failed\")\n",
    "            print(\"\\tExpected\", cases[i][1])\n",
    "            print(\"\\tOutput\", output)"
   ]
  },
  {
   "cell_type": "markdown",
   "metadata": {
    "heading_collapsed": true
   },
   "source": [
    "## Problems"
   ]
  },
  {
   "cell_type": "markdown",
   "metadata": {
    "heading_collapsed": true,
    "hidden": true
   },
   "source": [
    "### Last Word"
   ]
  },
  {
   "cell_type": "markdown",
   "metadata": {
    "hidden": true
   },
   "source": [
    "* https://www.interviewbit.com/problems/length-of-last-word/"
   ]
  },
  {
   "cell_type": "code",
   "execution_count": 4,
   "metadata": {
    "hidden": true
   },
   "outputs": [
    {
     "name": "stdout",
     "output_type": "stream",
     "text": [
      "0 - Correct\n",
      "1 - Correct\n",
      "2 - Correct\n",
      "3 - Correct\n",
      "4 - Correct\n",
      "5 - Correct\n"
     ]
    }
   ],
   "source": [
    "class Solution:\n",
    "    # @param A : string\n",
    "    # @return an integer\n",
    "    def lengthOfLastWord(self, A):\n",
    "        i = len(A) - 1\n",
    "        \n",
    "        while i >= 0 and A[i] == ' ':\n",
    "            i -= 1\n",
    "            \n",
    "        if i == -1:\n",
    "            return 0\n",
    "        \n",
    "        n = 0\n",
    "        while i >= 0 and A[i] != ' ':\n",
    "            n += 1\n",
    "            i -= 1\n",
    "        return n\n",
    "    \n",
    "s = Solution()\n",
    "cases = [('', 0), (' ', 0), ('   ',0), ('word',4), ('hey world',5), ('hello world  ',5)]\n",
    "test(cases, s.lengthOfLastWord)"
   ]
  },
  {
   "cell_type": "markdown",
   "metadata": {
    "collapsed": true,
    "heading_collapsed": true,
    "hidden": true
   },
   "source": [
    "### Is Palindrome"
   ]
  },
  {
   "cell_type": "markdown",
   "metadata": {
    "collapsed": true,
    "hidden": true
   },
   "source": [
    "* https://www.interviewbit.com/problems/palindrome-string/"
   ]
  },
  {
   "cell_type": "code",
   "execution_count": 11,
   "metadata": {
    "hidden": true
   },
   "outputs": [
    {
     "name": "stdout",
     "output_type": "stream",
     "text": [
      "0 - Correct\n",
      "1 - Correct\n",
      "2 - Correct\n",
      "3 - Correct\n",
      "4 - Correct\n",
      "5 - Correct\n",
      "6 - Correct\n"
     ]
    }
   ],
   "source": [
    "\"\"\"\n",
    "Given a string, determine if it is a palindrome, considering only alphanumeric characters and ignoring cases.\n",
    "\n",
    "Example:\n",
    "\n",
    "\"A man, a plan, a canal: Panama\" is a palindrome.\n",
    "\n",
    "\"race a car\" is not a palindrome.\n",
    "\n",
    "Return 0 / 1 ( 0 for false, 1 for true ) for this problem\n",
    "\"\"\"\n",
    "\n",
    "class Solution:\n",
    "    # @param A : string\n",
    "    # @return an integer\n",
    "    def isPalindrome(self, A):\n",
    "        i = 0\n",
    "        j = len(A) - 1\n",
    "        while i < j:\n",
    "            if not A[i].isalnum():\n",
    "                i += 1\n",
    "            elif not A[j].isalnum():\n",
    "                j -= 1\n",
    "            elif A[i].lower() != A[j].lower():\n",
    "                return False\n",
    "            else:\n",
    "                i += 1\n",
    "                j -= 1\n",
    "        return True\n",
    "\n",
    "    \n",
    "s = Solution()\n",
    "cases = [\n",
    "    (' ', 1), ('a', 1), ('aba',1), ('abba',1), ('ab :ba',1), \n",
    "    ('A man, a plan, a canal: Panama',1), ('race a car', 0)\n",
    "]\n",
    "test(cases, s.isPalindrome)"
   ]
  },
  {
   "cell_type": "markdown",
   "metadata": {
    "heading_collapsed": true,
    "hidden": true
   },
   "source": [
    "### Substring in String"
   ]
  },
  {
   "cell_type": "markdown",
   "metadata": {
    "hidden": true
   },
   "source": [
    "* https://www.interviewbit.com/problems/implement-strstr/"
   ]
  },
  {
   "cell_type": "code",
   "execution_count": 14,
   "metadata": {
    "hidden": true
   },
   "outputs": [],
   "source": [
    "class Solution:\n",
    "    # @param A : string\n",
    "    # @param B : substring  \n",
    "    # @return an integer (-1 if not found, index if found)\n",
    "    def strStr(self, A, B):\n",
    "        for i in range(0, len(A)-len(B)+1):\n",
    "            if A[i:i+len(B)] == B:\n",
    "                return i\n",
    "        return -1\n",
    "        \n",
    "\n",
    "s = Solution()\n",
    "assert s.strStr('abba', 'bb') == 1\n",
    "assert s.strStr('aaba', 'bb') == -1\n",
    "assert s.strStr('ab bb a', 'bb') == 3"
   ]
  },
  {
   "cell_type": "markdown",
   "metadata": {
    "heading_collapsed": true,
    "hidden": true
   },
   "source": [
    "### Remove Duplicates"
   ]
  },
  {
   "cell_type": "code",
   "execution_count": 37,
   "metadata": {
    "hidden": true
   },
   "outputs": [],
   "source": [
    "\"\"\"\n",
    "Given a string A and substring B, return a new string with only one copy of B.\n",
    "\n",
    "Notes\n",
    "-----\n",
    "* strings are immutable so we need extra memory\n",
    "\n",
    "Cases\n",
    "-------\n",
    "* Empty or length one\n",
    "* Substring not found\n",
    "\"\"\"\n",
    "\n",
    "#cases = [(\"\",out0), (in1,out1), (in2,out2)]\n",
    "\n",
    "def remove_dupes(A, B):\n",
    "    new_str = ''\n",
    "    i = 0\n",
    "    found = False\n",
    "    while i < len(A):\n",
    "        \n",
    "        # Remaining chars < len(B)\n",
    "        if i + len(B) > len(A):\n",
    "            new_str += A[i]\n",
    "            i += 1        \n",
    "        \n",
    "        # We HAVE NOT found and we find\n",
    "        elif not found and A[i:i+len(B)] == B:\n",
    "            found = True\n",
    "            new_str += B\n",
    "            i += len(B)\n",
    "        \n",
    "        # We HAVE found and we find\n",
    "        elif found and A[i:i+len(B)] == B:\n",
    "            i += len(B)\n",
    "        \n",
    "        # Doesn't matter if we've found or not\n",
    "        # since current string does not == B\n",
    "        else:\n",
    "            new_str += A[i]\n",
    "            i += 1\n",
    "\n",
    "    return new_str\n",
    "\n",
    "\n",
    "assert remove_dupes(\"helloworldhelloworld\", \"hello\") == 'helloworldworld'\n",
    "assert remove_dupes(\"ababa\", \"ab\") == 'aba'\n",
    "assert remove_dupes(\"aaaaa\", \"a\") == 'a'\n",
    "assert remove_dupes(\"ab aba\", \"ab\") == 'ab a'"
   ]
  },
  {
   "cell_type": "code",
   "execution_count": null,
   "metadata": {
    "hidden": true
   },
   "outputs": [],
   "source": []
  }
 ],
 "metadata": {
  "kernelspec": {
   "display_name": "Python 3",
   "language": "python",
   "name": "python3"
  },
  "language_info": {
   "codemirror_mode": {
    "name": "ipython",
    "version": 3
   },
   "file_extension": ".py",
   "mimetype": "text/x-python",
   "name": "python",
   "nbconvert_exporter": "python",
   "pygments_lexer": "ipython3",
   "version": "3.6.4"
  },
  "latex_envs": {
   "LaTeX_envs_menu_present": true,
   "autocomplete": true,
   "bibliofile": "biblio.bib",
   "cite_by": "apalike",
   "current_citInitial": 1,
   "eqLabelWithNumbers": true,
   "eqNumInitial": 1,
   "hotkeys": {
    "equation": "Ctrl-E",
    "itemize": "Ctrl-I"
   },
   "labels_anchors": false,
   "latex_user_defs": false,
   "report_style_numbering": false,
   "user_envs_cfg": false
  },
  "toc": {
   "colors": {
    "hover_highlight": "#DAA520",
    "navigate_num": "#000000",
    "navigate_text": "#333333",
    "running_highlight": "#FF0000",
    "selected_highlight": "#FFD700",
    "sidebar_border": "#EEEEEE",
    "wrapper_background": "#FFFFFF"
   },
   "moveMenuLeft": true,
   "nav_menu": {
    "height": "26px",
    "width": "254px"
   },
   "navigate_menu": true,
   "number_sections": true,
   "sideBar": true,
   "threshold": 4,
   "toc_cell": false,
   "toc_section_display": "block",
   "toc_window_display": false,
   "widenNotebook": false
  }
 },
 "nbformat": 4,
 "nbformat_minor": 2
}
