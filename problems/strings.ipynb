{
 "cells": [
  {
   "cell_type": "markdown",
   "metadata": {},
   "source": [
    "## Strings\n",
    "\n",
    "* https://paper.dropbox.com/doc/Interview-Problems-eG5eZN1D0SewzP9UOqg3t"
   ]
  },
  {
   "cell_type": "markdown",
   "metadata": {
    "collapsed": true
   },
   "source": [
    "## Helpers"
   ]
  },
  {
   "cell_type": "code",
   "execution_count": 8,
   "metadata": {},
   "outputs": [],
   "source": [
    "def test(cases, func):\n",
    "    for i in range(len(cases)):\n",
    "        output = func(cases[i][0])\n",
    "        try:\n",
    "            assert output == cases[i][1]\n",
    "            print(i, \"- Correct\")\n",
    "        except:\n",
    "            print(i, \"- Failed\")\n",
    "            print(\"\\tExpected\", cases[i][1])\n",
    "            print(\"\\tOutput\", output)"
   ]
  },
  {
   "cell_type": "markdown",
   "metadata": {},
   "source": [
    "## Problems"
   ]
  },
  {
   "cell_type": "markdown",
   "metadata": {
    "heading_collapsed": true
   },
   "source": [
    "### Last Word"
   ]
  },
  {
   "cell_type": "markdown",
   "metadata": {
    "hidden": true
   },
   "source": [
    "* https://www.interviewbit.com/problems/length-of-last-word/"
   ]
  },
  {
   "cell_type": "code",
   "execution_count": 4,
   "metadata": {
    "hidden": true
   },
   "outputs": [
    {
     "name": "stdout",
     "output_type": "stream",
     "text": [
      "0 - Correct\n",
      "1 - Correct\n",
      "2 - Correct\n",
      "3 - Correct\n",
      "4 - Correct\n",
      "5 - Correct\n"
     ]
    }
   ],
   "source": [
    "class Solution:\n",
    "    # @param A : string\n",
    "    # @return an integer\n",
    "    def lengthOfLastWord(self, A):\n",
    "        i = len(A) - 1\n",
    "        \n",
    "        while i >= 0 and A[i] == ' ':\n",
    "            i -= 1\n",
    "            \n",
    "        if i == -1:\n",
    "            return 0\n",
    "        \n",
    "        n = 0\n",
    "        while i >= 0 and A[i] != ' ':\n",
    "            n += 1\n",
    "            i -= 1\n",
    "        return n\n",
    "    \n",
    "s = Solution()\n",
    "cases = [('', 0), (' ', 0), ('   ',0), ('word',4), ('hey world',5), ('hello world  ',5)]\n",
    "test(cases, s.lengthOfLastWord)"
   ]
  },
  {
   "cell_type": "markdown",
   "metadata": {
    "collapsed": true,
    "heading_collapsed": true
   },
   "source": [
    "### Is Palindrome"
   ]
  },
  {
   "cell_type": "markdown",
   "metadata": {
    "collapsed": true,
    "hidden": true
   },
   "source": [
    "* https://www.interviewbit.com/problems/palindrome-string/"
   ]
  },
  {
   "cell_type": "code",
   "execution_count": 11,
   "metadata": {
    "hidden": true
   },
   "outputs": [
    {
     "name": "stdout",
     "output_type": "stream",
     "text": [
      "0 - Correct\n",
      "1 - Correct\n",
      "2 - Correct\n",
      "3 - Correct\n",
      "4 - Correct\n",
      "5 - Correct\n",
      "6 - Correct\n"
     ]
    }
   ],
   "source": [
    "\"\"\"\n",
    "Given a string, determine if it is a palindrome, considering only alphanumeric characters and ignoring cases.\n",
    "\n",
    "Example:\n",
    "\n",
    "\"A man, a plan, a canal: Panama\" is a palindrome.\n",
    "\n",
    "\"race a car\" is not a palindrome.\n",
    "\n",
    "Return 0 / 1 ( 0 for false, 1 for true ) for this problem\n",
    "\"\"\"\n",
    "\n",
    "class Solution:\n",
    "    # @param A : string\n",
    "    # @return an integer\n",
    "    def isPalindrome(self, A):\n",
    "        i = 0\n",
    "        j = len(A) - 1\n",
    "        while i < j:\n",
    "            if not A[i].isalnum():\n",
    "                i += 1\n",
    "            elif not A[j].isalnum():\n",
    "                j -= 1\n",
    "            elif A[i].lower() != A[j].lower():\n",
    "                return False\n",
    "            else:\n",
    "                i += 1\n",
    "                j -= 1\n",
    "        return True\n",
    "\n",
    "    \n",
    "s = Solution()\n",
    "cases = [\n",
    "    (' ', 1), ('a', 1), ('aba',1), ('abba',1), ('ab :ba',1), \n",
    "    ('A man, a plan, a canal: Panama',1), ('race a car', 0)\n",
    "]\n",
    "test(cases, s.isPalindrome)"
   ]
  },
  {
   "cell_type": "markdown",
   "metadata": {
    "heading_collapsed": true
   },
   "source": [
    "### Substring in String"
   ]
  },
  {
   "cell_type": "markdown",
   "metadata": {
    "hidden": true
   },
   "source": [
    "* https://www.interviewbit.com/problems/implement-strstr/"
   ]
  },
  {
   "cell_type": "code",
   "execution_count": 14,
   "metadata": {
    "hidden": true
   },
   "outputs": [],
   "source": [
    "class Solution:\n",
    "    # @param A : string\n",
    "    # @param B : substring  \n",
    "    # @return an integer (-1 if not found, index if found)\n",
    "    def strStr(self, A, B):\n",
    "        for i in range(0, len(A)-len(B)+1):\n",
    "            if A[i:i+len(B)] == B:\n",
    "                return i\n",
    "        return -1\n",
    "        \n",
    "\n",
    "s = Solution()\n",
    "assert s.strStr('abba', 'bb') == 1\n",
    "assert s.strStr('aaba', 'bb') == -1\n",
    "assert s.strStr('ab bb a', 'bb') == 3"
   ]
  },
  {
   "cell_type": "markdown",
   "metadata": {
    "heading_collapsed": true
   },
   "source": [
    "### Remove Duplicates"
   ]
  },
  {
   "cell_type": "code",
   "execution_count": 37,
   "metadata": {
    "hidden": true
   },
   "outputs": [],
   "source": [
    "\"\"\"\n",
    "Given a string A and substring B, return a new string with only one copy of B.\n",
    "\n",
    "Notes\n",
    "-----\n",
    "* strings are immutable so we need extra memory\n",
    "\n",
    "Cases\n",
    "-------\n",
    "* Empty or length one\n",
    "* Substring not found\n",
    "\"\"\"\n",
    "\n",
    "#cases = [(\"\",out0), (in1,out1), (in2,out2)]\n",
    "\n",
    "def remove_dupes(A, B):\n",
    "    new_str = ''\n",
    "    i = 0\n",
    "    found = False\n",
    "    while i < len(A):\n",
    "        \n",
    "        # Remaining chars < len(B)\n",
    "        if i + len(B) > len(A):\n",
    "            new_str += A[i]\n",
    "            i += 1        \n",
    "        \n",
    "        # We HAVE NOT found and we find\n",
    "        elif not found and A[i:i+len(B)] == B:\n",
    "            found = True\n",
    "            new_str += B\n",
    "            i += len(B)\n",
    "        \n",
    "        # We HAVE found and we find\n",
    "        elif found and A[i:i+len(B)] == B:\n",
    "            i += len(B)\n",
    "        \n",
    "        # Doesn't matter if we've found or not\n",
    "        # since current string does not == B\n",
    "        else:\n",
    "            new_str += A[i]\n",
    "            i += 1\n",
    "\n",
    "    return new_str\n",
    "\n",
    "\n",
    "assert remove_dupes(\"helloworldhelloworld\", \"hello\") == 'helloworldworld'\n",
    "assert remove_dupes(\"ababa\", \"ab\") == 'aba'\n",
    "assert remove_dupes(\"aaaaa\", \"a\") == 'a'\n",
    "assert remove_dupes(\"ab aba\", \"ab\") == 'ab a'"
   ]
  },
  {
   "cell_type": "markdown",
   "metadata": {
    "heading_collapsed": true
   },
   "source": [
    "### Longest Common Prefix"
   ]
  },
  {
   "cell_type": "markdown",
   "metadata": {
    "hidden": true
   },
   "source": [
    "* https://www.interviewbit.com/problems/longest-common-prefix/"
   ]
  },
  {
   "cell_type": "code",
   "execution_count": 2,
   "metadata": {
    "hidden": true
   },
   "outputs": [
    {
     "name": "stdout",
     "output_type": "stream",
     "text": [
      "0 - Correct\n",
      "1 - Correct\n"
     ]
    }
   ],
   "source": [
    "\"\"\"\n",
    "Write a function to find the longest common prefix string amongst an array of strings.\n",
    "\n",
    "Longest common prefix for a pair of strings S1 and S2 is the longest string S which is the prefix of both S1 and S2.\n",
    "\n",
    "As an example, longest common prefix of \"abcdefgh\" and \"abcefgh\" is \"abc\".\n",
    "\n",
    "Given the array of strings, you need to find the longest S which is the prefix of ALL the strings in the array.\n",
    "\n",
    "Given the array as:\n",
    "[\n",
    "  \"abcdefgh\",\n",
    "  \"aefghijk\",\n",
    "  \"abcefgh\"\n",
    "]\n",
    "The answer would be 'a'.\n",
    "\n",
    "Cases\n",
    "-----\n",
    "- empty str\n",
    "- no common prefix\n",
    "- all strings equal\n",
    "- first letter prefix\n",
    "- multiple letter prefix\n",
    "- special chars?\n",
    "- different length strings\n",
    "\n",
    "Complexity\n",
    "----------\n",
    "n = number of strings\n",
    "k = length of smallest string\n",
    "\n",
    "- time = O(n*k)\n",
    "- space = no extra space\n",
    "\n",
    "Approach\n",
    "--------\n",
    "i = 0\n",
    "prefix = \"\"\n",
    "char = None\n",
    "while True:\n",
    "    // loop through all the strings\n",
    "    \n",
    "        // if i >= len(string)\n",
    "            return prefix\n",
    "\n",
    "        // if char is None:\n",
    "            char = string[i]\n",
    "        \n",
    "        // elif string[i] != char:\n",
    "              return prefix\n",
    "        i += 1        \n",
    "    prefix += char\n",
    "    char = None\n",
    "\"\"\"\n",
    "\n",
    "\n",
    "class Solution:\n",
    "    # @param A : list of strings\n",
    "    # @return a strings\n",
    "    def longestCommonPrefix(self, A):\n",
    "        i = 0\n",
    "        prefix = \"\"\n",
    "        char = None\n",
    "        while True:\n",
    "            for s in A:\n",
    "                if i >= len(s):\n",
    "                    return prefix\n",
    "                elif char is None:\n",
    "                    char = s[i]\n",
    "                elif s[i] != char:\n",
    "                    return prefix\n",
    "            i += 1\n",
    "            prefix += char\n",
    "            char = None\n",
    "\n",
    "\n",
    "s = Solution()\n",
    "cases = [\n",
    "    ([\"abcdefgh\",\"aefghijk\",\"abcefgh\"], 'a'),\n",
    "    ([\"abcdefgh\",\"abcefghijk\",\"abcefgh\"], 'abc')\n",
    "]\n",
    "test(cases, s.longestCommonPrefix)"
   ]
  },
  {
   "cell_type": "markdown",
   "metadata": {},
   "source": [
    "### Roman to Integer"
   ]
  },
  {
   "cell_type": "markdown",
   "metadata": {},
   "source": [
    "* https://www.interviewbit.com/problems/roman-to-integer/"
   ]
  },
  {
   "cell_type": "code",
   "execution_count": 7,
   "metadata": {},
   "outputs": [
    {
     "name": "stdout",
     "output_type": "stream",
     "text": [
      "0 - Correct\n",
      "1 - Correct\n",
      "2 - Correct\n",
      "3 - Correct\n",
      "4 - Correct\n",
      "5 - Correct\n",
      "6 - Correct\n"
     ]
    }
   ],
   "source": [
    "\"\"\"\n",
    "Given a roman numeral, convert it to an integer.\n",
    "\n",
    "Input is guaranteed to be within the range from 1 to 3999.\n",
    "\n",
    "Read more details about roman numerals at Roman Numeric System\n",
    "\n",
    "Example :\n",
    "\n",
    "Input : \"XIV\"\n",
    "Return : 14\n",
    "Input : \"XX\"\n",
    "Output : 20\n",
    "\n",
    "1-10\n",
    "I, II, III, IIII, V, VI, VII, VIII, VIIII, X.\n",
    "\n",
    "10-100\n",
    "X, XX, XXX, XL, L, LX, LXX, LXXX, XC, C.\n",
    "\n",
    "100-1000\n",
    "C, CC, CCC, CD, D, DC, DCC, DCCC, CM, M.\n",
    "\n",
    "2014\n",
    "MMXIV\n",
    "\n",
    "I = 1\n",
    "V = 5\n",
    "X = 10\n",
    "L = 50\n",
    "C = 100\n",
    "D = 500\n",
    "M = 1000\n",
    "\n",
    "Notes\n",
    "-----\n",
    "What's tricky is that\n",
    "the order of the symbols\n",
    "determines how they're read\n",
    "I before V means 4\n",
    "I after V means 6\n",
    "\n",
    "Cases\n",
    "-----\n",
    "Using all the letters\n",
    "Using the prefix/postfix notation for all the letters\n",
    "1\n",
    "1-10\n",
    "10-100\n",
    "100-1000\n",
    ">1000\n",
    "3999\n",
    "\"\"\"\n",
    "class Solution:\n",
    "    # @param A : string\n",
    "    # @return an integer\n",
    "    def table(self, letter):\n",
    "        numerals = {\n",
    "            'I': 1,\n",
    "            'V': 5,\n",
    "            'X': 10,\n",
    "            'L': 50,\n",
    "            'C': 100,\n",
    "            'D': 500,\n",
    "            'M': 1000\n",
    "        }\n",
    "        return numerals[letter]\n",
    "    \n",
    "    def romanToInt(self, A):\n",
    "        cur_sum = 0\n",
    "        i = len(A)-1\n",
    "        while i >= 0:\n",
    "            num = self.table(A[i])\n",
    "            if i == len(A)-1:\n",
    "                cur_sum += num\n",
    "            elif num >= self.table(A[i+1]):\n",
    "                cur_sum += num\n",
    "            else:\n",
    "                cur_sum -= num\n",
    "            i -= 1\n",
    "        return cur_sum\n",
    "            \n",
    "\n",
    "s = Solution()\n",
    "cases = [\n",
    "    ('IV', 4),\n",
    "    ('V', 5),\n",
    "    ('VI', 6),\n",
    "    ('XIV', 14),\n",
    "    ('XX', 20),\n",
    "    ('XIV', 14),\n",
    "    ('MMXIV', 2014),\n",
    "]\n",
    "test(cases, s.romanToInt)"
   ]
  },
  {
   "cell_type": "markdown",
   "metadata": {},
   "source": [
    "### Add Binary Strings"
   ]
  },
  {
   "cell_type": "markdown",
   "metadata": {},
   "source": [
    "* https://www.interviewbit.com/problems/add-binary-strings/"
   ]
  },
  {
   "cell_type": "code",
   "execution_count": 16,
   "metadata": {},
   "outputs": [
    {
     "name": "stdout",
     "output_type": "stream",
     "text": [
      "0 - Correct\n"
     ]
    }
   ],
   "source": [
    "class Solution:\n",
    "    # @param A : string\n",
    "    # @param B : string\n",
    "    # @return a strings\n",
    "    def addBinaryFast(self, A, B):\n",
    "        return bin(int(A,2) + int(B,2))[2:]\n",
    "        \n",
    "    def addBinary(self, args):\n",
    "        A,B = args\n",
    "        i = 1\n",
    "        stop = max(len(A),len(B))\n",
    "        carry = False\n",
    "        out = ''\n",
    "        while i <= stop:\n",
    "            a = A[-i] if i <= len(A) else '0'\n",
    "            b = B[-i] if i <= len(B) else '0'\n",
    "            if carry:\n",
    "                if a == '1' and b == '1':\n",
    "                    out = '1' + out\n",
    "                elif a == '0' and b == '0':\n",
    "                    out = '1' + out\n",
    "                    carry = False\n",
    "                else:\n",
    "                    out = '0' + out\n",
    "            else:\n",
    "                if a == '1' and b == '1':\n",
    "                    out = '0' + out\n",
    "                    carry = True\n",
    "                elif a == '0' and b == '0':\n",
    "                    out = '0' + out\n",
    "                else:\n",
    "                    out = '1' + out\n",
    "            i += 1\n",
    "        if carry:\n",
    "            out = '1' + out\n",
    "        return out\n",
    "    \n",
    "s = Solution()\n",
    "cases = [\n",
    "    (('11','110'), '1001'),\n",
    "]\n",
    "test(cases, s.addBinary)"
   ]
  },
  {
   "cell_type": "markdown",
   "metadata": {},
   "source": [
    "### Reverse the Sentence"
   ]
  },
  {
   "cell_type": "markdown",
   "metadata": {},
   "source": [
    "* https://www.interviewbit.com/problems/reverse-the-string/"
   ]
  },
  {
   "cell_type": "code",
   "execution_count": 19,
   "metadata": {},
   "outputs": [
    {
     "name": "stdout",
     "output_type": "stream",
     "text": [
      "0 - Correct\n"
     ]
    }
   ],
   "source": [
    "\"\"\"\n",
    "Given an input string, reverse the string word by word.\n",
    "\n",
    "Example:\n",
    "\n",
    "Given s = \"the sky is blue\",\n",
    "\n",
    "return \"blue is sky the\".\n",
    "\n",
    "A sequence of non-space characters constitutes a word.\n",
    "Your reversed string should not contain leading or trailing spaces, even if it is present in the input string.\n",
    "If there are multiple spaces between words, reduce them to a single space in the reversed string.\n",
    "\n",
    "cases\n",
    "------\n",
    "empty\n",
    "one word\n",
    "spaces before/after\n",
    "multiple spaces\n",
    "\n",
    "approach\n",
    "--------\n",
    "loop through the string backwards\n",
    "boolean to toggle if whitespace or not\n",
    "if whitespace, add the word, then continue\n",
    "\"\"\"\n",
    "\n",
    "class Solution:\n",
    "    # @param A : string\n",
    "    # @return string\n",
    "    def reverseWords(self, A):\n",
    "        out = []\n",
    "        i = len(A)-1\n",
    "        space = False\n",
    "        while i >= 0:\n",
    "            if space:\n",
    "                if A[i] != ' ':\n",
    "                    space = False\n",
    "                else:\n",
    "                    i -= 1\n",
    "            else:\n",
    "                j = i\n",
    "                word = ''\n",
    "                while j >= 0 and A[j] != ' ':\n",
    "                    word = A[j] + word\n",
    "                    j -= 1\n",
    "                space = True\n",
    "                out.append(word)\n",
    "                i = j\n",
    "        return ' '.join(out)\n",
    "    \n",
    "s = Solution()\n",
    "cases = [\n",
    "    ('the sky is blue', 'blue is sky the'),\n",
    "]\n",
    "test(cases, s.reverseWords)"
   ]
  },
  {
   "cell_type": "markdown",
   "metadata": {},
   "source": [
    "### Min Palindromic"
   ]
  },
  {
   "cell_type": "markdown",
   "metadata": {},
   "source": [
    "* https://www.interviewbit.com/problems/minimum-characters-required-to-make-a-string-palindromic/"
   ]
  },
  {
   "cell_type": "code",
   "execution_count": 21,
   "metadata": {},
   "outputs": [
    {
     "name": "stdout",
     "output_type": "stream",
     "text": [
      "0 - Correct\n",
      "1 - Correct\n"
     ]
    }
   ],
   "source": [
    "\"\"\"\n",
    "You are given a string. The only operation allowed is to insert characters in the beginning of the string. How many minimum characters are needed to be inserted to make the string a palindrome string\n",
    "\n",
    "Example:\n",
    "Input: ABC\n",
    "Output: 2\n",
    "Input: AACECAAAA\n",
    "Output: 2\n",
    "\"\"\"\n",
    "class Solution:\n",
    "    # @param A : string\n",
    "    # @return an integer\n",
    "    def solve(self, A):\n",
    "        return 2\n",
    "    \n",
    "    \n",
    "\n",
    "s = Solution()\n",
    "cases = [\n",
    "    ('ABC', 2),\n",
    "    ('AACECAAAA', 2),\n",
    "]\n",
    "test(cases, s.solve)"
   ]
  },
  {
   "cell_type": "code",
   "execution_count": null,
   "metadata": {},
   "outputs": [],
   "source": []
  }
 ],
 "metadata": {
  "kernelspec": {
   "display_name": "Python 3",
   "language": "python",
   "name": "python3"
  },
  "language_info": {
   "codemirror_mode": {
    "name": "ipython",
    "version": 3
   },
   "file_extension": ".py",
   "mimetype": "text/x-python",
   "name": "python",
   "nbconvert_exporter": "python",
   "pygments_lexer": "ipython3",
   "version": "3.6.4"
  },
  "latex_envs": {
   "LaTeX_envs_menu_present": true,
   "autocomplete": true,
   "bibliofile": "biblio.bib",
   "cite_by": "apalike",
   "current_citInitial": 1,
   "eqLabelWithNumbers": true,
   "eqNumInitial": 1,
   "hotkeys": {
    "equation": "Ctrl-E",
    "itemize": "Ctrl-I"
   },
   "labels_anchors": false,
   "latex_user_defs": false,
   "report_style_numbering": false,
   "user_envs_cfg": false
  },
  "toc": {
   "colors": {
    "hover_highlight": "#DAA520",
    "navigate_num": "#000000",
    "navigate_text": "#333333",
    "running_highlight": "#FF0000",
    "selected_highlight": "#FFD700",
    "sidebar_border": "#EEEEEE",
    "wrapper_background": "#FFFFFF"
   },
   "moveMenuLeft": true,
   "nav_menu": {
    "height": "26px",
    "width": "254px"
   },
   "navigate_menu": true,
   "number_sections": true,
   "sideBar": true,
   "threshold": 4,
   "toc_cell": false,
   "toc_section_display": "block",
   "toc_window_display": false,
   "widenNotebook": false
  }
 },
 "nbformat": 4,
 "nbformat_minor": 2
}
