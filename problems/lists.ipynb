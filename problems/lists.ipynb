{
 "cells": [
  {
   "cell_type": "markdown",
   "metadata": {},
   "source": [
    "## Linked Lists\n",
    "\n",
    "* https://paper.dropbox.com/doc/Interview-Problems-eG5eZN1D0SewzP9UOqg3t"
   ]
  },
  {
   "cell_type": "markdown",
   "metadata": {
    "collapsed": true
   },
   "source": [
    "## Helpers"
   ]
  },
  {
   "cell_type": "code",
   "execution_count": 94,
   "metadata": {},
   "outputs": [],
   "source": [
    "import math\n",
    "import copy\n",
    "\n",
    "def test(cases, func):\n",
    "    for i in range(len(cases)):\n",
    "        output = func(cases[i][0])\n",
    "        try:\n",
    "            assert output == cases[i][1]\n",
    "            print(i, \"- Correct\")\n",
    "        except:\n",
    "            print(i, \"- Failed\")\n",
    "            print(\"\\tExpected\", cases[i][1])\n",
    "            print(\"\\tOutput\", output)\n",
    "            \n",
    "class Node():\n",
    "    def __init__(self, value):\n",
    "        self.value = value\n",
    "        self.next = None\n",
    "    \n",
    "    def __repr__(self):\n",
    "        return str(self.value)\n",
    "        \n",
    "class LinkedList():\n",
    "    def __init__(self, elems=None):\n",
    "        self.head = self.build(elems)\n",
    "    \n",
    "    def build(self, elems):\n",
    "        if elems is None or len(elems) < 1:\n",
    "            return None\n",
    "        head = Node(elems[0])\n",
    "        last = head\n",
    "        for val in elems[1:]:\n",
    "            node = Node(val)\n",
    "            last.next = node\n",
    "            last = node\n",
    "        return head\n",
    "    \n",
    "    def append(self, value):\n",
    "        node = self.head\n",
    "        if node is None:\n",
    "            self.head = node\n",
    "        while node.next is not None:\n",
    "            node = node.next\n",
    "        node.next = Node(value)\n",
    "        \n",
    "    def pop(self, idx=None):\n",
    "        last = self.head\n",
    "        cur = last.next\n",
    "        if idx is None:\n",
    "            if cur is None:\n",
    "                self.head = None\n",
    "            else:\n",
    "                while cur.next is not None:\n",
    "                    last = cur\n",
    "                    cur = cur.next\n",
    "                last.next = None\n",
    "        elif idx == 0:\n",
    "            self.head = self.head.next\n",
    "        else:\n",
    "            while idx > 1:\n",
    "                last = cur\n",
    "                cur = cur.next\n",
    "                idx -= 1\n",
    "            last.next = cur.next\n",
    "        return self\n",
    "\n",
    "    def __len__(self):\n",
    "        count = 0\n",
    "        node = self.head\n",
    "        while node is not None:\n",
    "            count += 1\n",
    "            node = node.next\n",
    "        return count\n",
    "    \n",
    "    def __repr__(self):\n",
    "        outstr = \"\"\n",
    "        node = self.head\n",
    "        while node is not None:\n",
    "            outstr += str(node.value) + \" -> \"\n",
    "            node = node.next\n",
    "        return outstr + \"None\"\n",
    "       \n",
    "\n",
    "L1 = LinkedList()\n",
    "L2 = LinkedList([1])\n",
    "L3 = LinkedList([1,2])\n",
    "L4 = LinkedList([1,2,3])\n",
    "L5 = LinkedList([1,2,3,4])\n",
    "DEFAULT_CASES = [L1, L2, L3, L4, L5]"
   ]
  },
  {
   "cell_type": "markdown",
   "metadata": {},
   "source": [
    "## Problems"
   ]
  },
  {
   "cell_type": "markdown",
   "metadata": {},
   "source": [
    "### Reverse LinkedList"
   ]
  },
  {
   "cell_type": "code",
   "execution_count": 95,
   "metadata": {},
   "outputs": [
    {
     "name": "stdout",
     "output_type": "stream",
     "text": [
      "None | None\n",
      "1 -> None | 1 -> None\n",
      "2 -> 1 -> None | 2 -> 1 -> None\n",
      "3 -> 2 -> 1 -> None | 3 -> 2 -> 1 -> None\n",
      "4 -> 3 -> 2 -> 1 -> None | 4 -> 3 -> 2 -> 1 -> None\n"
     ]
    }
   ],
   "source": [
    "\"\"\"\n",
    "Cases\n",
    "1) Empty *\n",
    "2) 1 element * \n",
    "3) 2 element\n",
    "4) 3+ elements\n",
    "\"\"\"\n",
    "\n",
    "def reverse(L):\n",
    "    if L.head is None or L.head.next is None:\n",
    "        return L\n",
    "    last = None\n",
    "    cur = L.head\n",
    "    while cur is not None:\n",
    "        next_ = cur.next\n",
    "        cur.next = last\n",
    "        last = cur\n",
    "        cur = next_\n",
    "    L.head = last\n",
    "    return L\n",
    "\n",
    "for case in copy.deepcopy(DEFAULT_CASES):\n",
    "    print(case, \"|\", reverse(case))"
   ]
  },
  {
   "cell_type": "code",
   "execution_count": null,
   "metadata": {
    "collapsed": true
   },
   "outputs": [],
   "source": []
  }
 ],
 "metadata": {
  "kernelspec": {
   "display_name": "Python 3",
   "language": "python",
   "name": "python3"
  },
  "language_info": {
   "codemirror_mode": {
    "name": "ipython",
    "version": 3
   },
   "file_extension": ".py",
   "mimetype": "text/x-python",
   "name": "python",
   "nbconvert_exporter": "python",
   "pygments_lexer": "ipython3",
   "version": "3.6.0"
  },
  "latex_envs": {
   "LaTeX_envs_menu_present": true,
   "autocomplete": true,
   "bibliofile": "biblio.bib",
   "cite_by": "apalike",
   "current_citInitial": 1,
   "eqLabelWithNumbers": true,
   "eqNumInitial": 1,
   "hotkeys": {
    "equation": "Ctrl-E",
    "itemize": "Ctrl-I"
   },
   "labels_anchors": false,
   "latex_user_defs": false,
   "report_style_numbering": false,
   "user_envs_cfg": false
  },
  "toc": {
   "colors": {
    "hover_highlight": "#DAA520",
    "navigate_num": "#000000",
    "navigate_text": "#333333",
    "running_highlight": "#FF0000",
    "selected_highlight": "#FFD700",
    "sidebar_border": "#EEEEEE",
    "wrapper_background": "#FFFFFF"
   },
   "moveMenuLeft": true,
   "nav_menu": {
    "height": "26px",
    "width": "254px"
   },
   "navigate_menu": true,
   "number_sections": true,
   "sideBar": true,
   "threshold": 4,
   "toc_cell": false,
   "toc_section_display": "block",
   "toc_window_display": false,
   "widenNotebook": false
  }
 },
 "nbformat": 4,
 "nbformat_minor": 2
}
