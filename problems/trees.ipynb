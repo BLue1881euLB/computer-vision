{
 "cells": [
  {
   "cell_type": "markdown",
   "metadata": {},
   "source": [
    "## Trees\n",
    "\n",
    "* https://paper.dropbox.com/doc/Interview-Problems-eG5eZN1D0SewzP9UOqg3t"
   ]
  },
  {
   "cell_type": "markdown",
   "metadata": {},
   "source": [
    "## Helpers"
   ]
  },
  {
   "cell_type": "code",
   "execution_count": 1,
   "metadata": {
    "collapsed": true
   },
   "outputs": [],
   "source": [
    "def test(cases, func):\n",
    "    for i in range(len(cases)):\n",
    "        output = func(cases[i][0])\n",
    "        try:\n",
    "            assert output == cases[i][1]\n",
    "            print(i, \"- Correct\")\n",
    "        except:\n",
    "            print(i, \"- Failed\")\n",
    "            print(\"\\tExpected\", cases[i][1])\n",
    "            print(\"\\tOutput\", output)"
   ]
  },
  {
   "cell_type": "markdown",
   "metadata": {},
   "source": [
    "## Node Impl"
   ]
  },
  {
   "cell_type": "code",
   "execution_count": 2,
   "metadata": {
    "collapsed": true
   },
   "outputs": [],
   "source": [
    "class Node():\n",
    "    def __init__(self, data, left=None, right=None):\n",
    "        self.data = data\n",
    "        self.left = left\n",
    "        self.right = right\n",
    "        \n",
    "def build_bst(A):\n",
    "    if len(A) == 0:\n",
    "        return None\n",
    "    mid = len(A)/2\n",
    "    root = Node(A[mid])\n",
    "    root.left = build_bst(A[:mid])\n",
    "    root.right = build_bst(A[mid+1:])\n",
    "    return root\n",
    "\n",
    "def sorted_list_from_bst(root):\n",
    "    if root == None:\n",
    "        return []\n",
    "    left = sorted_list_from_bst(root.left)\n",
    "    result = [root.data]\n",
    "    right = sorted_list_from_bst(root.right)\n",
    "    return left + result + right"
   ]
  },
  {
   "cell_type": "code",
   "execution_count": 3,
   "metadata": {
    "collapsed": true
   },
   "outputs": [],
   "source": [
    "## Tree 1\n",
    "l5 = Node(5)\n",
    "l3 = Node(7)\n",
    "l4 = Node(6)\n",
    "r3 = Node(8)\n",
    "l2 = Node(4,None,l3)\n",
    "l1 = Node(2,l2,l5)\n",
    "r1 = Node(3,l4,r3)\n",
    "root = Node(1,l1,r1)\n",
    "\n",
    "## Tree 2\n",
    "right3b = Node(7)\n",
    "right3a = Node(6)\n",
    "right2 = Node(3, right3a, right3b)\n",
    "left3b = Node(5)\n",
    "left3a = Node(4)\n",
    "left2 = Node(2,left3a,left3b)\n",
    "root2 = Node(1,left2,right2)\n",
    "\n",
    "##Right Skewed Tree\n",
    "ra4 = Node(5,None,None)\n",
    "ra3 = Node(4,None,ra4)\n",
    "ra2 = Node(3,None,ra3)\n",
    "ra1 = Node(2,None,ra2)\n",
    "root3 = Node(1,None,ra1)\n",
    "\n",
    "##Left Skewed Tree\n",
    "la4 = Node(5)\n",
    "la3 = Node(4,la4)\n",
    "la2 = Node(3,la3)\n",
    "la1 = Node(2,la2)\n",
    "root4 = Node(1,la1)\n",
    "\n",
    "## Tree w Negatives\n",
    "l5 = Node(5)\n",
    "l3 = Node(9)\n",
    "l4 = Node(6)\n",
    "r3 = Node(-8,l3)\n",
    "l2 = Node(4,)\n",
    "l1 = Node(-2,l2,l5)\n",
    "r1 = Node(3,l4,r3)\n",
    "root5 = Node(1,l1,r1)\n",
    "\n",
    "## Mirrors\n",
    "mirror = Node(1)\n",
    "\n",
    "## BST\n",
    "l6 = Node(12)\n",
    "l5 = Node(6)\n",
    "l4 = Node(9)\n",
    "r3 = Node(15,l6)\n",
    "l2 = Node(3)\n",
    "l1 = Node(4,l2,l5)\n",
    "r1 = Node(11,l4,r3)\n",
    "bst1 = Node(7,l1,r1)\n",
    "\n",
    "##Trees\n",
    "tree1 = root\n",
    "tree2 = root2\n",
    "tree3 = root3\n",
    "tree4 = root4\n",
    "negatives = root5\n",
    "bst1 = bst1"
   ]
  },
  {
   "cell_type": "markdown",
   "metadata": {},
   "source": [
    "## Dictionary Impl"
   ]
  },
  {
   "cell_type": "code",
   "execution_count": 30,
   "metadata": {},
   "outputs": [],
   "source": [
    "import json\n",
    "class Tree:\n",
    "    def __init__(self, val=None):\n",
    "        self.root = self.make_node(val)\n",
    "    \n",
    "    def make_node(self, val):\n",
    "        return {\n",
    "            'val': val,\n",
    "            'left': None,\n",
    "            'right': None\n",
    "        }\n",
    "    \n",
    "    def set_root_val(self, val):\n",
    "        self.root['val'] = val\n",
    "    \n",
    "    def add_left_child(self, node, child_val):\n",
    "        child = self.make_node(child_val)\n",
    "        if node['left'] is None:\n",
    "            node['left'] = child\n",
    "        else:\n",
    "            child['left'] = node['left']\n",
    "            node['left'] = child\n",
    "    \n",
    "    def add_right_child(self, node, child_val):\n",
    "        child = self.make_node(child_val)\n",
    "        if node['right'] is None:\n",
    "            node['right'] = child\n",
    "        else:\n",
    "            child['right'] = node['right']\n",
    "            node['right'] = child\n",
    "    \n",
    "    @property\n",
    "    def height(self):\n",
    "        def get_height(node):\n",
    "            if node is None:\n",
    "                return 0\n",
    "            else:\n",
    "                return 1 + max(get_height(node['left']), get_height(node['right']))\n",
    "        return get_height(self.root) - 1  #root level = 0\n",
    "    \n",
    "    def __repr__(self):\n",
    "        return json.dumps(self.root, indent=1)"
   ]
  },
  {
   "cell_type": "code",
   "execution_count": 36,
   "metadata": {},
   "outputs": [
    {
     "name": "stdout",
     "output_type": "stream",
     "text": [
      "height 2\n",
      "height 3\n",
      "height 4\n"
     ]
    },
    {
     "data": {
      "text/plain": [
       "{\n",
       " \"val\": \"A\",\n",
       " \"left\": {\n",
       "  \"val\": \"L1\",\n",
       "  \"left\": {\n",
       "   \"val\": \"LC2\",\n",
       "   \"left\": {\n",
       "    \"val\": \"LB2\",\n",
       "    \"left\": {\n",
       "     \"val\": \"L2\",\n",
       "     \"left\": null,\n",
       "     \"right\": null\n",
       "    },\n",
       "    \"right\": null\n",
       "   },\n",
       "   \"right\": null\n",
       "  },\n",
       "  \"right\": {\n",
       "   \"val\": \"R2\",\n",
       "   \"left\": null,\n",
       "   \"right\": null\n",
       "  }\n",
       " },\n",
       " \"right\": {\n",
       "  \"val\": \"R1\",\n",
       "  \"left\": null,\n",
       "  \"right\": null\n",
       " }\n",
       "}"
      ]
     },
     "execution_count": 36,
     "metadata": {},
     "output_type": "execute_result"
    }
   ],
   "source": [
    "t = Tree('A')\n",
    "t.add_left_child(t.root, 'L1')\n",
    "t.add_right_child(t.root, 'R1')\n",
    "t.add_left_child(t.root['left'], 'L2')\n",
    "t.add_right_child(t.root['left'], 'R2')\n",
    "print(\"height\", t.height)\n",
    "t.add_left_child(t.root['left'], 'LB2')\n",
    "print(\"height\", t.height)\n",
    "t.add_left_child(t.root['left'], 'LC2')\n",
    "print(\"height\", t.height)\n",
    "t"
   ]
  },
  {
   "cell_type": "code",
   "execution_count": null,
   "metadata": {
    "collapsed": true
   },
   "outputs": [],
   "source": []
  },
  {
   "cell_type": "markdown",
   "metadata": {},
   "source": [
    "## Problems"
   ]
  },
  {
   "cell_type": "markdown",
   "metadata": {},
   "source": [
    "## Links"
   ]
  },
  {
   "cell_type": "markdown",
   "metadata": {},
   "source": []
  },
  {
   "cell_type": "code",
   "execution_count": null,
   "metadata": {
    "collapsed": true
   },
   "outputs": [],
   "source": []
  }
 ],
 "metadata": {
  "kernelspec": {
   "display_name": "Python 3",
   "language": "python",
   "name": "python3"
  },
  "language_info": {
   "codemirror_mode": {
    "name": "ipython",
    "version": 3
   },
   "file_extension": ".py",
   "mimetype": "text/x-python",
   "name": "python",
   "nbconvert_exporter": "python",
   "pygments_lexer": "ipython3",
   "version": "3.6.0"
  },
  "latex_envs": {
   "LaTeX_envs_menu_present": true,
   "autocomplete": true,
   "bibliofile": "biblio.bib",
   "cite_by": "apalike",
   "current_citInitial": 1,
   "eqLabelWithNumbers": true,
   "eqNumInitial": 1,
   "hotkeys": {
    "equation": "Ctrl-E",
    "itemize": "Ctrl-I"
   },
   "labels_anchors": false,
   "latex_user_defs": false,
   "report_style_numbering": false,
   "user_envs_cfg": false
  },
  "toc": {
   "colors": {
    "hover_highlight": "#DAA520",
    "navigate_num": "#000000",
    "navigate_text": "#333333",
    "running_highlight": "#FF0000",
    "selected_highlight": "#FFD700",
    "sidebar_border": "#EEEEEE",
    "wrapper_background": "#FFFFFF"
   },
   "moveMenuLeft": true,
   "nav_menu": {
    "height": "239px",
    "width": "253px"
   },
   "navigate_menu": true,
   "number_sections": true,
   "sideBar": true,
   "threshold": 4,
   "toc_cell": false,
   "toc_section_display": "block",
   "toc_window_display": false,
   "widenNotebook": false
  }
 },
 "nbformat": 4,
 "nbformat_minor": 2
}
