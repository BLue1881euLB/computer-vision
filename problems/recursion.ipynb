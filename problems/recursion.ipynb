{
 "cells": [
  {
   "cell_type": "markdown",
   "metadata": {},
   "source": [
    "## Recursion"
   ]
  },
  {
   "cell_type": "markdown",
   "metadata": {},
   "source": [
    "* https://bradfieldcs.com/algos/recursion/the-three-laws-of-recursion"
   ]
  },
  {
   "cell_type": "markdown",
   "metadata": {},
   "source": [
    "### 3 Laws of Recursion\n",
    "\n",
    "1. Must have base case\n",
    "2. Must call itself\n",
    "3. Must move towards the base case\n",
    "\n",
    "Base case\n",
    "* Problem small enough to solve directly\n",
    "* End of list, i < 0, value is None"
   ]
  },
  {
   "cell_type": "markdown",
   "metadata": {
    "heading_collapsed": true
   },
   "source": [
    "## Helpers"
   ]
  },
  {
   "cell_type": "code",
   "execution_count": 4,
   "metadata": {
    "collapsed": true,
    "hidden": true
   },
   "outputs": [],
   "source": [
    "import math\n",
    "\n",
    "def test(cases, func):\n",
    "    for i in range(len(cases)):\n",
    "        output = func(cases[i][0])\n",
    "        try:\n",
    "            assert output == cases[i][1]\n",
    "            print(i, \"- Correct\")\n",
    "        except:\n",
    "            print(i, \"- Failed\")\n",
    "            print(\"\\tExpected\", cases[i][1])\n",
    "            print(\"\\tOutput\", output)"
   ]
  },
  {
   "cell_type": "markdown",
   "metadata": {},
   "source": [
    "## Problems"
   ]
  },
  {
   "cell_type": "markdown",
   "metadata": {
    "heading_collapsed": true
   },
   "source": [
    "### Fibonacci Sequence"
   ]
  },
  {
   "cell_type": "markdown",
   "metadata": {
    "hidden": true
   },
   "source": [
    "* https://bradfieldcs.com/algos/recursion/dynamic-programming/"
   ]
  },
  {
   "cell_type": "code",
   "execution_count": 7,
   "metadata": {
    "hidden": true
   },
   "outputs": [
    {
     "name": "stdout",
     "output_type": "stream",
     "text": [
      "0 - Correct\n",
      "1 - Correct\n",
      "2 - Correct\n",
      "3 - Correct\n",
      "4 - Correct\n",
      "0 - Correct\n",
      "1 - Correct\n",
      "2 - Correct\n",
      "3 - Correct\n",
      "4 - Correct\n"
     ]
    }
   ],
   "source": [
    "\"\"\"\n",
    "Fibonacci sequence \n",
    "* For each iteration, value = sum of previous two numbers\n",
    "Write a function to return nth value in fibonnaci sequence\n",
    "\n",
    "e.g. \n",
    "0, 1, 1, 2, 3, 5, 8, 13, 21, 34\n",
    "\n",
    "Input:\n",
    "    n\n",
    "Output:\n",
    "    fibonacci sum \n",
    "\"\"\"\n",
    "\n",
    "def fibonacci_iter(n):\n",
    "    a,b = 0,1\n",
    "    for _ in range(n):\n",
    "        a,b = a+b, a\n",
    "    return a\n",
    "\n",
    "def fibonacci_recurse(n):\n",
    "    if n == 0 or n == 1:\n",
    "        return n\n",
    "    return fibonacci_recurse(n-1) + fibonacci_recurse(n-2)\n",
    "\n",
    "cases = [(0,0),(1,1), (2,1), (3,2), (8,21)]\n",
    "test(cases, fibonacci_iter)\n",
    "test(cases, fibonacci_recurse)"
   ]
  },
  {
   "cell_type": "markdown",
   "metadata": {
    "heading_collapsed": true
   },
   "source": [
    "### Sum Array "
   ]
  },
  {
   "cell_type": "code",
   "execution_count": 3,
   "metadata": {
    "collapsed": true,
    "hidden": true
   },
   "outputs": [],
   "source": [
    "\"\"\"\n",
    "Input:\n",
    "    list of numbers from 1 to n\n",
    "Output:\n",
    "    sum of numbers\n",
    "\"\"\"\n",
    "\n",
    "def sum_arr(arr):\n",
    "    sum_ = 0\n",
    "    for n in arr:\n",
    "        sum_ += n\n",
    "    return sum_\n",
    "\n",
    "def _sum_arr_recurse(arr):\n",
    "    if len(arr) == 0:\n",
    "        return 0\n",
    "    return arr[0] + _sum_arr_recurse(arr[1:])\n",
    "\n",
    "def _sum_arr_math(arr):\n",
    "    n = len(arr)\n",
    "    return n*(n+1)/2\n",
    "\n",
    "in1 = [1,2,3,4,5]\n",
    "out1 = 15\n",
    "\n",
    "assert sum_arr(in1) == _sum_arr_recurse(in1) == _sum_arr_math(in1) == out1"
   ]
  },
  {
   "cell_type": "markdown",
   "metadata": {
    "heading_collapsed": true
   },
   "source": [
    "### Unique (shortest) Paths"
   ]
  },
  {
   "cell_type": "markdown",
   "metadata": {
    "hidden": true
   },
   "source": [
    "* https://bradfieldcs.com/algos/recursion/dynamic-programming/"
   ]
  },
  {
   "cell_type": "code",
   "execution_count": 15,
   "metadata": {
    "hidden": true
   },
   "outputs": [
    {
     "name": "stdout",
     "output_type": "stream",
     "text": [
      "0 - Correct\n",
      "1 - Correct\n",
      "2 - Correct\n"
     ]
    }
   ],
   "source": [
    "\"\"\"\n",
    "given a rectange with dims W x H\n",
    "return the count of unique paths\n",
    "You can only move down/left\n",
    "So these are also the shortest\n",
    "\n",
    "Multiple Approches\n",
    "------------------\n",
    "* Graph search\n",
    "* Recursive\n",
    "* Dynamic programming\n",
    "\n",
    "3x3\n",
    "-----\n",
    "0 0 0\n",
    "0 0 0\n",
    "0 0 0\n",
    "\"\"\"\n",
    "\n",
    "def shortest_paths_recurse(dims):\n",
    "    # Time = O(2^n)\n",
    "    w,h = dims\n",
    "    if w == 1 or h == 1:\n",
    "        return 1\n",
    "    return (shortest_paths_recurse((w-1, h)) \n",
    "            + shortest_paths_recurse((w, h-1)))\n",
    "\n",
    "cases = [((1,1),1), ((2,2),2), ((3,3),6)]\n",
    "test(cases, shortest_paths_recurse)"
   ]
  },
  {
   "cell_type": "markdown",
   "metadata": {
    "heading_collapsed": true
   },
   "source": [
    "### Convert Int to Any Base"
   ]
  },
  {
   "cell_type": "markdown",
   "metadata": {
    "hidden": true
   },
   "source": [
    "* https://bradfieldcs.com/algos/recursion/converting-an-integer-to-a-string/"
   ]
  },
  {
   "cell_type": "code",
   "execution_count": null,
   "metadata": {
    "collapsed": true,
    "hidden": true
   },
   "outputs": [],
   "source": []
  },
  {
   "cell_type": "markdown",
   "metadata": {
    "heading_collapsed": true
   },
   "source": [
    "### Towers of Hanoi"
   ]
  },
  {
   "cell_type": "markdown",
   "metadata": {
    "hidden": true
   },
   "source": [
    "* https://bradfieldcs.com/algos/recursion/tower-of-hanoi/"
   ]
  },
  {
   "cell_type": "code",
   "execution_count": null,
   "metadata": {
    "collapsed": true,
    "hidden": true
   },
   "outputs": [],
   "source": []
  },
  {
   "cell_type": "markdown",
   "metadata": {},
   "source": [
    "### Next problem"
   ]
  },
  {
   "cell_type": "code",
   "execution_count": null,
   "metadata": {
    "collapsed": true
   },
   "outputs": [],
   "source": []
  }
 ],
 "metadata": {
  "kernelspec": {
   "display_name": "Python 3",
   "language": "python",
   "name": "python3"
  },
  "language_info": {
   "codemirror_mode": {
    "name": "ipython",
    "version": 3
   },
   "file_extension": ".py",
   "mimetype": "text/x-python",
   "name": "python",
   "nbconvert_exporter": "python",
   "pygments_lexer": "ipython3",
   "version": "3.6.0"
  },
  "latex_envs": {
   "LaTeX_envs_menu_present": true,
   "autocomplete": true,
   "bibliofile": "biblio.bib",
   "cite_by": "apalike",
   "current_citInitial": 1,
   "eqLabelWithNumbers": true,
   "eqNumInitial": 1,
   "hotkeys": {
    "equation": "Ctrl-E",
    "itemize": "Ctrl-I"
   },
   "labels_anchors": false,
   "latex_user_defs": false,
   "report_style_numbering": false,
   "user_envs_cfg": false
  },
  "toc": {
   "colors": {
    "hover_highlight": "#DAA520",
    "navigate_num": "#000000",
    "navigate_text": "#333333",
    "running_highlight": "#FF0000",
    "selected_highlight": "#FFD700",
    "sidebar_border": "#EEEEEE",
    "wrapper_background": "#FFFFFF"
   },
   "moveMenuLeft": true,
   "nav_menu": {
    "height": "217px",
    "width": "253px"
   },
   "navigate_menu": true,
   "number_sections": true,
   "sideBar": true,
   "threshold": 4,
   "toc_cell": false,
   "toc_section_display": "block",
   "toc_window_display": false,
   "widenNotebook": false
  }
 },
 "nbformat": 4,
 "nbformat_minor": 2
}
