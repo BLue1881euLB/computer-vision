{
 "cells": [
  {
   "cell_type": "markdown",
   "metadata": {
    "heading_collapsed": true
   },
   "source": [
    "### Scratch Pad"
   ]
  },
  {
   "cell_type": "code",
   "execution_count": 10,
   "metadata": {
    "collapsed": true,
    "hidden": true
   },
   "outputs": [],
   "source": [
    "import math\n",
    "import copy\n",
    "\n",
    "def test(cases, func):\n",
    "    for i in range(len(cases)):\n",
    "        output = func(cases[i][0])\n",
    "        try:\n",
    "            assert output == cases[i][1]\n",
    "            print(i, \"- Correct\")\n",
    "        except:\n",
    "            print(i, \"- Failed\")\n",
    "            print(\"\\tExpected\", cases[i][1])\n",
    "            print(\"\\tOutput\", output)"
   ]
  },
  {
   "cell_type": "markdown",
   "metadata": {
    "heading_collapsed": true
   },
   "source": [
    "### Tips"
   ]
  },
  {
   "cell_type": "code",
   "execution_count": 7,
   "metadata": {
    "hidden": true
   },
   "outputs": [],
   "source": [
    "\"\"\"\n",
    "Data structures\n",
    "---------------\n",
    "- Stack / Queue\n",
    "- Hashmap\n",
    "- Array\n",
    "- Graph\n",
    "- Tree\n",
    "    - Basic \n",
    "    - Binary \n",
    "    - Binary Search\n",
    "- Matrix\n",
    "\n",
    "Algorithms\n",
    "----------\n",
    "Recursive\n",
    "Dynamic Programming\n",
    "Iteration\n",
    "Sorting (sort first)\n",
    "    -Selection (find smallest and swap w first)\n",
    "    -Counting (if you can get extra memory, this one is awesome\n",
    "        * Find the min and max values (if not given)\n",
    "        * Create M buckets (M = max - min)\n",
    "        * Loop through A and increment bucket count in M at index A\n",
    "        * Finally, loop through M and \"clear out the bucket\" adding\n",
    "            items back to A\n",
    "    -Merge\n",
    "        * Two part: Sort and Merge\n",
    "        * Call recursively on halves\n",
    "        * Divide array into two haves\n",
    "            Sort()\n",
    "    -Python (n log n)\n",
    "        A.sort() - in place\n",
    "        sorted(A) - returns\n",
    "Catapillar\n",
    "Prefix Sums\n",
    "    https://codility.com/media/train/3-PrefixSums.pdf\n",
    "Binary search\n",
    "DFS/BFS\n",
    "    - Graph (Watch dupes)\n",
    "    - Tree (left/right)\n",
    "Greedy\n",
    "Divide and Conquer\n",
    "Circular buffer\n",
    "    https://en.wikipedia.org/wiki/Circular_buffer\n",
    "Max Slice\n",
    "    https://codility.com/media/train/7-MaxSlice.pdf\n",
    "Leader\n",
    "    https://codility.com/media/train/6-Leader.pdf\n",
    "\"\"\";"
   ]
  },
  {
   "cell_type": "markdown",
   "metadata": {
    "heading_collapsed": true
   },
   "source": [
    "### Prob 1"
   ]
  },
  {
   "cell_type": "code",
   "execution_count": 9,
   "metadata": {
    "hidden": true
   },
   "outputs": [
    {
     "name": "stdout",
     "output_type": "stream",
     "text": [
      "0 - Correct\n"
     ]
    }
   ],
   "source": [
    "\"\"\"\n",
    "Problem statement\n",
    "\n",
    "Inputs\n",
    "------\n",
    "- oin\n",
    "\n",
    "Output\n",
    "------\n",
    "- oin\n",
    "\n",
    "Notes\n",
    "-----\n",
    "1) Constraints\n",
    "2) Gotchas\n",
    "3) What makes it difficult\n",
    "\n",
    "Complexity\n",
    "----------\n",
    "- time = O()\n",
    "- space = O()\n",
    "\n",
    "Cases\n",
    "-----\n",
    "- 0 or Empty\n",
    "- 1 elem\n",
    "- 2 elem\n",
    "- Even/Odd\n",
    "- Pos/ Neg\n",
    "- Ordered/ Not Ordered\n",
    "- Duplicates\n",
    "\n",
    "Approach\n",
    "--------\n",
    "\"\"\"\n",
    "\n",
    "def solution(A):\n",
    "    return A\n",
    "\n",
    "cases = [\n",
    "    ((1), 1)\n",
    "]\n",
    "\n",
    "test(cases, solution)"
   ]
  },
  {
   "cell_type": "markdown",
   "metadata": {
    "heading_collapsed": true
   },
   "source": [
    "### Prob 2"
   ]
  },
  {
   "cell_type": "code",
   "execution_count": 9,
   "metadata": {
    "hidden": true
   },
   "outputs": [
    {
     "name": "stdout",
     "output_type": "stream",
     "text": [
      "0 - Correct\n"
     ]
    }
   ],
   "source": [
    "\"\"\"\n",
    "Problem statement\n",
    "\n",
    "Inputs\n",
    "------\n",
    "- oin\n",
    "\n",
    "Output\n",
    "------\n",
    "- oin\n",
    "\n",
    "Notes\n",
    "-----\n",
    "1) Constraints\n",
    "2) Gotchas\n",
    "3) What makes it difficult\n",
    "\n",
    "Complexity\n",
    "----------\n",
    "- time = O()\n",
    "- space = O()\n",
    "\n",
    "Cases\n",
    "-----\n",
    "- 0 or Empty\n",
    "- 1 elem\n",
    "- 2 elem\n",
    "- Even/Odd\n",
    "- Pos/ Neg\n",
    "- Ordered/ Not Ordered\n",
    "- Duplicates\n",
    "\n",
    "Approach\n",
    "--------\n",
    "\"\"\"\n",
    "\n",
    "def solution(A):\n",
    "    return A\n",
    "\n",
    "cases = [\n",
    "    ((1), 1)\n",
    "]\n",
    "\n",
    "test(cases, solution)"
   ]
  }
 ],
 "metadata": {
  "kernelspec": {
   "display_name": "Python 3",
   "language": "python",
   "name": "python3"
  },
  "language_info": {
   "codemirror_mode": {
    "name": "ipython",
    "version": 3
   },
   "file_extension": ".py",
   "mimetype": "text/x-python",
   "name": "python",
   "nbconvert_exporter": "python",
   "pygments_lexer": "ipython3",
   "version": "3.6.0"
  },
  "latex_envs": {
   "LaTeX_envs_menu_present": true,
   "autocomplete": true,
   "bibliofile": "biblio.bib",
   "cite_by": "apalike",
   "current_citInitial": 1,
   "eqLabelWithNumbers": true,
   "eqNumInitial": 1,
   "hotkeys": {
    "equation": "Ctrl-E",
    "itemize": "Ctrl-I"
   },
   "labels_anchors": false,
   "latex_user_defs": false,
   "report_style_numbering": false,
   "user_envs_cfg": false
  },
  "toc": {
   "colors": {
    "hover_highlight": "#DAA520",
    "navigate_num": "#000000",
    "navigate_text": "#333333",
    "running_highlight": "#FF0000",
    "selected_highlight": "#FFD700",
    "sidebar_border": "#EEEEEE",
    "wrapper_background": "#FFFFFF"
   },
   "moveMenuLeft": true,
   "nav_menu": {
    "height": "217px",
    "width": "253px"
   },
   "navigate_menu": true,
   "number_sections": true,
   "sideBar": true,
   "threshold": 4,
   "toc_cell": false,
   "toc_section_display": "block",
   "toc_window_display": false,
   "widenNotebook": false
  }
 },
 "nbformat": 4,
 "nbformat_minor": 2
}
