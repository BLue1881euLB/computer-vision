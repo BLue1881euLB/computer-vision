{
 "cells": [
  {
   "cell_type": "markdown",
   "metadata": {},
   "source": [
    "## HashMaps"
   ]
  },
  {
   "cell_type": "code",
   "execution_count": 9,
   "metadata": {
    "collapsed": true
   },
   "outputs": [],
   "source": [
    "import math\n",
    "import copy\n",
    "\n",
    "def test(cases, func):\n",
    "    for i in range(len(cases)):\n",
    "        output = func(cases[i][0])\n",
    "        try:\n",
    "            assert output == cases[i][1]\n",
    "            print(i, \"- Correct\")\n",
    "        except:\n",
    "            print(i, \"- Failed\")\n",
    "            print(\"\\tExpected\", cases[i][1])\n",
    "            print(\"\\tOutput\", output)"
   ]
  },
  {
   "cell_type": "markdown",
   "metadata": {},
   "source": [
    "## Implementation"
   ]
  },
  {
   "cell_type": "markdown",
   "metadata": {
    "heading_collapsed": true
   },
   "source": [
    "### Naive"
   ]
  },
  {
   "cell_type": "code",
   "execution_count": 26,
   "metadata": {
    "collapsed": true,
    "hidden": true
   },
   "outputs": [],
   "source": [
    "\"\"\"\n",
    "Add, Remove, Get\n",
    "No collision resolution or resizing\n",
    "\"\"\"\n",
    "class HashMap():\n",
    "    def __init__(self, n=100):\n",
    "        self.store = [None for i in range(n)]\n",
    "    \n",
    "    def _make_hash_code(self, key):\n",
    "        total = 0\n",
    "        for char in key:\n",
    "            total += ord(char)\n",
    "        return total\n",
    "    \n",
    "    def _get_idx(self, key):\n",
    "        code = self._make_hash_code(key)\n",
    "        return code % len(self.store)\n",
    "    \n",
    "    def get(self, key):\n",
    "        idx = self._get_idx(key)\n",
    "        return self.store[idx]\n",
    "    \n",
    "    def add(self, key, value):\n",
    "        assert isinstance(key, str)\n",
    "        idx = self._get_idx(key)\n",
    "        self.store[idx] = value\n",
    "    \n",
    "    def remove(self, key):\n",
    "        idx = self._get_idx(key)\n",
    "        self.store[idx] = None    \n",
    "    \n",
    "    def __repr__(self):\n",
    "        return str(self.store)"
   ]
  },
  {
   "cell_type": "code",
   "execution_count": 23,
   "metadata": {
    "collapsed": true,
    "hidden": true
   },
   "outputs": [],
   "source": [
    "hm = HashMap()\n",
    "hm.add(\"Brendan\", \"Fortuner\")\n",
    "hm.remove(\"Brendan\")\n",
    "hm.get(\"Brendan\")\n",
    "hm.add(\"Brendan\", \"Fortuner\")\n",
    "hm.get(\"Brendan\")"
   ]
  },
  {
   "cell_type": "markdown",
   "metadata": {
    "heading_collapsed": true
   },
   "source": [
    "### Collision Avoidance - Chains of Key/Value Pairs"
   ]
  },
  {
   "cell_type": "code",
   "execution_count": 38,
   "metadata": {
    "collapsed": true,
    "hidden": true
   },
   "outputs": [],
   "source": [
    "\"\"\"\n",
    "Collision Avoidance\n",
    "1) Add more buckets\n",
    "    - Num buckets determined by expected number of elements\n",
    "2) Better hashing function\n",
    "    - Distributes evenly across buckets\n",
    "3) LinkedList - Store ordered chain of (key,value) nodes in each bucket (could use subarray)\n",
    "    Pro:\n",
    "        * All the matching keys in one bucket\n",
    "    Con:\n",
    "        * Extra memory to store chain of nodes\n",
    "        * If a lot of collisions some buckets can get filled pretty quick and slow down lookup\n",
    "4) Skipping - If collision, keep moving through array until empty position found\n",
    "    Pro:\n",
    "        * No extra memory\n",
    "    Con:\n",
    "        * Clutter up the array with out of place collisions\n",
    "    Types:\n",
    "        1) Naive incrementing\n",
    "        2) Exponential skipping...\n",
    "\"\"\"\n",
    "class HashMap():\n",
    "    def __init__(self, n=100):\n",
    "        self.store = [[] for i in range(n)]\n",
    "    \n",
    "    def _make_hash_code(self, key):\n",
    "        total = 0\n",
    "        for char in key:\n",
    "            # total *= 31 + ord(i)\n",
    "            total += ord(char)\n",
    "        return total\n",
    "    \n",
    "    def _get_idx(self, key):\n",
    "        code = self._make_hash_code(key)\n",
    "        return code % len(self.store)\n",
    "    \n",
    "    def get(self, key):\n",
    "        idx = self._get_idx(key)\n",
    "        for k,val in self.store[idx]:\n",
    "            if k == key:\n",
    "                return val    \n",
    "        return None\n",
    "    \n",
    "    def add(self, key, value):\n",
    "        assert isinstance(key, str)\n",
    "        idx = self._get_idx(key)\n",
    "        for i in range(len(self.store[idx])):\n",
    "            if self.store[idx][i][0] == key:\n",
    "                self.store[idx][i] = (key,value)\n",
    "                return\n",
    "        self.store[idx].append((key,value))\n",
    "    \n",
    "    def remove(self, key):\n",
    "        idx = self._get_idx(key)\n",
    "        for i in range(len(self.store[idx])):\n",
    "            if self.store[idx][i][0] == key:\n",
    "                self.store[idx].pop(i)\n",
    "                return\n",
    "            \n",
    "    def __repr__(self):\n",
    "        return str(self.store)"
   ]
  },
  {
   "cell_type": "code",
   "execution_count": 60,
   "metadata": {
    "hidden": true
   },
   "outputs": [
    {
     "name": "stdout",
     "output_type": "stream",
     "text": [
      "22\n",
      "22\n",
      "13\n"
     ]
    },
    {
     "data": {
      "text/plain": [
       "[[], [], [], [], [], [], [], [], [], [], [], [], [], [], [], [], [], [], [], [], [], [], [], [], [], [], [], [], [], [], [], [], [], [], [], [], [], [], [], [], [], [], [], [], [], [], [], [], [], [], [], [], [], [], [], [], [], [], [], [], [], [], [], [], [], [], [], [], [], [], [], [], [], [], [], [], [], [], [], [], [], [], [], [], [], [], [], [], [], [], [], [], [], [], [], [], [], [], [('Brendan', 'Fortuner')], []]"
      ]
     },
     "execution_count": 60,
     "metadata": {},
     "output_type": "execute_result"
    }
   ],
   "source": [
    "a = \"22\"\n",
    "b = \"13\"\n",
    "hm = HashMap()\n",
    "hm.add(\"Brendan\", \"Fortuner\")\n",
    "hm.add(a, a)\n",
    "print(hm.get(a))\n",
    "hm.add(b, b)\n",
    "print(hm.get(a))\n",
    "print(hm.get(b))\n",
    "hm.remove(a)\n",
    "hm.remove(b)\n",
    "hm"
   ]
  },
  {
   "cell_type": "markdown",
   "metadata": {},
   "source": [
    "## Problems"
   ]
  },
  {
   "cell_type": "markdown",
   "metadata": {
    "heading_collapsed": true
   },
   "source": [
    "### Diff K"
   ]
  },
  {
   "cell_type": "markdown",
   "metadata": {
    "hidden": true
   },
   "source": [
    "* https://www.interviewbit.com/problems/diffk-ii/"
   ]
  },
  {
   "cell_type": "code",
   "execution_count": 7,
   "metadata": {
    "hidden": true
   },
   "outputs": [
    {
     "name": "stdout",
     "output_type": "stream",
     "text": [
      "0 - Correct\n",
      "1 - Correct\n",
      "0 - Correct\n",
      "1 - Correct\n"
     ]
    }
   ],
   "source": [
    "\"\"\"\n",
    "Given an array A of integers and another non negative integer k\n",
    "find if there exists 2 indices i and j such that A[i] - A[j] = k, i != j.\n",
    "\n",
    "A : [1 5 3]\n",
    "k : 2\n",
    "out: 1\n",
    "3 - 1 = 2\n",
    "\n",
    "Inputs\n",
    "------\n",
    "A - array of integers\n",
    "k - non-negative integer\n",
    "\n",
    "Output\n",
    "------\n",
    "- 0 or 1\n",
    "    1 - True (2 indices exist such that a-b == k)\n",
    "    0 - False\n",
    "\n",
    "Notes\n",
    "-----\n",
    "Basically, return True if there are two values in the array whos difference equals k\n",
    "\n",
    "Complexity\n",
    "----------\n",
    "- time = O(N)\n",
    "- space = O(N)\n",
    "\n",
    "Cases\n",
    "-----\n",
    "\n",
    "\n",
    "Approach\n",
    "--------\n",
    "1. N^2, double loop\n",
    "    For each val A\n",
    "        For each other val B (not A)\n",
    "            if A - B == k:\n",
    "                return True\n",
    "2. HashMap\n",
    "    Store the array values in a hash map\n",
    "    Loop through the value again and check\n",
    "    if Value - K exists in the hashmap.\n",
    "    To avoid duplicate indices, store the \n",
    "    index of the value in t\n",
    "    \n",
    "\"\"\"\n",
    "\n",
    "\n",
    "\"\"\"\n",
    "Given an array A of integers and another non negative integer k\n",
    "find if there exists 2 indices i and j such that A[i] - A[j] = k, i != j.\n",
    "\n",
    "A : [1 5 3]\n",
    "k : 2\n",
    "out: 1\n",
    "3 - 1 = 2\n",
    "\n",
    "Inputs\n",
    "------\n",
    "A - array of integers\n",
    "k - non-negative integer\n",
    "\n",
    "Output\n",
    "------\n",
    "- 0 or 1\n",
    "    1 - True (2 indices exist such that a-b == k)\n",
    "    0 - False\n",
    "\n",
    "Notes\n",
    "-----\n",
    "Basically, return True if there are two values in the array whos difference equals k\n",
    "\n",
    "Complexity\n",
    "----------\n",
    "- time = O(N)\n",
    "- space = O(N)\n",
    "\n",
    "Cases\n",
    "-----\n",
    "\n",
    "\n",
    "Approach\n",
    "--------\n",
    "1. N^2, double loop\n",
    "    For each val A\n",
    "        For each other val B (not A)\n",
    "            if A - B == k:\n",
    "                return True\n",
    "2. HashMap\n",
    "    Store the array values in a hash map\n",
    "    Loop through the value again and check\n",
    "    if Value - K exists in the hashmap.\n",
    "    To avoid duplicate indices, store the \n",
    "    index of the value in the array in the map\n",
    "\"\"\"\n",
    "\n",
    "\n",
    "def diffPossibleNaive(inp):\n",
    "    A,k = inp\n",
    "    for i in range(len(A)):\n",
    "        for j in range(i, len(A)):\n",
    "            if i != j and abs(A[i] - A[j]) == k:\n",
    "                return 1\n",
    "    return 0\n",
    "  \n",
    "def diffPossibleMap(inp):\n",
    "    A,k = inp\n",
    "    mapper = {A[i]:i for i in range(len(A))}\n",
    "    for i in range(len(A)):\n",
    "        num = A[i] - k\n",
    "        if num in mapper and mapper[num] != i:\n",
    "            return 1\n",
    "    return 0\n",
    "\n",
    "cases = [\n",
    "    (([1,5,3], 2), 1),\n",
    "    (([0], 2), 0)\n",
    "]\n",
    "\n",
    "test(cases, diffPossibleNaive)\n",
    "test(cases, diffPossibleMap)"
   ]
  },
  {
   "cell_type": "markdown",
   "metadata": {
    "collapsed": true
   },
   "source": [
    "### Points on Straight Line"
   ]
  },
  {
   "cell_type": "markdown",
   "metadata": {},
   "source": [
    "* https://www.interviewbit.com/problems/points-on-the-straight-line/ "
   ]
  },
  {
   "cell_type": "code",
   "execution_count": 52,
   "metadata": {},
   "outputs": [
    {
     "name": "stdout",
     "output_type": "stream",
     "text": [
      "0 - Correct\n",
      "1 - Correct\n",
      "2 - Correct\n"
     ]
    }
   ],
   "source": [
    "\"\"\"\n",
    "Given N points (x,y) on a 2D plane.\n",
    "Find the max number of points that lie on the same straight line.\n",
    "\n",
    "Input: \n",
    "(1, 1)\n",
    "(2, 2)\n",
    "\n",
    "Output: 2\n",
    "\n",
    "Inputs\n",
    "------\n",
    "You will be give 2 arrays X and Y.\n",
    "Each point is represented by (X[i], Y[i])\n",
    "\n",
    "Output\n",
    "------\n",
    "- Count of points on the straight line with the maximum # of points\n",
    "\n",
    "Notes\n",
    "-----\n",
    "What does it mean for points to fall on the same line?\n",
    "With only two points, there is a straight line\n",
    "To check if multiple points are on the same line...?\n",
    "    Is x1 a multiple of x2?\n",
    "    You know the slope, and the origin....\n",
    "    How to test if a point is on a line?\n",
    "    \n",
    "You know the slope (first two points)\n",
    "\n",
    "Linearly solvable\n",
    "y = Mx + b\n",
    "\n",
    "y2 - y1 = M(x2 - x1)\n",
    "\n",
    "\n",
    "Complexity\n",
    "----------\n",
    "- time = O(N)\n",
    "- space = O(N)\n",
    "\n",
    "Cases\n",
    "-----\n",
    "- 2 points\n",
    "- 3+ points\n",
    "- points with same slope but different origin\n",
    "- vertical lines\n",
    "- horizontal lines\n",
    "- positive/negative slopes\n",
    "\n",
    "Approach\n",
    "-------- \n",
    "\"\"\"\n",
    "\n",
    "def make_key(slope, origin):\n",
    "    return str(slope) + \"_\" + str(origin)\n",
    "\n",
    "def get_slope(x1, y1, x2, y2):\n",
    "    if x2 == x1 or y2 == y1:\n",
    "        return 0\n",
    "    return (y2 - y1) / (x2 - x1)\n",
    "\n",
    "def get_origin(x, y, m):\n",
    "    # b = y - mx\n",
    "    return y - m*x\n",
    "\n",
    "def solution(inp):\n",
    "    X,Y = inp\n",
    "    store = {}\n",
    "    if len(X) <= 2:\n",
    "        return len(X)\n",
    "    for i in range(len(X)):\n",
    "        for j in range(i+1, len(X)):\n",
    "            slope = get_slope(X[i], Y[i], X[j], Y[j])\n",
    "            origin = get_origin(X[i], Y[i], slope)\n",
    "            key = make_key(slope, origin)\n",
    "            if key in store:\n",
    "                store[key].add((X[i],Y[i]))\n",
    "                store[key].add((X[j],Y[j]))\n",
    "            else:\n",
    "                store[key] = set(((X[i],Y[i]), (X[j], Y[j])))\n",
    "    max_points = 0\n",
    "    for key,points in store.items():\n",
    "        if len(points) > max_points:\n",
    "            max_points = len(points)\n",
    "    return max_points\n",
    "    \n",
    "cases = [\n",
    "    ( ([1,2], [1,2]), 2),\n",
    "    ( ([1,2,0], [1,2,0]), 3),\n",
    "    ( ([1,2,0,0,0,0], [1,2,0,1,2,3]), 4),\n",
    "]\n",
    "\n",
    "test(cases, solution)"
   ]
  },
  {
   "cell_type": "code",
   "execution_count": null,
   "metadata": {
    "collapsed": true
   },
   "outputs": [],
   "source": []
  }
 ],
 "metadata": {
  "kernelspec": {
   "display_name": "Python 3",
   "language": "python",
   "name": "python3"
  },
  "language_info": {
   "codemirror_mode": {
    "name": "ipython",
    "version": 3
   },
   "file_extension": ".py",
   "mimetype": "text/x-python",
   "name": "python",
   "nbconvert_exporter": "python",
   "pygments_lexer": "ipython3",
   "version": "3.6.0"
  },
  "latex_envs": {
   "LaTeX_envs_menu_present": true,
   "autocomplete": true,
   "bibliofile": "biblio.bib",
   "cite_by": "apalike",
   "current_citInitial": 1,
   "eqLabelWithNumbers": true,
   "eqNumInitial": 1,
   "hotkeys": {
    "equation": "Ctrl-E",
    "itemize": "Ctrl-I"
   },
   "labels_anchors": false,
   "latex_user_defs": false,
   "report_style_numbering": false,
   "user_envs_cfg": false
  },
  "toc": {
   "colors": {
    "hover_highlight": "#DAA520",
    "navigate_num": "#000000",
    "navigate_text": "#333333",
    "running_highlight": "#FF0000",
    "selected_highlight": "#FFD700",
    "sidebar_border": "#EEEEEE",
    "wrapper_background": "#FFFFFF"
   },
   "moveMenuLeft": true,
   "nav_menu": {
    "height": "148px",
    "width": "254px"
   },
   "navigate_menu": true,
   "number_sections": true,
   "sideBar": true,
   "threshold": 4,
   "toc_cell": false,
   "toc_section_display": "block",
   "toc_window_display": false,
   "widenNotebook": false
  }
 },
 "nbformat": 4,
 "nbformat_minor": 2
}
