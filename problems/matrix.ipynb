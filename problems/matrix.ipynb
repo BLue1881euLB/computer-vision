{
 "cells": [
  {
   "cell_type": "markdown",
   "metadata": {},
   "source": [
    "## Matrix\n",
    "\n",
    "* https://paper.dropbox.com/doc/Interview-Problems-eG5eZN1D0SewzP9UOqg3t"
   ]
  },
  {
   "cell_type": "markdown",
   "metadata": {
    "heading_collapsed": true
   },
   "source": [
    "## Helpers"
   ]
  },
  {
   "cell_type": "code",
   "execution_count": 26,
   "metadata": {
    "collapsed": true,
    "hidden": true
   },
   "outputs": [],
   "source": [
    "import numpy as np\n",
    "import copy\n",
    "\n",
    "def P(in_arr, out_arr):\n",
    "    print(in_arr)\n",
    "    if type(out_arr) != np.ndarray:\n",
    "        out_arr = np.array(out_arr)\n",
    "    print(out_arr)\n",
    "    print('---')\n",
    "\n",
    "def test(cases, func):\n",
    "    for i in range(len(cases)):\n",
    "        output = func(cases[i][0])\n",
    "        try:\n",
    "            assert output == cases[i][1]\n",
    "            print(i, \"- Correct\")\n",
    "        except:\n",
    "            print(i, \"- Failed\")\n",
    "            print(\"\\tExpected\", cases[i][1])\n",
    "            print(\"\\tOutput\", output)\n",
    "\n",
    "def get_dims(arr, dims=[]):\n",
    "    if type(arr) not in [list, tuple, np.ndarray]:\n",
    "        return dims\n",
    "    dims = get_dims(arr[0], dims)\n",
    "    dims.insert(0, len(arr))\n",
    "    return dims\n",
    "\n",
    "def create_zero_arr(arr):\n",
    "    if type(arr) not in [list, tuple, np.ndarray]:\n",
    "        return 0\n",
    "    zeros = [create_zero_arr(a) for a in arr]\n",
    "    return zeros\n",
    "\n",
    "arr1 = np.array([[1]])\n",
    "arr2 = np.array([[1, 2], [3, 4]])\n",
    "arr3 = np.array([\n",
    "    [1, 2, 3],\n",
    "    [4, 5, 6],\n",
    "    [7, 8, 9],\n",
    "])\n",
    "arr4 = np.array([\n",
    "    [1, 2, 3],\n",
    "    [4, 5, 6],\n",
    "])\n",
    "squares = [arr1, arr2, arr3]\n",
    "rects = [arr1, arr2, arr3, arr4]"
   ]
  },
  {
   "cell_type": "markdown",
   "metadata": {},
   "source": [
    "## Problems"
   ]
  },
  {
   "cell_type": "markdown",
   "metadata": {
    "heading_collapsed": true
   },
   "source": [
    "### Anti-diagonals"
   ]
  },
  {
   "cell_type": "markdown",
   "metadata": {
    "hidden": true
   },
   "source": [
    "https://www.interviewbit.com/problems/anti-diagonals/"
   ]
  },
  {
   "cell_type": "code",
   "execution_count": 6,
   "metadata": {
    "hidden": true
   },
   "outputs": [
    {
     "name": "stdout",
     "output_type": "stream",
     "text": [
      "[[1]]\n",
      "[[1], [2, 3], [4]]\n",
      "[[1], [2, 4], [3, 5, 7], [6, 8], [9]]\n"
     ]
    }
   ],
   "source": [
    "out = [ \n",
    "  [1],\n",
    "  [2, 4],\n",
    "  [3, 5, 7],\n",
    "  [6, 8],\n",
    "  [9]\n",
    "]\n",
    "\n",
    "class Solution:\n",
    "    def diagonal(self, arr):\n",
    "        out = []\n",
    "        col = 0\n",
    "        while col < len(arr):\n",
    "            out.append(self.get_waterfall(arr, 0, col))\n",
    "            col += 1\n",
    "        row = 1\n",
    "        while row < len(arr):\n",
    "            out.append(self.get_waterfall(arr, row, len(arr)-1))\n",
    "            row += 1\n",
    "        return out\n",
    "\n",
    "    def get_waterfall(self, arr, row, col):\n",
    "        out = []\n",
    "        while row < len(arr) and col >= 0:\n",
    "            out.append(arr[row][col])\n",
    "            row += 1\n",
    "            col -= 1\n",
    "        return out\n",
    "    \n",
    "s = Solution()\n",
    "for a in squares:\n",
    "    print(s.diagonal(a))"
   ]
  },
  {
   "cell_type": "markdown",
   "metadata": {
    "heading_collapsed": true
   },
   "source": [
    "### Number of Islands"
   ]
  },
  {
   "cell_type": "markdown",
   "metadata": {
    "hidden": true
   },
   "source": [
    "https://leetcode.com/problems/number-of-islands/description/"
   ]
  },
  {
   "cell_type": "code",
   "execution_count": 87,
   "metadata": {
    "hidden": true
   },
   "outputs": [
    {
     "name": "stdout",
     "output_type": "stream",
     "text": [
      "0 - Correct\n",
      "1 - Correct\n",
      "2 - Correct\n",
      "3 - Correct\n",
      "4 - Correct\n"
     ]
    }
   ],
   "source": [
    "\"\"\"\n",
    "Given a 2d grid map of '1's (land) and '0's (water), count the number of islands. \n",
    "An island is surrounded by water and is formed by connecting adjacent lands horizontally or vertically. \n",
    "\n",
    "Goal: \n",
    "    Count unique groups of 1s\n",
    "\n",
    "Cases\n",
    "    * Empty\n",
    "    * No islands\n",
    "    * One island\n",
    "    * > 1 islands\n",
    "    * Square\n",
    "    * Non-square\n",
    "\"\"\" \n",
    "in1 = [\n",
    "    [1,1,1,1,0],\n",
    "    [1,1,0,1,0],\n",
    "    [1,1,0,0,0],\n",
    "    [0,0,0,0,0],\n",
    "]\n",
    "out1 = 1\n",
    "in2 = [\n",
    "    [1,1,0,0,0],\n",
    "    [1,1,0,0,0],\n",
    "    [0,0,1,0,0],\n",
    "    [0,0,0,1,1],\n",
    "]\n",
    "out2 = 3\n",
    "in3 = [\n",
    "    [1,1,0,0,0],\n",
    "    [1,1,0,0,1],\n",
    "]\n",
    "out3 = 2\n",
    "in4 = [\n",
    "    [1,1,1],\n",
    "    [1,1,1],\n",
    "]\n",
    "out4 = 1\n",
    "in5 = [\n",
    "    [0,0],\n",
    "    [0,0],\n",
    "]\n",
    "out5 = 0\n",
    "\n",
    "cases = [(in1,out1), (in2,out2), (in3,out3), (in4,out4), (in5,out5)]\n",
    "\n",
    "def explore_island(arr, visited, row, col):\n",
    "    if row < 0 or row >= len(arr):\n",
    "        return\n",
    "    elif col < 0 or col >= len(arr[row]):\n",
    "        return\n",
    "    elif arr[row][col] == 0 or visited[row][col] == 1:\n",
    "        return\n",
    "    else:\n",
    "        visited[row][col] = 1\n",
    "        explore_island(arr, visited, row-1, col)\n",
    "        explore_island(arr, visited, row+1, col)\n",
    "        explore_island(arr, visited, row, col+1)\n",
    "        explore_island(arr, visited, row, col-1)\n",
    "\n",
    "def count_islands(arr):\n",
    "    ## Create copy to track visited/not visited\n",
    "    visited = create_zero_arr(arr)\n",
    "    islands = 0\n",
    "    for row in range(len(arr)):\n",
    "        for col in range(len(arr[row])):\n",
    "            if arr[row][col] == 1 and visited[row][col] == 0:\n",
    "                islands += 1\n",
    "                explore_island(arr, visited, row, col)\n",
    "    return islands\n",
    "\n",
    "#count_islands(in2)\n",
    "test(cases, count_islands)"
   ]
  },
  {
   "cell_type": "markdown",
   "metadata": {
    "heading_collapsed": true
   },
   "source": [
    "### Island Perimeter"
   ]
  },
  {
   "cell_type": "markdown",
   "metadata": {
    "hidden": true
   },
   "source": [
    "* https://leetcode.com/problems/island-perimeter/description/"
   ]
  },
  {
   "cell_type": "code",
   "execution_count": 92,
   "metadata": {
    "hidden": true
   },
   "outputs": [
    {
     "name": "stdout",
     "output_type": "stream",
     "text": [
      "0 - Correct\n",
      "1 - Correct\n",
      "2 - Correct\n",
      "3 - Correct\n",
      "4 - Correct\n"
     ]
    }
   ],
   "source": [
    "\"\"\"\n",
    "You are given a map in form of a two-dimensional integer grid where 1 represents land and 0 represents water. Grid cells are connected horizontally/vertically (not diagonally). The grid is completely surrounded by water, and there is exactly one island (i.e., one or more connected land cells). The island doesn't have \"lakes\" (water inside that isn't connected to the water around the island). One cell is a square with side length 1. The grid is rectangular, width and height don't exceed 100. Determine the perimeter of the island.\n",
    "\"\"\"\n",
    "in0 =[\n",
    "    [0,1,0,0],\n",
    "    [1,1,1,0],\n",
    "    [0,1,0,0],\n",
    "    [1,1,0,0]\n",
    "]\n",
    "out0 = 16\n",
    "in1 = [\n",
    "    [1,1,1,1,0],\n",
    "    [1,1,0,1,0],\n",
    "    [1,1,0,0,0],\n",
    "    [0,0,0,0,0],\n",
    "]\n",
    "out1 = 16\n",
    "in3 = [\n",
    "    [1,1,0,0,0],\n",
    "    [1,1,0,0,0],\n",
    "]\n",
    "out3 = 8\n",
    "in4 = [\n",
    "    [1,1,1],\n",
    "    [1,1,1],\n",
    "]\n",
    "out4 = 10\n",
    "in5 = [\n",
    "    [0,0],\n",
    "    [0,0],\n",
    "]\n",
    "out5 = 0\n",
    "\n",
    "cases = [(in0,out0),(in1,out1), (in3,out3), (in4,out4), (in5,out5)]\n",
    "\n",
    "def count_water_sides(arr, row, col):\n",
    "    water = 0\n",
    "    if col-1 < 0 or arr[row][col-1] == 0:\n",
    "        water += 1\n",
    "    if col+1 == len(arr[row]) or arr[row][col+1] == 0:\n",
    "        water += 1\n",
    "    if row-1 < 0 or arr[row-1][col] == 0:\n",
    "        water += 1\n",
    "    if row+1 == len(arr) or arr[row+1][col] == 0:\n",
    "        water += 1\n",
    "    return water\n",
    "\n",
    "def find_perimeter(arr):\n",
    "    perimeter = 0\n",
    "    for row in range(len(arr)):\n",
    "        for col in range(len(arr[row])):\n",
    "            if arr[row][col] == 1:\n",
    "                perimeter += count_water_sides(arr, row, col)\n",
    "    return perimeter\n",
    "\n",
    "test(cases, find_perimeter)"
   ]
  },
  {
   "cell_type": "markdown",
   "metadata": {
    "heading_collapsed": true
   },
   "source": [
    "### Spiral Order"
   ]
  },
  {
   "cell_type": "markdown",
   "metadata": {
    "hidden": true
   },
   "source": [
    "* https://www.interviewbit.com/problems/spiral-order-matrix-i/ "
   ]
  },
  {
   "cell_type": "code",
   "execution_count": 93,
   "metadata": {
    "hidden": true
   },
   "outputs": [
    {
     "name": "stdout",
     "output_type": "stream",
     "text": [
      "0 - Correct\n",
      "1 - Correct\n",
      "2 - Correct\n",
      "3 - Correct\n",
      "4 - Correct\n"
     ]
    }
   ],
   "source": [
    "\"\"\"Print M x N matrix in spiral order\n",
    "\n",
    "Cases\n",
    "* Empty\n",
    "* 1x1\n",
    "* Square \n",
    "    * 2x2\n",
    "    * 3x3\n",
    "    * 4x4\n",
    "* Rectangle\n",
    "    * 3x2\n",
    "    * 2x3\n",
    "\n",
    "\"\"\"\n",
    "\n",
    "in1 = [\n",
    "    [ 1, 2, 3 ],\n",
    "    [ 4, 5, 6 ],\n",
    "    [ 7, 8, 9 ]]\n",
    "out1 = [1, 2, 3, 6, 9, 8, 7, 4, 5]\n",
    "in2 = [\n",
    "    [1]\n",
    "]\n",
    "out2 = [1]\n",
    "in3 = [\n",
    "    [1, 2, 3],\n",
    "    [4, 5, 6],\n",
    "]\n",
    "out3 = [1, 2, 3, 6, 5, 4]\n",
    "in4 = [\n",
    "    [1, 2],\n",
    "    [3, 4],\n",
    "    [5, 6],\n",
    "    [7, 8]\n",
    "]\n",
    "out4 = [1, 2, 4, 6, 8, 7, 5, 3]\n",
    "in5 = [\n",
    "    [1, 2, 3, 4],\n",
    "    [5, 6, 7, 8],\n",
    "    [9, 10, 11, 12],\n",
    "    [13, 14, 15, 16]\n",
    "]\n",
    "out5 = [1,2,3,4,8,12,16,15,14,13,9,5,6,7,11,10]\n",
    "cases = [(in1,out1), (in2,out2), (in3,out3), (in4,out4), (in5,out5)]\n",
    "\n",
    "def spiral(arr):\n",
    "    n_elems = len(arr)*len(arr[0])\n",
    "    out = []\n",
    "    start_row, start_col = 0,0\n",
    "    while len(out) < n_elems:\n",
    "        row = start_row\n",
    "        col = start_col\n",
    "        \n",
    "        # Right\n",
    "        while col < len(arr[row]) - start_col:\n",
    "            out.append(arr[row][col])\n",
    "            col+=1\n",
    "        col -= 1\n",
    "        row += 1\n",
    "        \n",
    "        # Down\n",
    "        while row < len(arr) - start_row:\n",
    "            out.append(arr[row][col])\n",
    "            row += 1\n",
    "        row -= 1\n",
    "        col -= 1\n",
    "        \n",
    "        # Left\n",
    "        while col >= start_col:\n",
    "            out.append(arr[row][col])\n",
    "            col -= 1\n",
    "        col += 1\n",
    "        row -= 1\n",
    "        \n",
    "        # Up\n",
    "        while row > start_row:\n",
    "            out.append(arr[row][col])\n",
    "            row -= 1\n",
    "\n",
    "        start_row += 1\n",
    "        start_col += 1\n",
    "\n",
    "    return out\n",
    "\n",
    "test(cases, spiral)"
   ]
  },
  {
   "cell_type": "markdown",
   "metadata": {
    "heading_collapsed": true
   },
   "source": [
    "### Rotate"
   ]
  },
  {
   "cell_type": "markdown",
   "metadata": {
    "hidden": true
   },
   "source": [
    "* https://www.interviewbit.com/problems/rotate-matrix/\n",
    "* https://leetcode.com/problems/rotate-image/description/"
   ]
  },
  {
   "cell_type": "code",
   "execution_count": 44,
   "metadata": {
    "hidden": true
   },
   "outputs": [
    {
     "name": "stdout",
     "output_type": "stream",
     "text": [
      "0 - Correct\n",
      "1 - Correct\n",
      "2 - Correct\n",
      "0 - Correct\n",
      "1 - Correct\n",
      "2 - Correct\n",
      "0 - Correct\n",
      "1 - Correct\n",
      "2 - Correct\n",
      "3 - Correct\n",
      "0 - Correct\n",
      "1 - Correct\n",
      "2 - Correct\n",
      "3 - Correct\n"
     ]
    }
   ],
   "source": [
    "\"\"\"\n",
    "Rotate NxN matrix 90 degrees clockwise in-place\n",
    "\n",
    "Cases\n",
    "-----\n",
    "* Empty or 1x1\n",
    "* 2x2 (even)\n",
    "* 3x3 (odd)\n",
    "\n",
    "M = [\n",
    "    [1, 2],\n",
    "    [3, 4]\n",
    "]\n",
    "Rot = [\n",
    "    [3, 1],\n",
    "    [4, 2]\n",
    "]\n",
    "\"\"\"\n",
    "\n",
    "def transpose(M):\n",
    "    T = []\n",
    "    for i,col in enumerate(M[0]): \n",
    "        new_row = []\n",
    "        for j,row in enumerate(M):\n",
    "            new_row.append(M[j][i])\n",
    "        T.append(new_row)\n",
    "    return T\n",
    "\n",
    "def reflect(M):\n",
    "    M = copy.deepcopy(M)\n",
    "    for row in range(len(M)):\n",
    "        cols = len(M[row])\n",
    "        for col in range(cols//2):\n",
    "            tmp = M[row][col]\n",
    "            M[row][col] = M[row][cols-col-1]\n",
    "            M[row][cols-col-1] = tmp\n",
    "    return M\n",
    "\n",
    "def rot90(M):\n",
    "    M = copy.deepcopy(M)\n",
    "    M = transpose(M)\n",
    "    M = reflect(M)\n",
    "    return M\n",
    "    \n",
    "def rot90_inplace(M):\n",
    "    M = copy.deepcopy(M)\n",
    "    n_rows = len(M)\n",
    "    n_cols = len(M[0])\n",
    "    for i in range(n_rows//2):\n",
    "        for j in range(i, n_rows-i-1):\n",
    "            prior = M[i][j]\n",
    "            \n",
    "            # right\n",
    "            row = j\n",
    "            col = n_rows - i - 1\n",
    "            cur = M[row][col]\n",
    "            M[row][col] = prior\n",
    "            prior = cur\n",
    "\n",
    "            # down\n",
    "            row = n_rows - i - 1\n",
    "            col = n_rows - j - 1\n",
    "            cur = M[row][col]\n",
    "            M[row][col] = prior\n",
    "            prior = cur\n",
    "\n",
    "            # left\n",
    "            row = n_rows - j - 1\n",
    "            col = i\n",
    "            cur = M[row][col]\n",
    "            M[row][col] = prior\n",
    "            prior = cur\n",
    "\n",
    "            # Up (original position)\n",
    "            row = i\n",
    "            col = j\n",
    "            cur = M[row][col]\n",
    "            M[row][col] = prior\n",
    "    return M\n",
    "\n",
    "## Test Data\n",
    "In1 = [[1]]\n",
    "Trans1 = [[1]]\n",
    "Reflect1 = [[1]]\n",
    "Rot1 = [[1]]\n",
    "\n",
    "In2 = [\n",
    "    [1,2], \n",
    "    [3,4]\n",
    "]\n",
    "Trans2 = [\n",
    "    [1,3],\n",
    "    [2,4]\n",
    "]\n",
    "Reflect2 = [\n",
    "    [2,1],\n",
    "    [4,3]\n",
    "]\n",
    "Rot2 = [\n",
    "    [3,1],\n",
    "    [4,2]\n",
    "]\n",
    "\n",
    "\n",
    "In3 = [\n",
    "    [1,2,3],\n",
    "    [4,5,6],\n",
    "    [7,8,9]\n",
    "]\n",
    "Trans3 = [\n",
    "    [1,4,7],\n",
    "    [2,5,8],\n",
    "    [3,6,9]\n",
    "    \n",
    "]\n",
    "Reflect3 = [\n",
    "    [3,2,1],\n",
    "    [6,5,4],\n",
    "    [9,8,7]\n",
    "]\n",
    "Rot3 = [\n",
    "    [7,4,1],\n",
    "    [8,5,2],\n",
    "    [9,6,3]\n",
    "]\n",
    "\n",
    "In4 = [\n",
    "    [1, 2, 3, 4],\n",
    "    [5, 6, 7, 8],\n",
    "    [9,10,11,12],\n",
    "    [13,14,15,16]\n",
    "]\n",
    "Rot4 = [\n",
    "    [13,  9, 5, 1],\n",
    "    [14, 10, 6, 2],\n",
    "    [15, 11, 7, 3],\n",
    "    [16, 12, 8, 4]\n",
    "]\n",
    "TransCases = [(In1,Trans1), (In2,Trans2), (In3,Trans3)]\n",
    "ReflectCases = [(In1,Reflect1), (In2,Reflect2), (In3,Reflect3)]\n",
    "RotateCases = [(In1,Rot1), (In2,Rot2), (In3,Rot3), (In4,Rot4)]\n",
    "\n",
    "test(TransCases, transpose)\n",
    "test(ReflectCases, reflect)\n",
    "test(RotateCases, rot90)\n",
    "test(RotateCases, rot90_inplace)"
   ]
  },
  {
   "cell_type": "markdown",
   "metadata": {
    "heading_collapsed": true
   },
   "source": [
    "### Unique Paths"
   ]
  },
  {
   "cell_type": "markdown",
   "metadata": {
    "hidden": true
   },
   "source": [
    "* https://www.interviewbit.com/problems/grid-unique-paths/"
   ]
  },
  {
   "cell_type": "code",
   "execution_count": 20,
   "metadata": {
    "hidden": true
   },
   "outputs": [
    {
     "name": "stdout",
     "output_type": "stream",
     "text": [
      "0 - Correct\n",
      "1 - Correct\n",
      "2 - Correct\n",
      "0 - Correct\n",
      "1 - Correct\n",
      "2 - Correct\n"
     ]
    }
   ],
   "source": [
    "\"\"\"\n",
    "A robot is located at the top-left corner of an A x B grid (marked ‘Start’ in the diagram below).\n",
    "\n",
    "A = 2\n",
    "B = 2\n",
    "in0 = [\n",
    "    [0, 0],\n",
    "    [0, 1]\n",
    "]\n",
    "out0 = 2\n",
    "\n",
    "The robot can only move \"either down or right\" at any point in time. \n",
    "The robot is trying to reach the bottom-right corner of the grid (marked ‘Finish’ in the diagram below).\n",
    "\n",
    "How many possible unique paths are there?\n",
    "\n",
    "INPUT\n",
    "    A: Rows\n",
    "    B: Cols\n",
    "OUTPUT:\n",
    "    Count of unique paths\n",
    "    \n",
    "Notes\n",
    "-----\n",
    "- Recursive pattern\n",
    "    Base:\n",
    "        You've gotten to the last row or col (A or B == 1), so only one path remains\n",
    "    Else:\n",
    "        return count of A-1 + B-1\n",
    "\"\"\"\n",
    "\n",
    "cases = [((1,1),1), ((2,2),2), ((3,3),6)]\n",
    "\n",
    "def unique_paths(inp):\n",
    "    A,B = inp\n",
    "    if A == 1 or B == 1:\n",
    "        return 1\n",
    "    return unique_paths((A-1, B)) + unique_paths((A, B-1))\n",
    "\n",
    "def unique_paths_stack(inp):\n",
    "    count = 0 \n",
    "    stack = []\n",
    "    stack.insert(0, inp)\n",
    "    while len(stack) > 0:\n",
    "        A,B = stack.pop(0)\n",
    "        if A == 1 or B == 1:\n",
    "            count += 1\n",
    "        else:\n",
    "            stack.insert(0, (A-1,B))\n",
    "            stack.insert(0, (A,B-1))\n",
    "    return count\n",
    "\n",
    "test(cases, unique_paths)\n",
    "test(cases, unique_paths_stack)"
   ]
  },
  {
   "cell_type": "markdown",
   "metadata": {
    "heading_collapsed": true
   },
   "source": [
    "### Set Zeros"
   ]
  },
  {
   "cell_type": "markdown",
   "metadata": {
    "hidden": true
   },
   "source": [
    "* https://www.interviewbit.com/problems/set-matrix-zeros/"
   ]
  },
  {
   "cell_type": "code",
   "execution_count": 97,
   "metadata": {
    "hidden": true
   },
   "outputs": [
    {
     "name": "stdout",
     "output_type": "stream",
     "text": [
      "0 - Correct\n",
      "1 - Correct\n",
      "2 - Correct\n"
     ]
    }
   ],
   "source": [
    "\"\"\"\n",
    "Given an m x n matrix of 0s and 1s, if an element is 0, set its entire row and column to 0.\n",
    "\n",
    "Notes\n",
    "-------\n",
    "* Do it in place\n",
    "* Can be rectangle\n",
    "* Trick for in-place, is once you set the row/col to 0, you may override an existing 0 you needed to account for\n",
    "* One possible solution is to use a marker number like -1, as a placeholder\n",
    "* When iterating, leave 0 cells alone, but set 1s to -1\n",
    "\n",
    "Cases\n",
    "-------\n",
    "* Empty or 1 element\n",
    "* No 0s \n",
    "* All 0s\n",
    "* Square\n",
    "* Rect\n",
    "* Even/Odd rows/cols\n",
    "* Multiple 0s\n",
    "    - 0s overridden\n",
    "\n",
    "\"\"\"\n",
    "in0 = [\n",
    "    [1]\n",
    "]\n",
    "out0 = [\n",
    "    [1]\n",
    "]\n",
    "in1 = [\n",
    "    [1, 0, 1],\n",
    "    [1, 1, 1], \n",
    "    [1, 1, 1]\n",
    "]\n",
    "out1 = [\n",
    "    [0, 0, 0],\n",
    "    [1, 0, 1], \n",
    "    [1, 0, 1]    \n",
    "]    \n",
    "in2 = [\n",
    "    [1, 0, 1],\n",
    "    [1, 1, 1], \n",
    "    [1, 0, 1]\n",
    "]\n",
    "out2 = [\n",
    "    [0, 0, 0],\n",
    "    [1, 0, 1], \n",
    "    [0, 0, 0]    \n",
    "]\n",
    "cases = [(in0,out0), (in1,out1), (in2,out2)]\n",
    "\n",
    "def mark_row(arr, row):\n",
    "    for col in range(len(arr[row])):\n",
    "        if arr[row][col] != 0:\n",
    "            arr[row][col] = -1\n",
    "\n",
    "def mark_col(arr, col):\n",
    "    for row in range(len(arr)):\n",
    "        if arr[row][col] != 0:\n",
    "            arr[row][col] = -1\n",
    "\n",
    "def zero_matrix(arr):\n",
    "    for row in range(len(arr)):\n",
    "        for col in range(len(arr[row])):\n",
    "            if arr[row][col] == 0:\n",
    "                arr[row][col] = -1\n",
    "                mark_row(arr, row)\n",
    "                mark_col(arr, col)\n",
    "    for row in range(len(arr)):\n",
    "        for col in range(len(arr[row])):\n",
    "            if arr[row][col] == -1:\n",
    "                arr[row][col] = 0\n",
    "    return arr\n",
    "\n",
    "test(cases, zero_matrix)"
   ]
  },
  {
   "cell_type": "markdown",
   "metadata": {},
   "source": [
    "## Links"
   ]
  },
  {
   "cell_type": "markdown",
   "metadata": {},
   "source": []
  },
  {
   "cell_type": "code",
   "execution_count": null,
   "metadata": {
    "collapsed": true
   },
   "outputs": [],
   "source": []
  }
 ],
 "metadata": {
  "kernelspec": {
   "display_name": "Python 3",
   "language": "python",
   "name": "python3"
  },
  "language_info": {
   "codemirror_mode": {
    "name": "ipython",
    "version": 3
   },
   "file_extension": ".py",
   "mimetype": "text/x-python",
   "name": "python",
   "nbconvert_exporter": "python",
   "pygments_lexer": "ipython3",
   "version": "3.6.0"
  },
  "latex_envs": {
   "LaTeX_envs_menu_present": true,
   "autocomplete": true,
   "bibliofile": "biblio.bib",
   "cite_by": "apalike",
   "current_citInitial": 1,
   "eqLabelWithNumbers": true,
   "eqNumInitial": 1,
   "hotkeys": {
    "equation": "Ctrl-E",
    "itemize": "Ctrl-I"
   },
   "labels_anchors": false,
   "latex_user_defs": false,
   "report_style_numbering": false,
   "user_envs_cfg": false
  },
  "toc": {
   "colors": {
    "hover_highlight": "#DAA520",
    "navigate_num": "#000000",
    "navigate_text": "#333333",
    "running_highlight": "#FF0000",
    "selected_highlight": "#FFD700",
    "sidebar_border": "#EEEEEE",
    "wrapper_background": "#FFFFFF"
   },
   "moveMenuLeft": true,
   "nav_menu": {
    "height": "239px",
    "width": "253px"
   },
   "navigate_menu": true,
   "number_sections": true,
   "sideBar": true,
   "threshold": 4,
   "toc_cell": false,
   "toc_section_display": "block",
   "toc_window_display": false,
   "widenNotebook": false
  }
 },
 "nbformat": 4,
 "nbformat_minor": 2
}
