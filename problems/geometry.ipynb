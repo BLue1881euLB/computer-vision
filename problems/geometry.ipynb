{
 "cells": [
  {
   "cell_type": "markdown",
   "metadata": {},
   "source": [
    "## Scratchpad"
   ]
  },
  {
   "cell_type": "code",
   "execution_count": 16,
   "metadata": {
    "collapsed": true
   },
   "outputs": [],
   "source": [
    "import math\n",
    "import sys\n",
    "\n",
    "def test(cases, func):\n",
    "    for i in range(len(cases)):\n",
    "        output = func(cases[i][0])\n",
    "        try:\n",
    "            assert output == cases[i][1]\n",
    "            print(i, \"- Correct\")\n",
    "        except:\n",
    "            print(i, \"- Failed\")\n",
    "            print(\"\\tExpected\", cases[i][1])\n",
    "            print(\"\\tOutput\", output)"
   ]
  },
  {
   "cell_type": "markdown",
   "metadata": {},
   "source": [
    "## Problems"
   ]
  },
  {
   "cell_type": "markdown",
   "metadata": {},
   "source": [
    "### Polygon Concavity"
   ]
  },
  {
   "cell_type": "markdown",
   "metadata": {},
   "source": [
    "* https://codility.com/programmers/lessons/99-future_training/polygon_concavity_index/\n",
    "* https://stackoverflow.com/questions/471962/how-do-determine-if-a-polygon-is-complex-convex-nonconvex"
   ]
  },
  {
   "cell_type": "code",
   "execution_count": 56,
   "metadata": {},
   "outputs": [
    {
     "name": "stdout",
     "output_type": "stream",
     "text": [
      "0 - Correct\n",
      "1 - Correct\n",
      "2 - Correct\n",
      "3 - Correct\n"
     ]
    }
   ],
   "source": [
    "\"\"\"\n",
    "A consisting of N elements describing a polygon, returns −1 if the polygon is convex. \n",
    "Otherwise, the function should return the index of any point that doesn't belong to the convex hull border. \n",
    "Note that consecutive edges of the polygon may be collinear (that is, the polygon might have 180−degrees angles).\n",
    "\n",
    "Cases\n",
    "1) Triangle (3 points) *\n",
    "2) Rectange (4 points, 90 degree angles, slope = 0 or inf) *\n",
    "3) Convex polygon\n",
    "4) Concave polygon\n",
    "5) Collinear points along line\n",
    "\n",
    "\"\"\"\n",
    "\n",
    "class Point2D():\n",
    "    def __init__(self, x=0, y=0):\n",
    "        self.x = x\n",
    "        self.y = y\n",
    "\n",
    "def get_slope(p1, p2):\n",
    "    y_delta = p2.y - p1.y\n",
    "    x_delta = p2.x - p1.x\n",
    "    \n",
    "    # vertical\n",
    "    if x_delta == 0:\n",
    "        return 'inf'\n",
    "    \n",
    "    return y_delta / x_delta\n",
    "\n",
    "def get_bounding_box(A):\n",
    "    x_min = sys.maxsize\n",
    "    x_max = -sys.maxsize\n",
    "    y_min = sys.maxsize\n",
    "    y_max = -sys.maxsize\n",
    "    for point in A:\n",
    "        if point.x < x_min:\n",
    "            x_min = point.x\n",
    "        if point.x > x_max:\n",
    "            x_max = point.x\n",
    "        if point.y < y_min:\n",
    "            y_min = point.y\n",
    "        if point.y > y_max:\n",
    "            y_max = point.y\n",
    "    return [x_min, x_max, y_min, y_max]\n",
    "\n",
    "def are_points_convex(p1, p2, m_prior, bb):\n",
    "    if m_prior in [0,'inf',None]:\n",
    "        return True\n",
    "    slope = get_slope(p1, p2)\n",
    "    \n",
    "    # We change direction at extreme points\n",
    "    # And allow slope to be greater than prior\n",
    "    if p2.x in [bb[0], bb[1]]:\n",
    "        return True\n",
    "\n",
    "    if p2.y in [bb[2], bb[3]]:\n",
    "        return True\n",
    "    \n",
    "    # vertical, okay at polygon left, right\n",
    "    if slope == 'inf':\n",
    "        return p2.x in [bb[0], bb[1]]\n",
    "\n",
    "    # horizonal, okay at polygon top, bottom\n",
    "    if slope == 0:\n",
    "        return p2.y in [bb[2], bb[3]]\n",
    "        \n",
    "    return slope <= m_prior\n",
    "\n",
    "def solution(A):\n",
    "    bb = get_bounding_box(A)\n",
    "    A.append(A[0])\n",
    "    m_prior = sys.maxsize\n",
    "    for i in range(1, len(A)):\n",
    "        slope = get_slope(A[i-1], A[i])\n",
    "        if not are_points_convex(A[i-1], A[i], m_prior, bb):\n",
    "            # if last point breaks convexity\n",
    "            # don't return the starting point\n",
    "            if i == len(A) - 1:\n",
    "                return i-1\n",
    "            return i\n",
    "        m_prior = slope\n",
    "    return -1\n",
    "\n",
    "def make_points(A):\n",
    "    points = []\n",
    "    for tup in A:\n",
    "        points.append(Point2D(tup[0], tup[1]))\n",
    "    return points\n",
    "\n",
    "cases = [\n",
    "    (\n",
    "        make_points([\n",
    "            (-1, 3),\n",
    "            (3, 1),\n",
    "            (0, -1),\n",
    "            (-2, 1)\n",
    "        ]),\n",
    "        -1\n",
    "    ),    \n",
    "    (\n",
    "        make_points([\n",
    "            (-1, 3),\n",
    "            (1, 2),\n",
    "            (1, 1),\n",
    "            (3, 1),\n",
    "            (0, -1),\n",
    "            (-2, 1),\n",
    "            (-1, 2)\n",
    "        ]),\n",
    "        2\n",
    "    ),\n",
    "    (\n",
    "        make_points([\n",
    "            (-1, -1),\n",
    "            (1, 1),\n",
    "            (1, -1),\n",
    "            (-1, 1),\n",
    "        ]),\n",
    "        -1\n",
    "    ),\n",
    "    (\n",
    "        make_points([\n",
    "            (-1, -1),\n",
    "            (1, 1),\n",
    "            (1, -1),\n",
    "        ]),\n",
    "        -1\n",
    "    )\n",
    "\n",
    "]\n",
    "test(cases, solution)"
   ]
  },
  {
   "cell_type": "markdown",
   "metadata": {},
   "source": [
    "### Same as above with cross product (not working)"
   ]
  },
  {
   "cell_type": "code",
   "execution_count": null,
   "metadata": {
    "collapsed": true
   },
   "outputs": [],
   "source": [
    "\"\"\"\n",
    "A consisting of N elements describing a polygon, returns −1 if the polygon is convex. \n",
    "Otherwise, the function should return the index of any point that doesn't belong to the convex hull border. \n",
    "Note that consecutive edges of the polygon may be collinear (that is, the polygon might have 180−degrees angles).\n",
    "\n",
    "Cases\n",
    "1) Triangle (3 points) *\n",
    "2) Rectange (4 points, 90 degree angles, slope = 0 or inf) *\n",
    "3) Convex polygon *\n",
    "4) Concave polygon *\n",
    "5) Collinear points along line\n",
    "\n",
    "\"\"\"\n",
    "\n",
    "class Point2D():\n",
    "    def __init__(self, x=0, y=0):\n",
    "        self.x = x\n",
    "        self.y = y\n",
    "\n",
    "def get_delta(p1, p2):\n",
    "    y_delta = p2.y - p1.y\n",
    "    x_delta = p2.x - p1.x\n",
    "    return Point2D(x_delta, y_delta)\n",
    "\n",
    "def get_cross(p1, p2):\n",
    "    return (p1.x * p2.y) - (p2.x - p1.y)\n",
    "\n",
    "def solution(A):\n",
    "    is_neg = None\n",
    "    for i in range(len(A)-1):\n",
    "        a = A[i-1]\n",
    "        b = A[i]\n",
    "        c = A[i+1]\n",
    "        p1 = get_delta(a, b)\n",
    "        p2 = get_delta(b, c)\n",
    "        cross = get_cross(p1, p2)\n",
    "        print(\"cross\", cross, is_neg)\n",
    "        if is_neg is None and cross != 0:\n",
    "            is_neg = cross < 0\n",
    "        elif is_neg and cross > 0:\n",
    "            return i\n",
    "        elif not is_neg and cross < 0:\n",
    "            return i\n",
    "    return -1\n",
    "\n",
    "def make_points(A):\n",
    "    points = []\n",
    "    for tup in A:\n",
    "        points.append(Point2D(tup[0], tup[1]))\n",
    "    return points\n",
    "\n",
    "cases = [\n",
    "    (\n",
    "        make_points([\n",
    "            (-1, 3),\n",
    "            (3, 1),\n",
    "            (0, -1),\n",
    "            (-2, 1)\n",
    "        ]),\n",
    "        -1\n",
    "    ),    \n",
    "    (\n",
    "        make_points([\n",
    "            (-1, 3),\n",
    "            (1, 2),\n",
    "            (1, 1),\n",
    "            (3, 1),\n",
    "            (0, -1),\n",
    "            (-2, 1),\n",
    "            (-1, 2)\n",
    "        ]),\n",
    "        2\n",
    "    ),\n",
    "    (\n",
    "        make_points([\n",
    "            (-1, -1),\n",
    "            (1, 1),\n",
    "            (1, -1),\n",
    "            (-1, 1),\n",
    "        ]),\n",
    "        -1\n",
    "    ),\n",
    "    (\n",
    "        make_points([\n",
    "            (-1, -1),\n",
    "            (1, 1),\n",
    "            (1, -1),\n",
    "        ]),\n",
    "        -1\n",
    "    )\n",
    "\n",
    "]\n",
    "test(cases, solution)"
   ]
  },
  {
   "cell_type": "markdown",
   "metadata": {
    "collapsed": true
   },
   "source": [
    "### Min Permimeter Rectangle"
   ]
  },
  {
   "cell_type": "code",
   "execution_count": 48,
   "metadata": {},
   "outputs": [
    {
     "data": {
      "text/plain": [
       "True"
      ]
     },
     "execution_count": 48,
     "metadata": {},
     "output_type": "execute_result"
    }
   ],
   "source": [
    "True and True"
   ]
  },
  {
   "cell_type": "markdown",
   "metadata": {},
   "source": [
    "* https://codility.com/programmers/lessons/10-prime_and_composite_numbers/min_perimeter_rectangle/"
   ]
  },
  {
   "cell_type": "code",
   "execution_count": 8,
   "metadata": {},
   "outputs": [],
   "source": [
    "x,y = "
   ]
  },
  {
   "cell_type": "code",
   "execution_count": 12,
   "metadata": {},
   "outputs": [
    {
     "data": {
      "text/plain": [
       "True"
      ]
     },
     "execution_count": 12,
     "metadata": {},
     "output_type": "execute_result"
    }
   ],
   "source": [
    "y is None"
   ]
  },
  {
   "cell_type": "code",
   "execution_count": null,
   "metadata": {
    "collapsed": true
   },
   "outputs": [],
   "source": []
  }
 ],
 "metadata": {
  "kernelspec": {
   "display_name": "Python 3",
   "language": "python",
   "name": "python3"
  },
  "language_info": {
   "codemirror_mode": {
    "name": "ipython",
    "version": 3
   },
   "file_extension": ".py",
   "mimetype": "text/x-python",
   "name": "python",
   "nbconvert_exporter": "python",
   "pygments_lexer": "ipython3",
   "version": "3.6.0"
  },
  "latex_envs": {
   "LaTeX_envs_menu_present": true,
   "autocomplete": true,
   "bibliofile": "biblio.bib",
   "cite_by": "apalike",
   "current_citInitial": 1,
   "eqLabelWithNumbers": true,
   "eqNumInitial": 1,
   "hotkeys": {
    "equation": "Ctrl-E",
    "itemize": "Ctrl-I"
   },
   "labels_anchors": false,
   "latex_user_defs": false,
   "report_style_numbering": false,
   "user_envs_cfg": false
  },
  "toc": {
   "colors": {
    "hover_highlight": "#DAA520",
    "navigate_num": "#000000",
    "navigate_text": "#333333",
    "running_highlight": "#FF0000",
    "selected_highlight": "#FFD700",
    "sidebar_border": "#EEEEEE",
    "wrapper_background": "#FFFFFF"
   },
   "moveMenuLeft": true,
   "nav_menu": {
    "height": "217px",
    "width": "253px"
   },
   "navigate_menu": true,
   "number_sections": true,
   "sideBar": true,
   "threshold": 4,
   "toc_cell": false,
   "toc_section_display": "block",
   "toc_window_display": false,
   "widenNotebook": false
  }
 },
 "nbformat": 4,
 "nbformat_minor": 2
}
