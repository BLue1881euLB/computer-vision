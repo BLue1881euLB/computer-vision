{
 "cells": [
  {
   "cell_type": "markdown",
   "metadata": {},
   "source": [
    "## Dynamic Programming"
   ]
  },
  {
   "cell_type": "markdown",
   "metadata": {},
   "source": [
    "* https://bradfieldcs.com/algos/recursion/dynamic-programming/\n",
    "* https://www.interviewbit.com/courses/programming/topics/dynamic-programming/"
   ]
  },
  {
   "cell_type": "markdown",
   "metadata": {
    "heading_collapsed": true
   },
   "source": [
    "### Overview"
   ]
  },
  {
   "cell_type": "markdown",
   "metadata": {
    "hidden": true
   },
   "source": [
    "Dynamic programming avoids redundant calculations common of recursive solutions\n",
    "\n",
    "* Recursion = \"Top Down\"\n",
    "* Dynamic Programming = \"Bottoms up\"\n",
    "\n",
    "Dynamic programming frequently employs a matrix to \"store\" previous calculations which can be combined to derive the current solution"
   ]
  },
  {
   "cell_type": "markdown",
   "metadata": {
    "heading_collapsed": true
   },
   "source": [
    "### Steps"
   ]
  },
  {
   "cell_type": "markdown",
   "metadata": {
    "hidden": true
   },
   "source": [
    "1. Think of a recursive approach\n",
    "    * If X is an integer, then it could mean less than arithmetically.\n",
    "    * If X is a string, it could mean a substring of X.\n",
    "    * If X is an array, it could mean a subarray of X, and so forth.\n",
    "\n",
    "2. Write a recursive solution\n",
    "    * Lets say your function definition looks like this :\n",
    "        solve(A1, A2, A3 ... )\n",
    "\n",
    "3. Save the results you get for every function run so thatif solve(A1, A2, A3, ... ) is called again, you do not recompute the whole thing"
   ]
  },
  {
   "cell_type": "markdown",
   "metadata": {
    "heading_collapsed": true
   },
   "source": [
    "## Helpers"
   ]
  },
  {
   "cell_type": "code",
   "execution_count": 4,
   "metadata": {
    "collapsed": true,
    "hidden": true
   },
   "outputs": [],
   "source": [
    "import math\n",
    "\n",
    "def test(cases, func):\n",
    "    for i in range(len(cases)):\n",
    "        output = func(cases[i][0])\n",
    "        try:\n",
    "            assert output == cases[i][1]\n",
    "            print(i, \"- Correct\")\n",
    "        except:\n",
    "            print(i, \"- Failed\")\n",
    "            print(\"\\tExpected\", cases[i][1])\n",
    "            print(\"\\tOutput\", output)"
   ]
  },
  {
   "cell_type": "markdown",
   "metadata": {},
   "source": [
    "## Problems"
   ]
  },
  {
   "cell_type": "markdown",
   "metadata": {
    "heading_collapsed": true
   },
   "source": [
    "### Fibonacci"
   ]
  },
  {
   "cell_type": "markdown",
   "metadata": {
    "hidden": true
   },
   "source": [
    "* https://bradfieldcs.com/algos/recursion/dynamic-programming/"
   ]
  },
  {
   "cell_type": "code",
   "execution_count": 20,
   "metadata": {
    "hidden": true
   },
   "outputs": [
    {
     "name": "stdout",
     "output_type": "stream",
     "text": [
      "0 - Correct\n",
      "1 - Correct\n",
      "2 - Correct\n",
      "3 - Correct\n",
      "4 - Correct\n",
      "0 - Correct\n",
      "1 - Correct\n",
      "2 - Correct\n",
      "3 - Correct\n",
      "4 - Correct\n"
     ]
    }
   ],
   "source": [
    "\"\"\"\n",
    "Fibonacci sequence \n",
    "* For each iteration, value = sum of previous two numbers\n",
    "Write a function to return nth value in fibonnaci sequence\n",
    "\n",
    "e.g. \n",
    "0, 1, 1, 2, 3, 5, 8, 13, 21, 34\n",
    "\n",
    "Input:\n",
    "    n\n",
    "Output:\n",
    "    fibonacci sum \n",
    "\"\"\"\n",
    "\n",
    "def fibonacci_recurse(n):\n",
    "    # Time O(2^n)\n",
    "    if n == 0 or n == 1:\n",
    "        return n\n",
    "    return fibonacci_recurse(n-1) + fibonacci_recurse(n-2)\n",
    "\n",
    "# We only need to store previous 2 values to get answer\n",
    "def fibonacci_dynamic(n):\n",
    "    a,b = 0,1\n",
    "    for _ in range(n):\n",
    "        a,b = a+b,a\n",
    "    return a\n",
    "    \n",
    "cases = [(0,0),(1,1), (2,1), (3,2), (8,21)]\n",
    "test(cases, fibonacci_recurse)\n",
    "test(cases, fibonacci_dynamic)"
   ]
  },
  {
   "cell_type": "markdown",
   "metadata": {
    "heading_collapsed": true
   },
   "source": [
    "### Shortest Paths"
   ]
  },
  {
   "cell_type": "markdown",
   "metadata": {
    "hidden": true
   },
   "source": [
    "* https://www.interviewbit.com/problems/unique-paths-in-a-grid/"
   ]
  },
  {
   "cell_type": "code",
   "execution_count": 29,
   "metadata": {
    "hidden": true
   },
   "outputs": [
    {
     "name": "stdout",
     "output_type": "stream",
     "text": [
      "0 - Correct\n",
      "1 - Correct\n",
      "2 - Correct\n",
      "0 - Correct\n",
      "1 - Correct\n",
      "2 - Correct\n"
     ]
    }
   ],
   "source": [
    "\"\"\"\n",
    "given a rectange with dims W x H\n",
    "return the count of unique paths\n",
    "You can only move down/left\n",
    "So these are also the shortest\n",
    "\n",
    "Multiple Approches\n",
    "------------------\n",
    "* Graph search\n",
    "* Recursive\n",
    "* Dynamic programming ***\n",
    "\n",
    "3x3\n",
    "-----\n",
    "0 0 0\n",
    "0 0 0\n",
    "0 0 0\n",
    "\n",
    "Dynamic Programming uses matrix here\n",
    "1 1 1\n",
    "1 2 3\n",
    "1 3 6\n",
    "\n",
    "Each cell's value equals sum(above, left)\n",
    "\"\"\"\n",
    "\n",
    "def shortest_paths_recurse(dims):\n",
    "    # Time = O(2^n)\n",
    "    w,h = dims\n",
    "    if w == 1 or h == 1:\n",
    "        return 1\n",
    "    return (shortest_paths_recurse((w-1, h)) \n",
    "            + shortest_paths_recurse((w, h-1)))\n",
    "\n",
    "def shortest_paths_dynamic(dims):\n",
    "    # Time = O(n^2)\n",
    "    rows,cols = dims\n",
    "    matrix = [[0 for _ in range(cols)] for _ in range(rows)]\n",
    "    for i, row in enumerate(matrix):\n",
    "        for j, col in enumerate(row):\n",
    "            if i == 0 or j == 0:\n",
    "                matrix[i][j] = 1\n",
    "            else:\n",
    "                above = matrix[i-1][j]\n",
    "                left = matrix[i][j-1]\n",
    "                matrix[i][j] = above + left\n",
    "    return matrix[-1][-1]\n",
    "\n",
    "cases = [((1,1),1), ((2,2),2), ((3,3),6)]\n",
    "test(cases, shortest_paths_recurse)\n",
    "test(cases, shortest_paths_dynamic)"
   ]
  },
  {
   "cell_type": "markdown",
   "metadata": {
    "collapsed": true,
    "heading_collapsed": true
   },
   "source": [
    "### Stairs"
   ]
  },
  {
   "cell_type": "markdown",
   "metadata": {
    "hidden": true
   },
   "source": [
    "* https://www.interviewbit.com/problems/stairs/"
   ]
  },
  {
   "cell_type": "code",
   "execution_count": 13,
   "metadata": {
    "hidden": true
   },
   "outputs": [
    {
     "name": "stdout",
     "output_type": "stream",
     "text": [
      "0 - Correct\n",
      "1 - Correct\n",
      "2 - Correct\n",
      "3 - Correct\n",
      "0 - Correct\n",
      "1 - Correct\n",
      "2 - Correct\n",
      "3 - Correct\n"
     ]
    }
   ],
   "source": [
    "\"\"\"\n",
    "You are climbing a stair case. It takes N steps to reach to the top.\n",
    "\n",
    "Each time you can either climb 1 or 2 steps. \n",
    "\n",
    "Question\n",
    "--------\n",
    "How many unique ways can you climb to the top?\n",
    "\n",
    "Constraint\n",
    "----------\n",
    "You can climb either 1 or 2 steps\n",
    "\n",
    "Cases\n",
    "------\n",
    "1) 0 or 1\n",
    "2) 2\n",
    "3) 3\n",
    "4) Large odd\n",
    "5) Large even\n",
    "\n",
    "Input : 3\n",
    "Return : 3\n",
    "\n",
    "Steps : [1 1 1], [1 2], [2 1]\n",
    "\n",
    "Recursive Approach:\n",
    "Go backwards from N to 0\n",
    "Base case:\n",
    "    N == 0\n",
    "    return 1\n",
    "else:\n",
    "    return solve(n-1) + (n-2)\n",
    "\n",
    "At each step, you have two options\n",
    "You explore both options\n",
    "Since you can't move backwards\n",
    "Those two options are distinct,\n",
    "So we don't need to worry about duplicates\n",
    "\n",
    "DP Approaches\n",
    "1) Use global matrix storing what we've computed already\n",
    "2) Work bottom up, not top down (compute smaller values first)\n",
    "    - For each N, the result is the combination of n-2 and n-1\n",
    "    - So all we need to store is is the last two values to\n",
    "    - return the final value\n",
    "\"\"\"\n",
    "\n",
    "def stairs_recurse(n):\n",
    "    if n < 0:\n",
    "        return 0\n",
    "    if n == 0:\n",
    "        return 1\n",
    "    return stairs_recurse(n-1) + stairs_recurse(n-2)\n",
    "\n",
    "def stairs_dp(n):\n",
    "    last = 0\n",
    "    cur = 1\n",
    "    for i in range(1, n+1):\n",
    "        tmp = last + cur\n",
    "        last = cur\n",
    "        cur = tmp\n",
    "    return cur\n",
    "    \n",
    "cases = [(1,1), (2,2), (3,3), (4,5)]\n",
    "test(cases, stairs_recurse)\n",
    "test(cases, stairs_dp)"
   ]
  },
  {
   "cell_type": "markdown",
   "metadata": {
    "heading_collapsed": true
   },
   "source": [
    "### Min Sum Path in Matrix"
   ]
  },
  {
   "cell_type": "markdown",
   "metadata": {
    "hidden": true
   },
   "source": [
    "* https://www.interviewbit.com/problems/min-sum-path-in-matrix/"
   ]
  },
  {
   "cell_type": "code",
   "execution_count": 22,
   "metadata": {
    "hidden": true
   },
   "outputs": [
    {
     "name": "stdout",
     "output_type": "stream",
     "text": [
      "0 - Failed\n",
      "\tExpected 1\n",
      "\tOutput None\n",
      "1 - Failed\n",
      "\tExpected 2\n",
      "\tOutput None\n",
      "2 - Failed\n",
      "\tExpected 8\n",
      "\tOutput None\n",
      "0 - Correct\n",
      "1 - Correct\n",
      "2 - Correct\n"
     ]
    }
   ],
   "source": [
    "\"\"\"\n",
    "Given a m x n grid filled with non-negative numbers\n",
    "Find path from top left to bottom right which *minimizes* the sum of all numbers along its path.\n",
    "\n",
    "You can only move down/right\n",
    "\n",
    "Input : \n",
    "\n",
    "    [  1 3 2\n",
    "       4 3 1\n",
    "       5 6 1\n",
    "    ]\n",
    "\n",
    "Output : 8\n",
    "     1 -> 3 -> 2 -> 1 -> 1\n",
    "     \n",
    " Return sum\n",
    "\n",
    "Cases:\n",
    "1) 1x1\n",
    "2) 2x2\n",
    "3) 3x3\n",
    "4) Large Even/Odd\n",
    "5) Multiple min paths\n",
    "6) Multiple equal numbers in path\n",
    "\n",
    "Recursive Approach\n",
    "1) Search all paths and return min(sum of nums)\n",
    "    - Graph / Nodes\n",
    "    - Matrix indices\n",
    "2) We have to try all paths, but we don't need to\n",
    "    recomute sub-paths\n",
    "\n",
    "DP Approach\n",
    "1) The min path from each position is the \n",
    "    shortest of the left/right options\n",
    "2) We could work backwards from the target?\n",
    "3) Or what if at each position we take the min\n",
    "    of the top/left paths and add it to the current\n",
    "    cell??\n",
    "    \n",
    "At the end, the shortest path sum is the min\n",
    "of the cell above and below the target cell (plus itself)\n",
    "\n",
    "    [  1 3 2\n",
    "       4 3 1\n",
    "       5 6 1\n",
    "    ]\n",
    "\"\"\"\n",
    "\n",
    "def sum_min_path_recurse(M):\n",
    "    pass\n",
    "        \n",
    "def sum_min_path_dp(M):\n",
    "    for i,row in enumerate(M):\n",
    "        for j,col in enumerate(M[i]):\n",
    "            top,left = None,None\n",
    "            if i > 0:\n",
    "                top = M[i-1][j]\n",
    "            if j > 0:\n",
    "                left = M[i][j-1]\n",
    "\n",
    "            if top is None and left is None:\n",
    "                pass\n",
    "            elif top is None:\n",
    "                M[i][j] += left\n",
    "            elif left is None:\n",
    "                M[i][j] += top\n",
    "            else:\n",
    "                M[i][j] += min(top, left)\n",
    "\n",
    "    return M[-1][-1]\n",
    "\n",
    "in0 = [[1]]\n",
    "out0 = 1\n",
    "in1 = [\n",
    "    [1,1]\n",
    "]\n",
    "out1 = 2\n",
    "in2 = [\n",
    "    [1,3,2],\n",
    "    [4,3,1],\n",
    "    [5,6,1]\n",
    "]\n",
    "out2 = 8\n",
    "\n",
    "cases = [(in0,out0), (in1,out1), (in2,out2)]\n",
    "\n",
    "test(cases, sum_min_path_recurse)\n",
    "test(cases, sum_min_path_dp)"
   ]
  },
  {
   "cell_type": "markdown",
   "metadata": {},
   "source": [
    "### Max Rectangle in Binary Matrix"
   ]
  },
  {
   "cell_type": "markdown",
   "metadata": {},
   "source": [
    "* https://www.interviewbit.com/problems/max-rectangle-in-binary-matrix/"
   ]
  },
  {
   "cell_type": "markdown",
   "metadata": {},
   "source": [
    "### Largest Area of Rectangle w Permutations"
   ]
  },
  {
   "cell_type": "markdown",
   "metadata": {},
   "source": [
    "* https://www.interviewbit.com/problems/largest-area-of-rectangle-with-permutations/"
   ]
  },
  {
   "cell_type": "code",
   "execution_count": null,
   "metadata": {
    "collapsed": true
   },
   "outputs": [],
   "source": []
  }
 ],
 "metadata": {
  "kernelspec": {
   "display_name": "Python 3",
   "language": "python",
   "name": "python3"
  },
  "language_info": {
   "codemirror_mode": {
    "name": "ipython",
    "version": 3
   },
   "file_extension": ".py",
   "mimetype": "text/x-python",
   "name": "python",
   "nbconvert_exporter": "python",
   "pygments_lexer": "ipython3",
   "version": "3.6.0"
  },
  "latex_envs": {
   "LaTeX_envs_menu_present": true,
   "autocomplete": true,
   "bibliofile": "biblio.bib",
   "cite_by": "apalike",
   "current_citInitial": 1,
   "eqLabelWithNumbers": true,
   "eqNumInitial": 1,
   "hotkeys": {
    "equation": "Ctrl-E",
    "itemize": "Ctrl-I"
   },
   "labels_anchors": false,
   "latex_user_defs": false,
   "report_style_numbering": false,
   "user_envs_cfg": false
  },
  "toc": {
   "colors": {
    "hover_highlight": "#DAA520",
    "navigate_num": "#000000",
    "navigate_text": "#333333",
    "running_highlight": "#FF0000",
    "selected_highlight": "#FFD700",
    "sidebar_border": "#EEEEEE",
    "wrapper_background": "#FFFFFF"
   },
   "moveMenuLeft": true,
   "nav_menu": {
    "height": "175px",
    "width": "253px"
   },
   "navigate_menu": true,
   "number_sections": true,
   "sideBar": true,
   "threshold": 4,
   "toc_cell": false,
   "toc_section_display": "block",
   "toc_window_display": false,
   "widenNotebook": false
  }
 },
 "nbformat": 4,
 "nbformat_minor": 2
}
