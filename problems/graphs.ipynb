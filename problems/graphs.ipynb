{
 "cells": [
  {
   "cell_type": "markdown",
   "metadata": {},
   "source": [
    "## Graphs\n",
    "\n",
    "* https://paper.dropbox.com/doc/Interview-Problems-eG5eZN1D0SewzP9UOqg3t"
   ]
  },
  {
   "cell_type": "markdown",
   "metadata": {},
   "source": [
    "## Helpers"
   ]
  },
  {
   "cell_type": "code",
   "execution_count": 2,
   "metadata": {
    "collapsed": true
   },
   "outputs": [],
   "source": [
    "def test(cases, func):\n",
    "    for i in range(len(cases)):\n",
    "        output = func(cases[i][0])\n",
    "        try:\n",
    "            assert output == cases[i][1]\n",
    "            print(i, \"- Correct\")\n",
    "        except:\n",
    "            print(i, \"- Failed\")\n",
    "            print(\"\\tExpected\", cases[i][1])\n",
    "            print(\"\\tOutput\", output)"
   ]
  },
  {
   "cell_type": "markdown",
   "metadata": {},
   "source": [
    "## Problems"
   ]
  },
  {
   "cell_type": "markdown",
   "metadata": {},
   "source": [
    "### Black Shapes\n",
    "\n",
    "* https://www.interviewbit.com/problems/black-shapes/"
   ]
  },
  {
   "cell_type": "code",
   "execution_count": null,
   "metadata": {},
   "outputs": [],
   "source": [
    "class Solution():\n",
    "    def fill_island(self, i, j, table, idx):\n",
    "        if i < 0 or i >= len(table):\n",
    "            return\n",
    "        if j < 0 or j >= len(table[0]):\n",
    "            return\n",
    "        if table[i][j] == 'X':\n",
    "            table[i][j] = idx\n",
    "            self.fill_island(i+1,j,table,idx)\n",
    "            self.fill_island(i-1,j,table,idx)\n",
    "            self.fill_island(i,j+1,table,idx)\n",
    "            self.fill_island(i,j-1,table,idx)\n",
    "\n",
    "    def black(self, A):\n",
    "        island_idx = 0\n",
    "        table = [[c for c in string] for string in A]\n",
    "        for i in range(len(table)):\n",
    "            for j in range(len(table[0])):\n",
    "                if table[i][j] == 'X':\n",
    "                    self.fill_island(i,j,table,island_idx)\n",
    "                    island_idx += 1\n",
    "        return island_idx"
   ]
  },
  {
   "cell_type": "code",
   "execution_count": null,
   "metadata": {},
   "outputs": [],
   "source": [
    "s = Solution()\n",
    "A = [\n",
    "    \"XXOXOOO\", \n",
    "    \"XOOXOXO\", \n",
    "    \"OXOOOXO\" \n",
    "]\n",
    "s.black(A) == 4"
   ]
  },
  {
   "cell_type": "markdown",
   "metadata": {},
   "source": [
    "### Level Order\n",
    "\n",
    "* https://www.interviewbit.com/problems/level-order/"
   ]
  },
  {
   "cell_type": "code",
   "execution_count": 1,
   "metadata": {},
   "outputs": [],
   "source": [
    "# Definition for a  binary tree node\n",
    "# class TreeNode:\n",
    "#     def __init__(self, x):\n",
    "#         self.val = x\n",
    "#         self.left = None\n",
    "#         self.right = None\n",
    "\n",
    "class Solution:\n",
    "    # @param A : root node of tree\n",
    "    # @return a list of list of integers\n",
    "    def levelOrder(self, A):\n",
    "        queue = []\n",
    "        out = []\n",
    "        queue.append([A])\n",
    "        while len(queue) > 0:\n",
    "            level_nodes = queue.pop(0)\n",
    "            next_level = []\n",
    "            level_out = []\n",
    "            for n in level_nodes:\n",
    "                if n is not None:\n",
    "                    next_level.append(n.left)\n",
    "                    next_level.append(n.right)\n",
    "                    level_out.append(n.val)\n",
    "            if len(next_level) > 0:\n",
    "                queue.append(next_level)\n",
    "                out.append(level_out)\n",
    "        return out"
   ]
  },
  {
   "cell_type": "markdown",
   "metadata": {},
   "source": [
    "## Word Search Board\n",
    "\n",
    "* https://www.interviewbit.com/problems/word-search-board/"
   ]
  },
  {
   "cell_type": "code",
   "execution_count": null,
   "metadata": {},
   "outputs": [],
   "source": []
  }
 ],
 "metadata": {
  "kernelspec": {
   "display_name": "Python 3",
   "language": "python",
   "name": "python3"
  },
  "language_info": {
   "codemirror_mode": {
    "name": "ipython",
    "version": 3
   },
   "file_extension": ".py",
   "mimetype": "text/x-python",
   "name": "python",
   "nbconvert_exporter": "python",
   "pygments_lexer": "ipython3",
   "version": "3.6.4"
  },
  "latex_envs": {
   "LaTeX_envs_menu_present": true,
   "autocomplete": true,
   "bibliofile": "biblio.bib",
   "cite_by": "apalike",
   "current_citInitial": 1,
   "eqLabelWithNumbers": true,
   "eqNumInitial": 1,
   "hotkeys": {
    "equation": "Ctrl-E",
    "itemize": "Ctrl-I"
   },
   "labels_anchors": false,
   "latex_user_defs": false,
   "report_style_numbering": false,
   "user_envs_cfg": false
  },
  "toc": {
   "colors": {
    "hover_highlight": "#DAA520",
    "navigate_num": "#000000",
    "navigate_text": "#333333",
    "running_highlight": "#FF0000",
    "selected_highlight": "#FFD700",
    "sidebar_border": "#EEEEEE",
    "wrapper_background": "#FFFFFF"
   },
   "moveMenuLeft": true,
   "nav_menu": {
    "height": "26px",
    "width": "254px"
   },
   "navigate_menu": true,
   "number_sections": true,
   "sideBar": true,
   "threshold": 4,
   "toc_cell": false,
   "toc_section_display": "block",
   "toc_window_display": false,
   "widenNotebook": false
  }
 },
 "nbformat": 4,
 "nbformat_minor": 2
}
