{
 "cells": [
  {
   "cell_type": "markdown",
   "metadata": {},
   "source": [
    "## Scratchpad"
   ]
  },
  {
   "cell_type": "code",
   "execution_count": 60,
   "metadata": {
    "collapsed": true
   },
   "outputs": [],
   "source": [
    "import math\n",
    "import copy\n",
    "\n",
    "def test(cases, func):\n",
    "    for i in range(len(cases)):\n",
    "        output = func(cases[i][0])\n",
    "        try:\n",
    "            assert output == cases[i][1]\n",
    "            print(i, \"- Correct\")\n",
    "        except:\n",
    "            print(i, \"- Failed\")\n",
    "            print(\"\\tExpected\", cases[i][1])\n",
    "            print(\"\\tOutput\", output)"
   ]
  },
  {
   "cell_type": "markdown",
   "metadata": {
    "heading_collapsed": true
   },
   "source": [
    "### BinaryTree"
   ]
  },
  {
   "cell_type": "markdown",
   "metadata": {
    "hidden": true
   },
   "source": [
    "* https://codility.com/programmers/lessons/99-future_training/tree_height/"
   ]
  },
  {
   "cell_type": "code",
   "execution_count": 120,
   "metadata": {
    "collapsed": true,
    "hidden": true
   },
   "outputs": [],
   "source": [
    "class Node():\n",
    "    def __init__(self, data, left=None, right=None):\n",
    "        self.data = data\n",
    "        self.left = left\n",
    "        self.right = right\n"
   ]
  },
  {
   "cell_type": "markdown",
   "metadata": {
    "heading_collapsed": true
   },
   "source": [
    "### Dynamic"
   ]
  },
  {
   "cell_type": "markdown",
   "metadata": {
    "hidden": true
   },
   "source": [
    "* https://codility.com/media/train/15-DynamicProgramming.pdf"
   ]
  },
  {
   "cell_type": "code",
   "execution_count": null,
   "metadata": {
    "collapsed": true,
    "hidden": true
   },
   "outputs": [],
   "source": [
    "# Optional"
   ]
  },
  {
   "cell_type": "markdown",
   "metadata": {
    "heading_collapsed": true
   },
   "source": [
    "### Greedy"
   ]
  },
  {
   "cell_type": "markdown",
   "metadata": {
    "hidden": true
   },
   "source": [
    "* https://codility.com/media/train/14-GreedyAlgorithms.pdf"
   ]
  },
  {
   "cell_type": "code",
   "execution_count": null,
   "metadata": {
    "collapsed": true,
    "hidden": true
   },
   "outputs": [],
   "source": [
    "# optional"
   ]
  },
  {
   "cell_type": "markdown",
   "metadata": {
    "heading_collapsed": true
   },
   "source": [
    "### MinMax Division"
   ]
  },
  {
   "cell_type": "markdown",
   "metadata": {
    "hidden": true
   },
   "source": [
    "* https://codility.com/programmers/lessons/14-binary_search_algorithm/min_max_division/"
   ]
  },
  {
   "cell_type": "code",
   "execution_count": null,
   "metadata": {
    "collapsed": true,
    "hidden": true
   },
   "outputs": [],
   "source": [
    "\"\"\"\n",
    "Problem statement\n",
    "\n",
    "Inputs\n",
    "------\n",
    "- oin\n",
    "\n",
    "Output\n",
    "------\n",
    "- oin\n",
    "\n",
    "Notes\n",
    "-----\n",
    "1) Constraints\n",
    "2) Gotchas\n",
    "3) What makes it difficult\n",
    "\n",
    "Complexity\n",
    "----------\n",
    "- time = O()\n",
    "- space = O()\n",
    "\n",
    "Cases\n",
    "-----\n",
    "- 0 or Empty\n",
    "- 1 elem\n",
    "- 2 elem\n",
    "- Even/Odd\n",
    "- Pos/ Neg\n",
    "- Ordered/ Not Ordered\n",
    "- Duplicates\n",
    "\n",
    "Approach\n",
    "--------\n",
    "\"\"\"\n",
    "\n",
    "def solution(A):\n",
    "    return A\n",
    "\n",
    "cases = [\n",
    "    ((1), 1)\n",
    "]\n",
    "\n",
    "test(cases, solution)"
   ]
  },
  {
   "cell_type": "markdown",
   "metadata": {
    "heading_collapsed": true
   },
   "source": [
    "### Binary Search"
   ]
  },
  {
   "cell_type": "markdown",
   "metadata": {
    "hidden": true
   },
   "source": [
    "* https://codility.com/media/train/12-BinarySearch.pdf"
   ]
  },
  {
   "cell_type": "code",
   "execution_count": 117,
   "metadata": {
    "hidden": true
   },
   "outputs": [
    {
     "name": "stdout",
     "output_type": "stream",
     "text": [
      "0 - Correct\n",
      "1 - Correct\n",
      "2 - Correct\n",
      "3 - Correct\n",
      "4 - Correct\n",
      "5 - Correct\n",
      "6 - Correct\n",
      "7 - Correct\n",
      "8 - Correct\n"
     ]
    }
   ],
   "source": [
    "\"\"\"\n",
    "Binary Search\n",
    "\n",
    "Input\n",
    "    A - Sorted array of integers\n",
    "    K - target value\n",
    "Output\n",
    "    -1 if not found\n",
    "    index of K\n",
    "\n",
    "Cases\n",
    "- Empty\n",
    "- 1 elem\n",
    "- 2 elem\n",
    "- 3+ elem\n",
    "- odd length\n",
    "- even length\n",
    "- Not found\n",
    "- duplicate numbers\n",
    "- K at index 0\n",
    "- K at index -1\n",
    "\"\"\"\n",
    "\n",
    "def binary_search(inp):\n",
    "    A,K = inp\n",
    "    start = 0\n",
    "    stop = len(A)\n",
    "    while start < stop:\n",
    "        mid = start + ((stop - start) // 2)\n",
    "        if A[mid] == K:\n",
    "            return mid\n",
    "        elif A[mid] < K:\n",
    "            start = mid + 1\n",
    "        else:\n",
    "            stop = mid\n",
    "    return -1\n",
    "\n",
    "cases = [\n",
    "    (([],1), -1),\n",
    "    (([1],1), 0),\n",
    "    (([1,2],1), 0),\n",
    "    (([1,2],2), 1),\n",
    "    (([1,2],3), -1),\n",
    "    (([1,2,4],4), 2),\n",
    "    (([1,1,3,4], 3), 2),\n",
    "    (([1,1,3,4,5], 5), 4),\n",
    "    (([1,1,3,4,5], 2), -1)\n",
    "]\n",
    "\n",
    "test(cases, binary_search)"
   ]
  },
  {
   "cell_type": "markdown",
   "metadata": {
    "heading_collapsed": true
   },
   "source": [
    "### Max Abs Value"
   ]
  },
  {
   "cell_type": "markdown",
   "metadata": {
    "hidden": true
   },
   "source": [
    "* https://codility.com/programmers/lessons/15-caterpillar_method/abs_distinct/"
   ]
  },
  {
   "cell_type": "code",
   "execution_count": null,
   "metadata": {
    "collapsed": true,
    "hidden": true
   },
   "outputs": [],
   "source": []
  },
  {
   "cell_type": "markdown",
   "metadata": {
    "heading_collapsed": true
   },
   "source": [
    "### Caterpillar"
   ]
  },
  {
   "cell_type": "markdown",
   "metadata": {
    "hidden": true
   },
   "source": [
    "* https://codility.com/programmers/lessons/15-caterpillar_method/"
   ]
  },
  {
   "cell_type": "code",
   "execution_count": 156,
   "metadata": {
    "hidden": true
   },
   "outputs": [
    {
     "name": "stdout",
     "output_type": "stream",
     "text": [
      "0 - Correct\n",
      "1 - Correct\n",
      "2 - Correct\n",
      "3 - Correct\n",
      "4 - Correct\n",
      "5 - Correct\n",
      "6 - Correct\n",
      "7 - Correct\n",
      "8 - Correct\n"
     ]
    }
   ],
   "source": [
    "\"\"\"\n",
    "Keep moving the caterpillar front forward until you get stuck\n",
    "Then move the back forward\n",
    "\n",
    "time = O(n)\n",
    "space = O(n)\n",
    "\"\"\"\n",
    "\n",
    "def find_subsequence(inp):\n",
    "    A,K = inp\n",
    "    total = 0\n",
    "    start, stop = 0, 0\n",
    "    \n",
    "    # Start needs to move to the end\n",
    "    while start < len(A):\n",
    "        \n",
    "        # Keep incrementing Stop until you max out\n",
    "        while (stop < len(A) and total + A[stop] <= K):\n",
    "            total += A[stop]\n",
    "            stop += 1\n",
    "        if total == K:\n",
    "            return True\n",
    "        \n",
    "        # You've maxed out, so subtract and increment start\n",
    "        total -= A[start]\n",
    "        start += 1\n",
    "\n",
    "    return False\n",
    "\n",
    "\n",
    "cases = [\n",
    "    ( ([6,2,7,4,1,3,6], 12), True),\n",
    "   ( ([6,2,7,4,1,3,6], 99), False),\n",
    "   ( ([6,2,7,4,1,3,6], 1), True),\n",
    "   ( ([6,2,7,4,1,3,6], 6), True),\n",
    "   ( ([1,3,99], 99), True),\n",
    "   ( ([], 99), False),\n",
    "   ( ([1], 99), False),\n",
    "   ( ([99], 99), True),\n",
    "   ( ([-1,3,-9,9,2], 2), True),\n",
    "]\n",
    "\n",
    "test(cases, find_subsequence)"
   ]
  },
  {
   "cell_type": "markdown",
   "metadata": {
    "heading_collapsed": true
   },
   "source": [
    "### Passing Cars"
   ]
  },
  {
   "cell_type": "markdown",
   "metadata": {
    "hidden": true
   },
   "source": [
    "* https://codility.com/media/train/3-PrefixSums.pdf\n",
    "* https://codility.com/programmers/lessons/5-prefix_sums/passing_cars/"
   ]
  },
  {
   "cell_type": "code",
   "execution_count": null,
   "metadata": {
    "collapsed": true,
    "hidden": true
   },
   "outputs": [],
   "source": [
    "# Optional"
   ]
  },
  {
   "cell_type": "markdown",
   "metadata": {
    "heading_collapsed": true
   },
   "source": [
    "### Triangle"
   ]
  },
  {
   "cell_type": "markdown",
   "metadata": {
    "hidden": true
   },
   "source": [
    "* https://codility.com/programmers/lessons/6-sorting/triangle/"
   ]
  },
  {
   "cell_type": "code",
   "execution_count": null,
   "metadata": {
    "collapsed": true,
    "hidden": true
   },
   "outputs": [],
   "source": [
    "# Optional"
   ]
  },
  {
   "cell_type": "markdown",
   "metadata": {
    "heading_collapsed": true
   },
   "source": [
    "### Max Slice"
   ]
  },
  {
   "cell_type": "markdown",
   "metadata": {
    "hidden": true
   },
   "source": [
    "* https://codility.com/media/train/7-MaxSlice.pdf\n",
    "* https://codility.com/programmers/lessons/9-maximum_slice_problem/max_slice_sum/"
   ]
  },
  {
   "cell_type": "code",
   "execution_count": 193,
   "metadata": {
    "hidden": true
   },
   "outputs": [
    {
     "name": "stdout",
     "output_type": "stream",
     "text": [
      "0 - Correct\n",
      "1 - Correct\n",
      "2 - Correct\n",
      "3 - Correct\n",
      "4 - Correct\n",
      "5 - Correct\n",
      "6 - Correct\n",
      "7 - Correct\n",
      "8 - Correct\n",
      "0 - Correct\n",
      "1 - Correct\n",
      "2 - Correct\n",
      "3 - Correct\n",
      "4 - Correct\n",
      "5 - Correct\n",
      "6 - Correct\n",
      "7 - Correct\n",
      "8 - Correct\n"
     ]
    }
   ],
   "source": [
    "\"\"\"\n",
    "A non-empty zero-indexed array A consisting of N integers is given. \n",
    "A pair of integers (P, Q), such that 0 ≤ P ≤ Q < N, is called a slice of array A. \n",
    "The sum of a slice (P, Q) is the total of A[P] + A[P+1] + ... + A[Q].\n",
    "\n",
    "Slice indices are inclusive\n",
    "\n",
    "Inputs\n",
    "------\n",
    "- A - array of integers\n",
    "\n",
    "Output\n",
    "------\n",
    "- Value of maximum slice\n",
    "\n",
    "Notes\n",
    "-----\n",
    "- Array >0 elements\n",
    "- Integers negative or positive\n",
    "- Max sum will not max out memory\n",
    "\n",
    "Complexity\n",
    "----------\n",
    "- time = O(N)\n",
    "- space = O(N)   <--- we can use extra space\n",
    "\n",
    "Cases\n",
    "-----\n",
    "- 1 elem\n",
    "- 2 elem\n",
    "- Even/Odd # elems\n",
    "- Negative values\n",
    "- Max is single value\n",
    "    - First idx\n",
    "    - Last idx\n",
    "- Max includes positive and negative values\n",
    "    e.g. [9,-1, 10]\n",
    "- Max Sum is negative\n",
    "\n",
    "Approach\n",
    "--------\n",
    "1) Naive (O^3)\n",
    "    Triple loop.\n",
    "        For each start\n",
    "            For each sub start\n",
    "                For each end\n",
    "2) Prefix sum (O^2)\n",
    "    Create lookup table sum of all elements before i index\n",
    "    Double Loop through sum table\n",
    "        for each start\n",
    "            subtract previous sum\n",
    "            store current sum\n",
    "            for each end\n",
    "            [2, 5, 8, 10]\n",
    "2) Golden\n",
    "    Store only max value\n",
    "\"\"\"\n",
    "\n",
    "def solution_naive(A):\n",
    "    N = len(A)\n",
    "    max_sum = None\n",
    "    for i in range(N):\n",
    "        cur_sum = 0\n",
    "        for j in range(i,N):\n",
    "            cur_sum += A[j]\n",
    "            if max_sum is None or cur_sum > max_sum:\n",
    "                max_sum = cur_sum\n",
    "    return max_sum\n",
    "\n",
    "def make_presum(A):\n",
    "    store = [A[0]]\n",
    "    for i in range(1, len(A)):\n",
    "        store.append(store[i-1] + A[i])\n",
    "    return store\n",
    "\n",
    "def solution_fast(A):\n",
    "    max_ = A[0]\n",
    "    cur = A[0]\n",
    "    i = 1\n",
    "    while i < len(A):\n",
    "        if cur < 0:\n",
    "            cur = A[i]\n",
    "        elif cur + A[i] >= 0:\n",
    "            cur += A[i]\n",
    "        elif i + 1 < len(A):\n",
    "            cur = A[i+1]\n",
    "            i += 1\n",
    "        if cur > max_:\n",
    "            max_ = cur\n",
    "        i += 1\n",
    "    return max_\n",
    "            \n",
    "cases = [\n",
    "    ([1], 1),\n",
    "    ([1,2], 3),\n",
    "    ([9, -1, 10], 18),\n",
    "    ([3, 2, -6, 4, 0], 5),\n",
    "    ([-9, -1, -3, -2], -1),\n",
    "    ([-2,2,-3,4], 4),\n",
    "    ([2,2,3,3], 10),\n",
    "    ([2,-2,-3], 2),\n",
    "    ([-2, 3], 3),\n",
    "]\n",
    "\n",
    "test(cases, solution_naive)\n",
    "test(cases, solution_fast)"
   ]
  },
  {
   "cell_type": "markdown",
   "metadata": {},
   "source": [
    "### Rectangle Builder"
   ]
  },
  {
   "cell_type": "markdown",
   "metadata": {},
   "source": [
    "* https://codility.com/programmers/lessons/91-tasks_from_indeed_prime_2016_challenge/rectangle_builder_greater_area/"
   ]
  },
  {
   "cell_type": "code",
   "execution_count": null,
   "metadata": {
    "collapsed": true
   },
   "outputs": [],
   "source": []
  },
  {
   "cell_type": "markdown",
   "metadata": {
    "heading_collapsed": true
   },
   "source": [
    "### Leader"
   ]
  },
  {
   "cell_type": "markdown",
   "metadata": {
    "hidden": true
   },
   "source": [
    "* https://codility.com/media/train/6-Leader.pdf"
   ]
  },
  {
   "cell_type": "code",
   "execution_count": null,
   "metadata": {
    "collapsed": true,
    "hidden": true
   },
   "outputs": [],
   "source": [
    "# Optional"
   ]
  },
  {
   "cell_type": "markdown",
   "metadata": {
    "heading_collapsed": true
   },
   "source": [
    "### Min Perimeter"
   ]
  },
  {
   "cell_type": "markdown",
   "metadata": {
    "hidden": true
   },
   "source": [
    "* https://codility.com/programmers/lessons/10-prime_and_composite_numbers/min_perimeter_rectangle/"
   ]
  },
  {
   "cell_type": "code",
   "execution_count": null,
   "metadata": {
    "collapsed": true,
    "hidden": true
   },
   "outputs": [],
   "source": [
    "# Optional"
   ]
  },
  {
   "cell_type": "markdown",
   "metadata": {
    "heading_collapsed": true
   },
   "source": [
    "### Time Complexity"
   ]
  },
  {
   "cell_type": "markdown",
   "metadata": {
    "hidden": true
   },
   "source": [
    "* https://codility.com/media/train/1-TimeComplexity.pdf\n",
    "* Computer 10^9 operations in less than a second (1 Billion operations/second)\n",
    "* Based on size of input, we can estimate expected running time\n",
    "    * n <= 1 000 000, the expected time complexity is O(n) or O(n log n),\n",
    "    * n <= 10 000, the expected time complexity is O(n2),\n",
    "    * n <= 500, the expected time complexity is O(n3)."
   ]
  },
  {
   "cell_type": "markdown",
   "metadata": {
    "heading_collapsed": true
   },
   "source": [
    "### Missing Integer"
   ]
  },
  {
   "cell_type": "markdown",
   "metadata": {
    "hidden": true
   },
   "source": [
    "* https://codility.com/programmers/lessons/4-counting_elements/missing_integer/"
   ]
  },
  {
   "cell_type": "code",
   "execution_count": 107,
   "metadata": {
    "hidden": true
   },
   "outputs": [
    {
     "name": "stdout",
     "output_type": "stream",
     "text": [
      "0 - Correct\n",
      "1 - Correct\n",
      "2 - Correct\n",
      "3 - Correct\n"
     ]
    }
   ],
   "source": [
    "\"\"\"\n",
    "Given an array A of N integers, return the smallest positive integer \n",
    "(greater than 0) that does not occur in A.\n",
    "\n",
    "Inputs\n",
    "------\n",
    "- A - Array of length [1,100000]\n",
    "- Integers between [-1000000, 1000000]\n",
    "\n",
    "Output\n",
    "------\n",
    "- Missing number\n",
    "\n",
    "Notes\n",
    "-----\n",
    "- Shuffled\n",
    "- Negative and Positive values\n",
    "- If all integers exist, then smallest positive is next int..\n",
    "\n",
    "\n",
    "Complexity\n",
    "----------\n",
    "- time = O(N)\n",
    "- space = O(N) <--- we can use extra space!!!\n",
    "\n",
    "\"\"\"\n",
    "\n",
    "def solution(A):\n",
    "    N = len(A)\n",
    "    store = [-1] * (N+1)\n",
    "    for num in A:\n",
    "        if num > 0 and num <= N:\n",
    "            store[num] = 1\n",
    "    for i in range(1,N+1):\n",
    "        if store[i] == -1:\n",
    "            return i\n",
    "    return N+1\n",
    "\n",
    "cases = [\n",
    "    ([1,3,6,4,1,2], 5), \n",
    "    ([1,2,3], 4), \n",
    "    ([-1,-3], 1), \n",
    "    ([-3,0,1,0], 2)\n",
    "]\n",
    "test(cases, solution)"
   ]
  },
  {
   "cell_type": "markdown",
   "metadata": {
    "heading_collapsed": true
   },
   "source": [
    "### Frog River One"
   ]
  },
  {
   "cell_type": "markdown",
   "metadata": {
    "hidden": true
   },
   "source": [
    "* https://codility.com/programmers/lessons/4-counting_elements/frog_river_one/"
   ]
  },
  {
   "cell_type": "code",
   "execution_count": 105,
   "metadata": {
    "hidden": true
   },
   "outputs": [
    {
     "name": "stdout",
     "output_type": "stream",
     "text": [
      "0 - Correct\n",
      "1 - Correct\n",
      "2 - Correct\n",
      "3 - Correct\n",
      "4 - Correct\n",
      "5 - Correct\n"
     ]
    }
   ],
   "source": [
    "\"\"\"\n",
    "Problem statement\n",
    "\n",
    "Inputs\n",
    "------\n",
    "- A - array of leaves at time t\n",
    "    t = time (index)\n",
    "    val = position in bridge\n",
    "- X - Number of positions that need to be covered\n",
    "Both are > 0\n",
    "\n",
    "Output\n",
    "------\n",
    "Minimum # of seconds (t) needed before\n",
    "entire bridge is built\n",
    "---\n",
    "If never able to jump, return -1\n",
    "\n",
    "Notes\n",
    "-----\n",
    "1) Constraints\n",
    "    - Can use extra memory to store whether \n",
    "        bridge positions were filled!\n",
    "2) Gotchas\n",
    "    if X = 5\n",
    "    we need to have all numbers [1,2,3,4,5]\n",
    "    in place in order to cross\n",
    "    \n",
    "3) What makes it difficult\n",
    "    -They can fall in different order (first leaf, last time step)\n",
    "    -There is a situation where we can't cross\n",
    "\n",
    "Complexity\n",
    "----------\n",
    "- time = O(N)\n",
    "- space = O(X) <--- hint, we can store X values (bridge)\n",
    "\n",
    "Cases\n",
    "-----\n",
    "- 1 leaf\n",
    "- 2 leaf\n",
    "- Never able to jump (-1)\n",
    "- Multiple leafs land in same spot, different t\n",
    "\n",
    "Approach\n",
    "--------\n",
    "1\n",
    "\n",
    "\"\"\"\n",
    "\n",
    "def solution(inp):\n",
    "    X,A = inp\n",
    "    store = [-1] * (X+1)\n",
    "    total = 0\n",
    "    expected = X*(X+1) // 2\n",
    "    for t,val in enumerate(A):\n",
    "        if store[val] == -1:\n",
    "            total += val\n",
    "            store[val] = 1\n",
    "            if total == expected:\n",
    "                return t\n",
    "    return -1\n",
    "\n",
    "cases = [\n",
    "    ((1,[1]), 0),\n",
    "    ((2,[1,2]), 1),\n",
    "    ((2,[2,2]), -1),\n",
    "    ((5,[1,3,1,4,2,3,5,4]), 6),\n",
    "    ((5,[1,3,1,4,2,3,4,4]), -1),\n",
    "    ((5,[1,1,1,1,1]), -1)\n",
    "]\n",
    "\n",
    "test(cases, solution)"
   ]
  },
  {
   "cell_type": "markdown",
   "metadata": {
    "heading_collapsed": true
   },
   "source": [
    "### Is Permutation"
   ]
  },
  {
   "cell_type": "markdown",
   "metadata": {
    "hidden": true
   },
   "source": [
    "* https://codility.com/programmers/lessons/4-counting_elements/perm_check/"
   ]
  },
  {
   "cell_type": "code",
   "execution_count": 93,
   "metadata": {
    "hidden": true
   },
   "outputs": [
    {
     "name": "stdout",
     "output_type": "stream",
     "text": [
      "0 - Correct\n",
      "1 - Correct\n",
      "2 - Correct\n",
      "3 - Correct\n",
      "4 - Correct\n",
      "5 - Correct\n",
      "6 - Correct\n"
     ]
    }
   ],
   "source": [
    "def solution(A):\n",
    "    N = len(A)\n",
    "    store = [-1] * (N+1)\n",
    "    for num in A:\n",
    "        if num > N:\n",
    "            return 0\n",
    "        store[num] = 1\n",
    "    for num in store[1:]:\n",
    "        if num == -1:\n",
    "            return 0\n",
    "    return 1\n",
    "\n",
    "\n",
    "cases = [\n",
    "    ([5],0),\n",
    "    ([1],1),\n",
    "    ([2],0),\n",
    "    ([1,3],0),\n",
    "    ([1,2,3],1),\n",
    "    ([4,3,1],0),\n",
    "    ([1,4,3,2],1),\n",
    "]\n",
    "test(cases, solution)"
   ]
  },
  {
   "cell_type": "markdown",
   "metadata": {
    "heading_collapsed": true
   },
   "source": [
    "### Tape Equilibrium"
   ]
  },
  {
   "cell_type": "markdown",
   "metadata": {
    "hidden": true
   },
   "source": [
    "* https://codility.com/programmers/lessons/3-time_complexity/tape_equilibrium/"
   ]
  },
  {
   "cell_type": "code",
   "execution_count": 89,
   "metadata": {
    "hidden": true
   },
   "outputs": [
    {
     "name": "stdout",
     "output_type": "stream",
     "text": [
      "0 - Correct\n",
      "1 - Correct\n",
      "2 - Correct\n",
      "3 - Correct\n",
      "4 - Correct\n"
     ]
    }
   ],
   "source": [
    "\"\"\"\n",
    "A = array of numbers\n",
    "Find P, the splitting position, such that:\n",
    "    abs(left - right) is smallest\n",
    "Return that smallest value, given by P\n",
    "\n",
    "A = [3,1,2,4,3]\n",
    "P = 3\n",
    "out = 1\n",
    "abs(6 - 7) == 1\n",
    "\n",
    "Assumptions:\n",
    "N between 2 - 100000 (at least 2 elements, 1 splitting position)\n",
    "elems between -1000 and 1000\n",
    "\n",
    "Complexity\n",
    "time - O(N)\n",
    "space - O(N)  <-- we CAN use extra space, if needed\n",
    "\"\"\"\n",
    "\n",
    "def get_sum_store(A):\n",
    "    store = []\n",
    "    total = 0\n",
    "    for num in A:\n",
    "        total += num\n",
    "        store.append(total)\n",
    "    return store\n",
    "    \n",
    "def solution(A):\n",
    "    store = get_sum_store(A)\n",
    "    min_diff = None\n",
    "    for i in range(len(A)-1):\n",
    "        left = store[i]\n",
    "        right = (store[-1] - left)\n",
    "        diff = abs(right-left)\n",
    "        if min_diff is None or diff < min_diff:\n",
    "            min_diff = diff\n",
    "    return min_diff\n",
    "            \n",
    "\n",
    "cases = [\n",
    "    ([3,1,2,4,3],1),\n",
    "    ([-1,-3,-5,-1],2),\n",
    "    ([-1,4,-3,4],2),\n",
    "    ([1,2],1),\n",
    "    ([-1000,1000],2000)\n",
    "]\n",
    "test(cases, solution)"
   ]
  },
  {
   "cell_type": "markdown",
   "metadata": {
    "heading_collapsed": true
   },
   "source": [
    "### Perm Missing Element"
   ]
  },
  {
   "cell_type": "markdown",
   "metadata": {
    "hidden": true
   },
   "source": [
    "* https://codility.com/programmers/lessons/3-time_complexity/perm_missing_elem/"
   ]
  },
  {
   "cell_type": "code",
   "execution_count": 84,
   "metadata": {
    "hidden": true
   },
   "outputs": [
    {
     "name": "stdout",
     "output_type": "stream",
     "text": [
      "0 - Correct\n",
      "1 - Correct\n",
      "2 - Correct\n",
      "3 - Correct\n",
      "4 - Correct\n",
      "5 - Correct\n",
      "6 - Correct\n"
     ]
    }
   ],
   "source": [
    "\"\"\"\n",
    "A = array of numbers of length N\n",
    "N = 0 - 100000\n",
    "nums in range (1, N+1)\n",
    "All unique numbers\n",
    "One number missing\n",
    "return missing number\n",
    "\n",
    "[1,2,4] == 3\n",
    "[2,4,1] == 3\n",
    "\n",
    "Note\n",
    "----\n",
    "Can be shuffled\n",
    "Always starts from 1 -> N+1\n",
    "N+1 is always included, so it ensures\n",
    "there is always one missing number\n",
    "could be missing?\n",
    "\n",
    "Cases:\n",
    "1) Empty -- 1 ?\n",
    "2) One element\n",
    "3) 2 elements\n",
    "4) 3+ elements\n",
    "5) Missing number = 1\n",
    "6) Missing number = N\n",
    "\n",
    "Complexity\n",
    "time = O(N)\n",
    "space = O(1)\n",
    "\"\"\"\n",
    "def solution(A):\n",
    "    N = len(A)\n",
    "    total = sum(A)\n",
    "    expected = (N+1)*(N+2) // 2\n",
    "    return expected - total\n",
    "\n",
    "cases = [\n",
    "    ([2,3,1,5],4),\n",
    "    ([],1),\n",
    "    ([2],1),\n",
    "    ([1,3],2),\n",
    "    ([2,1,4],3),\n",
    "    ([2,4,3,5],1),\n",
    "    ([1,2,4,3,6],5),\n",
    "]\n",
    "\n",
    "test(cases, solution)"
   ]
  },
  {
   "cell_type": "markdown",
   "metadata": {
    "heading_collapsed": true
   },
   "source": [
    "### Frog Jumps"
   ]
  },
  {
   "cell_type": "markdown",
   "metadata": {
    "hidden": true
   },
   "source": [
    "* https://codility.com/programmers/lessons/3-time_complexity/frog_jmp/"
   ]
  },
  {
   "cell_type": "code",
   "execution_count": 81,
   "metadata": {
    "hidden": true
   },
   "outputs": [
    {
     "name": "stdout",
     "output_type": "stream",
     "text": [
      "0 - Correct\n",
      "1 - Correct\n",
      "2 - Correct\n",
      "3 - Correct\n",
      "4 - Correct\n"
     ]
    }
   ],
   "source": [
    "\"\"\"\n",
    "X <= Y\n",
    "Cases\n",
    "2) X = Y\n",
    "3) Y > X by less than D\n",
    "4) Y > X by D or greater\n",
    "5) Requires multiple skips\n",
    "\"\"\"\n",
    "def solution(args):\n",
    "    # X = start num\n",
    "    # Y = goal num\n",
    "    # D = skip length\n",
    "    X,Y,D = args\n",
    "    return math.ceil((Y - X) / D)\n",
    "    \n",
    "cases = [\n",
    "    ((10,85,30),3),\n",
    "    ((3,3,2),0),\n",
    "    ((1,2,1),1),\n",
    "    ((1,2,5),1),\n",
    "    ((1,9,2),4),\n",
    "]\n",
    "test(cases, solution)"
   ]
  },
  {
   "cell_type": "markdown",
   "metadata": {
    "heading_collapsed": true
   },
   "source": [
    "### Odd Occurance in Array"
   ]
  },
  {
   "cell_type": "markdown",
   "metadata": {
    "hidden": true
   },
   "source": [
    "* https://codility.com/programmers/lessons/2-arrays/odd_occurrences_in_array/"
   ]
  },
  {
   "cell_type": "code",
   "execution_count": 59,
   "metadata": {
    "hidden": true
   },
   "outputs": [
    {
     "name": "stdout",
     "output_type": "stream",
     "text": [
      "0 - Correct\n",
      "1 - Correct\n",
      "2 - Correct\n",
      "0 - Correct\n",
      "1 - Correct\n",
      "2 - Correct\n"
     ]
    }
   ],
   "source": [
    "\"\"\"\n",
    "A = array of N integers\n",
    "Odd number of elements\n",
    "All values occur even number of times,\n",
    "except one value\n",
    "\n",
    "Catch\n",
    "-----\n",
    "Each number makes a pair\n",
    "So the number 9 can repeat 3 times\n",
    "but that only makes 1 pair\n",
    "and 9 is the lonely number\n",
    "\n",
    "Cases\n",
    "-----\n",
    "1) Empty or 1 element\n",
    "2) 3 elements\n",
    "3) Array with 4 of same number\n",
    "4) Array with 3 of same number\n",
    "\n",
    "Complexity:\n",
    "Time = O(n)\n",
    "Storage = O(1)  <--- No extra memory\n",
    "\n",
    "\n",
    "\"\"\"\n",
    "\n",
    "def solution(A):\n",
    "    i = 0\n",
    "    while i+2 <= len(A):\n",
    "        if A[i] != A[i+2]:\n",
    "            return A[i]\n",
    "        i += 1\n",
    "        if i+2 >= len(A) or A[i] != A[i+2]:\n",
    "            return A[i]\n",
    "        i += 3\n",
    "    return A[i]\n",
    "\n",
    "def solution_bitwise(A):\n",
    "    # https://www.martinkysel.com/codility-oddoccurrencesinarray-solution/\n",
    "    # A xor A cancels itself and B xor 0 is B. Therefore A xor A xor B xor C xor C is B\n",
    "    missing_int = 0\n",
    "    for value in A:\n",
    "        missing_int ^= value\n",
    "    return missing_int\n",
    "\n",
    "\n",
    "cases = [([9,3,9,3,9,7,9], 7), ([1],1), ([1,2,1],2)]\n",
    "test(cases, solution)\n",
    "test(cases, solution_bitwise)"
   ]
  },
  {
   "cell_type": "markdown",
   "metadata": {
    "heading_collapsed": true
   },
   "source": [
    "### Reverse Array"
   ]
  },
  {
   "cell_type": "code",
   "execution_count": 52,
   "metadata": {
    "hidden": true
   },
   "outputs": [
    {
     "name": "stdout",
     "output_type": "stream",
     "text": [
      "[4, 3, 2, 1]\n",
      "[4, 3, 2, 1]\n"
     ]
    }
   ],
   "source": [
    "def reverse_extra(A):\n",
    "    rarr = []\n",
    "    for i in range(len(A),0,-1):\n",
    "        rarr.append(A[i-1])\n",
    "    return rarr\n",
    "\n",
    "def reverse_inplace(A):\n",
    "    N = len(A)\n",
    "    for i in range(N//2):\n",
    "        right_idx = N - i - 1\n",
    "        tmp = A[right_idx]\n",
    "        A[right_idx] = A[i]\n",
    "        A[i] = tmp\n",
    "    return A\n",
    "        \n",
    "print(reverse_extra([1,2,3,4]))\n",
    "print(reverse_inplace([1,2,3,4]))"
   ]
  },
  {
   "cell_type": "code",
   "execution_count": null,
   "metadata": {
    "collapsed": true,
    "hidden": true
   },
   "outputs": [],
   "source": []
  },
  {
   "cell_type": "markdown",
   "metadata": {
    "heading_collapsed": true
   },
   "source": [
    "### Binary Gap"
   ]
  },
  {
   "cell_type": "markdown",
   "metadata": {
    "hidden": true
   },
   "source": [
    "* https://codility.com/programmers/lessons/1-iterations/binary_gap/"
   ]
  },
  {
   "cell_type": "code",
   "execution_count": 38,
   "metadata": {
    "hidden": true
   },
   "outputs": [
    {
     "data": {
      "text/plain": [
       "1001"
      ]
     },
     "execution_count": 38,
     "metadata": {},
     "output_type": "execute_result"
    }
   ],
   "source": [
    "def solution(N):\n",
    "    binary = bin(N)[2:]\n",
    "    max_count = 0\n",
    "    zero_count = 0\n",
    "    for i in range(len(binary)):\n",
    "        if int(binary[i]) == 0:\n",
    "            zero_count += 1\n",
    "        else:\n",
    "            if zero_count > max_count:\n",
    "                max_count = zero_count\n",
    "            zero_count = 0\n",
    "    return max_count"
   ]
  },
  {
   "cell_type": "code",
   "execution_count": 39,
   "metadata": {
    "hidden": true
   },
   "outputs": [
    {
     "name": "stdout",
     "output_type": "stream",
     "text": [
      "1001\n",
      "0 - Correct\n",
      "10100\n",
      "1 - Correct\n",
      "1000010001\n",
      "2 - Correct\n",
      "10000010001\n",
      "3 - Correct\n"
     ]
    }
   ],
   "source": [
    "cases = [(9,2), (20,1), (529,4), (1041,5)]\n",
    "test(cases, solution)"
   ]
  },
  {
   "cell_type": "markdown",
   "metadata": {},
   "source": [
    "### Rotate Array"
   ]
  },
  {
   "cell_type": "code",
   "execution_count": 28,
   "metadata": {},
   "outputs": [
    {
     "name": "stdout",
     "output_type": "stream",
     "text": [
      "0 - Correct\n",
      "1 - Correct\n",
      "2 - Correct\n"
     ]
    }
   ],
   "source": [
    "def rotate_once(A):\n",
    "    if len(A) < 2:\n",
    "        return A\n",
    "    last = A[-1]\n",
    "    i = 0\n",
    "    while i < len(A):\n",
    "        cur = A[i]\n",
    "        A[i] = last\n",
    "        last = cur\n",
    "        i += 1\n",
    "    return A\n",
    "\n",
    "def rotate_k(A, K):\n",
    "    for i in range(K):\n",
    "        A = rotate_once(A)\n",
    "    return A\n",
    "\n",
    "def find_idx(cur_idx, K, N):\n",
    "    cur_idx += k\n",
    "    if cur_idx >= N:\n",
    "        cur_idx = N - cur_idx\n",
    "    return cur_idx\n",
    "\n",
    "def rotate_k_skip(A, K):\n",
    "    pass"
   ]
  },
  {
   "cell_type": "code",
   "execution_count": null,
   "metadata": {
    "collapsed": true
   },
   "outputs": [],
   "source": [
    "cases = [([],[]), ([1],[1]), ([1,2,3],[3,1,2])]\n",
    "test(cases, rotate_once)"
   ]
  }
 ],
 "metadata": {
  "kernelspec": {
   "display_name": "Python 3",
   "language": "python",
   "name": "python3"
  },
  "language_info": {
   "codemirror_mode": {
    "name": "ipython",
    "version": 3
   },
   "file_extension": ".py",
   "mimetype": "text/x-python",
   "name": "python",
   "nbconvert_exporter": "python",
   "pygments_lexer": "ipython3",
   "version": "3.6.0"
  },
  "latex_envs": {
   "LaTeX_envs_menu_present": true,
   "autocomplete": true,
   "bibliofile": "biblio.bib",
   "cite_by": "apalike",
   "current_citInitial": 1,
   "eqLabelWithNumbers": true,
   "eqNumInitial": 1,
   "hotkeys": {
    "equation": "Ctrl-E",
    "itemize": "Ctrl-I"
   },
   "labels_anchors": false,
   "latex_user_defs": false,
   "report_style_numbering": false,
   "user_envs_cfg": false
  },
  "toc": {
   "colors": {
    "hover_highlight": "#DAA520",
    "navigate_num": "#000000",
    "navigate_text": "#333333",
    "running_highlight": "#FF0000",
    "selected_highlight": "#FFD700",
    "sidebar_border": "#EEEEEE",
    "wrapper_background": "#FFFFFF"
   },
   "moveMenuLeft": true,
   "nav_menu": {
    "height": "217px",
    "width": "253px"
   },
   "navigate_menu": true,
   "number_sections": true,
   "sideBar": true,
   "threshold": 4,
   "toc_cell": false,
   "toc_section_display": "block",
   "toc_window_display": false,
   "widenNotebook": false
  }
 },
 "nbformat": 4,
 "nbformat_minor": 2
}
