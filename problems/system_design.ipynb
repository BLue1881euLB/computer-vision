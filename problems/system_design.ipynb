{
 "cells": [
  {
   "cell_type": "markdown",
   "metadata": {},
   "source": [
    "## Stacks and Queues"
   ]
  },
  {
   "cell_type": "code",
   "execution_count": 1,
   "metadata": {
    "collapsed": true
   },
   "outputs": [],
   "source": [
    "import math\n",
    "\n",
    "def test(cases, func):\n",
    "    for i in range(len(cases)):\n",
    "        output = func(cases[i][0])\n",
    "        try:\n",
    "            assert output == cases[i][1]\n",
    "            print(i, \"- Correct\")\n",
    "        except:\n",
    "            print(i, \"- Failed\")\n",
    "            print(\"\\tExpected\", cases[i][1])\n",
    "            print(\"\\tOutput\", output)"
   ]
  },
  {
   "cell_type": "markdown",
   "metadata": {},
   "source": [
    "## Problems"
   ]
  },
  {
   "cell_type": "markdown",
   "metadata": {},
   "source": [
    "### LRU Cache"
   ]
  },
  {
   "cell_type": "markdown",
   "metadata": {},
   "source": [
    "* https://www.interviewbit.com/problems/lru-cache/"
   ]
  },
  {
   "cell_type": "code",
   "execution_count": 110,
   "metadata": {},
   "outputs": [],
   "source": [
    "class LRUCache():\n",
    "    def __init__(self, capacity):\n",
    "        self.capacity = capacity\n",
    "        self.order = []\n",
    "        self.cache = {}\n",
    "\n",
    "    def get(self, key):\n",
    "        if key not in self.cache:\n",
    "            return -1\n",
    "        self._update_latest(key)\n",
    "        return self.cache[key]\n",
    "    \n",
    "    def _update_latest(self, key):\n",
    "        self.order.remove(key)\n",
    "        self.order.insert(0, key)\n",
    "        \n",
    "    def set(self, key, value):\n",
    "        if key in self.cache:\n",
    "            self.cache[key] = value\n",
    "            self._update_latest(key)\n",
    "        \n",
    "        else:\n",
    "            if len(self.order) == self.capacity:\n",
    "                # evict oldest\n",
    "                old_key = self.order.pop(-1)\n",
    "                del self.cache[old_key]\n",
    "            \n",
    "            # add new\n",
    "            self.order.insert(0, key)\n",
    "            self.cache[key] = value\n",
    "\n",
    "    def __repr__(self):\n",
    "        return str((str(self.cache), str(self.order), self.capacity))"
   ]
  },
  {
   "cell_type": "code",
   "execution_count": 111,
   "metadata": {},
   "outputs": [
    {
     "data": {
      "text/plain": [
       "('{2: 15, 3: 15}', '[2, 3]', 2)"
      ]
     },
     "execution_count": 111,
     "metadata": {},
     "output_type": "execute_result"
    }
   ],
   "source": [
    "c = LRUCache(2)\n",
    "c.set(1, 15)\n",
    "c.set(2, 15)\n",
    "c.set(3, 15)\n",
    "assert c.get(1) == -1\n",
    "assert c.get(3) == 15\n",
    "assert c.get(2) == 15\n",
    "c"
   ]
  },
  {
   "cell_type": "code",
   "execution_count": null,
   "metadata": {},
   "outputs": [],
   "source": []
  }
 ],
 "metadata": {
  "kernelspec": {
   "display_name": "Python 3",
   "language": "python",
   "name": "python3"
  },
  "language_info": {
   "codemirror_mode": {
    "name": "ipython",
    "version": 3
   },
   "file_extension": ".py",
   "mimetype": "text/x-python",
   "name": "python",
   "nbconvert_exporter": "python",
   "pygments_lexer": "ipython3",
   "version": "3.6.4"
  },
  "latex_envs": {
   "LaTeX_envs_menu_present": true,
   "autocomplete": true,
   "bibliofile": "biblio.bib",
   "cite_by": "apalike",
   "current_citInitial": 1,
   "eqLabelWithNumbers": true,
   "eqNumInitial": 1,
   "hotkeys": {
    "equation": "Ctrl-E",
    "itemize": "Ctrl-I"
   },
   "labels_anchors": false,
   "latex_user_defs": false,
   "report_style_numbering": false,
   "user_envs_cfg": false
  },
  "toc": {
   "colors": {
    "hover_highlight": "#DAA520",
    "navigate_num": "#000000",
    "navigate_text": "#333333",
    "running_highlight": "#FF0000",
    "selected_highlight": "#FFD700",
    "sidebar_border": "#EEEEEE",
    "wrapper_background": "#FFFFFF"
   },
   "moveMenuLeft": true,
   "nav_menu": {
    "height": "217px",
    "width": "253px"
   },
   "navigate_menu": true,
   "number_sections": true,
   "sideBar": true,
   "threshold": 4,
   "toc_cell": false,
   "toc_section_display": "block",
   "toc_window_display": false,
   "widenNotebook": false
  }
 },
 "nbformat": 4,
 "nbformat_minor": 2
}
