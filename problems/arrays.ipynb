{
 "cells": [
  {
   "cell_type": "markdown",
   "metadata": {},
   "source": [
    "## Arrays\n",
    "\n",
    "* https://paper.dropbox.com/doc/Interview-Problems-eG5eZN1D0SewzP9UOqg3t"
   ]
  },
  {
   "cell_type": "markdown",
   "metadata": {
    "collapsed": true
   },
   "source": [
    "## Helpers"
   ]
  },
  {
   "cell_type": "code",
   "execution_count": 2,
   "metadata": {},
   "outputs": [],
   "source": [
    "def test(cases, func):\n",
    "    for i in range(len(cases)):\n",
    "        output = func(cases[i][0])\n",
    "        try:\n",
    "            assert output == cases[i][1]\n",
    "            print(i, \"- Correct\")\n",
    "        except:\n",
    "            print(i, \"- Failed\")\n",
    "            print(\"\\tExpected\", cases[i][1])\n",
    "            print(\"\\tOutput\", output)"
   ]
  },
  {
   "cell_type": "markdown",
   "metadata": {},
   "source": [
    "## Problems"
   ]
  },
  {
   "cell_type": "markdown",
   "metadata": {
    "heading_collapsed": true
   },
   "source": [
    "### Repeat and Missing Number"
   ]
  },
  {
   "cell_type": "markdown",
   "metadata": {
    "hidden": true
   },
   "source": [
    "* https://www.interviewbit.com/problems/repeat-and-missing-number-array/"
   ]
  },
  {
   "cell_type": "code",
   "execution_count": 30,
   "metadata": {
    "hidden": true
   },
   "outputs": [
    {
     "name": "stdout",
     "output_type": "stream",
     "text": [
      "0 - Correct\n",
      "1 - Correct\n",
      "2 - Correct\n",
      "3 - Correct\n",
      "4 - Correct\n"
     ]
    }
   ],
   "source": [
    "\"\"\"\n",
    "You are given a read only array of n integers from 1 to n.\n",
    "Each integer appears exactly once except A which appears twice and B which is missing.\n",
    "Return A and B.\n",
    "\n",
    "Note: Your algorithm should have a linear runtime complexity. Could you implement it without using extra memory?\n",
    "Note that in your output A should precede B.\n",
    "\n",
    "Input:[3 1 2 5 3] \n",
    "Output:[3, 4] \n",
    "A = 3, B = 4\n",
    "\n",
    "Note\n",
    "----\n",
    "* Array is sorted\n",
    "* List of numbers from 1 to n\n",
    "* Cannot modify array\n",
    "* No extra memory\n",
    "* A appears twice, B is missing\n",
    "\n",
    "Cases\n",
    "-----\n",
    "* First missing (1)\n",
    "* Last missing (n)\n",
    "* 3 element array\n",
    "* Extremely large array (10^5) - overflow\n",
    "\n",
    "Approach\n",
    "--------\n",
    "Given we know all the numbers in the array\n",
    "And we know they're sorted\n",
    "We can calcuate the expected running sum at any point\n",
    "If the sum != expected, we've found A or B\n",
    "    A = Duplicate\n",
    "    B = Missing\n",
    "We don't need to loop through everything, since the first time\n",
    "it's different from what we expect, we can calculate what's wrong\n",
    "based on the different between expected and actual\n",
    "\n",
    "Sum at any point = 7*6*5+4+3+2+1 = 15\n",
    "n * (n+1) / 2\n",
    "Sum = what the total would be if all elements were 5\n",
    "1 3 6 10 15 21\n",
    "\n",
    "\"\"\"\n",
    "in0 = [3, 1, 2, 5, 3] \n",
    "out0 = [3, 4]\n",
    "\n",
    "in1 = [1, 2, 4, 1]\n",
    "out1 = [1, 3]\n",
    "\n",
    "in2 = [1, 2, 3, 4, 5, 5]\n",
    "out2 = [5, 6]\n",
    "\n",
    "in3 = [1, 2, 4, 4, 5, 6]\n",
    "out3 = [4, 3]\n",
    "\n",
    "in4 = [1, 1, 3] \n",
    "out4 = [1, 2]\n",
    "\n",
    "cases = [(in0, out0), (in1,out1), (in2,out2), (in3,out3), (in4,out4)]\n",
    "\n",
    "def sum_n(n):\n",
    "    return n*(n+1) // 2\n",
    "\n",
    "def repeatedNumber(arr):\n",
    "    duplicate = -1\n",
    "    actual_sum = 0\n",
    "    expected = 1\n",
    "    for i in range(len(arr)):\n",
    "        if duplicate == -1 and arr[i] != expected:\n",
    "            if arr[i] == expected+1:\n",
    "                expected += 1\n",
    "            else:\n",
    "                duplicate = arr[i]\n",
    "        actual_sum += arr[i]\n",
    "        expected += 1\n",
    "    expected_sum = sum_n(len(arr))\n",
    "    missing = expected_sum - (actual_sum - duplicate)\n",
    "    return [duplicate, missing]\n",
    "test(cases, repeatedNumber)"
   ]
  },
  {
   "cell_type": "markdown",
   "metadata": {},
   "source": [
    "### Binary Search\n",
    "\n"
   ]
  },
  {
   "cell_type": "code",
   "execution_count": 7,
   "metadata": {},
   "outputs": [
    {
     "name": "stdout",
     "output_type": "stream",
     "text": [
      "0 - Correct\n",
      "1 - Correct\n",
      "2 - Correct\n",
      "3 - Correct\n",
      "4 - Correct\n",
      "5 - Correct\n"
     ]
    }
   ],
   "source": [
    "\"\"\"\n",
    "Fast search when elements are ordered\n",
    "\n",
    "One solution to searching problems is to sort first (n log n)\n",
    "and then use binary search (log n)\n",
    "\"\"\"\n",
    "\n",
    "def binary_search(args):\n",
    "    A,val = args\n",
    "    start = 0\n",
    "    end = len(A)\n",
    "    while start < end:\n",
    "        mid = start + (end - start)//2\n",
    "        if A[mid] == val:\n",
    "            return mid\n",
    "        elif A[mid] < val:\n",
    "            start = mid + 1\n",
    "        else:\n",
    "            end = mid\n",
    "    return None\n",
    "\n",
    "cases = [\n",
    "    (([1,2,3,4,5], 1), 0),\n",
    "    (([1,2,3,4,5], 5), 4),\n",
    "    (([1,2,3,4,5], 2), 1),\n",
    "    (([1,2,3,4,5], 3), 2),\n",
    "    (([1,2,3,4,5], 0), None),\n",
    "    (([1,2,3,4,5], 6), None),\n",
    "]    \n",
    "test(cases, binary_search)"
   ]
  },
  {
   "cell_type": "markdown",
   "metadata": {},
   "source": [
    "### Sorted Insert Position"
   ]
  },
  {
   "cell_type": "markdown",
   "metadata": {},
   "source": [
    "* https://www.interviewbit.com/problems/sorted-insert-position/"
   ]
  },
  {
   "cell_type": "code",
   "execution_count": 18,
   "metadata": {},
   "outputs": [
    {
     "name": "stdout",
     "output_type": "stream",
     "text": [
      "0 - Correct\n",
      "1 - Correct\n",
      "2 - Correct\n",
      "3 - Correct\n",
      "4 - Correct\n",
      "5 - Correct\n"
     ]
    }
   ],
   "source": [
    "\"\"\"\n",
    "Given a sorted array and a target value, return the index if the target is found. If not, return the index where it would be if it were inserted in order.\n",
    "\n",
    "You may assume no duplicates in the array.\n",
    "\n",
    "Here are few examples.\n",
    "\n",
    "[1,3,5,6], 5 → 2\n",
    "[1,3,5,6], 2 → 1\n",
    "[1,3,5,6], 7 → 4\n",
    "[1,3,5,6], 0 → 0\n",
    "\"\"\"\n",
    "class Solution:\n",
    "    # @param A : list of integers\n",
    "    # @param val : target integer\n",
    "    # @return an integer\n",
    "    def searchInsert(self, A, val):\n",
    "        start = 0\n",
    "        end = len(A)\n",
    "        if len(A) == 0:\n",
    "            return None\n",
    "        elif A[start] > val:\n",
    "            return 0\n",
    "        elif A[end-1] < val:\n",
    "            return len(A)\n",
    "        while start < end:\n",
    "            mid = start + (end-start)//2\n",
    "            if A[mid] == val:\n",
    "                return mid\n",
    "            elif A[mid] < val:\n",
    "                start = mid + 1\n",
    "            else:\n",
    "                end = mid\n",
    "        return start\n",
    "\n",
    "cases = [\n",
    "    (([1,3,5,6], 5), 2),\n",
    "    (([1,3,5,6], 2), 1),\n",
    "    (([1,3,5,6], 7), 4),\n",
    "    (([1,3,5,6], 0), 0),\n",
    "    (([1,2,6], 4), 2),\n",
    "    (([1,2,3,4,8,9], 7), 4),\n",
    "]\n",
    "\n",
    "s = Solution()\n",
    "test(cases, s.searchInsert)"
   ]
  },
  {
   "cell_type": "code",
   "execution_count": null,
   "metadata": {},
   "outputs": [],
   "source": []
  },
  {
   "cell_type": "code",
   "execution_count": null,
   "metadata": {},
   "outputs": [],
   "source": []
  }
 ],
 "metadata": {
  "kernelspec": {
   "display_name": "Python 3",
   "language": "python",
   "name": "python3"
  },
  "language_info": {
   "codemirror_mode": {
    "name": "ipython",
    "version": 3
   },
   "file_extension": ".py",
   "mimetype": "text/x-python",
   "name": "python",
   "nbconvert_exporter": "python",
   "pygments_lexer": "ipython3",
   "version": "3.6.4"
  },
  "latex_envs": {
   "LaTeX_envs_menu_present": true,
   "autocomplete": true,
   "bibliofile": "biblio.bib",
   "cite_by": "apalike",
   "current_citInitial": 1,
   "eqLabelWithNumbers": true,
   "eqNumInitial": 1,
   "hotkeys": {
    "equation": "Ctrl-E",
    "itemize": "Ctrl-I"
   },
   "labels_anchors": false,
   "latex_user_defs": false,
   "report_style_numbering": false,
   "user_envs_cfg": false
  },
  "toc": {
   "colors": {
    "hover_highlight": "#DAA520",
    "navigate_num": "#000000",
    "navigate_text": "#333333",
    "running_highlight": "#FF0000",
    "selected_highlight": "#FFD700",
    "sidebar_border": "#EEEEEE",
    "wrapper_background": "#FFFFFF"
   },
   "moveMenuLeft": true,
   "nav_menu": {
    "height": "26px",
    "width": "254px"
   },
   "navigate_menu": true,
   "number_sections": true,
   "sideBar": true,
   "threshold": 4,
   "toc_cell": false,
   "toc_section_display": "block",
   "toc_window_display": false,
   "widenNotebook": false
  }
 },
 "nbformat": 4,
 "nbformat_minor": 2
}
