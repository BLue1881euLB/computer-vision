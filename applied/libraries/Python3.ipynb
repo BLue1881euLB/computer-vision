{
 "cells": [
  {
   "cell_type": "markdown",
   "metadata": {},
   "source": [
    "## Python"
   ]
  },
  {
   "cell_type": "markdown",
   "metadata": {},
   "source": [
    "Common tasks and tools"
   ]
  },
  {
   "cell_type": "markdown",
   "metadata": {},
   "source": [
    "### JSON"
   ]
  },
  {
   "cell_type": "code",
   "execution_count": 6,
   "metadata": {},
   "outputs": [
    {
     "name": "stdout",
     "output_type": "stream",
     "text": [
      "{'first_name': 'Guido', 'last_name': 'Rossum'}\n",
      "{\"first_name\": \"Guido\", \"last_name\": \"Rossum\"}\n",
      "{'first_name': 'Guido', 'last_name': 'Rossum'}\n"
     ]
    }
   ],
   "source": [
    "import os\n",
    "import json\n",
    "\n",
    "input_json = '{\"first_name\": \"Guido\", \"last_name\":\"Rossum\"}'\n",
    "json_dct = json.loads(input_json)\n",
    "print(json_dct)\n",
    "json_str = json.dumps(json_dct)\n",
    "print(json_str)\n",
    "\n",
    "# load from file object\n",
    "json.dump(json_dct, open('tmp.json', 'w'))\n",
    "json_obj = json.load(open('tmp.json'))\n",
    "print(json_obj)\n",
    "\n",
    "os.remove('tmp.json')"
   ]
  },
  {
   "cell_type": "markdown",
   "metadata": {},
   "source": [
    "### Requests"
   ]
  },
  {
   "cell_type": "markdown",
   "metadata": {},
   "source": [
    "* http://docs.python-requests.org/en/master/user/quickstart"
   ]
  },
  {
   "cell_type": "code",
   "execution_count": 1,
   "metadata": {},
   "outputs": [
    {
     "name": "stdout",
     "output_type": "stream",
     "text": [
      "<!DOCTYPE html>\n",
      "<html lang=\"en\">\n",
      "<head>\n",
      "  <meta charset=\"utf-8\">\n",
      "  <meta http-equiv=\"X-UA-Compatible\" content=\"IE=edge\">\n",
      "  <title>Brendan Fortuner Blog</title>\n",
      "  <meta name=\"description\" content=\"\">\n",
      "  <meta name=\"viewport\" content=\"width=device-width, initial-scale=1\">\n",
      "  <!-- inject:css -->\n",
      "  <link rel=\"stylesheet\" href=\"css/all.css\">\n",
      "  <!-- endinject -->\n",
      "</head>\n",
      "<body style='background-image:url(\"./assets/img/tiles2.png\");'>\n",
      "  <!--This is the app Component designated by the CSS selector\n",
      "  app defined in app.js @Component decorator-->\n",
      "  <app>Loading...</app>\n",
      "\n",
      "  <!-- shims:js -->\n",
      "  <!-- endinject -->\n",
      "\n",
      "  <!-- libs:js -->\n",
      "  <!-- endinject -->\n",
      "\n",
      "  <!-- inject:js -->\n",
      "  <script src=\"js/shims.js\"></script>\n",
      "  <script src=\"js/app.js\"></script>\n",
      "  <!-- endinject -->\n",
      "\n",
      "  \n",
      "  \n",
      "</body>\n",
      "</html>\n",
      "\n",
      "{'userId': 1, 'id': 1, 'title': 'sunt aut facere repellat provident occaecati excepturi optio reprehenderit', 'body': 'quia et suscipit\\nsuscipit recusandae consequuntur expedita et cum\\nreprehenderit molestiae ut ut quas totam\\nnostrum rerum est autem sunt rem eveniet architecto'}\n"
     ]
    }
   ],
   "source": [
    "import requests\n",
    "\n",
    "# Get HTML\n",
    "r = requests.get('http://brendanfortuner.com')\n",
    "print(r.text)\n",
    "\n",
    "# Load JSON\n",
    "r = requests.get('https://jsonplaceholder.typicode.com/posts/1')\n",
    "json_obj = r.json()\n",
    "print(json_obj)\n",
    "\n",
    "# Other methods\n",
    "r = requests.post('http://httpbin.org/post', data = {'key':'value'})\n",
    "r = requests.put('http://httpbin.org/put', data = {'key':'value'})\n",
    "\n",
    "# Params in URL\n",
    "payload = {'key1': 'value1', 'key2': 'value2'}\n",
    "r = requests.get('http://httpbin.org/get', params=payload)\n",
    "\n",
    "def get_base_uri(raw_uri):\n",
    "    return \"{0.netloc}\".format(urlsplit(raw_uri))"
   ]
  },
  {
   "cell_type": "markdown",
   "metadata": {},
   "source": [
    "### Generators"
   ]
  },
  {
   "cell_type": "code",
   "execution_count": 21,
   "metadata": {},
   "outputs": [
    {
     "name": "stdout",
     "output_type": "stream",
     "text": [
      "0\n",
      "1\n",
      "2\n",
      "3\n",
      "4\n"
     ]
    }
   ],
   "source": [
    "def mygen(n):\n",
    "    for i in range(n):\n",
    "        yield i\n",
    "        \n",
    "generator = mygen(5)\n",
    "val = next(generator)\n",
    "print(val)\n",
    "\n",
    "val = next(generator)\n",
    "print(val)\n",
    "\n",
    "for val in generator:\n",
    "    print(val)"
   ]
  },
  {
   "cell_type": "markdown",
   "metadata": {},
   "source": [
    "### Dictionaries"
   ]
  },
  {
   "cell_type": "code",
   "execution_count": 49,
   "metadata": {},
   "outputs": [
    {
     "name": "stdout",
     "output_type": "stream",
     "text": [
      "[('a', 3), ('b', 2), ('c', 1)]\n",
      "[('a', 3), ('b', 2), ('c', 1)]\n",
      "a 3\n",
      "b 2\n",
      "c 1\n"
     ]
    }
   ],
   "source": [
    "# It is not possible to sort a dict\n",
    "# only get a representation of a dict that is sorted (list, tuple)\n",
    "\n",
    "import operator\n",
    "#  itemgetter(1)\n",
    "#  passing a mini function as the key\n",
    "#  which grabs the element at index 1\n",
    "\n",
    "d = {'c':1,'b':2,'a':3}\n",
    "\n",
    "# Sort dictionary by KEYS (ASC)\n",
    "print(sorted(d.items(), key=operator.itemgetter(0), reverse=False))\n",
    "\n",
    "# Sort dictionary by VALUES (DESC)\n",
    "print(sorted(d.items(), key=operator.itemgetter(1), reverse=True))\n",
    "\n",
    "# Iterate through dct items sorted in Descending order by value\n",
    "for k,v in sorted(d.items(), key=operator.itemgetter(1), reverse=True):\n",
    "    print(k,v)"
   ]
  },
  {
   "cell_type": "markdown",
   "metadata": {},
   "source": [
    "### Top N Values"
   ]
  },
  {
   "cell_type": "code",
   "execution_count": 48,
   "metadata": {},
   "outputs": [
    {
     "name": "stdout",
     "output_type": "stream",
     "text": [
      "[10, 6, 4]\n",
      "[('d', 10), ('b', 6)]\n",
      "[('d', 10), ('b', 6)]\n"
     ]
    }
   ],
   "source": [
    "import heapq\n",
    "import operator\n",
    "\n",
    "\n",
    "# Array\n",
    "a = [1,4,2,6,3,10]\n",
    "n = 3\n",
    "print(sorted(a, reverse=True)[:n])\n",
    "\n",
    "# Dict\n",
    "a = {'a':4,'b':6,'c':3,'d':10}\n",
    "n = 2\n",
    "print(sorted(a.items(), key=operator.itemgetter(1), reverse=True)[:n])\n",
    "\n",
    "# Top N with Heap\n",
    "print(heapq.nlargest(n, a.items(), key=operator.itemgetter(1)))"
   ]
  },
  {
   "cell_type": "markdown",
   "metadata": {},
   "source": [
    "### Heapq"
   ]
  },
  {
   "cell_type": "code",
   "execution_count": 45,
   "metadata": {},
   "outputs": [
    {
     "name": "stdout",
     "output_type": "stream",
     "text": [
      "[10, 6, 4]\n",
      "[1, 2, 3]\n"
     ]
    }
   ],
   "source": [
    "import heapq\n",
    "\n",
    "# Must be a list\n",
    "a = [1,4,2,6,3,10]\n",
    "heapq.heapify(a)\n",
    "n = 3\n",
    "print(heapq.nlargest(n, a))\n",
    "print(heapq.nsmallest(n, a))\n",
    "\n",
    "# Complexity\n",
    "# Put - O(log n)\n",
    "# Pop - O(1)\n",
    "# Heapify - O(n log n)"
   ]
  },
  {
   "cell_type": "markdown",
   "metadata": {},
   "source": [
    "### OrderedDict (insertion order)"
   ]
  },
  {
   "cell_type": "code",
   "execution_count": 47,
   "metadata": {},
   "outputs": [
    {
     "name": "stdout",
     "output_type": "stream",
     "text": [
      "a A\n",
      "b B\n",
      "c C\n",
      "d D\n",
      "e E\n"
     ]
    }
   ],
   "source": [
    "import collections\n",
    "# Remembers the insertion order when iterating ovr\n",
    "\n",
    "d = collections.OrderedDict()\n",
    "d['a'] = 'A'\n",
    "d['b'] = 'B'\n",
    "d['c'] = 'C'\n",
    "d['d'] = 'D'\n",
    "d['e'] = 'E'\n",
    "\n",
    "for k, v in d.items():\n",
    "    print (k, v)"
   ]
  },
  {
   "cell_type": "markdown",
   "metadata": {},
   "source": [
    "### Tests"
   ]
  },
  {
   "cell_type": "code",
   "execution_count": 18,
   "metadata": {},
   "outputs": [
    {
     "name": "stdout",
     "output_type": "stream",
     "text": [
      "Success -  0  -  1 2\n",
      "Success -  1  -  2 3\n",
      "Success -  2  -  -1 0\n"
     ]
    }
   ],
   "source": [
    "def myfunc(a):\n",
    "    return a + 1\n",
    "\n",
    "cases = [\n",
    "    (1, 2),\n",
    "    (2, 3),\n",
    "    (-1, 0)\n",
    "]\n",
    "\n",
    "def test(cases, func):\n",
    "    for idx,case in enumerate(cases):\n",
    "        inp,out = case\n",
    "        if func(inp) != out:\n",
    "            print(\"Failed - \", idx, inp, out)\n",
    "        else:\n",
    "            print(\"Success - \", idx, ' - ', inp, out)\n",
    "\n",
    "test(cases, myfunc)"
   ]
  },
  {
   "cell_type": "code",
   "execution_count": null,
   "metadata": {},
   "outputs": [],
   "source": []
  }
 ],
 "metadata": {
  "kernelspec": {
   "display_name": "Python 3",
   "language": "python",
   "name": "python3"
  },
  "language_info": {
   "codemirror_mode": {
    "name": "ipython",
    "version": 3
   },
   "file_extension": ".py",
   "mimetype": "text/x-python",
   "name": "python",
   "nbconvert_exporter": "python",
   "pygments_lexer": "ipython3",
   "version": "3.6.4"
  },
  "latex_envs": {
   "LaTeX_envs_menu_present": true,
   "autocomplete": true,
   "bibliofile": "biblio.bib",
   "cite_by": "apalike",
   "current_citInitial": 1,
   "eqLabelWithNumbers": true,
   "eqNumInitial": 1,
   "hotkeys": {
    "equation": "Ctrl-E",
    "itemize": "Ctrl-I"
   },
   "labels_anchors": false,
   "latex_user_defs": false,
   "report_style_numbering": false,
   "user_envs_cfg": false
  }
 },
 "nbformat": 4,
 "nbformat_minor": 2
}
