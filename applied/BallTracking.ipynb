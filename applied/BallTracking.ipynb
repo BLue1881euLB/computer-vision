{
 "cells": [
  {
   "cell_type": "markdown",
   "metadata": {},
   "source": [
    "## Config"
   ]
  },
  {
   "cell_type": "code",
   "execution_count": null,
   "metadata": {},
   "outputs": [],
   "source": [
    "%matplotlib inline\n",
    "%load_ext autoreload\n",
    "%autoreload 2\n",
    "import os\n",
    "import sys\n",
    "p = os.path.join(os.path.dirname('__file__'), '..')\n",
    "sys.path.append(p)\n",
    "from common import *\n",
    "from imutils.object_detection import non_max_suppression\n",
    "\n",
    "from matplotlib import animation, rc\n",
    "from IPython.display import HTML\n",
    "from matplotlib.pyplot import Rectangle"
   ]
  },
  {
   "cell_type": "code",
   "execution_count": null,
   "metadata": {},
   "outputs": [],
   "source": [
    "DATA_DIR = '../data/'\n",
    "json_fpath = os.path.join(DATA_DIR, 'volleyball_frame_00665.json')\n",
    "img_fpath = os.path.join(DATA_DIR, 'volleyball_frame_00665.png')\n",
    "IMG_DIR = os.path.join(DATA_DIR, 'volleyball', 'images_subset')\n",
    "metadata_fpath = os.path.join(DATA_DIR, 'volleyball_bbox_labels.csv')\n",
    "FIGSIZE = (6,6)"
   ]
  },
  {
   "cell_type": "markdown",
   "metadata": {},
   "source": [
    "## Helpers"
   ]
  },
  {
   "cell_type": "code",
   "execution_count": null,
   "metadata": {},
   "outputs": [],
   "source": [
    "def plot_img(arr, fs=FIGSIZE, cmap='gray', title=None):\n",
    "    plt.figure(figsize=fs)\n",
    "    plt.imshow(arr, cmap=cmap)\n",
    "    plt.title(title)\n",
    "    plt.show()\n",
    "    \n",
    "def load_img(fpath):\n",
    "    return plt.imread(fpath)\n",
    "\n",
    "def load_cv2_img(fpath, w=None, h=None, colorspace=None):\n",
    "    img = cv2.imread(fpath)\n",
    "    if colorspace is not None:\n",
    "        img = cv2.cvtColor(img, colorspace)\n",
    "    if None not in [w,h]:\n",
    "        img = cv2.resize(img, (w, h), interpolation=cv2.INTER_CUBIC)\n",
    "    return img\n",
    "\n",
    "def threshold_color(img, color, thresh, sigma=1.0):\n",
    "    \"\"\"\n",
    "    color = [b, g, r] or [r,b,g] or [h,s,v]\n",
    "    thresh = [b,g,r] margin allowed around color (1 per channel)\n",
    "    \"\"\"\n",
    "    if isinstance(thresh, int):\n",
    "        thresh = [thresh]*3\n",
    "    thresh = np.array(thresh) * sigma\n",
    "    min_color = np.array([color[0]-thresh[0], color[1]-thresh[1], \n",
    "                          color[2]-thresh[2]])\n",
    "    max_color = np.array([color[0]+thresh[0], color[1]+thresh[1],\n",
    "                          color[2]+thresh[2]])\n",
    "    min_color[min_color < 0] = 0\n",
    "    max_color[max_color > 255] = 255\n",
    "    print(\"Min\", min_color)\n",
    "    print(\"Max\", max_color)\n",
    "    \n",
    "    mask = cv2.inRange(img, min_color, max_color)\n",
    "    result = cv2.bitwise_and(img, img, mask=mask)\n",
    "    return mask, result\n",
    "\n",
    "def get_color_of_pixel(fpath, x, y, colorspace='BGR'):\n",
    "    rgb_img = load_cv2_img(img_fpath, colorspace=cv2.COLOR_BGR2RGB)\n",
    "    hsv_img = load_cv2_img(img_fpath, colorspace=cv2.COLOR_BGR2HSV)\n",
    "    \n",
    "    rgb_colors = rgb_img[y,x,:]\n",
    "    hsv_colors = hsv_img[y,x,:]\n",
    "    bgr_colors = np.copy(rgb_colors[::-1])\n",
    "    print (\"BGR:\", bgr_colors)\n",
    "    print (\"RGB:\", rgb_colors)\n",
    "    print (\"HSV:\", hsv_colors)\n",
    "    \n",
    "    # Plot to visualize\n",
    "    img = np.copy(rgb_img)\n",
    "    img[y-5:y+5:,x-5:x+5,:] = 255\n",
    "    img[y,x,:] = 0\n",
    "    \n",
    "    if colorspace == 'BGR':\n",
    "        return bgr_colors.tolist()\n",
    "    if colorspace == 'RGB':\n",
    "        return rgb_colors.tolist()\n",
    "    return hsv_colors.tolist()\n",
    "\n",
    "def get_hsv_value_of_bgr(bgr_color):\n",
    "    print(\"BGR\", bgr_color)\n",
    "    bgr_color = np.uint8([[bgr_color]])\n",
    "    hsv = cv2.cvtColor(bgr_color, cv2.COLOR_BGR2HSV)[0][0]\n",
    "    print(\"HSV\", hsv)\n",
    "    return hsv\n",
    "\n",
    "# Create color histograms representing average values among samples\n",
    "def get_flattened_channels(imgs):\n",
    "    chans = np.empty(shape=(1,3))\n",
    "    for img in imgs:\n",
    "        h,w,c = img.shape\n",
    "        reshaped = img.reshape((h*w, c))\n",
    "        chans = np.concatenate([chans, reshaped], axis=0)\n",
    "        #print(reshaped.shape, chans.shape)\n",
    "    return chans\n",
    "\n",
    "def get_color_hist(img, bins, mask=None):\n",
    "    hist = cv2.calcHist(\n",
    "        [img], [0,1,2], mask, [bins,bins,bins], \n",
    "        [0, 256, 0, 256, 0, 256])\n",
    "    return cv2.normalize(hist, hist).flatten()\n",
    "\n",
    "def plot_hists(hists, title=\"None\"):\n",
    "    colors = ('r','g','b')\n",
    "    for col,hist in zip(colors, hists):\n",
    "        plt.plot(hist, color=col)\n",
    "    plt.title(title)    \n",
    "    plt.show()\n",
    "\n",
    "def get_color_hist_dict(img, bins, mask):\n",
    "    hists = {}\n",
    "    color = ('r','g','b')\n",
    "    for i,col in enumerate(color):\n",
    "        histr = cv2.calcHist([img],[i],mask,[bins],[0,256])\n",
    "        hists[col] = histr\n",
    "    return hists\n",
    "\n",
    "# Plotting Histogram (all channels flattened)\n",
    "def plot_hist(img, bins=256, title=None):\n",
    "    plt.hist(img.ravel(), bins=bins, range=[0,256])\n",
    "    plt.title(title)\n",
    "    plt.show()\n",
    "\n",
    "def plot_bgr_hist(bgr_img, bins=256, mask=None):\n",
    "    # Mask let's you select for certain regions\n",
    "    color = ('b','g','r')\n",
    "    for i,col in enumerate(color):\n",
    "        histr = cv2.calcHist([bgr_img],[i],mask,[bins],[0,256])\n",
    "        plt.plot(histr, color=col)\n",
    "        plt.xlim([0,bins])\n",
    "    plt.show()\n",
    "\n",
    "def plot_hists_dict(hists):\n",
    "    for col,hist in hists.items():\n",
    "        plt.plot(hist, color=col)\n",
    "    plt.show()\n",
    "    \n",
    "def plot_bbs_from_rectLabel_annos(json_fpath, img_fpath):\n",
    "    bb_json = json.load(open(json_fpath, 'r'))\n",
    "    fig = plt.figure(figsize=FIGSIZE)\n",
    "    axes = plt.axes([0, 0.03, 1, 0.97])\n",
    "    \n",
    "    img = plt.imread(img_fpath)\n",
    "    imgplot = axes.imshow(img)\n",
    "\n",
    "    for box in bb_json['objects']:\n",
    "        label = box['label']\n",
    "        color = BOX_COLORS[label]\n",
    "        coords = box['x_y_w_h']\n",
    "        bb = Rectangle(\n",
    "            (coords[0],coords[1]), \n",
    "            coords[2], coords[3],\n",
    "            fill=False,\n",
    "            edgecolor=color,\n",
    "            linewidth=2)\n",
    "        axes.add_patch(bb)\n",
    "        \n",
    "def get_img_crops_from_rectLabel_bbs(img, json_fpath):\n",
    "    crops_dict = {}\n",
    "    bb_json = json.load(open(json_fpath, 'r'))\n",
    "    for box in bb_json['objects']:\n",
    "        label = box['label']\n",
    "        x,y,w,h = box['x_y_w_h']\n",
    "        crop = img[y:y+h,x:x+w,:]\n",
    "        if label not in crops_dict:\n",
    "            crops_dict[label] = []\n",
    "        crops_dict[label].append(crop)\n",
    "    return crops_dict\n",
    "\n",
    "def make_boxes(meta):\n",
    "    boxes = {}\n",
    "    for idx,row in meta.iterrows():\n",
    "        box = json.loads(row.to_json())\n",
    "        fname = row['filename']\n",
    "        if fname in boxes:\n",
    "            boxes[fname].append(box)\n",
    "        else:\n",
    "            boxes[fname] = [box]\n",
    "    return boxes\n",
    "\n",
    "def median_filter(mask, ksize=3, thresh=25):\n",
    "    median = cv2.medianBlur(mask, ksize)\n",
    "    return median\n",
    "\n",
    "def opening(img, ksize=(3,3)):\n",
    "    # Erode --> Dilate\n",
    "    erode_kernel = cv2.getStructuringElement(cv2.MORPH_ELLIPSE, ksize)\n",
    "    dilate_kernel = cv2.getStructuringElement(cv2.MORPH_ELLIPSE, ksize)\n",
    "    img = cv2.erode(img, erode_kernel, iterations = 1)\n",
    "    img = cv2.dilate(img, dilate_kernel, iterations = 1)\n",
    "    return img\n",
    "\n",
    "def closing(img, ksize=(3,3)):\n",
    "    # Dilate --> Erode\n",
    "    erode_kernel = cv2.getStructuringElement(cv2.MORPH_ELLIPSE, ksize)\n",
    "    dilate_kernel = cv2.getStructuringElement(cv2.MORPH_ELLIPSE, ksize)\n",
    "    img = cv2.dilate(img, dilate_kernel, iterations = 1)\n",
    "    img = cv2.erode(img, erode_kernel, iterations = 1)\n",
    "    return img\n",
    "\n",
    "def apply_bg_mask(fpaths, subtractor, limit=100, cleanup=None):\n",
    "    i = 0\n",
    "    masks = []\n",
    "    for fpath in fpaths:\n",
    "        img = load_cv2_img(fpath, colorspace=cv2.COLOR_BGR2RGB)\n",
    "        fgmask = subtractor.apply(img)\n",
    "        if cleanup == 'open':\n",
    "            fgmask = opening(fgmask)\n",
    "        elif cleanup == 'close':\n",
    "            fgmask = closing(fgmask)\n",
    "        elif cleanup == 'median':\n",
    "            fgmask = median_filter(fgmask)\n",
    "        fgmask[fgmask >= 2] = 255\n",
    "        fgmask[fgmask < 2] = 0\n",
    "        masks.append(fgmask)\n",
    "        if i > limit:\n",
    "            break\n",
    "        i+=1\n",
    "    return masks\n",
    "\n",
    "def get_masked_imgs(fpaths, masks):\n",
    "    imgs = []\n",
    "    for fpath, mask in zip(fpaths, masks):\n",
    "        img = load_cv2_img(fpath, colorspace=cv2.COLOR_BGR2RGB)\n",
    "        img[mask == 0] = 255\n",
    "        imgs.append(img)\n",
    "    return imgs\n",
    "\n",
    "def get_img_crop(img, x1, y1, x2, y2):\n",
    "    if len(img.shape) > 2:\n",
    "        return img[y1:y2,x1:x2,:]\n",
    "    return img[y1:y2,x1:x2]\n",
    "\n",
    "def plot_boxes(img, rects, title=\"boxes\", color=(255,255,255), thick=2, texts=None, gt_box=None):\n",
    "    font = cv2.FONT_HERSHEY_COMPLEX_SMALL\n",
    "    cv2.rectangle(img, (gt_box[0], gt_box[1]), (gt_box[2], gt_box[3]), (255,0,0), 1 )\n",
    "    for (x1, y1, x2, y2), text in zip(rects, texts):\n",
    "        cv2.rectangle(img, (x1, y1), (x2, y2), color, 1 )\n",
    "        cv2.putText(img, text, (x1,y1), font, 1, (255,255, 255), 1, cv2.LINE_AA)\n",
    "    plot_img(img, title=title)\n",
    "    \n",
    "    \n",
    "def get_genius_box(fname, gt_boxes):\n",
    "    \"\"\"\n",
    "    {'filename': 'volleyball_frame_00665.png',\n",
    "       'fpath': '../data/volleyball/images_subset/volleyball_frame_00665.png',\n",
    "       'label_id': 1,\n",
    "       'label_name': 'ball',\n",
    "       'x1': 45.5,\n",
    "       'x2': 64.5,\n",
    "       'y1': 175.0,\n",
    "       'y2': 195.0}\n",
    "       \"\"\"\n",
    "    bb = gt_boxes[fname][0]\n",
    "    coords = [bb['x1'],bb['y1'],bb['x2'],bb['y2']]\n",
    "    coords = [int(c) for c in coords]\n",
    "    return coords"
   ]
  },
  {
   "cell_type": "code",
   "execution_count": null,
   "metadata": {},
   "outputs": [],
   "source": [
    "metadata = pd.read_csv(metadata_fpath)\n",
    "metadata['label_name'] = 'ball'\n",
    "metadata['label_id'] = 1\n",
    "fnames = metadata['filename']\n",
    "fpaths = [os.path.join(IMG_DIR, f) for f in fnames]\n",
    "metadata['fpath'] = fpaths\n",
    "GT_BOXES = make_boxes(metadata)"
   ]
  },
  {
   "cell_type": "code",
   "execution_count": null,
   "metadata": {
    "scrolled": false
   },
   "outputs": [],
   "source": [
    "# There are 120 images with no box\n",
    "areas = []\n",
    "aspect_ratios = []\n",
    "for fname,fpath in zip(metadata['filename'], metadata['fpath']):\n",
    "    box = get_genius_box(fname, GT_BOXES)\n",
    "    w = box[2]-box[0]\n",
    "    h = box[3]-box[1]\n",
    "    areas.append(w*h)\n",
    "    if w*h == 0.0:\n",
    "        aspect_ratios.append(0.0)\n",
    "    else:\n",
    "        aspect_ratios.append(float(w)/h)\n",
    "#     if w*h == 0:\n",
    "#         print(box, fname)\n",
    "#         img = load_cv2_img(fpath, colorspace=cv2.COLOR_BGR2RGB)\n",
    "#         plot_img(img, fs=(10,10))"
   ]
  },
  {
   "cell_type": "markdown",
   "metadata": {},
   "source": [
    "## Background Subtraction"
   ]
  },
  {
   "cell_type": "code",
   "execution_count": null,
   "metadata": {},
   "outputs": [],
   "source": [
    "len(areas),len(metadata)\n",
    "areas = [area for area in areas if area > 0]\n",
    "aspects = [a for a in aspect_ratios if a > 0]\n",
    "mean = np.mean(np.array(areas))\n",
    "median = np.median(np.array(areas))\n",
    "mins = np.min(np.array(areas))\n",
    "maxs = np.max(np.array(areas))\n",
    "plt.hist(areas, bins=50)\n",
    "mean,median,mins,maxs"
   ]
  },
  {
   "cell_type": "code",
   "execution_count": null,
   "metadata": {},
   "outputs": [],
   "source": [
    "aspects = [a for a in aspect_ratios if a > 0]\n",
    "mean = np.mean(np.array(aspects))\n",
    "median = np.median(np.array(aspects))\n",
    "mins = np.min(np.array(aspects))\n",
    "maxs = np.max(np.array(aspects))\n",
    "plt.hist(aspects, bins=50)\n",
    "mean,median,mins,maxs"
   ]
  },
  {
   "cell_type": "markdown",
   "metadata": {},
   "source": [
    "* https://pdfs.semanticscholar.org/8a1f/27fd371eceb8654b735502b810d2094e420b.pdf\n",
    "* http://airccj.org/CSCP/vol7/csit76313.pdf\n",
    "* http://citeseerx.ist.psu.edu/viewdoc/download?doi=10.1.1.131.3661&rep=rep1&type=pdf\n",
    "* https://www.sciencedirect.com/science/article/pii/S2213020916300866\n",
    "* https://github.com/ITCoders/Human-detection-and-Tracking/blob/master/main.py\n",
    "* https://github.com/OpenPTrack/open_ptrack"
   ]
  },
  {
   "cell_type": "markdown",
   "metadata": {},
   "source": [
    "### Background Model"
   ]
  },
  {
   "cell_type": "code",
   "execution_count": null,
   "metadata": {},
   "outputs": [],
   "source": [
    "## KNN Subtraction seems to work better\n",
    "def segment_knn(fpaths, subtractor, kernel, plot_mask=True):\n",
    "    i = 0\n",
    "    for fpath in fpaths:\n",
    "        img = load_cv2_img(fpath, colorspace=cv2.COLOR_BGR2RGB)\n",
    "        fgmask = subtractor.apply(img)\n",
    "        #fgmask = cv2.morphologyEx(fgmask, cv2.MORPH_OPEN, kernel)\n",
    "        if plot_mask and i > 0 and i % 500 == 0:\n",
    "            plot_img(fgmask, fs=FIGSIZE, title=fpath)    \n",
    "        i+=1\n",
    "    return subtractor.getBackgroundImage()"
   ]
  },
  {
   "cell_type": "code",
   "execution_count": null,
   "metadata": {},
   "outputs": [],
   "source": [
    "kernel = cv2.getStructuringElement(cv2.MORPH_ELLIPSE,(3,3))\n",
    "knn_subtractor = cv2.createBackgroundSubtractorKNN()\n",
    "bg_img = segment_knn(metadata['fpath'], knn_subtractor, kernel, plot_mask=True)"
   ]
  },
  {
   "cell_type": "code",
   "execution_count": null,
   "metadata": {},
   "outputs": [],
   "source": [
    "# Median Filter\n",
    "# Clears out the Salt and pepper noise\n",
    "# https://docs.opencv.org/3.1.0/d4/d13/tutorial_py_filtering.html\n",
    "plot_img(bg_img, fs=FIGSIZE)\n",
    "median = cv2.medianBlur(bg_img, 5)\n",
    "plot_img(median, fs=FIGSIZE)"
   ]
  },
  {
   "cell_type": "markdown",
   "metadata": {},
   "source": [
    "### Extract Masks"
   ]
  },
  {
   "cell_type": "code",
   "execution_count": null,
   "metadata": {
    "scrolled": false
   },
   "outputs": [],
   "source": [
    "# Binary Mask\n",
    "plot_limit = 2\n",
    "binary_masks = apply_bg_mask(metadata['fpath'], knn_subtractor, limit=1320, cleanup='median')\n",
    "for m in binary_masks[:plot_limit]:\n",
    "    plot_img(m, title='knn (median filter)')"
   ]
  },
  {
   "cell_type": "code",
   "execution_count": null,
   "metadata": {
    "scrolled": false
   },
   "outputs": [],
   "source": [
    "# Color Masks\n",
    "color_masks = get_masked_imgs(metadata['fpath'], binary_masks)\n",
    "for m in color_masks[:plot_limit]:\n",
    "    plot_img(m, title='knn (median filter)')"
   ]
  },
  {
   "cell_type": "markdown",
   "metadata": {},
   "source": [
    "### Mask Cleanup"
   ]
  },
  {
   "cell_type": "code",
   "execution_count": null,
   "metadata": {},
   "outputs": [],
   "source": [
    "def cleanup_mask(mask, cleanup_type):\n",
    "    if cleanup_type == 'median':\n",
    "        return cv2.medianBlur(mask, ksize=9)\n",
    "    elif cleanup_type == 'gaussian':\n",
    "        return cv2.GaussianBlur(mask, ksize=(9,9), sigmaX=2)\n",
    "    elif cleanup_type == 'open':\n",
    "        return opening(mask, ksize=(7,7))\n",
    "    elif cleanup_type == 'close':\n",
    "        return opening(mask, ksize=(5,5))\n",
    "    else:\n",
    "        raise Exception(\"Cleanup type not found\")\n",
    "        \n",
    "def clean_masks(masks, cleanup_type):\n",
    "    for i,mask in enumerate(masks):\n",
    "        masks[i] = cleanup_mask(mask, cleanup_type)\n",
    "    return masks"
   ]
  },
  {
   "cell_type": "code",
   "execution_count": null,
   "metadata": {},
   "outputs": [],
   "source": [
    "clean_mask = cleanup_mask(binary_masks[0], 'median')\n",
    "plot_img(clean_mask)"
   ]
  },
  {
   "cell_type": "markdown",
   "metadata": {},
   "source": [
    "## Find Contours\n"
   ]
  },
  {
   "cell_type": "markdown",
   "metadata": {},
   "source": [
    "* https://docs.opencv.org/3.2.0/d0/d49/tutorial_moments.html\n",
    "* http://opencv-python-tutroals.readthedocs.io/en/latest/py_tutorials/py_imgproc/py_contours/py_contour_properties/py_contour_properties.html"
   ]
  },
  {
   "cell_type": "code",
   "execution_count": null,
   "metadata": {},
   "outputs": [],
   "source": [
    "def get_contours(binary_mask):\n",
    "    image, contours, hierarchy = cv2.findContours(binary_mask, cv2.RETR_TREE, cv2.CHAIN_APPROX_SIMPLE)\n",
    "    return contours\n",
    "\n",
    "def plot_contours(img, contours, color=(255,255,255), thick=2):\n",
    "    img = img.copy()\n",
    "    img = cv2.drawContours(img, contours, -1, color, thickness=thick)\n",
    "    plot_img(img)"
   ]
  },
  {
   "cell_type": "code",
   "execution_count": null,
   "metadata": {},
   "outputs": [],
   "source": [
    "idx = 1\n",
    "img = load_cv2_img(metadata['fpath'][idx], colorspace=cv2.COLOR_BGR2RGB)\n",
    "bm = binary_masks[idx].copy()\n",
    "cm = color_masks[idx].copy()\n",
    "contours = get_contours(bm)\n",
    "plot_contours(img, contours)\n",
    "plot_contours(bm, contours)"
   ]
  },
  {
   "cell_type": "markdown",
   "metadata": {},
   "source": [
    "## Color Matching"
   ]
  },
  {
   "cell_type": "code",
   "execution_count": null,
   "metadata": {},
   "outputs": [],
   "source": [
    "def box_area(b):\n",
    "    # x1,y1,x2,y2\n",
    "    w = b[2]-b[0]\n",
    "    h = b[3]-b[1]\n",
    "    return w * h\n",
    "    \n",
    "def box_iou(b1, b2):\n",
    "    # x1,y1,x2,y2\n",
    "    x1 = max(b1[0], b2[0]) \n",
    "    y1 = max(b1[1], b2[1]) \n",
    "    x2 = min(b1[2], b2[2]) \n",
    "    y2 = min(b1[3], b2[3])\n",
    "    if x2 <= x1 or y2 <= y1:\n",
    "        return 0.0\n",
    "    intersection = (x2-x1)*(y2-y1)\n",
    "    union = box_area(b1) + box_area(b2) - intersection\n",
    "    return intersection / union\n",
    "\n",
    "def get_crops(metadata, bbs, pad, crop_limit):\n",
    "    all_crops = []\n",
    "    for idx in range(len(metadata[:crop_limit])):\n",
    "        fname = metadata['filename'][idx]\n",
    "        fpath = metadata['fpath'][idx]\n",
    "        img = load_cv2_img(fpath, colorspace=cv2.COLOR_BGR2RGB)\n",
    "        bb = bbs[fname]\n",
    "        crops = get_crops_from_bbs(img, bb, pad)\n",
    "        all_crops.append(crops)\n",
    "    return all_crops\n",
    "\n",
    "def get_random_crops(fpaths, width, height, n_crops):\n",
    "    crops = []\n",
    "    for fpath in fpaths[:n_crops]:\n",
    "        img = load_cv2_img(fpath, colorspace=cv2.COLOR_BGR2RGB)\n",
    "        h,w,c = img.shape\n",
    "        x1 = random.randint(0, w-width)\n",
    "        x2 = x1 + width\n",
    "        y1 = random.randint(0, h-width)\n",
    "        y2 = y1 + height\n",
    "        crop = get_img_crop(img, x1, y1, x2, y2)\n",
    "        crops.append(crop)\n",
    "    return crops\n",
    "\n",
    "def get_valid_crops(crops):\n",
    "    valid_crops = []\n",
    "    for crop in crops:\n",
    "        h,w,c = crop[0].shape\n",
    "        if h > 1 and w > 1:\n",
    "            valid_crops.append(crop[0])\n",
    "    return valid_crops\n",
    "\n",
    "def get_box_crops(fpaths, boxes, colorspace=cv2.COLOR_BGR2HSV):\n",
    "    crops = []\n",
    "    for fpath,box in zip(fpaths, boxes):\n",
    "        img = load_cv2_img(fpath, colorspace=colorspace)\n",
    "        if box_area(box) > 0:\n",
    "            x1,y1,x2,y2 = box\n",
    "            crop = get_img_crop(img, x1, y1, x2, y2)\n",
    "            crops.append(crop)\n",
    "    return crops\n",
    "\n",
    "def get_norm_hue_hist(img, bins, mask=None):\n",
    "    img_hist = cv2.calcHist(\n",
    "        img, [0], mask, [bins], \n",
    "        [0, 256])\n",
    "    img_hist = img_hist.flatten()\n",
    "    img_hist = img_hist / np.linalg.norm(img_hist)\n",
    "    return img_hist\n",
    "\n",
    "def get_hist_of_box(img, box, bins):\n",
    "    x1,y1,x2,y2 = box\n",
    "    crop = get_img_crop(img, x1, y1, x2, y2)\n",
    "    color = cv2.mean(crop)\n",
    "    hist = get_color_hist(crop, bins=bins)\n",
    "    hist_dict = get_color_hist_dict(crop, bins=bins, mask=None)\n",
    "    return hist, hist_dict, color\n",
    "\n",
    "def get_avg_hist_of_imgs(imgs, bins):\n",
    "    chans = get_flattened_channels(imgs)\n",
    "    hists = []\n",
    "    for i in range(len(chans[0])):\n",
    "        hist, bins = np.histogram(chans[:,i], bins, [0,256])\n",
    "        hists.append(hist)\n",
    "    return hists\n",
    "\n",
    "from scipy.spatial import distance as dist\n",
    "SCIPY_METHODS = (\n",
    "    (\"Euclidean\", dist.euclidean),\n",
    "    (\"Manhattan\", dist.cityblock),\n",
    "    (\"Chebysev\", dist.chebyshev))\n",
    "\n",
    "def get_hist_similarity(img, base_hist):\n",
    "    results = {name:[] for name,_ in SCIPY_METHODS}\n",
    "    img_hist = cv2.calcHist(\n",
    "        img, [0], None, [len(base_hist)], \n",
    "        [0, 256])\n",
    "    img_hist = img_hist.flatten()\n",
    "    img_hist = img_hist / np.linalg.norm(img_hist)\n",
    "    for methodName, method in SCIPY_METHODS:\n",
    "        d = method(img_hist, base_hist)\n",
    "        results[methodName].append(d)\n",
    "    return results\n",
    "\n",
    "def get_manhattan(hist, base_hist):\n",
    "    return dist.cityblock(hist, base_hist)\n",
    "\n",
    "def compare_img_hist_to_baseline(imgs, base_hist, bins):\n",
    "    results = {name:[] for name,_ in SCIPY_METHODS}\n",
    "    for img in imgs:\n",
    "        img_hist = cv2.calcHist(\n",
    "            img, [0], None, [bins], \n",
    "            [0, 256])\n",
    "        img_hist = img_hist.flatten()\n",
    "        img_hist = img_hist / np.linalg.norm(img_hist)\n",
    "        for methodName, method in SCIPY_METHODS:\n",
    "            d = method(img_hist, base_hist)\n",
    "            results[methodName].append(d)\n",
    "    return results"
   ]
  },
  {
   "cell_type": "code",
   "execution_count": null,
   "metadata": {},
   "outputs": [],
   "source": [
    "bins = 10\n",
    "gt_boxes = [get_genius_box(f, GT_BOXES) for f in metadata['filename']]\n",
    "ball_crops = get_box_crops(metadata['fpath'], gt_boxes[:])"
   ]
  },
  {
   "cell_type": "code",
   "execution_count": null,
   "metadata": {},
   "outputs": [],
   "source": [
    "avg_ball_hist = get_avg_hist_of_imgs(ball_crops, bins=bins)\n",
    "plot_hists(avg_ball_hist)\n",
    "comb_hist = cv2.calcHist(\n",
    "    ball_crops, [0, 1, 2], None, [bins, bins, bins], \n",
    "    [0, 256, 0, 256, 0, 256])\n",
    "avg_ball_norm_hist = cv2.normalize(comb_hist, comb_hist).flatten()\n",
    "plt.plot(avg_ball_norm_hist)"
   ]
  },
  {
   "cell_type": "code",
   "execution_count": null,
   "metadata": {},
   "outputs": [],
   "source": [
    "# Avg Hue is yellowish!\n",
    "# http://hslpicker.com/#ffb300\n",
    "avg_ball_hue_hist = avg_ball_hist[0]\n",
    "avg_ball_hue_hist = avg_ball_hue_hist / np.linalg.norm(avg_ball_hue_hist)\n",
    "plot_hists([avg_ball_hue_hist])"
   ]
  },
  {
   "cell_type": "code",
   "execution_count": null,
   "metadata": {},
   "outputs": [],
   "source": [
    "rand_crops = get_random_crops(metadata['fpath'], 20, 20, n_crops=1000)"
   ]
  },
  {
   "cell_type": "code",
   "execution_count": null,
   "metadata": {},
   "outputs": [],
   "source": [
    "bins = 10\n",
    "avg_rand_hist = get_avg_hist_of_imgs(rand_crops, bins=bins)\n",
    "plot_hists(avg_rand_hist)\n",
    "comb_hist = cv2.calcHist(\n",
    "    rand_crops, [0, 1, 2], None, [bins, bins, bins], \n",
    "    [0, 256, 0, 256, 0, 256])\n",
    "avg_rand_norm_hist = cv2.normalize(comb_hist, comb_hist).flatten()\n",
    "plt.plot(avg_rand_norm_hist)"
   ]
  },
  {
   "cell_type": "code",
   "execution_count": null,
   "metadata": {},
   "outputs": [],
   "source": [
    "# Avg Hue\n",
    "avg_rand_hue_hist = avg_rand_hist[0]\n",
    "avg_rand_hue_hist = avg_rand_hue_hist / np.linalg.norm(avg_rand_hue_hist)\n",
    "plot_hists([avg_rand_hue_hist])"
   ]
  },
  {
   "cell_type": "code",
   "execution_count": null,
   "metadata": {},
   "outputs": [],
   "source": [
    "plot_hists(avg_ball_hist, title=\"Ball Histogram\")\n",
    "plot_hists(avg_rand_hist, title=\"Random Histogram\")\n",
    "plt.plot(avg_ball_norm_hist, color='g')#, title=\"Ball Histogram (Norm)\")\n",
    "plt.plot(avg_rand_norm_hist, color='r')#, title=\"Random Histogram (Norm)\")"
   ]
  },
  {
   "cell_type": "code",
   "execution_count": null,
   "metadata": {},
   "outputs": [],
   "source": [
    "get_hist_similarity(ball_crops[0], avg_ball_hue_hist)"
   ]
  },
  {
   "cell_type": "code",
   "execution_count": null,
   "metadata": {},
   "outputs": [],
   "source": [
    "ball_ball_results = compare_img_hist_to_baseline(ball_crops, avg_ball_hue_hist, bins=bins)\n",
    "ball_rand_results = compare_img_hist_to_baseline(ball_crops, avg_rand_hue_hist, bins=bins)"
   ]
  },
  {
   "cell_type": "code",
   "execution_count": null,
   "metadata": {},
   "outputs": [],
   "source": [
    "rand_rand_results = compare_img_hist_to_baseline(rand_crops, avg_rand_hue_hist, bins=bins)\n",
    "rand_ball_results = compare_img_hist_to_baseline(rand_crops, avg_ball_hue_hist, bins=bins)"
   ]
  },
  {
   "cell_type": "code",
   "execution_count": null,
   "metadata": {
    "scrolled": false
   },
   "outputs": [],
   "source": [
    "print(\"BALL BALL\")\n",
    "for key, vals in ball_ball_results.items():\n",
    "    title = key +  \": Mean: \" + str(round(np.mean(vals),3)) +  \" Median:\" + str(round(np.median(vals),3))\n",
    "    print(title)\n",
    "    plt.plot(vals)\n",
    "    plt.title(title)\n",
    "\n",
    "print(\"RAND BALL\")\n",
    "for key, vals in rand_ball_results.items():\n",
    "    title = key +  \": Mean: \" + str(round(np.mean(vals),3)) +  \" Median:\" + str(round(np.median(vals),3))\n",
    "    print(title)\n",
    "    plt.plot(vals)\n",
    "    plt.title(title)"
   ]
  },
  {
   "cell_type": "markdown",
   "metadata": {},
   "source": [
    "## Extract Ball Candidates"
   ]
  },
  {
   "cell_type": "code",
   "execution_count": null,
   "metadata": {},
   "outputs": [],
   "source": [
    "def filter_contours(contours, binary_mask, color_mask, img):\n",
    "    cntrs = []\n",
    "    bbs = []\n",
    "    color_means = []\n",
    "    color_hists = []\n",
    "    diameters = []\n",
    "    areas = []\n",
    "    circularities = []\n",
    "    aspects = []\n",
    "    hist_sims = []\n",
    "    for cnt in contours:\n",
    "        valid = True\n",
    "        x,y,w,h = cv2.boundingRect(cnt)\n",
    "        aspect_ratio = float(w)/h\n",
    "\n",
    "        # Let's store color information\n",
    "        mask = np.zeros(binary_mask.shape, np.uint8)\n",
    "        cv2.drawContours(mask, [cnt], 0, 255, -1)\n",
    "        color = cv2.mean(img, mask = mask)\n",
    "\n",
    "        # We assume ball box needs to be square-ish\n",
    "        if aspect_ratio > 1.5 or aspect_ratio < .6:\n",
    "            valid = False\n",
    "                    \n",
    "        # We assume the ball area needs to be < 2000 pixels \n",
    "        # Ball areas are between 200 and 1500 based on gt boxes\n",
    "        #area = w*h\n",
    "        area = cv2.contourArea(cnt)\n",
    "        if area < 250 or area > 1200:\n",
    "            valid = False\n",
    "        \n",
    "        equi_diameter = np.sqrt(4*area/np.pi)\n",
    "        perimeter = cv2.arcLength(cnt, True)\n",
    "        \n",
    "        if perimeter > 0.1:\n",
    "            circularity = (4*np.pi*area) / (perimeter*perimeter)\n",
    "        else:\n",
    "            circularity = 0.0\n",
    "        \n",
    "        if circularity < 0.3:\n",
    "            valid = False\n",
    "                \n",
    "        if valid:\n",
    "            # Let's get Hue Histogram\n",
    "            x,y,w,h = cv2.boundingRect(cnt)\n",
    "            x1,y1,x2,y2 = x,y,x+w,y+h\n",
    "            crop = get_img_crop(img, x1,y1,x2,y2)\n",
    "            hist = get_norm_hue_hist(crop, bins)\n",
    "            hist_sim = get_manhattan(hist, avg_ball_hue_hist)\n",
    "\n",
    "            if hist_sim < 2.5:\n",
    "                bbs.append((x,y,x+w,y+h))\n",
    "                cntrs.append(cnt)\n",
    "                color_means.append(color)\n",
    "                color_hists.append(hist)\n",
    "                diameters.append(equi_diameter)\n",
    "                areas.append(area)\n",
    "                circularities.append(circularity)\n",
    "                aspects.append(aspect_ratio)\n",
    "                hist_sims.append(hist_sim)\n",
    "            \n",
    "    return cntrs, bbs, color_hists, color_means, diameters, areas, circularities, aspects, hist_sims"
   ]
  },
  {
   "cell_type": "code",
   "execution_count": null,
   "metadata": {},
   "outputs": [],
   "source": [
    "img = load_cv2_img(metadata['fpath'][idx], colorspace=cv2.COLOR_BGR2RGB)\n",
    "bm = binary_masks[idx].copy()\n",
    "cm = color_masks[idx].copy()\n",
    "cntrs, bbs, color_hists, color_means, diameters, areas, circularities, aspects, hist_sims = filter_contours(\n",
    "    contours, bm, cm, img)"
   ]
  },
  {
   "cell_type": "code",
   "execution_count": null,
   "metadata": {},
   "outputs": [],
   "source": [
    "#idxs = [random.randint(0,len(binary_masks)-1) for i in range(200)]\n",
    "#idxs = [i for i in range(len(binary_masks)) if i % 5 == 0]\n",
    "idxs = [i for i in range(len(binary_masks))]\n",
    "print(len(idxs))\n",
    "matches = []\n",
    "no_matches = []\n",
    "no_boxes = []\n",
    "candidates = []\n",
    "found = 0\n",
    "no_box = 0\n",
    "no_match = 0\n",
    "for idx in idxs:\n",
    "    match_found = False\n",
    "    fname = metadata['filename'][idx]\n",
    "    gt_box = get_genius_box(fname, GT_BOXES)\n",
    "    img = load_cv2_img(metadata['fpath'][idx], colorspace=cv2.COLOR_BGR2HSV)\n",
    "    bm = binary_masks[idx].copy()\n",
    "    cm = color_masks[idx].copy()\n",
    "    contours = get_contours(bm)\n",
    "    cntrs, bbs, color_hists, color_means, diameters, areas, circularities, aspects,hist_sims = filter_contours(\n",
    "        contours, bm, cm, img)\n",
    "    texts = []\n",
    "    sub_candidate = []\n",
    "    for ctr, bb, hist, col, dia, area, cir, asp,hist_sim in zip(\n",
    "        cntrs, bbs, color_hists, color_means, \n",
    "        diameters, areas, circularities, aspects,hist_sims):\n",
    "        dia = round(dia, 2)\n",
    "        area = round(area, 2)\n",
    "        cir = round(cir, 2)\n",
    "        asp = round(asp, 2)\n",
    "        bb_iou = box_iou(bb, gt_box)\n",
    "        text = '{:.2f}'.format(bb_iou)\n",
    "        \n",
    "        crop = get_img_crop(img, bb[0],bb[1],bb[2],bb[3])\n",
    "        hist_sim = get_hist_similarity(crop, avg_ball_hue_hist)\n",
    "\n",
    "        if bb_iou > .0:\n",
    "            match_found = True\n",
    "            sub_status = 'match'\n",
    "            found += 1\n",
    "        else:\n",
    "            sub_status = 'no_match'\n",
    "            no_match += 1\n",
    "        sub_candidate.append({\n",
    "            'bb':bb,\n",
    "            'diameter':dia,\n",
    "            'area':area,\n",
    "            'circle': cir,\n",
    "            'aspect':asp,\n",
    "            'iou':bb_iou,\n",
    "            'color':col,\n",
    "            'hist':hist,\n",
    "            'hist_sim':hist_sim,\n",
    "            'status':sub_status,\n",
    "            'text':text\n",
    "        })\n",
    "        \n",
    "    if box_area(gt_box) == 0:\n",
    "        status = 'no_box'\n",
    "        no_box += 1\n",
    "    elif match_found:\n",
    "        status = 'match'\n",
    "    else:\n",
    "        status = 'no_match'\n",
    "        \n",
    "    candidates.append([fname, status, gt_box, sub_candidate])\n",
    "    #plot_boxes(img, bbs, color=(0,255,0), thick=3, texts=texts, gt_box=gt_box)"
   ]
  },
  {
   "cell_type": "code",
   "execution_count": null,
   "metadata": {},
   "outputs": [],
   "source": [
    "total = len(idxs)\n",
    "no_box = len([b for b in gt_boxes if np.sum(b) == 0])\n",
    "missed = len(idxs)-found-no_box\n",
    "print(\"TP:\", found, \"FP:\", no_match, \"FN:\", missed, \"Precision:\", found/(total-no_box))"
   ]
  },
  {
   "cell_type": "code",
   "execution_count": 79,
   "metadata": {
    "scrolled": false
   },
   "outputs": [],
   "source": [
    "circles = {'match':[], 'no_match':[]}\n",
    "areas = {'match':[], 'no_match':[]}\n",
    "colors = {'match':[], 'no_match':[]}\n",
    "aspects = {'match':[], 'no_match':[]}\n",
    "chebysev = {'match':[], 'no_match':[]}\n",
    "manhattan = {'match':[], 'no_match':[]}\n",
    "euclidean = {'match':[], 'no_match':[]}\n",
    "\n",
    "for candidate in candidates:\n",
    "    fname,status,gt_bb,sub_cands = candidate\n",
    "    fpath = Path(IMG_DIR, fname)\n",
    "    img = load_cv2_img(str(fpath), colorspace=cv2.COLOR_BGR2RGB)\n",
    "    if status == 'match':\n",
    "        for sub_cand in sub_cands:\n",
    "            bb = sub_cand['bb']\n",
    "            sub_status = sub_cand['status']\n",
    "            circles[sub_status].append(sub_cand['circle'])\n",
    "            areas[sub_status].append(sub_cand['area'])\n",
    "            colors[sub_status].append(sub_cand['color'][0])\n",
    "            aspects[sub_status].append(sub_cand['aspect'])\n",
    "            chebysev[sub_status].append(sub_cand['hist_sim']['Chebysev'])\n",
    "            manhattan[sub_status].append(sub_cand['hist_sim']['Manhattan'])\n",
    "            euclidean[sub_status].append(sub_cand['hist_sim']['Euclidean'])\n",
    "            if sub_status == 'match':\n",
    "                pass\n",
    "                #plot_hists([sub_cand['hist'], avg_ball_hue_hist])\n",
    "                #plot_boxes(img.copy(), [bb], gt_box=gt_bb, texts=[sub_cand['text']], title=\"match\")\n",
    "            elif sub_status == 'no_match':\n",
    "                pass"
   ]
  },
  {
   "cell_type": "code",
   "execution_count": null,
   "metadata": {
    "scrolled": false
   },
   "outputs": [],
   "source": [
    "for metric in [('area',areas), ('cir',circles), ('asp',aspects), \n",
    "               ('cheb',chebysev), ('manhat',manhattan), ('euclid',euclidean), ('col',colors)]:\n",
    "    m = metric[1]['match']\n",
    "    m2 = metric[1]['no_match']\n",
    "    mean = np.mean(np.array(m))\n",
    "    median = np.median(np.array(m))\n",
    "    mins = np.min(np.array(m))\n",
    "    maxs = np.max(np.array(m))\n",
    "    vals,b = np.histogram([m])\n",
    "    print(\"Match\", metric[0], \"Mean\", mean, \"Median\", median, \"Min\", mins, \"Max\", maxs)\n",
    "    mean = np.mean(np.array(m2))\n",
    "    median = np.median(np.array(m2))\n",
    "    mins = np.min(np.array(m2))\n",
    "    maxs = np.max(np.array(m2))\n",
    "    \n",
    "    print(\"No Match\", metric[0], \"Mean\", mean, \"Median\", median, \"Min\", mins, \"Max\", maxs)\n",
    "    \n",
    "    vals2,b2 = np.histogram([m2])\n",
    "#     img_hist = img_hist.flatten()\n",
    "#     img_hist = img_hist / np.linalg.norm(img_hist)\n",
    "    plt.plot(b[:-1], vals/len(vals), color='g')\n",
    "    plt.plot(b2[:-1], vals2/len(vals2), color='b')\n",
    "    plt.title(metric[0])\n",
    "    plt.show()\n",
    "        "
   ]
  },
  {
   "cell_type": "markdown",
   "metadata": {},
   "source": [
    "### Image Moments (centroid)"
   ]
  },
  {
   "cell_type": "markdown",
   "metadata": {},
   "source": [
    "* https://en.wikipedia.org/wiki/Image_moment\n",
    "* https://docs.opencv.org/3.1.0/dd/d49/tutorial_py_contour_features.html"
   ]
  },
  {
   "cell_type": "code",
   "execution_count": null,
   "metadata": {},
   "outputs": [],
   "source": [
    "def get_moments(contours):\n",
    "    moments = []\n",
    "    for c in cntrs:\n",
    "        M = cv2.moments(c)\n",
    "        moments.append(M)\n",
    "    return moments\n",
    "\n",
    "def plot_moments(color_mask, moments):\n",
    "    color_mask = color_mask.copy()\n",
    "    for M in moments:\n",
    "        if M[\"m00\"] > 0.0:\n",
    "            cX = int(M[\"m10\"] / M[\"m00\"])\n",
    "            cY = int(M[\"m01\"] / M[\"m00\"])\n",
    "            cv2.circle(color_mask, (cX, cY), 7, (0, 255, 0), -1)\n",
    "    plot_img(color_mask)    \n",
    "    \n",
    "def get_moment_centers(moments):\n",
    "    centers = []\n",
    "    for M in moments:\n",
    "        if M[\"m00\"] > 0.0:\n",
    "            cX = int(M[\"m10\"] / M[\"m00\"])\n",
    "            cY = int(M[\"m01\"] / M[\"m00\"])\n",
    "            centers.append([cX,cY])\n",
    "    return centers\n",
    "\n",
    "def plot_centers(img, centers):\n",
    "    img = img.copy()\n",
    "    for C in centers:\n",
    "        x,y, = C\n",
    "        cv2.circle(img, (x, y), 7, (0, 255, 0), -1)\n",
    "    plot_img(img)"
   ]
  },
  {
   "cell_type": "code",
   "execution_count": null,
   "metadata": {
    "scrolled": false
   },
   "outputs": [],
   "source": [
    "img = load_cv2_img(metadata['fpath'][idx], colorspace=cv2.COLOR_BGR2RGB)\n",
    "moments = get_moments(cntrs)\n",
    "centers = get_moment_centers(moments)\n",
    "plot_centers(img, centers)"
   ]
  },
  {
   "cell_type": "markdown",
   "metadata": {},
   "source": [
    "## Track Ball"
   ]
  },
  {
   "cell_type": "code",
   "execution_count": null,
   "metadata": {},
   "outputs": [],
   "source": [
    "def train_subtractor(fpaths):\n",
    "    kernel = cv2.getStructuringElement(cv2.MORPH_ELLIPSE,(3,3))\n",
    "    knn_subtractor = cv2.createBackgroundSubtractorKNN()\n",
    "    bg_img = segment_knn(metadata['fpath'], knn_subtractor, kernel, plot_mask=False)\n",
    "    return bg_img, knn_subtractor"
   ]
  },
  {
   "cell_type": "code",
   "execution_count": null,
   "metadata": {},
   "outputs": [],
   "source": [
    "img_fpaths = metadata['fpath']\n",
    "bg_img, subtractor = train_subtractor(fpaths)\n",
    "binary_masks = apply_bg_mask(img_fpaths, subtractor, limit=1400, cleanup='median')\n",
    "color_masks = get_masked_imgs(img_fpaths, binary_masks)\n",
    "len(binary_masks), len(color_masks)"
   ]
  },
  {
   "cell_type": "code",
   "execution_count": null,
   "metadata": {},
   "outputs": [],
   "source": [
    "binary_masks = clean_masks(binary_masks, 'median')\n",
    "color_masks = clean_masks(color_masks, 'median')"
   ]
  },
  {
   "cell_type": "code",
   "execution_count": null,
   "metadata": {
    "scrolled": false
   },
   "outputs": [],
   "source": [
    "all_contours = []\n",
    "all_bbs = []\n",
    "for fpath, bm, cm in zip(fpaths, binary_masks, color_masks):\n",
    "    ctrs = get_contours(bm)\n",
    "    ctrs, bbs, color_hists, color_means, diameters, areas, circularities, aspects, hist_sims = filter_contours(ctrs, bm, cm, img)\n",
    "    all_contours.append(ctrs)\n",
    "    all_bbs.append(bbs)"
   ]
  },
  {
   "cell_type": "code",
   "execution_count": null,
   "metadata": {},
   "outputs": [],
   "source": [
    "def get_tracked_imgs(fpaths, binary_masks, color_masks, all_bbs):\n",
    "    imgs = []\n",
    "    for fpath, bm, cm, bbs in zip(fpaths, binary_masks, color_masks, all_bbs):\n",
    "        img = load_cv2_img(fpath, colorspace=cv2.COLOR_BGR2RGB)\n",
    "        for (x1, y1, x2, y2) in bbs:\n",
    "            cv2.rectangle(img, (x1, y1), (x2, y2), (0,255,0), thickness=2)\n",
    "        imgs.append(img)\n",
    "    return imgs"
   ]
  },
  {
   "cell_type": "code",
   "execution_count": null,
   "metadata": {
    "scrolled": false
   },
   "outputs": [],
   "source": [
    "tracked_imgs = get_tracked_imgs(fpaths, binary_masks, color_masks, all_bbs)"
   ]
  },
  {
   "cell_type": "code",
   "execution_count": null,
   "metadata": {},
   "outputs": [],
   "source": [
    "len(tracked_imgs)"
   ]
  },
  {
   "cell_type": "markdown",
   "metadata": {},
   "source": [
    "## Animation"
   ]
  },
  {
   "cell_type": "code",
   "execution_count": null,
   "metadata": {},
   "outputs": [],
   "source": [
    "fig = plt.figure()\n",
    "axes = plt.axes([0, 0.03, 1, 0.97])\n",
    "img = tracked_imgs[0]\n",
    "imgplot = axes.imshow(img, animated=True)\n",
    "def init():\n",
    "    return (imgplot,)\n",
    "\n",
    "def animate(img):\n",
    "    imgplot.set_array(img)\n",
    "    return (imgplot,)\n",
    "\n",
    "anim = animation.FuncAnimation(fig, animate, init_func=init,\n",
    "                               frames=tracked_imgs, interval=30, blit=True)"
   ]
  },
  {
   "cell_type": "code",
   "execution_count": null,
   "metadata": {},
   "outputs": [],
   "source": [
    "# ~1 minute to generate\n",
    "HTML(anim.to_html5_video())"
   ]
  },
  {
   "cell_type": "markdown",
   "metadata": {},
   "source": [
    "## Save Video"
   ]
  },
  {
   "cell_type": "code",
   "execution_count": null,
   "metadata": {},
   "outputs": [],
   "source": [
    "from pathlib import Path\n",
    "frames = tracked_imgs\n",
    "frame1 = frames[0]\n",
    "\n",
    "scale = 1.0\n",
    "height, width, _ = frame1.shape\n",
    "height = int(height * scale)\n",
    "width = int(width * scale)\n",
    "print(height, width)\n",
    "\n",
    "outdir = Path(DATA_DIR, 'ball_tracking')\n",
    "outdir.mkdir(exist_ok=True)\n",
    "outfpath = str(Path(outdir, 'back_subtract.avi'))"
   ]
  },
  {
   "cell_type": "code",
   "execution_count": null,
   "metadata": {},
   "outputs": [],
   "source": [
    "writer = cv2.VideoWriter(outfpath, cv2.VideoWriter_fourcc(*\"MJPG\"), 20, (width, height))\n",
    "#CV_CAP_PROP_CONVERT_RGB\n",
    "\n",
    "for frame in frames:\n",
    "    frame = cv2.resize(frame, (width, height), interpolation = cv2.INTER_CUBIC)\n",
    "    writer.write(frame.astype('uint8'))\n",
    "\n",
    "writer.release()"
   ]
  },
  {
   "cell_type": "markdown",
   "metadata": {},
   "source": [
    "## Links"
   ]
  },
  {
   "cell_type": "markdown",
   "metadata": {},
   "source": [
    "* https://github.com/abhineet123/MTF\n",
    "* http://cvlab.hanyang.ac.kr/tracker_benchmark/index.html\n",
    "* https://docs.opencv.org/2.4/modules/objdetect/doc/latent_svm.html\n",
    "* https://www.pyimagesearch.com/2014/11/17/non-maximum-suppression-object-detection-python\n",
    "* https://www.pyimagesearch.com/2015/11/16/hog-detectmultiscale-parameters-explained/\n",
    "* http://lear.inrialpes.fr/people/triggs/pubs/Dalal-cvpr05.pdf\n",
    "* http://mccormickml.com/2013/05/09/hog-person-detector-tutorial/\n",
    "* https://www.learnopencv.com/histogram-of-oriented-gradients/\n",
    "* https://stackoverflow.com/questions/34985196/opencv-using-svm-and-hog-for-person-detection\n",
    "* https://www.pyimagesearch.com/2015/11/09/pedestrian-detection-opencv/"
   ]
  },
  {
   "cell_type": "code",
   "execution_count": null,
   "metadata": {},
   "outputs": [],
   "source": []
  }
 ],
 "metadata": {
  "kernelspec": {
   "display_name": "Python 3",
   "language": "python",
   "name": "python3"
  },
  "language_info": {
   "codemirror_mode": {
    "name": "ipython",
    "version": 3
   },
   "file_extension": ".py",
   "mimetype": "text/x-python",
   "name": "python",
   "nbconvert_exporter": "python",
   "pygments_lexer": "ipython3",
   "version": "3.6.4"
  },
  "latex_envs": {
   "LaTeX_envs_menu_present": true,
   "autocomplete": true,
   "bibliofile": "biblio.bib",
   "cite_by": "apalike",
   "current_citInitial": 1,
   "eqLabelWithNumbers": true,
   "eqNumInitial": 1,
   "hotkeys": {
    "equation": "Ctrl-E",
    "itemize": "Ctrl-I"
   },
   "labels_anchors": false,
   "latex_user_defs": false,
   "report_style_numbering": false,
   "user_envs_cfg": false
  },
  "toc": {
   "colors": {
    "hover_highlight": "#DAA520",
    "navigate_num": "#000000",
    "navigate_text": "#333333",
    "running_highlight": "#FF0000",
    "selected_highlight": "#FFD700",
    "sidebar_border": "#EEEEEE",
    "wrapper_background": "#FFFFFF"
   },
   "moveMenuLeft": true,
   "nav_menu": {
    "height": "111px",
    "width": "253px"
   },
   "navigate_menu": true,
   "number_sections": true,
   "sideBar": true,
   "skip_h1_title": false,
   "threshold": 4,
   "toc_cell": false,
   "toc_position": {},
   "toc_section_display": "block",
   "toc_window_display": false,
   "widenNotebook": false
  }
 },
 "nbformat": 4,
 "nbformat_minor": 2
}
