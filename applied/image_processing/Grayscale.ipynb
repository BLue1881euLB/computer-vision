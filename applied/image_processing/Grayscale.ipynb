{
 "cells": [
  {
   "cell_type": "markdown",
   "metadata": {},
   "source": [
    "## Grayscale"
   ]
  },
  {
   "cell_type": "code",
   "execution_count": 7,
   "metadata": {},
   "outputs": [
    {
     "name": "stdout",
     "output_type": "stream",
     "text": [
      "The autoreload extension is already loaded. To reload it, use:\n",
      "  %reload_ext autoreload\n"
     ]
    }
   ],
   "source": [
    "%matplotlib inline\n",
    "%load_ext autoreload\n",
    "%autoreload 2\n",
    "import sys\n",
    "import os\n",
    "p = os.path.join(os.path.dirname('__file__'), '..')\n",
    "sys.path.append(p)\n",
    "from common import *"
   ]
  },
  {
   "cell_type": "markdown",
   "metadata": {},
   "source": [
    "## Dataset"
   ]
  },
  {
   "cell_type": "code",
   "execution_count": 16,
   "metadata": {},
   "outputs": [],
   "source": [
    "IMG_DIR = '../../data/segmentation/'\n",
    "fpaths, fnames = utils.files.get_paths_to_files(IMG_DIR, file_ext=c.JPG)\n",
    "img_arrs = {\n",
    "    fnames[i]: utils.imgs.load_img_as_arr(fpaths[i]) for i in range(len(fpaths))\n",
    "}"
   ]
  },
  {
   "cell_type": "markdown",
   "metadata": {},
   "source": [
    "## Convert RGB to Grayscale\n",
    "\n",
    "Three ways:\n",
    "\n",
    "1. Lightness\n",
    "    * Average most prominant and least prominant channel\n",
    "2. Average\n",
    "    * Average 3 channels\n",
    "3. Luminosity\n",
    "    * Weighted average to better cater to human eyesight"
   ]
  },
  {
   "cell_type": "code",
   "execution_count": null,
   "metadata": {
    "collapsed": true
   },
   "outputs": [],
   "source": [
    "def lightness_gray(img_arr):\n",
    "    \"\"\"Average most prominant and least prominant channel\n",
    "    \n",
    "    Formula:\n",
    "        (max(R, G, B) + min(R, G, B)) / 2\n",
    "    \"\"\"\n",
    "    max_chan = np.max(img_arr, axis=2)\n",
    "    min_chan = np.min(img_arr, axis=2)\n",
    "    return np.mean(img_arr, axis=2)\n",
    "    \n",
    "def average_gray(img_arr):\n",
    "    \"\"\"Average of 3 channels\n",
    "    \n",
    "    Formula:\n",
    "        (R + G + B) / 3\n",
    "    \"\"\"\n",
    "    return np.mean(img_arr, axis=2)\n",
    "\n",
    "def luminosity_gray(img_arr):\n",
    "    \"\"\"Weighted average to better cater to human eyesight\n",
    "    \n",
    "    Formula:\n",
    "        .21R + .72G + .07B\n",
    "    \"\"\"\n",
    "    weights = np.array([.21, .72, .07])\n",
    "    return np.average(img_arr, 2, weights)\n",
    "    \n",
    "# OpenCV\n",
    "def opencv_gray(img_arr):\n",
    "    return cv2.cvtColor(img_arr, cv2.COLOR_BGR2GRAY)\n"
   ]
  },
  {
   "cell_type": "code",
   "execution_count": null,
   "metadata": {},
   "outputs": [],
   "source": [
    "img = img_arrs['carvana.jpg']\n",
    "utils.imgs.plot_arr(img, title='RGB')\n",
    "utils.imgs.plot_arr(lightness_gray(img), title='Lightness')\n",
    "utils.imgs.plot_arr(average_gray(img), title='Average')\n",
    "utils.imgs.plot_arr(luminosity_gray(img), title='Luminosity')\n",
    "utils.imgs.plot_arr(opencv_gray(img), title='OpenCV')"
   ]
  },
  {
   "cell_type": "markdown",
   "metadata": {},
   "source": [
    "## Sources"
   ]
  },
  {
   "cell_type": "markdown",
   "metadata": {},
   "source": [
    "* https://en.wikipedia.org/wiki/Grayscale\n",
    "* https://www.johndcook.com/blog/2009/08/24/algorithms-convert-color-grayscale/\n",
    "* https://www.johndcook.com/blog/2009/08/24/more-on-colors-and-grayscale/"
   ]
  },
  {
   "cell_type": "code",
   "execution_count": null,
   "metadata": {
    "collapsed": true
   },
   "outputs": [],
   "source": []
  }
 ],
 "metadata": {
  "kernelspec": {
   "display_name": "Python 3",
   "language": "python",
   "name": "python3"
  },
  "language_info": {
   "codemirror_mode": {
    "name": "ipython",
    "version": 3
   },
   "file_extension": ".py",
   "mimetype": "text/x-python",
   "name": "python",
   "nbconvert_exporter": "python",
   "pygments_lexer": "ipython3",
   "version": "3.6.0"
  },
  "latex_envs": {
   "LaTeX_envs_menu_present": true,
   "autocomplete": true,
   "bibliofile": "biblio.bib",
   "cite_by": "apalike",
   "current_citInitial": 1,
   "eqLabelWithNumbers": true,
   "eqNumInitial": 1,
   "hotkeys": {
    "equation": "Ctrl-E",
    "itemize": "Ctrl-I"
   },
   "labels_anchors": false,
   "latex_user_defs": false,
   "report_style_numbering": false,
   "user_envs_cfg": false
  },
  "toc": {
   "colors": {
    "hover_highlight": "#DAA520",
    "navigate_num": "#000000",
    "navigate_text": "#333333",
    "running_highlight": "#FF0000",
    "selected_highlight": "#FFD700",
    "sidebar_border": "#EEEEEE",
    "wrapper_background": "#FFFFFF"
   },
   "moveMenuLeft": true,
   "nav_menu": {
    "height": "116px",
    "width": "254px"
   },
   "navigate_menu": true,
   "number_sections": true,
   "sideBar": true,
   "skip_h1_title": false,
   "threshold": 4,
   "toc_cell": false,
   "toc_position": {},
   "toc_section_display": "block",
   "toc_window_display": false,
   "widenNotebook": false
  }
 },
 "nbformat": 4,
 "nbformat_minor": 2
}
