{
 "cells": [
  {
   "cell_type": "code",
   "execution_count": 1,
   "metadata": {},
   "outputs": [],
   "source": [
    "%matplotlib inline\n",
    "%load_ext autoreload\n",
    "%autoreload 2\n",
    "import os\n",
    "import sys\n",
    "p = os.path.join(os.path.dirname('__file__'), '..')\n",
    "sys.path.append(p)\n",
    "from common import *\n",
    "from imutils.object_detection import non_max_suppression\n",
    "\n",
    "from moviepy.editor import *\n",
    "import skimage\n",
    "import itertools\n",
    "import colorsys\n",
    "from skimage.measure import find_contours\n",
    "import matplotlib.patches as patches\n",
    "import matplotlib.lines as lines\n",
    "from matplotlib.patches import Polygon\n",
    "import IPython.display\n",
    "import matplotlib.pyplot as plt\n",
    "from matplotlib import animation, rc\n",
    "from IPython.display import HTML\n",
    "from matplotlib.pyplot import Rectangle"
   ]
  },
  {
   "cell_type": "code",
   "execution_count": 2,
   "metadata": {},
   "outputs": [],
   "source": [
    "DATA_DIR = '../data/'\n",
    "json_fpath = os.path.join(DATA_DIR, 'volleyball_frame_00665.json')\n",
    "img_fpath = os.path.join(DATA_DIR, 'volleyball_frame_00665.png')\n",
    "IMG_DIR = os.path.join(DATA_DIR, 'volleyball', 'images_subset')\n",
    "metadata_fpath = os.path.join(DATA_DIR, 'volleyball_bbox_labels.csv')\n",
    "DETECTIONS_DIR = Path(DATA_DIR, 'volleyball', 'detections')\n",
    "DETECTIONS_DIR.mkdir(exist_ok=True)\n",
    "FIGSIZE=(16,16)"
   ]
  },
  {
   "cell_type": "code",
   "execution_count": 3,
   "metadata": {},
   "outputs": [],
   "source": [
    "class_names = ['BG', 'person', 'bicycle', 'car', 'motorcycle', 'airplane',\n",
    "               'bus', 'train', 'truck', 'boat', 'traffic light',\n",
    "               'fire hydrant', 'stop sign', 'parking meter', 'bench', 'bird',\n",
    "               'cat', 'dog', 'horse', 'sheep', 'cow', 'elephant', 'bear',\n",
    "               'zebra', 'giraffe', 'backpack', 'umbrella', 'handbag', 'tie',\n",
    "               'suitcase', 'frisbee', 'skis', 'snowboard', 'sports ball',\n",
    "               'kite', 'baseball bat', 'baseball glove', 'skateboard',\n",
    "               'surfboard', 'tennis racket', 'bottle', 'wine glass', 'cup',\n",
    "               'fork', 'knife', 'spoon', 'bowl', 'banana', 'apple',\n",
    "               'sandwich', 'orange', 'broccoli', 'carrot', 'hot dog', 'pizza',\n",
    "               'donut', 'cake', 'chair', 'couch', 'potted plant', 'bed',\n",
    "               'dining table', 'toilet', 'tv', 'laptop', 'mouse', 'remote',\n",
    "               'keyboard', 'cell phone', 'microwave', 'oven', 'toaster',\n",
    "               'sink', 'refrigerator', 'book', 'clock', 'vase', 'scissors',\n",
    "               'teddy bear', 'hair drier', 'toothbrush']\n",
    "\n",
    "valid_class_name = ['person']#, 'sports ball']"
   ]
  },
  {
   "cell_type": "markdown",
   "metadata": {},
   "source": [
    "## Helpers"
   ]
  },
  {
   "cell_type": "code",
   "execution_count": 4,
   "metadata": {},
   "outputs": [],
   "source": [
    "def plot_img(arr, fs=FIGSIZE, cmap='gray', title=None):\n",
    "    plt.figure(figsize=fs)\n",
    "    plt.imshow(arr.astype('uint8'), cmap=cmap)\n",
    "    plt.title(title)\n",
    "    plt.show()\n",
    "    \n",
    "def load_img(fpath):\n",
    "    return plt.imread(fpath)\n",
    "\n",
    "def load_cv2_img(fpath, w=None, h=None, colorspace=None):\n",
    "    img = cv2.imread(fpath)\n",
    "    if colorspace is not None:\n",
    "        img = cv2.cvtColor(img, colorspace)\n",
    "    if None not in [w,h]:\n",
    "        img = cv2.resize(img, (w, h), interpolation=cv2.INTER_CUBIC)\n",
    "    return img\n",
    "\n",
    "def threshold_color(img, color, thresh, sigma=1.0):\n",
    "    \"\"\"\n",
    "    color = [b, g, r] or [r,b,g] or [h,s,v]\n",
    "    thresh = [b,g,r] margin allowed around color (1 per channel)\n",
    "    \"\"\"\n",
    "    if isinstance(thresh, int):\n",
    "        thresh = [thresh]*3\n",
    "    thresh = np.array(thresh) * sigma\n",
    "    min_color = np.array([color[0]-thresh[0], color[1]-thresh[1], \n",
    "                          color[2]-thresh[2]])\n",
    "    max_color = np.array([color[0]+thresh[0], color[1]+thresh[1],\n",
    "                          color[2]+thresh[2]])\n",
    "    min_color[min_color < 0] = 0\n",
    "    max_color[max_color > 255] = 255\n",
    "    print(\"Min\", min_color)\n",
    "    print(\"Max\", max_color)\n",
    "    \n",
    "    mask = cv2.inRange(img, min_color, max_color)\n",
    "    result = cv2.bitwise_and(img, img, mask=mask)\n",
    "    return mask, result\n",
    "\n",
    "def get_color_of_pixel(fpath, x, y, colorspace='BGR'):\n",
    "    rgb_img = load_cv2_img(img_fpath, colorspace=cv2.COLOR_BGR2RGB)\n",
    "    hsv_img = load_cv2_img(img_fpath, colorspace=cv2.COLOR_BGR2HSV)\n",
    "    \n",
    "    rgb_colors = rgb_img[y,x,:]\n",
    "    hsv_colors = hsv_img[y,x,:]\n",
    "    bgr_colors = np.copy(rgb_colors[::-1])\n",
    "    print (\"BGR:\", bgr_colors)\n",
    "    print (\"RGB:\", rgb_colors)\n",
    "    print (\"HSV:\", hsv_colors)\n",
    "    \n",
    "    # Plot to visualize\n",
    "    img = np.copy(rgb_img)\n",
    "    img[y-5:y+5:,x-5:x+5,:] = 255\n",
    "    img[y,x,:] = 0\n",
    "    \n",
    "    if colorspace == 'BGR':\n",
    "        return bgr_colors.tolist()\n",
    "    if colorspace == 'RGB':\n",
    "        return rgb_colors.tolist()\n",
    "    return hsv_colors.tolist()\n",
    "\n",
    "def get_hsv_value_of_bgr(bgr_color):\n",
    "    print(\"BGR\", bgr_color)\n",
    "    bgr_color = np.uint8([[bgr_color]])\n",
    "    hsv = cv2.cvtColor(bgr_color, cv2.COLOR_BGR2HSV)[0][0]\n",
    "    print(\"HSV\", hsv)\n",
    "    return hsv\n",
    "\n",
    "# Create color histograms representing average values among samples\n",
    "def get_flattened_channels(imgs):\n",
    "    chans = np.empty(shape=(1,3))\n",
    "    for img in imgs:\n",
    "        h,w,c = img.shape\n",
    "        reshaped = img.reshape((h*w, c))\n",
    "        chans = np.concatenate([chans, reshaped], axis=0)\n",
    "        #print(reshaped.shape, chans.shape)\n",
    "    return chans\n",
    "\n",
    "def get_color_hist_dict(imgs, bins, ):\n",
    "    chans = get_flattened_channels(imgs)\n",
    "    bgr = ('b','g','r')\n",
    "    hists = {\n",
    "        'b':None,\n",
    "        'g':None,\n",
    "        'r':None\n",
    "    }\n",
    "    for i in range(len(chans[0])):\n",
    "        hist, bins = np.histogram(chans[:,i], bins, [0,256])\n",
    "        hists[bgr[i]] = hist\n",
    "    return hists\n",
    "\n",
    "def plot_hists_dict(hists):\n",
    "    for col,hist in hists.items():\n",
    "        plt.plot(hist, color=col)\n",
    "    plt.show()\n",
    "    \n",
    "def get_color_hist(imgs, bins):\n",
    "    chans = get_flattened_channels(imgs)\n",
    "    hists = []\n",
    "    for i in range(len(chans[0])):\n",
    "        hist, bins = np.histogram(chans[:,i], bins, [0,256])\n",
    "        hists.append(hist)\n",
    "    return hists\n",
    "\n",
    "def plot_hists(hists, title=\"None\"):\n",
    "    colors = ('r','g','b')\n",
    "    for col,hist in zip(colors, hists):\n",
    "        plt.plot(hist, color=col)\n",
    "    plt.title(title)    \n",
    "    plt.show()\n",
    "    \n",
    "def plot_bbs_from_rectLabel_annos(json_fpath, img_fpath):\n",
    "    bb_json = json.load(open(json_fpath, 'r'))\n",
    "    fig = plt.figure(figsize=FIGSIZE)\n",
    "    axes = plt.axes([0, 0.03, 1, 0.97])\n",
    "    \n",
    "    img = plt.imread(img_fpath)\n",
    "    imgplot = axes.imshow(img)\n",
    "\n",
    "    for box in bb_json['objects']:\n",
    "        label = box['label']\n",
    "        color = BOX_COLORS[label]\n",
    "        coords = box['x_y_w_h']\n",
    "        bb = Rectangle(\n",
    "            (coords[0],coords[1]), \n",
    "            coords[2], coords[3],\n",
    "            fill=False,\n",
    "            edgecolor=color,\n",
    "            linewidth=2)\n",
    "        axes.add_patch(bb)\n",
    "        \n",
    "def get_img_crops_from_rectLabel_bbs(img, json_fpath):\n",
    "    crops_dict = {}\n",
    "    bb_json = json.load(open(json_fpath, 'r'))\n",
    "    for box in bb_json['objects']:\n",
    "        label = box['label']\n",
    "        x,y,w,h = box['x_y_w_h']\n",
    "        crop = img[y:y+h,x:x+w,:]\n",
    "        if label not in crops_dict:\n",
    "            crops_dict[label] = []\n",
    "        crops_dict[label].append(crop)\n",
    "    return crops_dict\n",
    "\n",
    "def make_boxes(meta):\n",
    "    boxes = {}\n",
    "    for idx,row in meta.iterrows():\n",
    "        box = json.loads(row.to_json())\n",
    "        fname = row['filename']\n",
    "        if fname in boxes:\n",
    "            boxes[fname].append(box)\n",
    "        else:\n",
    "            boxes[fname] = [box]\n",
    "    return boxes\n",
    "\n",
    "def median_filter(mask, ksize=3, thresh=25):\n",
    "    median = cv2.medianBlur(mask, ksize)\n",
    "    return median\n",
    "\n",
    "def opening(img, ksize=(3,3)):\n",
    "    # Erode --> Dilate\n",
    "    erode_kernel = cv2.getStructuringElement(cv2.MORPH_ELLIPSE, ksize)\n",
    "    dilate_kernel = cv2.getStructuringElement(cv2.MORPH_ELLIPSE, ksize)\n",
    "    img = cv2.erode(img, erode_kernel, iterations = 1)\n",
    "    img = cv2.dilate(img, dilate_kernel, iterations = 1)\n",
    "    return img\n",
    "\n",
    "def closing(img, ksize=(3,3)):\n",
    "    # Dilate --> Erode\n",
    "    erode_kernel = cv2.getStructuringElement(cv2.MORPH_ELLIPSE, ksize)\n",
    "    dilate_kernel = cv2.getStructuringElement(cv2.MORPH_ELLIPSE, ksize)\n",
    "    img = cv2.dilate(img, dilate_kernel, iterations = 1)\n",
    "    img = cv2.erode(img, erode_kernel, iterations = 1)\n",
    "    return img\n",
    "\n",
    "def apply_bg_mask(fpaths, subtractor, limit=100, cleanup=None):\n",
    "    i = 0\n",
    "    masks = []\n",
    "    for fpath in fpaths:\n",
    "        img = load_cv2_img(fpath, colorspace=cv2.COLOR_BGR2RGB)\n",
    "        fgmask = subtractor.apply(img)\n",
    "        if cleanup == 'open':\n",
    "            fgmask = opening(fgmask)\n",
    "        elif cleanup == 'close':\n",
    "            fgmask = closing(fgmask)\n",
    "        elif cleanup == 'median':\n",
    "            fgmask = median_filter(fgmask)\n",
    "        fgmask[fgmask >= 2] = 255\n",
    "        fgmask[fgmask < 2] = 0\n",
    "        masks.append(fgmask)\n",
    "        if i > limit:\n",
    "            break\n",
    "        i+=1\n",
    "    return masks\n",
    "\n",
    "def get_masked_imgs(fpaths, masks):\n",
    "    imgs = []\n",
    "    for fpath, mask in zip(fpaths, masks):\n",
    "        img = load_cv2_img(fpath, colorspace=cv2.COLOR_BGR2RGB)\n",
    "        img[mask == 0] = 255\n",
    "        imgs.append(img)\n",
    "    return imgs\n",
    "\n",
    "def get_img_crop(img, x1, y1, x2, y2):\n",
    "    if len(img.shape) > 2:\n",
    "        return img[y1:y2,x1:x2,:]\n",
    "    return img[y1:y2,x1:x2]\n",
    "\n",
    "def plot_boxes(img, rects, title=\"boxes\", color=(255,255,255), thick=2):\n",
    "    for (x1, y1, x2, y2) in rects:\n",
    "        cv2.rectangle(img, (x1, y1), (x2, y2), color, thick)\n",
    "    plot_img(img, title=title)\n",
    "    \n",
    "    import random\n",
    "\n",
    "def random_colors(N, bright=True):\n",
    "    brightness = 1.0 if bright else 0.7\n",
    "    hsv = [(i / N, 1, brightness) for i in range(N)]\n",
    "    colors = list(map(lambda c: colorsys.hsv_to_rgb(*c), hsv))\n",
    "    random.shuffle(colors)\n",
    "    return colors\n",
    "\n",
    "def apply_mask(image, mask, color, alpha=0.5):\n",
    "    for c in range(3):\n",
    "        image[:, :, c] = np.where(mask == 1,\n",
    "                                  image[:, :, c] *\n",
    "                                  (1 - alpha) + alpha * color[c] * 255,\n",
    "                                  image[:, :, c])\n",
    "    return image\n",
    "\n",
    "def create_display_img(image, boxes, masks, class_ids, class_names, scores, ax=None):\n",
    "    \"\"\"\n",
    "    boxes: [num_instance, (y1, x1, y2, x2, class_id)] in image coordinates.\n",
    "    masks: [height, width, num_instances]\n",
    "    class_ids: [num_instances]\n",
    "    class_names: list of class names of the dataset\n",
    "    scores: (optional) confidence scores for each box\n",
    "    \"\"\"\n",
    "    # Number of instances\n",
    "    N = boxes.shape[0]\n",
    "    if not N:\n",
    "        print(\"\\n*** No instances to display *** \\n\")\n",
    "    else:\n",
    "        assert boxes.shape[0] == masks.shape[-1] == class_ids.shape[0]\n",
    "\n",
    "    if ax is None:\n",
    "        _, ax = plt.subplots(1, figsize=FIGSIZE)\n",
    "\n",
    "    # Generate random colors\n",
    "    colors = random_colors(N)\n",
    "    \n",
    "    masked_image = image.astype(np.uint32).copy()\n",
    "    for i in range(N):\n",
    "        color = (0.0, 1.0, 0.40000000000000036)# colors[i]\n",
    "\n",
    "        # Bounding box\n",
    "        if not np.any(boxes[i]):\n",
    "            # Skip this instance. Has no bbox. Likely lost in image cropping.\n",
    "            continue\n",
    "        y1, x1, y2, x2 = boxes[i]\n",
    "        p = patches.Rectangle((x1, y1), x2 - x1, y2 - y1, linewidth=2,\n",
    "                              alpha=0.7, linestyle=\"dashed\",\n",
    "                              edgecolor=color, facecolor='none')\n",
    "        ax.add_patch(p)\n",
    "\n",
    "        # Label\n",
    "        class_id = class_ids[i]\n",
    "        score = scores[i] if scores is not None else None\n",
    "        label = class_names[class_id]\n",
    "        x = random.randint(x1, (x1 + x2) // 2)\n",
    "        caption = \"{} {:.3f}\".format(label, score) if score else label\n",
    "        ax.text(x1, y1 + 8, caption,\n",
    "                color='w', size=11, backgroundcolor=\"none\")\n",
    "\n",
    "        # Mask\n",
    "        mask = masks[:, :, i]\n",
    "        masked_image = apply_mask(masked_image, mask, color)\n",
    "\n",
    "        # Mask Polygon\n",
    "        # Pad to ensure proper polygons for masks that touch image edges.\n",
    "        padded_mask = np.zeros(\n",
    "            (mask.shape[0] + 2, mask.shape[1] + 2), dtype=np.uint8)\n",
    "        padded_mask[1:-1, 1:-1] = mask\n",
    "        contours = find_contours(padded_mask, 0.5)\n",
    "        for verts in contours:\n",
    "            # Subtract the padding and flip (y, x) to (x, y)\n",
    "            verts = np.fliplr(verts) - 1\n",
    "            p = Polygon(verts, facecolor=\"none\", edgecolor=color)\n",
    "            ax.add_patch(p)\n",
    "\n",
    "    return ax.imshow(masked_image.astype(np.uint8))"
   ]
  },
  {
   "cell_type": "code",
   "execution_count": 5,
   "metadata": {},
   "outputs": [],
   "source": [
    "metadata = pd.read_csv(metadata_fpath)\n",
    "metadata['label_name'] = 'ball'\n",
    "metadata['label_id'] = 1\n",
    "fnames = metadata['filename']\n",
    "fpaths = [os.path.join(IMG_DIR, f) for f in fnames]\n",
    "metadata['fpath'] = fpaths\n",
    "GT_BOXES = make_boxes(metadata)"
   ]
  },
  {
   "cell_type": "markdown",
   "metadata": {
    "heading_collapsed": true
   },
   "source": [
    "## Ground Truth Boxes"
   ]
  },
  {
   "cell_type": "code",
   "execution_count": null,
   "metadata": {
    "hidden": true
   },
   "outputs": [],
   "source": [
    "BOX_COLORS = {\n",
    "    'referee': 'black',\n",
    "    'red_team': 'red',\n",
    "    'blue_team': 'blue',\n",
    "    'court-inner': 'green',\n",
    "    'court_outer': 'white',\n",
    "}\n",
    "json_fpath = os.path.join(DATA_DIR, 'volleyball_frame_00665.json')\n",
    "img_fpath = os.path.join(DATA_DIR, 'volleyball_frame_00665.png')\n",
    "plot_bbs_from_rectLabel_annos(json_fpath, img_fpath)\n",
    "BINS = 20"
   ]
  },
  {
   "cell_type": "code",
   "execution_count": null,
   "metadata": {
    "hidden": true
   },
   "outputs": [],
   "source": [
    "def get_label_hists(label, crops, plot=False, bins=20):\n",
    "    avg_hist = get_color_hist(crops, bins=bins)\n",
    "    comb_hist = cv2.calcHist(\n",
    "        crops, [0, 1, 2], None, [bins, bins, bins], \n",
    "        [0, 256, 0, 256, 0, 256])\n",
    "    avg_norm_hist = cv2.normalize(comb_hist, comb_hist).flatten()\n",
    "    if plot:\n",
    "        plot_hists(avg_hist,title=label)\n",
    "        plt.plot(avg_norm_hist)\n",
    "        plt.show()\n",
    "    return avg_hist, avg_norm_hist"
   ]
  },
  {
   "cell_type": "code",
   "execution_count": null,
   "metadata": {
    "hidden": true
   },
   "outputs": [],
   "source": [
    "img = load_cv2_img(img_fpath, colorspace=cv2.COLOR_BGR2HSV)\n",
    "all_crops = get_img_crops_from_rectLabel_bbs(img, json_fpath)\n",
    "gt_labels = ['blue_team', 'red_team', 'referee']\n",
    "specs = {label:{} for label in gt_labels}\n",
    "for label in gt_labels:\n",
    "    label_crops = all_crops[label]\n",
    "    label_dims = []\n",
    "    for crop in label_crops:\n",
    "        label_dims.append(list(crop.shape[:2]))\n",
    "    avg_hist,norm_hist = get_label_hists(label, label_crops, plot=True, bins=BINS)\n",
    "    specs[label]['crops'] = label_crops\n",
    "    specs[label]['dims'] = label_dims\n",
    "    specs[label]['hist'] = avg_hist\n",
    "    specs[label]['norm_hist'] = norm_hist"
   ]
  },
  {
   "cell_type": "code",
   "execution_count": null,
   "metadata": {
    "hidden": true
   },
   "outputs": [],
   "source": [
    "for label in gt_labels:\n",
    "    dims = np.array(specs[label]['dims'])\n",
    "    avg = np.mean(dims, axis=0)\n",
    "    median = np.median(dims, axis=0)\n",
    "    min_ = np.min(dims, axis=0)\n",
    "    max_ = np.max(dims, axis=0)\n",
    "    area = dims[:,0] * dims[:,1]\n",
    "    aspect = dims[:,0] / dims[:,1]\n",
    "\n",
    "    avg_area = np.mean(area)\n",
    "    min_area = np.min(area)\n",
    "    max_area = np.max(area)\n",
    "    avg_aspect = np.mean(aspect)\n",
    "    min_aspect = np.min(aspect)\n",
    "    max_aspect = np.max(aspect)\n",
    "    avg_width = np.mean(dims[:,0])\n",
    "    avg_height = np.mean(dims[:,1])\n",
    "    min_width = np.min(dims[:,0])\n",
    "    min_height = np.min(dims[:,1])\n",
    "    max_width = np.max(dims[:,0])\n",
    "    max_height = np.max(dims[:,1])\n",
    "    print(label, avg_area, min_area, max_area, \"|\", avg_aspect, min_aspect, max_aspect, \"|\", avg_width, avg_height, min_width,min_height,max_width,max_height)"
   ]
  },
  {
   "cell_type": "markdown",
   "metadata": {
    "heading_collapsed": true
   },
   "source": [
    "## Load Detections"
   ]
  },
  {
   "cell_type": "code",
   "execution_count": null,
   "metadata": {
    "hidden": true
   },
   "outputs": [],
   "source": [
    "detection_fpaths = [Path(fpath) for fpath in Path(DETECTIONS_DIR).glob('**/*.npy')]\n",
    "detections = {}\n",
    "for fpath in detection_fpaths:\n",
    "    det = np.load(fpath)[0]\n",
    "    det['img_fpath'] = fpath\n",
    "    detections[fpath.name] = det"
   ]
  },
  {
   "cell_type": "code",
   "execution_count": null,
   "metadata": {
    "hidden": true
   },
   "outputs": [],
   "source": [
    "fpath = metadata['fpath'][0]\n",
    "img = skimage.io.imread(fpath)\n",
    "det_fpath = Path(DETECTIONS_DIR, Path(fpath).name + '.npy')\n",
    "det = np.load(det_fpath)[0]\n",
    "imgplot = create_display_img(\n",
    "    img, det['rois'], det['masks'], det['class_ids'], \n",
    "    class_names, scores=det['scores'], ax=None\n",
    ")"
   ]
  },
  {
   "cell_type": "code",
   "execution_count": null,
   "metadata": {
    "hidden": true
   },
   "outputs": [],
   "source": [
    "def draw_boxes(img, bbs, color=(0,255,0)):\n",
    "    for (y1, x1, y2, x2) in bbs:\n",
    "        cv2.rectangle(img, (x1, y1), (x2, y2), color, thickness=2)\n",
    "    return img"
   ]
  },
  {
   "cell_type": "code",
   "execution_count": null,
   "metadata": {
    "hidden": true
   },
   "outputs": [],
   "source": [
    "fpath = metadata['fpath'][0]\n",
    "img = skimage.io.imread(fpath)\n",
    "det_fpath = Path(DETECTIONS_DIR, Path(fpath).name + '.npy')\n",
    "det = np.load(det_fpath)[0]\n",
    "bbs = det['rois']\n",
    "img = draw_boxes(img, bbs)"
   ]
  },
  {
   "cell_type": "code",
   "execution_count": null,
   "metadata": {
    "hidden": true
   },
   "outputs": [],
   "source": [
    "plot_img(img)"
   ]
  },
  {
   "cell_type": "markdown",
   "metadata": {
    "heading_collapsed": true
   },
   "source": [
    "## Filter Boxes"
   ]
  },
  {
   "cell_type": "markdown",
   "metadata": {
    "heading_collapsed": true,
    "hidden": true
   },
   "source": [
    "### Get Background"
   ]
  },
  {
   "cell_type": "code",
   "execution_count": null,
   "metadata": {
    "hidden": true
   },
   "outputs": [],
   "source": [
    "def segment_knn(fpaths, subtractor):\n",
    "    for fpath in fpaths:\n",
    "        img = load_cv2_img(fpath, colorspace=cv2.COLOR_BGR2RGB)\n",
    "        fgmask = subtractor.apply(img)\n",
    "    return subtractor.getBackgroundImage()\n",
    "\n",
    "knn_subtractor = cv2.createBackgroundSubtractorKNN()\n",
    "bg_img = segment_knn(metadata['fpath'], knn_subtractor)\n",
    "bg_img = cv2.medianBlur(bg_img, 5)\n",
    "plot_img(bg_img, fs=FIGSIZE)"
   ]
  },
  {
   "cell_type": "markdown",
   "metadata": {
    "hidden": true
   },
   "source": [
    "### Segment Floor"
   ]
  },
  {
   "cell_type": "code",
   "execution_count": null,
   "metadata": {
    "hidden": true
   },
   "outputs": [],
   "source": [
    "# Highlight floor around court (lighter green reflection)\n",
    "img_fpath = metadata['fpath'][0]\n",
    "color = get_color_of_pixel(img_fpath, 1130, 460, 'RGB')\n",
    "mask, masked_img = threshold_color(bg_img, color, 50)\n",
    "plot_img(mask)\n",
    "plot_img(masked_img)"
   ]
  },
  {
   "cell_type": "markdown",
   "metadata": {
    "hidden": true
   },
   "source": [
    "### Cleanup Masks"
   ]
  },
  {
   "cell_type": "code",
   "execution_count": null,
   "metadata": {
    "hidden": true
   },
   "outputs": [],
   "source": [
    "# img\n",
    "closed_img = closing(mask, ksize=(3,3))\n",
    "opened_img = opening(mask, ksize=(3,3))\n",
    "median_img = median_filter(mask, ksize=3)\n",
    "\n",
    "plot_img(closed_img, title='closed')\n",
    "plot_img(opened_img, title='opened')\n",
    "plot_img(median_img, title='median')"
   ]
  },
  {
   "cell_type": "markdown",
   "metadata": {
    "hidden": true
   },
   "source": [
    "### Contours"
   ]
  },
  {
   "cell_type": "code",
   "execution_count": null,
   "metadata": {
    "hidden": true
   },
   "outputs": [],
   "source": [
    "def get_contours(binary_mask):\n",
    "    image, contours, hierarchy = cv2.findContours(binary_mask, cv2.RETR_TREE, cv2.CHAIN_APPROX_SIMPLE)\n",
    "    return contours, image\n",
    "\n",
    "def plot_contours(img, contours, color=(255,255,255), thick=2):\n",
    "    img = img.copy()\n",
    "    img = cv2.drawContours(img, contours, -1, color, thickness=thick)\n",
    "    plot_img(img)\n",
    "\n",
    "contours, image = get_contours(median_img)\n",
    "contours_img = median_img.copy()\n",
    "_ = cv2.drawContours(contours_img, contours, -1, (255,255,255), thickness=2)\n",
    "plot_img(contours_img)"
   ]
  },
  {
   "cell_type": "markdown",
   "metadata": {
    "hidden": true
   },
   "source": [
    "### Hough Lines"
   ]
  },
  {
   "cell_type": "code",
   "execution_count": null,
   "metadata": {
    "hidden": true,
    "scrolled": false
   },
   "outputs": [],
   "source": [
    "# Higher threshold means a line needs to be stronger to be detected\n",
    "thresh = 1000\n",
    "img = contours_img\n",
    "# what does theta control?\n",
    "# what does the threshold do?\n",
    "# what is rho?\n",
    "lines = cv2.HoughLines(img, rho=1, theta=np.pi / 10, threshold=thresh)\n",
    "# convert polor coordinates to x,y pixel coordinates\n",
    "# origin (0,0) is top left in numpy/cv2\n",
    "# p = distance from origin (perpendicular to hough line)\n",
    "# theta = angle in radians formed by perpendicular line\n",
    "coords = []\n",
    "for line in lines:\n",
    "    for rho, theta in line:\n",
    "        degrees = theta * (180/math.pi)\n",
    "        a = np.cos(theta)\n",
    "        b = np.sin(theta)\n",
    "        x0 = a * rho\n",
    "        y0 = b * rho\n",
    "        x1 = int(x0 + 1000 * -b)\n",
    "        y1 = int(y0 + 1000 * a)\n",
    "        x2 = int(x0 - 1000 * -b)\n",
    "        y2 = int(y0 - 1000 * a)\n",
    "\n",
    "        if degrees > 145:\n",
    "            orient = 'right_vertical'\n",
    "        elif degrees < 45:\n",
    "            orient = 'left_vertical'\n",
    "        elif degrees > 85 and degrees < 95:\n",
    "            orient = 'horizontal'\n",
    "        else:\n",
    "            orient = 'other'\n",
    "            \n",
    "        coords.append([x1,y1,x2,y2,rho,theta,degrees,orient])"
   ]
  },
  {
   "cell_type": "code",
   "execution_count": null,
   "metadata": {
    "hidden": true
   },
   "outputs": [],
   "source": [
    "def plot_lines(img, coords):\n",
    "    img = img.copy()\n",
    "    for coord in coords:\n",
    "        x1,y1,x2,y2,rho,theta,degrees,orient = coord\n",
    "        cv2.line(img, pt1=(x1, y1), pt2=(x2, y2), color=(0, 255, 0), thickness=4)\n",
    "    plot_img(img)"
   ]
  },
  {
   "cell_type": "code",
   "execution_count": null,
   "metadata": {
    "hidden": true
   },
   "outputs": [],
   "source": [
    "plot_lines(bg_img, coords)"
   ]
  },
  {
   "cell_type": "markdown",
   "metadata": {
    "hidden": true
   },
   "source": [
    "### Get Upper/Lower Court Boundries"
   ]
  },
  {
   "cell_type": "code",
   "execution_count": null,
   "metadata": {
    "hidden": true
   },
   "outputs": [],
   "source": [
    "max_y,min_y = None,None\n",
    "for coord in coords:\n",
    "    #[x1,y1,x2,y2,rho,theta,degrees,orient])\n",
    "    y = int((coord[1] + coord[3]) / 2)\n",
    "    if max_y is None or y > max_y:\n",
    "        max_y = y\n",
    "        top_line = coord[:4]\n",
    "    if min_y is None or y < min_y:\n",
    "        min_y = y\n",
    "        bottom_line = coord[:4]"
   ]
  },
  {
   "cell_type": "code",
   "execution_count": null,
   "metadata": {
    "hidden": true
   },
   "outputs": [],
   "source": [
    "img = bg_img.copy()\n",
    "x1,y1,x2,y2 = top_line\n",
    "cv2.line(img, pt1=(x1, y1), pt2=(x2, y2), color=(0, 255, 0), thickness=4)\n",
    "x1,y1,x2,y2 = bottom_line\n",
    "cv2.line(img, pt1=(x1, y1), pt2=(x2, y2), color=(0, 255, 0), thickness=4)\n",
    "plot_img(img)"
   ]
  },
  {
   "cell_type": "code",
   "execution_count": null,
   "metadata": {
    "hidden": true
   },
   "outputs": [],
   "source": [
    "TOP_COURT_Y = min_y\n",
    "BOTTOM_COURT_Y = max_y"
   ]
  },
  {
   "cell_type": "markdown",
   "metadata": {
    "hidden": true
   },
   "source": [
    "### Filter Boxes"
   ]
  },
  {
   "cell_type": "code",
   "execution_count": null,
   "metadata": {
    "hidden": true
   },
   "outputs": [],
   "source": [
    "def filter_bbs(bbs, min_y, max_y, margin=0):\n",
    "    valid_bbs = []\n",
    "    for bb in bbs:\n",
    "        y1, x1, y2, x2 = bb\n",
    "        if y2 < max_y and y2 > min_y:\n",
    "            valid_bbs.append(bb)\n",
    "    return valid_bbs"
   ]
  },
  {
   "cell_type": "code",
   "execution_count": null,
   "metadata": {
    "hidden": true
   },
   "outputs": [],
   "source": [
    "fpath = metadata['fpath'][0]\n",
    "img = skimage.io.imread(fpath)\n",
    "det_fpath = Path(DETECTIONS_DIR, Path(fpath).name + '.npy')\n",
    "det = np.load(det_fpath)[0]\n",
    "bbs = det['rois']\n",
    "bbs = filter_bbs(bbs, min_y, max_y, margin=0)\n",
    "img = draw_boxes(img, bbs)\n",
    "plot_img(img)"
   ]
  },
  {
   "cell_type": "markdown",
   "metadata": {},
   "source": [
    "## Load Homography"
   ]
  },
  {
   "cell_type": "code",
   "execution_count": 6,
   "metadata": {},
   "outputs": [],
   "source": [
    "homography_path = Path(DATA_DIR, 'volleyball', 'inner_court_homography.npy')\n",
    "floor_map_path = Path(DATA_DIR, 'volleyball', 'floormap.npy')\n",
    "H = np.load(homography_path) # image to floor map\n",
    "H_inv = np.linalg.inv(H) # floor map to image\n",
    "floor_coords_fpath = Path(DATA_DIR, 'volleyball', 'floor_map_coords.npy')\n",
    "floor_map_fpath = Path(DATA_DIR, 'volleyball', 'floor_map.npy')\n",
    "floor_coords = np.load(floor_coords_fpath).reshape((1,))[0]\n",
    "floor_map = np.load(floor_map_fpath)"
   ]
  },
  {
   "cell_type": "code",
   "execution_count": 7,
   "metadata": {},
   "outputs": [
    {
     "data": {
      "image/png": "[encoded data removed]",
      "text/plain": [
       "<matplotlib.figure.Figure at 0x7fd909032438>"
      ]
     },
     "metadata": {},
     "output_type": "display_data"
    }
   ],
   "source": [
    "for point in floor_coords['floor_pts'].values():\n",
    "    pt = point['x'],point['y']\n",
    "    cv2.circle(floor_map, pt, 1, color=(255,255,255), thickness=5)\n",
    "for line in floor_coords['inner_court_lines'].values():\n",
    "    pt1 = (line['x1'],line['y1'])\n",
    "    pt2 = (line['x2'],line['y2'])\n",
    "    cv2.line(floor_map, pt1=pt1, pt2=pt2, \n",
    "             color=(255, 255, 255), thickness=1)\n",
    "plot_img(floor_map, fs=(10,10), title=\"floor\")"
   ]
  },
  {
   "cell_type": "code",
   "execution_count": null,
   "metadata": {},
   "outputs": [],
   "source": [
    "def map_point(point, H):\n",
    "    pt = point.copy()\n",
    "    pt.append(1)\n",
    "    pt_arr = np.array([pt]).T\n",
    "    map_pt = H @ pt_arr\n",
    "    map_pt /= map_pt[2][0]\n",
    "    map_pt = map_pt.astype(int).squeeze()[:2]\n",
    "    #print(\"Input:\", pt, \"Map:\", map_pt)\n",
    "    return map_pt[0],map_pt[1]\n",
    "    \n",
    "# Map Centers\n",
    "center_left = map_point([floor_coords['floor_pts']['center_left']['x'], \n",
    "                        floor_coords['floor_pts']['center_left']['y']], H_inv)\n",
    "center_right = map_point([floor_coords['floor_pts']['center_right']['x'], \n",
    "                          floor_coords['floor_pts']['center_right']['y']], H_inv)\n",
    "center_left, center_right"
   ]
  },
  {
   "cell_type": "code",
   "execution_count": null,
   "metadata": {},
   "outputs": [],
   "source": [
    "# PLot\n",
    "fpath = metadata['fpath'][0]\n",
    "img = load_cv2_img(fpath, colorspace=cv2.COLOR_BGR2RGB)\n",
    "cv2.circle(img, (center_left[0], center_left[1]), 1, color=(0,255,0), thickness=10)\n",
    "cv2.circle(img, (center_right[0], center_right[1]), 1, color=(0,255,0), thickness=10)\n",
    "cv2.line(img, pt1=center_left, pt2=center_right, color=(0, 255, 0), thickness=3)\n",
    "plot_img(img, fs=(8,8), title=None)\n",
    "\n",
    "# Warp Image\n",
    "im_dst = cv2.warpPerspective(img, H, dsize=(floor_map.shape[1],floor_map.shape[0]))\n",
    "plot_img(im_dst, fs=(6,6))\n",
    "\n",
    "# Looks like the center court line is around y = 542 ?\n",
    "CENTER_COURT_LINE_Y = 550"
   ]
  },
  {
   "cell_type": "code",
   "execution_count": null,
   "metadata": {},
   "outputs": [],
   "source": [
    "# Extend center line to edges\n",
    "height, width, _ = img.shape\n",
    "x1,y1 = center_left\n",
    "x2,y2 = center_right\n",
    "\n",
    "slope = (y2-y1) / (x2-x1)\n",
    "b = y1 - slope * x1\n",
    "\n",
    "# x intercepts\n",
    "x1_int = int(-b / slope) # -b/m = 0 = mx + b), x when y == 0\n",
    "x2_int = int((height - b) / slope) #x when y == height\n",
    "# y intercepts\n",
    "y1_int = int(b) #y when x == 0\n",
    "y2_int = int(slope * width + b) #y when x == width\n",
    "\n",
    "cv2.line(img, pt1=(0, y1_int), pt2=(width, y2_int), color=(0, 255, 0), thickness=3)\n",
    "plot_img(img, fs=(8,8), title=None)\n",
    "\n",
    "def get_center_court_line_y(x):\n",
    "    return slope*x + b"
   ]
  },
  {
   "cell_type": "markdown",
   "metadata": {},
   "source": [
    "## Save Court Dimensions"
   ]
  },
  {
   "cell_type": "code",
   "execution_count": null,
   "metadata": {},
   "outputs": [],
   "source": [
    "court_dimensions = {\n",
    "    'outer_court_top_y': TOP_COURT_Y,\n",
    "    'outer_court_bottom_y': BOTTOM_COURT_Y,\n",
    "    'center_line_slope': slope,\n",
    "    'center_line_bias': b,\n",
    "    'y1_int': y1_int,\n",
    "    'y2_int': y2_int,\n",
    "    'img_to_floor_homography': H,\n",
    "    'floor_to_img_homography': H_inv,\n",
    "}\n",
    "COURT_BOUNDARIES_FPATH = Path(DATA_DIR, 'volleyball', 'court_dims.npy')\n",
    "np.save(COURT_BOUNDARIES_FPATH, court_dimensions)\n",
    "court_dimensions = np.load(COURT_BOUNDARIES_FPATH).reshape((1,))[0]\n",
    "court_dimensions"
   ]
  },
  {
   "cell_type": "markdown",
   "metadata": {},
   "source": [
    "## Team Classification"
   ]
  },
  {
   "cell_type": "code",
   "execution_count": null,
   "metadata": {},
   "outputs": [],
   "source": [
    "COLORS = {\n",
    "    'red': (255,0,0),\n",
    "    'green': (0,255,0),\n",
    "    'blue': (0,0,255),\n",
    "    'white': (255,255,255),\n",
    "    'black': (0,0,0),\n",
    "}\n",
    "LABEL_COLORS = {\n",
    "    'red_team': COLORS['red'],\n",
    "    'blue_team': COLORS['blue'],\n",
    "    'other': COLORS['green']\n",
    "}\n",
    "\n",
    "def filter_bbs(bbs, min_y, max_y, margin=0):\n",
    "    valid_bbs = []\n",
    "    for bb in bbs:\n",
    "        valid = True\n",
    "        y1, x1, y2, x2 = bb\n",
    "        if y2 > max_y or y2 < min_y:\n",
    "            valid = False\n",
    "        w = x2 - x1\n",
    "        h = y2 - y1\n",
    "        area = w * h\n",
    "        if area > 30000 or area < 2000:\n",
    "            valid = False\n",
    "        if valid:\n",
    "            valid_bbs.append(bb)\n",
    "    return valid_bbs\n",
    "\n",
    "def classify_teams(bbs, center_y, margin=0):\n",
    "    red_team = []\n",
    "    blue_team = []\n",
    "    referee = []\n",
    "    for bb in bbs:\n",
    "        y1, x1, y2, x2 = bb\n",
    "        avg_x = (x1 + x2) / 2\n",
    "        center_y = get_center_court_line_y(avg_x) + margin\n",
    "        if y2 <= center_y:\n",
    "            blue_team.append(bb)\n",
    "        else:\n",
    "            red_team.append(bb)\n",
    "    return red_team,blue_team\n",
    "\n",
    "def filter_bbs(bbs, min_y, max_y, margin=0):\n",
    "    valid_bbs = []\n",
    "    for bb in bbs:\n",
    "        valid = True\n",
    "        y1, x1, y2, x2 = bb\n",
    "        if y2 > max_y or y2 < min_y:\n",
    "            valid = False\n",
    "        w = x2 - x1\n",
    "        h = y2 - y1\n",
    "        area = w * h\n",
    "        if area > 30000 or area < 2000:\n",
    "            valid = False\n",
    "        if valid:\n",
    "            valid_bbs.append(bb)\n",
    "    return valid_bbs\n",
    "\n",
    "def is_valid_bb(bb, min_y, max_y, margin=0):\n",
    "    y1, x1, y2, x2 = bb\n",
    "    if y2 > max_y or y2 < min_y:\n",
    "        return False\n",
    "    w = x2 - x1\n",
    "    h = y2 - y1\n",
    "    area = w * h\n",
    "    if area > 30000 or area < 2000:\n",
    "        return False\n",
    "    return True\n",
    "\n",
    "def classify_detection(bb, min_y, max_y, margin=0):\n",
    "    if not is_valid_bb(bb, min_y, max_y, margin):\n",
    "        return 'other'\n",
    "    y1, x1, y2, x2 = bb\n",
    "    avg_x = (x1 + x2) / 2\n",
    "    center_y = get_center_court_line_y(avg_x) + margin\n",
    "    if y2 <= center_y:\n",
    "        return 'blue_team'\n",
    "    return 'red_team'\n",
    "\n",
    "def process_detections(img_fpaths, top_court_y, bottom_court_y, save=False):\n",
    "    y_feet_offset = 0\n",
    "    detections = {}\n",
    "    for img_fpath in img_fpaths:\n",
    "        det_fpath = Path(DETECTIONS_DIR, Path(img_fpath).name + '.npy')\n",
    "        img_detections = np.load(det_fpath)[0]\n",
    "        img_detections['labels'] = []\n",
    "        img_detections['positions'] = []\n",
    "        for idx,bb in enumerate(img_detections['rois']):\n",
    "            y1, x1, y2, x2 = bb\n",
    "            label = classify_detection(bb, top_court_y, bottom_court_y, margin=5)\n",
    "            img_detections['labels'].append(label)\n",
    "            img_detections['positions'].append({\n",
    "                'bb': [x1,y1,x2,y2],\n",
    "                'label': label,\n",
    "                'color': LABEL_COLORS[label],\n",
    "                'x_feet': (x2+x1)//2,\n",
    "                'y_feet': y2 + y_feet_offset,\n",
    "                'x_body': (x2+x1)//2,\n",
    "                'y_body': (y2+y1)//2,\n",
    "            })\n",
    "        detections[img_fpath] = img_detections\n",
    "        if save:\n",
    "            img_det_fpath = Path(DETECTIONS_DIR, \n",
    "                                 Path(img_fpath).name + 'processed.npy')\n",
    "            np.save(img_det_fpath, img_detections)\n",
    "    return detections\n",
    "\n",
    "def load_raw_detections(img_fpaths):\n",
    "    dets = {}\n",
    "    for fpath in img_fpaths:\n",
    "        det_fpath = Path(DETECTIONS_DIR, Path(fpath).name + '.npy')\n",
    "        dets[fpath] = np.load(det_fpath)[0]\n",
    "    return dets\n",
    "\n",
    "def load_processed_detections(img_fpaths):\n",
    "    dets = {}\n",
    "    for fpath in img_fpaths:\n",
    "        det_fpath = Path(DETECTIONS_DIR, Path(fpath).name + 'processed.npy')\n",
    "        dict_ = np.load(det_fpath).reshape((1,))[0]\n",
    "        dets[fpath] = dict_\n",
    "    return dets\n",
    "\n",
    "def get_player_bbs(img_det):\n",
    "    bbs = filter_bbs(img_det['rois'], TOP_COURT_Y, BOTTOM_COURT_Y, margin=3)\n",
    "    red,blue = classify_teams(bbs, CENTER_COURT_LINE_Y, margin=10)\n",
    "    return red,blue\n",
    "\n",
    "def draw_detections(img, detections, plot_all=False):\n",
    "    bbs = detections['rois']\n",
    "    labels = detections['labels']\n",
    "    positions = detections['positions']\n",
    "    for idx in range(len(bbs)):\n",
    "        y1, x1, y2, x2 = bbs[idx]\n",
    "        color = positions[idx]['color']\n",
    "        if labels[idx] in ['red_team', 'blue_team'] or plot_all:\n",
    "            cv2.rectangle(img, (x1, y1), (x2, y2), color, thickness=2)\n",
    "    return img"
   ]
  },
  {
   "cell_type": "markdown",
   "metadata": {},
   "source": [
    "## Save / Load Detections"
   ]
  },
  {
   "cell_type": "code",
   "execution_count": null,
   "metadata": {},
   "outputs": [],
   "source": [
    "limit = 10\n",
    "img_fpaths = metadata['fpath'][:limit]\n",
    "detections = load_raw_detections(img_fpaths)\n",
    "detections = process_detections(img_fpaths, TOP_COURT_Y, \n",
    "                                BOTTOM_COURT_Y, save=True)\n",
    "detections = load_processed_detections(img_fpaths)"
   ]
  },
  {
   "cell_type": "code",
   "execution_count": null,
   "metadata": {},
   "outputs": [],
   "source": [
    "fpath = metadata['fpath'][0]\n",
    "img = skimage.io.imread(fpath)\n",
    "img_detections = detections[fpath]\n",
    "img = draw_detections(img, img_detections, plot_all=True)\n",
    "cv2.line(img, pt1=(0, y1_int), pt2=(width, y2_int), color=(0, 255, 0), thickness=2)\n",
    "plot_img(img)"
   ]
  },
  {
   "cell_type": "markdown",
   "metadata": {},
   "source": [
    "## Player Tracking"
   ]
  },
  {
   "cell_type": "code",
   "execution_count": null,
   "metadata": {},
   "outputs": [],
   "source": [
    "def get_tracked_imgs(img_fpaths, detections, draw_all=False):\n",
    "    tracked_imgs = []\n",
    "    for fpath in img_fpaths:\n",
    "        img = skimage.io.imread(fpath).astype('uint8')\n",
    "        det = detections[fpath]\n",
    "        img = draw_detections(img, det, draw_all)\n",
    "        tracked_imgs.append(img)\n",
    "    return tracked_imgs\n",
    "\n",
    "limit = 10\n",
    "img_fpaths = metadata['fpath'][:limit]\n",
    "detections = get_detections(img_fpaths)\n",
    "np.save(DETECTIONS_FPATH, detections)\n",
    "imgs = get_tracked_imgs(img_fpaths, detections)"
   ]
  },
  {
   "cell_type": "code",
   "execution_count": null,
   "metadata": {},
   "outputs": [],
   "source": [
    "fig = plt.figure()\n",
    "axes = plt.axes([0, 0.03, 1, 0.97])\n",
    "img = imgs[0]\n",
    "imgplot = axes.imshow(img, animated=True)\n",
    "def init():\n",
    "    return (imgplot,)\n",
    "\n",
    "def animate(img):\n",
    "    imgplot.set_array(img)\n",
    "    return (imgplot,)\n",
    "\n",
    "anim = animation.FuncAnimation(fig, animate, init_func=init,\n",
    "                               frames=imgs, interval=30, blit=True)"
   ]
  },
  {
   "cell_type": "code",
   "execution_count": null,
   "metadata": {},
   "outputs": [],
   "source": [
    "# ~1 minute to generate\n",
    "HTML(anim.to_html5_video())"
   ]
  },
  {
   "cell_type": "markdown",
   "metadata": {
    "heading_collapsed": true
   },
   "source": [
    "## Detections Video"
   ]
  },
  {
   "cell_type": "code",
   "execution_count": null,
   "metadata": {
    "hidden": true
   },
   "outputs": [],
   "source": [
    "fig, ax = plt.subplots(1, figsize=(16,16))\n",
    "img = skimage.io.imread(metadata['fpath'][0])\n",
    "imgplot = ax.imshow(img, animated=True)\n",
    "def init():\n",
    "    return (imgplot,)\n",
    "\n",
    "def animate(fpath):\n",
    "    ax.clear()\n",
    "    img = skimage.io.imread(fpath)\n",
    "    det_fpath = Path(DETECTIONS_DIR, Path(fpath).name + '.npy')\n",
    "    det = np.load(det_fpath)[0]\n",
    "    imgplot = create_display_img(\n",
    "        img, det['rois'], det['masks'], det['class_ids'], \n",
    "        class_names, scores=det['scores'], ax=ax\n",
    "    )\n",
    "    return (imgplot,)"
   ]
  },
  {
   "cell_type": "code",
   "execution_count": null,
   "metadata": {
    "hidden": true
   },
   "outputs": [],
   "source": [
    "anim = animation.FuncAnimation(fig, animate, init_func=init,\n",
    "                               frames=metadata['fpath'][:300], interval=40, blit=False)"
   ]
  },
  {
   "cell_type": "code",
   "execution_count": null,
   "metadata": {
    "hidden": true
   },
   "outputs": [],
   "source": [
    "# ~1 minute to generate\n",
    "HTML(anim.to_html5_video())"
   ]
  },
  {
   "cell_type": "markdown",
   "metadata": {},
   "source": [
    "## Save Video\n",
    "\n",
    "* https://youtu.be/UJROEnR2YYI"
   ]
  },
  {
   "cell_type": "code",
   "execution_count": null,
   "metadata": {},
   "outputs": [],
   "source": [
    "clip = ImageSequenceClip(imgs, fps=20)"
   ]
  },
  {
   "cell_type": "code",
   "execution_count": null,
   "metadata": {},
   "outputs": [],
   "source": [
    "outdir = Path(DATA_DIR, 'volleyball', 'player_tracking')\n",
    "outdir.mkdir(exist_ok=True)\n",
    "outfpath = str(Path(outdir, 'maskrcnn_w_homography.mp4'))\n",
    "clip.write_videofile(outfpath)"
   ]
  },
  {
   "cell_type": "markdown",
   "metadata": {},
   "source": [
    "## Path Tracking"
   ]
  },
  {
   "cell_type": "code",
   "execution_count": null,
   "metadata": {},
   "outputs": [],
   "source": [
    "def get_court_position(img_fpaths, limit=10, y_feet_offset=-5):\n",
    "    positions = {}\n",
    "    for img_fpath in img_fpaths[:limit]:\n",
    "        img_positions = {\n",
    "            'bbs':[],\n",
    "            'img_fpath': None,\n",
    "            'det_fpath': None,\n",
    "            'detections': None\n",
    "        }\n",
    "        img = skimage.io.imread(img_fpath)\n",
    "        det_fpath = Path(DETECTIONS_DIR, Path(img_fpath).name + '.npy')\n",
    "        det = np.load(det_fpath)[0]\n",
    "        bbs = filter_bbs(det['rois'], TOP_COURT_Y, BOTTOM_COURT_Y, margin=3)\n",
    "        red,blue = classify_teams(bbs, CENTER_COURT_LINE_Y, margin=5)\n",
    "        for (y1, x1, y2, x2) in red:\n",
    "            img_positions['bbs'].append({\n",
    "                'bb': [x1,y1,x2,y2],\n",
    "                'team': 'red',\n",
    "                'color': COLORS['red'],\n",
    "                'x_feet': (x2+x1)//2,\n",
    "                'y_feet': y2 + y_feet_offset,\n",
    "                'x_body': (x2+x1)//2,\n",
    "                'y_body': (y2+y1)//2,\n",
    "            })\n",
    "        for (y1, x1, y2, x2) in blue:\n",
    "            img_positions['bbs'].append({\n",
    "                'bb': [x1,y1,x2,y2],\n",
    "                'team': 'blue',\n",
    "                'color': COLORS['blue'],\n",
    "                'x_feet': (x2+x1)//2,\n",
    "                'y_feet': y2 + y_feet_offset,\n",
    "                'x_body': (x2+x1)//2,\n",
    "                'y_body': (y2+y1)//2,\n",
    "            })\n",
    "        img_positions['img_fpath'] = img_fpath\n",
    "        img_positions['det_fpath'] = det_fpath        \n",
    "        positions[img_fpath] = img_positions\n",
    "    return positions"
   ]
  },
  {
   "cell_type": "code",
   "execution_count": null,
   "metadata": {},
   "outputs": [],
   "source": [
    "court_positions = get_court_position(\n",
    "    metadata['fpath'], limit=1320, y_feet_offset=0)"
   ]
  },
  {
   "cell_type": "code",
   "execution_count": null,
   "metadata": {},
   "outputs": [],
   "source": [
    "def draw_court_position_img(position):\n",
    "    img = skimage.io.imread(position['img_fpath']).astype('uint8')\n",
    "    bbs = position['bbs']\n",
    "    for bb in bbs:\n",
    "        x1,y1,x2,y2 = bb['bb']\n",
    "        cv2.rectangle(img, (x1, y1), (x2, y2), bb['color'], thickness=2)\n",
    "        feet_pt = bb['x_feet'],bb['y_feet']\n",
    "        body_pt = bb['x_body'],bb['y_body']\n",
    "        cv2.circle(img, feet_pt, 1, color=bb['color'], thickness=5)\n",
    "        cv2.circle(img, body_pt, 1, color=bb['color'], thickness=5)\n",
    "    return img\n",
    "\n",
    "fpath = metadata['fpath'][0]\n",
    "img = draw_court_position_img(court_positions[fpath])\n",
    "plot_img(img, fs=(6,6))"
   ]
  },
  {
   "cell_type": "code",
   "execution_count": null,
   "metadata": {},
   "outputs": [],
   "source": [
    "def get_floor_map():\n",
    "    floor_map = np.load(floor_map_fpath)\n",
    "    floor_map = np.repeat(np.expand_dims(floor_map, axis=2), 3, axis=2)\n",
    "    floor_coords = np.load(floor_coords_fpath).reshape((1,))[0]\n",
    "\n",
    "    TL = floor_coords['floor_pts']['top_left']\n",
    "    TR = floor_coords['floor_pts']['top_right']\n",
    "    BL = floor_coords['floor_pts']['bottom_left']\n",
    "    BR = floor_coords['floor_pts']['bottom_right']\n",
    "    floor_map[TL['y']:BL['y'],TL['x']:TR['x'],:] = 255\n",
    "    floor_map[:,:,:] = 255\n",
    "    \n",
    "    for point in floor_coords['floor_pts'].values():\n",
    "        pt = point['x'],point['y']\n",
    "        cv2.circle(floor_map, pt, 1, color=(0,255,0), thickness=5)\n",
    "    for line in floor_coords['inner_court_lines'].values():\n",
    "        pt1 = (line['x1'],line['y1'])\n",
    "        pt2 = (line['x2'],line['y2'])\n",
    "        cv2.line(floor_map, pt1=pt1, pt2=pt2, \n",
    "                 color=(0, 255, 0), thickness=2)\n",
    "    return floor_map.astype('uint8')\n",
    "\n",
    "def draw_floor_position(position, floor_map, H):\n",
    "    floor_map = floor_map.copy().astype('uint8')\n",
    "    bbs = position['bbs']\n",
    "    for bb in bbs:\n",
    "        x1,y1,x2,y2 = bb['bb']\n",
    "        feet_pt = [bb['x_feet'],bb['y_feet']]\n",
    "        floor_pt = map_point(feet_pt, H)\n",
    "        cv2.circle(floor_map, floor_pt, 1, color=bb['color'], thickness=5)\n",
    "    return floor_map.transpose(1,0,2)"
   ]
  },
  {
   "cell_type": "code",
   "execution_count": null,
   "metadata": {},
   "outputs": [],
   "source": [
    "fpath = metadata['fpath'][0]\n",
    "print(fpath)\n",
    "position = court_positions[fpath]\n",
    "floor_map = get_floor_map()\n",
    "#plot_img(floor_map.transpose(1,0,2), fs=(10,10))\n",
    "position_map = draw_floor_position(position, floor_map, H)\n",
    "plot_img(position_map, fs=(10,10), title=\"floor\")"
   ]
  },
  {
   "cell_type": "code",
   "execution_count": null,
   "metadata": {},
   "outputs": [],
   "source": [
    "floor_map_frames = []\n",
    "for fpath in metadata['fpath']:\n",
    "    position = court_positions[fpath]\n",
    "    position_map = draw_floor_position(position, floor_map, H)\n",
    "    floor_map_frames.append(position_map)"
   ]
  },
  {
   "cell_type": "code",
   "execution_count": null,
   "metadata": {},
   "outputs": [],
   "source": [
    "imgs = floor_map_frames\n",
    "fig = plt.figure()\n",
    "axes = plt.axes([0, 0.03, 1, 0.97])\n",
    "img = imgs[0]\n",
    "imgplot = axes.imshow(img, animated=True)\n",
    "def init():\n",
    "    return (imgplot,)\n",
    "\n",
    "def animate(img):\n",
    "    imgplot.set_array(img)\n",
    "    return (imgplot,)\n",
    "\n",
    "anim = animation.FuncAnimation(fig, animate, init_func=init,\n",
    "                               frames=imgs, interval=20, blit=False)"
   ]
  },
  {
   "cell_type": "code",
   "execution_count": null,
   "metadata": {},
   "outputs": [],
   "source": [
    "# ~1 minute to generate\n",
    "HTML(anim.to_html5_video())"
   ]
  },
  {
   "cell_type": "markdown",
   "metadata": {},
   "source": [
    "## Save Floor Map Video\n",
    "\n",
    "* https://www.youtube.com/watch?v=foK2x_MQUE4"
   ]
  },
  {
   "cell_type": "code",
   "execution_count": null,
   "metadata": {},
   "outputs": [],
   "source": [
    "clip = ImageSequenceClip(floor_map_frames, fps=40)\n",
    "outdir = Path(DATA_DIR, 'volleyball', 'player_tracking')\n",
    "outdir.mkdir(exist_ok=True)\n",
    "outfpath = str(Path(outdir, 'maskrcnn_w_homography_floor_map.mp4'))\n",
    "clip.write_videofile(outfpath)"
   ]
  },
  {
   "cell_type": "markdown",
   "metadata": {},
   "source": [
    "## Links"
   ]
  },
  {
   "cell_type": "markdown",
   "metadata": {},
   "source": [
    "*  http://zulko.github.io/moviepy/getting_started/videoclips.html"
   ]
  },
  {
   "cell_type": "code",
   "execution_count": null,
   "metadata": {},
   "outputs": [],
   "source": []
  }
 ],
 "metadata": {
  "kernelspec": {
   "display_name": "Python 3",
   "language": "python",
   "name": "python3"
  },
  "language_info": {
   "codemirror_mode": {
    "name": "ipython",
    "version": 3
   },
   "file_extension": ".py",
   "mimetype": "text/x-python",
   "name": "python",
   "nbconvert_exporter": "python",
   "pygments_lexer": "ipython3",
   "version": "3.6.4"
  },
  "latex_envs": {
   "LaTeX_envs_menu_present": true,
   "autocomplete": true,
   "bibliofile": "biblio.bib",
   "cite_by": "apalike",
   "current_citInitial": 1,
   "eqLabelWithNumbers": true,
   "eqNumInitial": 1,
   "hotkeys": {
    "equation": "Ctrl-E",
    "itemize": "Ctrl-I"
   },
   "labels_anchors": false,
   "latex_user_defs": false,
   "report_style_numbering": false,
   "user_envs_cfg": false
  },
  "toc": {
   "colors": {
    "hover_highlight": "#DAA520",
    "navigate_num": "#000000",
    "navigate_text": "#333333",
    "running_highlight": "#FF0000",
    "selected_highlight": "#FFD700",
    "sidebar_border": "#EEEEEE",
    "wrapper_background": "#FFFFFF"
   },
   "moveMenuLeft": true,
   "nav_menu": {
    "height": "111px",
    "width": "253px"
   },
   "navigate_menu": true,
   "number_sections": true,
   "sideBar": true,
   "skip_h1_title": false,
   "threshold": 4,
   "toc_cell": false,
   "toc_position": {},
   "toc_section_display": "block",
   "toc_window_display": false,
   "widenNotebook": false
  }
 },
 "nbformat": 4,
 "nbformat_minor": 2
}
